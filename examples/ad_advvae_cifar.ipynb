{
 "cells": [
  {
   "cell_type": "markdown",
   "metadata": {},
   "source": [
    "# Adversarial VAE detection on MNIST\n",
    "\n",
    "## Method\n",
    "\n",
    "The adversarial VAE detector is first trained on a batch of unlabeled but normal (*not adversarial*) data. The loss is however different from traditional VAE training and focuses on minimizing the KL-divergence between a classifier's predictions on the original and reconstructed data. When an adversarial instance is fed to the VAE, the KL-divergence between the predictions on the adversarial example and the reconstruction is large. The reconstruction does not contain the adversarial artefacts and has a very different prediction distribution. As a result, the adversarial instance is flagged.\n",
    "\n",
    "## Dataset\n",
    "\n",
    "traffic signs"
   ]
  },
  {
   "cell_type": "code",
   "execution_count": 1,
   "metadata": {},
   "outputs": [
    {
     "name": "stderr",
     "output_type": "stream",
     "text": [
      "ERROR:fbprophet:Importing plotly failed. Interactive plots will not work.\n"
     ]
    }
   ],
   "source": [
    "import numpy as np \n",
    "import pandas as pd \n",
    "import matplotlib.pyplot as plt\n",
    "import tensorflow as tf\n",
    "import cv2\n",
    "from PIL import Image\n",
    "import os\n",
    "import zipfile\n",
    "import logging\n",
    "\n",
    "from tensorflow.keras.layers import Activation, Conv2D, Conv2DTranspose, Dense, Dropout, BatchNormalization\n",
    "from tensorflow.keras.layers import Flatten, Input, InputLayer, Reshape, MaxPooling2D\n",
    "from tensorflow.keras.optimizers import Nadam, Adam, RMSprop, SGD\n",
    "from tensorflow.keras.models import Model\n",
    "from tensorflow.keras import regularizers\n",
    "from tensorflow.keras.utils import to_categorical\n",
    "from tensorflow.keras.preprocessing.image import ImageDataGenerator\n",
    "\n",
    "# Adversarial attack method. The latest release of the `cleverhans` package does\n",
    "# not support TensrFlow 2 yet, so we need to install from the master branch:\n",
    "# pip install git+https://github.com/tensorflow/cleverhans.git#egg=cleverhans\n",
    "from cleverhans.future.tf2.attacks import projected_gradient_descent\n",
    "\n",
    "from alibi_detect.datasets import fetch_traffic_signs\n",
    "from alibi_detect.models.losses import loss_adv_vae\n",
    "from alibi_detect.ad import AdversarialVAE\n",
    "from alibi_detect.utils.saving import save_detector, load_detector, save_tf_model, load_tf_model\n",
    "from alibi_detect.utils.visualize import plot_instance_score\n",
    "\n",
    "tf.keras.backend.clear_session()\n",
    "logger = tf.get_logger()\n",
    "logger.setLevel(logging.ERROR)"
   ]
  },
  {
   "cell_type": "code",
   "execution_count": 2,
   "metadata": {},
   "outputs": [],
   "source": [
    "from inspect import signature\n",
    "from sklearn.neighbors import NearestNeighbors\n",
    "from sklearn.metrics import precision_score, recall_score, accuracy_score, precision_recall_curve, f1_score, confusion_matrix\n",
    "import matplotlib\n",
    "import seaborn as sns\n",
    "from creme.stats import Mean, Var\n",
    "%matplotlib inline\n",
    "from scipy.stats import percentileofscore\n",
    "from importlib import reload"
   ]
  },
  {
   "cell_type": "markdown",
   "metadata": {},
   "source": [
    "# Load traffic signs data"
   ]
  },
  {
   "cell_type": "code",
   "execution_count": 3,
   "metadata": {},
   "outputs": [
    {
     "name": "stdout",
     "output_type": "stream",
     "text": [
      "40000\n",
      "(40000, 32, 32, 3) (40000, 10) (10000, 32, 32, 3) (10000, 10) (10000, 32, 32, 3) (10000, 10)\n"
     ]
    }
   ],
   "source": [
    "train, test = tf.keras.datasets.cifar10.load_data()\n",
    "X_train, y_train = train\n",
    "X_test, y_test = test\n",
    "\n",
    "X_train = X_train.reshape(-1, 32, 32, 3).astype('float32') / 255\n",
    "X_test = X_test.reshape(-1, 32, 32, 3).astype('float32') / 255\n",
    "split_train_val = int(0.8 * X_train.shape[0])\n",
    "print(split_train_val)\n",
    "X_val, y_val = X_train[split_train_val:], y_train[split_train_val:]\n",
    "X_train, y_train = X_train[:split_train_val], y_train[:split_train_val]\n",
    "y_train = to_categorical(y_train, 10)\n",
    "y_val = to_categorical(y_val, 10)\n",
    "y_test = to_categorical(y_test, 10)\n",
    "print(X_train.shape, y_train.shape, X_val.shape, y_val.shape, X_test.shape, y_test.shape)\n"
   ]
  },
  {
   "cell_type": "code",
   "execution_count": null,
   "metadata": {},
   "outputs": [],
   "source": []
  },
  {
   "cell_type": "markdown",
   "metadata": {},
   "source": [
    "### Show example"
   ]
  },
  {
   "cell_type": "code",
   "execution_count": null,
   "metadata": {},
   "outputs": [],
   "source": []
  },
  {
   "cell_type": "code",
   "execution_count": 4,
   "metadata": {},
   "outputs": [
    {
     "name": "stdout",
     "output_type": "stream",
     "text": [
      "Sample instance from the signs data set.\n"
     ]
    },
    {
     "data": {
      "image/png": "[encoded data removed]",
      "text/plain": [
       "<Figure size 432x288 with 1 Axes>"
      ]
     },
     "metadata": {
      "needs_background": "light"
     },
     "output_type": "display_data"
    }
   ],
   "source": [
    "idx = 4200\n",
    "x = X_train[idx: idx + 1]\n",
    "plt.imshow(np.squeeze(x))\n",
    "print('Sample instance from the signs data set.')"
   ]
  },
  {
   "cell_type": "markdown",
   "metadata": {},
   "source": [
    "## Create and train traffic signs model\n",
    "\n",
    "The pretrained outlier and adversarial detectors used in the example notebooks can be found [here](https://console.cloud.google.com/storage/browser/seldon-models/alibi-detect). You can either manually download the relevant files in the [model_mnist](https://console.cloud.google.com/storage/browser/seldon-models/alibi-detect/model_mnist/) folder to e.g. the local directory ```my_dir```. Alternatively,  if you have [Google Cloud SDK](https://cloud.google.com/sdk/docs/) installed, you can download the whole folder as follows:\n",
    "\n",
    "```bash\n",
    "!gsutil cp -r gs://seldon-models/alibi-detect/model_mnist my_dir\n",
    "```"
   ]
  },
  {
   "cell_type": "code",
   "execution_count": 5,
   "metadata": {},
   "outputs": [],
   "source": [
    "load_signs_model = False"
   ]
  },
  {
   "cell_type": "code",
   "execution_count": 6,
   "metadata": {},
   "outputs": [
    {
     "data": {
      "text/plain": [
       "\"\\nfilepath = './model_cifar/'\\nif load_signs_model:\\n    model = load_tf_model(filepath)\\nelse:\\n    # define model\\n    inputs = Input(shape=(X_train.shape[1:]))\\n    x = Conv2D(64, 2, padding='same', activation='relu')(inputs)\\n    x = MaxPooling2D(pool_size=2)(x)\\n    x = Dropout(.3)(x)\\n    \\n    x = Conv2D(32, 2, padding='same', activation='relu')(x)\\n    x = MaxPooling2D(pool_size=2)(x)\\n    x = Dropout(.3)(x)\\n    \\n    x = Flatten()(x)\\n    x = Dense(256, activation='relu')(x)\\n    x = Dropout(.5)(x)\\n    logits = Dense(10, name='logits')(x)\\n    outputs = Activation('softmax', name='softmax')(logits)\\n    model = Model(inputs=inputs, outputs=outputs)\\n    model.compile(loss='categorical_crossentropy',\\n                  optimizer='adam',\\n                  metrics=['accuracy'])\\n\""
      ]
     },
     "execution_count": 6,
     "metadata": {},
     "output_type": "execute_result"
    }
   ],
   "source": [
    "\"\"\"\n",
    "filepath = './model_cifar/'\n",
    "if load_signs_model:\n",
    "    model = load_tf_model(filepath)\n",
    "else:\n",
    "    # define model\n",
    "    inputs = Input(shape=(X_train.shape[1:]))\n",
    "    x = Conv2D(64, 2, padding='same', activation='relu')(inputs)\n",
    "    x = MaxPooling2D(pool_size=2)(x)\n",
    "    x = Dropout(.3)(x)\n",
    "    \n",
    "    x = Conv2D(32, 2, padding='same', activation='relu')(x)\n",
    "    x = MaxPooling2D(pool_size=2)(x)\n",
    "    x = Dropout(.3)(x)\n",
    "    \n",
    "    x = Flatten()(x)\n",
    "    x = Dense(256, activation='relu')(x)\n",
    "    x = Dropout(.5)(x)\n",
    "    logits = Dense(10, name='logits')(x)\n",
    "    outputs = Activation('softmax', name='softmax')(logits)\n",
    "    model = Model(inputs=inputs, outputs=outputs)\n",
    "    model.compile(loss='categorical_crossentropy',\n",
    "                  optimizer='adam',\n",
    "                  metrics=['accuracy'])\n",
    "\"\"\""
   ]
  },
  {
   "cell_type": "code",
   "execution_count": 7,
   "metadata": {},
   "outputs": [],
   "source": [
    "filepath = './model_cifar/'\n",
    "if load_signs_model:\n",
    "    model = load_tf_model(filepath)\n",
    "else:\n",
    "    # define model   \n",
    "    inputs = Input(shape=(X_train.shape[1:]))\n",
    "    x = Conv2D(32, (3,3), padding='same', activation='relu')(inputs)\n",
    "    x = Conv2D(32, (3,3), padding='same', activation='relu')(x)\n",
    "    x = MaxPooling2D(pool_size=(2,2))(x)\n",
    "    x = Dropout(0.25)(x)\n",
    " \n",
    "    x = Conv2D(64, (3,3), padding='same', activation='relu')(x)\n",
    "    x = Conv2D(64, (3,3), padding='same', activation='relu')(x)\n",
    "    x = MaxPooling2D(pool_size=(2,2))(x)\n",
    "    x = Dropout(0.25)(x)\n",
    " \n",
    "    x = Conv2D(128, (3,3), padding='same', kernel_regularizer=regularizers.l2(1e-4))(x)\n",
    "    x = Conv2D(128, (3,3), padding='same', kernel_regularizer=regularizers.l2(1e-4))(x)\n",
    "    x = MaxPooling2D(pool_size=(2,2))(x)\n",
    "    x = Dropout(0.4)(x)\n",
    "\n",
    "    x = Flatten()(x)\n",
    "    x = Dense(512, activation='relu')(x)\n",
    "    x = Dropout(0.5)(x)\n",
    "    outputs = Dense(10, activation='softmax')(x)\n",
    "    model = Model(inputs=inputs, outputs=outputs)#\n",
    "    model.compile(loss='categorical_crossentropy',\n",
    "                 optimizer='adam',\n",
    "                  metrics=['accuracy'])"
   ]
  },
  {
   "cell_type": "code",
   "execution_count": 8,
   "metadata": {},
   "outputs": [],
   "source": [
    "augment_data = False"
   ]
  },
  {
   "cell_type": "code",
   "execution_count": 9,
   "metadata": {},
   "outputs": [
    {
     "name": "stdout",
     "output_type": "stream",
     "text": [
      "Train on 40000 samples, validate on 10000 samples\n",
      "Epoch 1/50\n",
      "40000/40000 [==============================] - 5s 121us/sample - loss: 1.7671 - accuracy: 0.3555 - val_loss: 1.4140 - val_accuracy: 0.4851\n",
      "Epoch 2/50\n",
      "40000/40000 [==============================] - 2s 57us/sample - loss: 1.3092 - accuracy: 0.5353 - val_loss: 1.1428 - val_accuracy: 0.6024\n",
      "Epoch 3/50\n",
      "40000/40000 [==============================] - 2s 57us/sample - loss: 1.1281 - accuracy: 0.6063 - val_loss: 1.0315 - val_accuracy: 0.6430\n",
      "Epoch 4/50\n",
      "40000/40000 [==============================] - 2s 57us/sample - loss: 1.0328 - accuracy: 0.6403 - val_loss: 0.9608 - val_accuracy: 0.6659\n",
      "Epoch 5/50\n",
      "40000/40000 [==============================] - 2s 57us/sample - loss: 0.9477 - accuracy: 0.6741 - val_loss: 0.8807 - val_accuracy: 0.7000\n",
      "Epoch 6/50\n",
      "40000/40000 [==============================] - 2s 57us/sample - loss: 0.8774 - accuracy: 0.6981 - val_loss: 0.7900 - val_accuracy: 0.7341\n",
      "Epoch 7/50\n",
      "40000/40000 [==============================] - 2s 57us/sample - loss: 0.8333 - accuracy: 0.7157 - val_loss: 0.7785 - val_accuracy: 0.7378\n",
      "Epoch 8/50\n",
      "40000/40000 [==============================] - 2s 57us/sample - loss: 0.7849 - accuracy: 0.7354 - val_loss: 0.7616 - val_accuracy: 0.7425\n",
      "Epoch 9/50\n",
      "40000/40000 [==============================] - 2s 57us/sample - loss: 0.7582 - accuracy: 0.7432 - val_loss: 0.6948 - val_accuracy: 0.7663\n",
      "Epoch 10/50\n",
      "40000/40000 [==============================] - 2s 57us/sample - loss: 0.7291 - accuracy: 0.7556 - val_loss: 0.7268 - val_accuracy: 0.7578\n",
      "Epoch 11/50\n",
      "40000/40000 [==============================] - 2s 57us/sample - loss: 0.7071 - accuracy: 0.7641 - val_loss: 0.6543 - val_accuracy: 0.7815\n",
      "Epoch 12/50\n",
      "40000/40000 [==============================] - 2s 57us/sample - loss: 0.6719 - accuracy: 0.7740 - val_loss: 0.6480 - val_accuracy: 0.7840\n",
      "Epoch 13/50\n",
      "40000/40000 [==============================] - 2s 58us/sample - loss: 0.6614 - accuracy: 0.7790 - val_loss: 0.6853 - val_accuracy: 0.7735\n",
      "Epoch 14/50\n",
      "40000/40000 [==============================] - 2s 57us/sample - loss: 0.6409 - accuracy: 0.7854 - val_loss: 0.6273 - val_accuracy: 0.7941\n",
      "Epoch 15/50\n",
      "40000/40000 [==============================] - 2s 58us/sample - loss: 0.6181 - accuracy: 0.7937 - val_loss: 0.6579 - val_accuracy: 0.7850\n",
      "Epoch 16/50\n",
      "40000/40000 [==============================] - 2s 58us/sample - loss: 0.6087 - accuracy: 0.7955 - val_loss: 0.6536 - val_accuracy: 0.7905\n",
      "Epoch 17/50\n",
      "40000/40000 [==============================] - 2s 57us/sample - loss: 0.5882 - accuracy: 0.8032 - val_loss: 0.6111 - val_accuracy: 0.8023\n",
      "Epoch 18/50\n",
      "40000/40000 [==============================] - 2s 57us/sample - loss: 0.5785 - accuracy: 0.8069 - val_loss: 0.6279 - val_accuracy: 0.8020\n",
      "Epoch 19/50\n",
      "40000/40000 [==============================] - 2s 58us/sample - loss: 0.5563 - accuracy: 0.8157 - val_loss: 0.6213 - val_accuracy: 0.8017\n",
      "Epoch 20/50\n",
      "40000/40000 [==============================] - 2s 58us/sample - loss: 0.5516 - accuracy: 0.8170 - val_loss: 0.6211 - val_accuracy: 0.8008\n",
      "Epoch 21/50\n",
      "40000/40000 [==============================] - 2s 58us/sample - loss: 0.5458 - accuracy: 0.8206 - val_loss: 0.5968 - val_accuracy: 0.8090\n",
      "Epoch 22/50\n",
      "40000/40000 [==============================] - 2s 58us/sample - loss: 0.5315 - accuracy: 0.8276 - val_loss: 0.6219 - val_accuracy: 0.7984\n",
      "Epoch 23/50\n",
      "40000/40000 [==============================] - 2s 58us/sample - loss: 0.5220 - accuracy: 0.8288 - val_loss: 0.6340 - val_accuracy: 0.8019\n",
      "Epoch 24/50\n",
      "40000/40000 [==============================] - 2s 57us/sample - loss: 0.5222 - accuracy: 0.8278 - val_loss: 0.6024 - val_accuracy: 0.8072\n",
      "Epoch 25/50\n",
      "40000/40000 [==============================] - 2s 58us/sample - loss: 0.5062 - accuracy: 0.8347 - val_loss: 0.6184 - val_accuracy: 0.8099\n",
      "Epoch 26/50\n",
      "40000/40000 [==============================] - 2s 58us/sample - loss: 0.4982 - accuracy: 0.8376 - val_loss: 0.6239 - val_accuracy: 0.8062\n",
      "Epoch 27/50\n",
      "40000/40000 [==============================] - 2s 57us/sample - loss: 0.4933 - accuracy: 0.8403 - val_loss: 0.6083 - val_accuracy: 0.8127\n",
      "Epoch 28/50\n",
      "40000/40000 [==============================] - 2s 58us/sample - loss: 0.4838 - accuracy: 0.8415 - val_loss: 0.5853 - val_accuracy: 0.8237\n",
      "Epoch 29/50\n",
      "40000/40000 [==============================] - 2s 58us/sample - loss: 0.4741 - accuracy: 0.8466 - val_loss: 0.6068 - val_accuracy: 0.8193\n",
      "Epoch 30/50\n",
      "40000/40000 [==============================] - 2s 58us/sample - loss: 0.4743 - accuracy: 0.8481 - val_loss: 0.6076 - val_accuracy: 0.8184\n",
      "Epoch 31/50\n",
      "40000/40000 [==============================] - 2s 58us/sample - loss: 0.4764 - accuracy: 0.8481 - val_loss: 0.6100 - val_accuracy: 0.8162\n",
      "Epoch 32/50\n",
      "40000/40000 [==============================] - 2s 58us/sample - loss: 0.4494 - accuracy: 0.8583 - val_loss: 0.6203 - val_accuracy: 0.8134\n",
      "Epoch 33/50\n",
      "40000/40000 [==============================] - 2s 58us/sample - loss: 0.4573 - accuracy: 0.8519 - val_loss: 0.6054 - val_accuracy: 0.8222\n",
      "Epoch 34/50\n",
      "40000/40000 [==============================] - 2s 58us/sample - loss: 0.4550 - accuracy: 0.8533 - val_loss: 0.6249 - val_accuracy: 0.8149\n",
      "Epoch 35/50\n",
      "40000/40000 [==============================] - 2s 58us/sample - loss: 0.4529 - accuracy: 0.8538 - val_loss: 0.6159 - val_accuracy: 0.8185\n",
      "Epoch 36/50\n",
      "40000/40000 [==============================] - 2s 58us/sample - loss: 0.4423 - accuracy: 0.8571 - val_loss: 0.5720 - val_accuracy: 0.8267\n",
      "Epoch 37/50\n",
      "40000/40000 [==============================] - 2s 58us/sample - loss: 0.4359 - accuracy: 0.8614 - val_loss: 0.6152 - val_accuracy: 0.8215\n",
      "Epoch 38/50\n",
      "40000/40000 [==============================] - 2s 58us/sample - loss: 0.4422 - accuracy: 0.8597 - val_loss: 0.5934 - val_accuracy: 0.8223\n",
      "Epoch 39/50\n",
      "40000/40000 [==============================] - 2s 58us/sample - loss: 0.4237 - accuracy: 0.8660 - val_loss: 0.6193 - val_accuracy: 0.8187\n",
      "Epoch 40/50\n",
      "40000/40000 [==============================] - 2s 58us/sample - loss: 0.4288 - accuracy: 0.8613 - val_loss: 0.6011 - val_accuracy: 0.8258\n",
      "Epoch 41/50\n",
      "40000/40000 [==============================] - 2s 58us/sample - loss: 0.4261 - accuracy: 0.8645 - val_loss: 0.6560 - val_accuracy: 0.8088\n",
      "Epoch 42/50\n",
      "40000/40000 [==============================] - 2s 58us/sample - loss: 0.4217 - accuracy: 0.8669 - val_loss: 0.5916 - val_accuracy: 0.8261\n",
      "Epoch 43/50\n",
      "40000/40000 [==============================] - 2s 58us/sample - loss: 0.4212 - accuracy: 0.8656 - val_loss: 0.6199 - val_accuracy: 0.8254\n",
      "Epoch 44/50\n",
      "40000/40000 [==============================] - 2s 58us/sample - loss: 0.4115 - accuracy: 0.8723 - val_loss: 0.6419 - val_accuracy: 0.8158\n",
      "Epoch 45/50\n",
      "40000/40000 [==============================] - 2s 58us/sample - loss: 0.4051 - accuracy: 0.8709 - val_loss: 0.5913 - val_accuracy: 0.8274\n",
      "Epoch 46/50\n",
      "40000/40000 [==============================] - 2s 58us/sample - loss: 0.4074 - accuracy: 0.8697 - val_loss: 0.6429 - val_accuracy: 0.8195\n",
      "Epoch 47/50\n",
      "40000/40000 [==============================] - 2s 58us/sample - loss: 0.4093 - accuracy: 0.8709 - val_loss: 0.6334 - val_accuracy: 0.8256\n",
      "Epoch 48/50\n",
      "40000/40000 [==============================] - 2s 58us/sample - loss: 0.4001 - accuracy: 0.8743 - val_loss: 0.5906 - val_accuracy: 0.8294\n",
      "Epoch 49/50\n",
      "40000/40000 [==============================] - 2s 57us/sample - loss: 0.3987 - accuracy: 0.8769 - val_loss: 0.5665 - val_accuracy: 0.8341\n",
      "Epoch 50/50\n",
      "40000/40000 [==============================] - 2s 58us/sample - loss: 0.3976 - accuracy: 0.8764 - val_loss: 0.6105 - val_accuracy: 0.8276\n"
     ]
    }
   ],
   "source": [
    "if not augment_data:\n",
    "    # train model\n",
    "    model.fit(X_train,\n",
    "              y_train,\n",
    "              epochs=5,\n",
    "              batch_size=256,\n",
    "              verbose=1,\n",
    "              validation_data=(X_val, y_val)\n",
    "              )\n",
    "\n",
    "else:\n",
    "    datagen = ImageDataGenerator(\n",
    "        featurewise_center=False,  # set input mean to 0 over the dataset\n",
    "        samplewise_center=False,  # set each sample mean to 0\n",
    "        featurewise_std_normalization=False,  # divide inputs by std of the dataset\n",
    "        samplewise_std_normalization=False,  # divide each input by its std\n",
    "        zca_whitening=False,  # apply ZCA whitening\n",
    "        zca_epsilon=1e-06,  # epsilon for ZCA whitening\n",
    "        rotation_range=0,  # randomly rotate images in the range (degrees, 0 to 180)\n",
    "        # randomly shift images horizontally (fraction of total width)\n",
    "        width_shift_range=0.1,\n",
    "        # randomly shift images vertically (fraction of total height)\n",
    "        height_shift_range=0.1,\n",
    "        shear_range=0.,  # set range for random shear\n",
    "        zoom_range=0.,  # set range for random zoom\n",
    "        channel_shift_range=0.,  # set range for random channel shifts\n",
    "        # set mode for filling points outside the input boundaries\n",
    "        fill_mode='nearest',\n",
    "        cval=0.,  # value used for fill_mode = \"constant\"\n",
    "        horizontal_flip=True,  # randomly flip images\n",
    "        vertical_flip=False,  # randomly flip images\n",
    "        # set rescaling factor (applied before any other transformation)\n",
    "        rescale=None,\n",
    "        # set function that will be applied on each input\n",
    "        preprocessing_function=None,\n",
    "        # image data format, either \"channels_first\" or \"channels_last\"\n",
    "        data_format=None,\n",
    "        # fraction of images reserved for validation (strictly between 0 and 1)\n",
    "        validation_split=0.0)\n",
    "\n",
    "    # Compute quantities required for feature-wise normalization\n",
    "    # (std, mean, and principal components if ZCA whitening is applied).\n",
    "    datagen.fit(X_train)\n",
    "\n",
    "    # Fit the model on the batches generated by datagen.flow().\n",
    "    model.fit_generator(datagen.flow(X_train, y_train,\n",
    "                                     batch_size=32),\n",
    "                        epochs=15,\n",
    "                        validation_data=(X_test, y_test),\n",
    "                        workers=1)\n",
    "# save model\n",
    "save_tf_model(model, filepath)"
   ]
  },
  {
   "cell_type": "code",
   "execution_count": 10,
   "metadata": {},
   "outputs": [
    {
     "name": "stdout",
     "output_type": "stream",
     "text": [
      "Model: \"model\"\n",
      "_________________________________________________________________\n",
      "Layer (type)                 Output Shape              Param #   \n",
      "=================================================================\n",
      "input_1 (InputLayer)         [(None, 32, 32, 3)]       0         \n",
      "_________________________________________________________________\n",
      "conv2d (Conv2D)              (None, 32, 32, 32)        896       \n",
      "_________________________________________________________________\n",
      "conv2d_1 (Conv2D)            (None, 32, 32, 32)        9248      \n",
      "_________________________________________________________________\n",
      "max_pooling2d (MaxPooling2D) (None, 16, 16, 32)        0         \n",
      "_________________________________________________________________\n",
      "dropout (Dropout)            (None, 16, 16, 32)        0         \n",
      "_________________________________________________________________\n",
      "conv2d_2 (Conv2D)            (None, 16, 16, 64)        18496     \n",
      "_________________________________________________________________\n",
      "conv2d_3 (Conv2D)            (None, 16, 16, 64)        36928     \n",
      "_________________________________________________________________\n",
      "max_pooling2d_1 (MaxPooling2 (None, 8, 8, 64)          0         \n",
      "_________________________________________________________________\n",
      "dropout_1 (Dropout)          (None, 8, 8, 64)          0         \n",
      "_________________________________________________________________\n",
      "conv2d_4 (Conv2D)            (None, 8, 8, 128)         73856     \n",
      "_________________________________________________________________\n",
      "conv2d_5 (Conv2D)            (None, 8, 8, 128)         147584    \n",
      "_________________________________________________________________\n",
      "max_pooling2d_2 (MaxPooling2 (None, 4, 4, 128)         0         \n",
      "_________________________________________________________________\n",
      "dropout_2 (Dropout)          (None, 4, 4, 128)         0         \n",
      "_________________________________________________________________\n",
      "flatten (Flatten)            (None, 2048)              0         \n",
      "_________________________________________________________________\n",
      "dense (Dense)                (None, 512)               1049088   \n",
      "_________________________________________________________________\n",
      "dropout_3 (Dropout)          (None, 512)               0         \n",
      "_________________________________________________________________\n",
      "dense_1 (Dense)              (None, 10)                5130      \n",
      "=================================================================\n",
      "Total params: 1,341,226\n",
      "Trainable params: 1,341,226\n",
      "Non-trainable params: 0\n",
      "_________________________________________________________________\n"
     ]
    }
   ],
   "source": [
    "model.summary()"
   ]
  },
  {
   "cell_type": "code",
   "execution_count": 11,
   "metadata": {},
   "outputs": [
    {
     "name": "stdout",
     "output_type": "stream",
     "text": [
      "Test loss: 0.6105 -- accuracy: 0.8276\n"
     ]
    }
   ],
   "source": [
    "# evaluate model\n",
    "results = model.evaluate(X_val, y_val, batch_size=256, verbose=0)\n",
    "print('Test loss: {:.4f} -- accuracy: {:.4f}'.format(results[0], results[1]))"
   ]
  },
  {
   "cell_type": "code",
   "execution_count": 12,
   "metadata": {},
   "outputs": [
    {
     "name": "stdout",
     "output_type": "stream",
     "text": [
      "Test loss: 0.6453 -- accuracy: 0.8235\n"
     ]
    }
   ],
   "source": [
    "# evaluate model\n",
    "results = model.evaluate(X_test, y_test, batch_size=256, verbose=0)\n",
    "print('Test loss: {:.4f} -- accuracy: {:.4f}'.format(results[0], results[1]))"
   ]
  },
  {
   "cell_type": "code",
   "execution_count": 13,
   "metadata": {},
   "outputs": [],
   "source": [
    "probs = model(X_test).numpy()"
   ]
  },
  {
   "cell_type": "code",
   "execution_count": 14,
   "metadata": {},
   "outputs": [
    {
     "data": {
      "text/plain": [
       "(10000, 10)"
      ]
     },
     "execution_count": 14,
     "metadata": {},
     "output_type": "execute_result"
    }
   ],
   "source": [
    "probs.shape"
   ]
  },
  {
   "cell_type": "code",
   "execution_count": 15,
   "metadata": {},
   "outputs": [
    {
     "data": {
      "text/plain": [
       "0.8854223"
      ]
     },
     "execution_count": 15,
     "metadata": {},
     "output_type": "execute_result"
    }
   ],
   "source": [
    "probs.max(axis=1).mean()"
   ]
  },
  {
   "cell_type": "markdown",
   "metadata": {},
   "source": [
    "## Train Adversarial VAE for MNIST\n",
    "\n",
    "You can again either manually download the relevant files in the [ad_vae_mnist](https://console.cloud.google.com/storage/browser/seldon-models/alibi-detect/ad_vae_mnist/) folder to e.g. the local directory ```my_dir``` or use ```gsutil```:\n",
    "\n",
    "```bash\n",
    "!gsutil cp -r gs://seldon-models/alibi-detect/ad_vae_mnist my_dir\n",
    "```"
   ]
  },
  {
   "cell_type": "code",
   "execution_count": 16,
   "metadata": {},
   "outputs": [],
   "source": [
    "load_adversarial_detector = False"
   ]
  },
  {
   "cell_type": "code",
   "execution_count": 17,
   "metadata": {},
   "outputs": [],
   "source": [
    "#encoder_net = tf.keras.Sequential(\n",
    "#    [\n",
    "#        InputLayer(input_shape=(32, 32, 3)),\n",
    "#        Conv2D(filters=32, kernel_size=(5, 5), padding='same', activation='relu'),\n",
    "#        #x = Conv2D(filters=64, kernel_size=(3, 3), padding='same', activation='relu')(x)\n",
    "#        MaxPooling2D(pool_size=(2, 2)),\n",
    "#        Dropout(0.25),\n",
    "#        Conv2D(filters=64, kernel_size=(3, 3), padding='same', activation='relu'),\n",
    "#        MaxPooling2D(pool_size=(2, 2)),\n",
    "#        Dropout(0.25)\n",
    "#    ]\n",
    "#)"
   ]
  },
  {
   "cell_type": "code",
   "execution_count": 18,
   "metadata": {},
   "outputs": [],
   "source": [
    "latent_dim = 160\n",
    "\n",
    "encoder_net = tf.keras.Sequential(\n",
    "      [\n",
    "          Conv2D(32, (3,3), padding='same', activation='relu'),\n",
    "          Conv2D(32, (3,3), padding='same', activation='relu'),\n",
    "          MaxPooling2D(pool_size=(2,2)),\n",
    "          Dropout(0.25),\n",
    "          Conv2D(64, (3,3), padding='same', activation='relu'),\n",
    "          Conv2D(64, (3,3), padding='same', activation='relu'),\n",
    "          MaxPooling2D(pool_size=(2,2)),\n",
    "          Dropout(0.25),\n",
    "          Conv2D(128, (3,3), padding='same', kernel_regularizer=regularizers.l2(1e-4)),\n",
    "          Conv2D(128, (3,3), padding='same', kernel_regularizer=regularizers.l2(1e-4)),\n",
    "          MaxPooling2D(pool_size=(2,2)),\n",
    "          Dropout(0.4),\n",
    "          Flatten(),\n",
    "          Dense(512, activation='relu'),\n",
    "          Dropout(0.5)\n",
    "      ])\n",
    "\n",
    "# initialize adversarial detector\n",
    "#ad = AdversarialVAE(threshold=.5,  # threshold for adversarial score\n",
    "#                        model=model,\n",
    "#                        encoder_net=encoder_net,  # can also pass VAE model instead\n",
    "#                        decoder_net=decoder_net,  # of separate encoder and decoder\n",
    "#                        latent_dim=latent_dim,\n",
    "#                        samples=2,  # nb of samples drawn by VAE\n",
    "#                        beta=0.  # weight on KL-divergence loss term of latent space\n",
    "#                       )"
   ]
  },
  {
   "cell_type": "code",
   "execution_count": 19,
   "metadata": {},
   "outputs": [],
   "source": [
    "filepath = './ad_vae_signs/'\n",
    "if load_adversarial_detector:  # load pretrained adversarial detector\n",
    "    ad = load_detector(filepath)\n",
    "else:  # define model, initialize, train and save adversarial detector\n",
    "    latent_dim = 20\n",
    "    \"\"\"\n",
    "    encoder_net = tf.keras.Sequential(\n",
    "      [\n",
    "          InputLayer(input_shape=(32, 32, 3)),\n",
    "          Conv2D(32, (3,3), padding='same', activation='relu'),\n",
    "          #Conv2D(32, (3,3), padding='same', activation='relu'),\n",
    "          #MaxPooling2D(pool_size=(2,2)),\n",
    "          \n",
    "          #Conv2D(32, (3,3), strides=2, padding='same', activation='relu'),\n",
    "          Conv2D(64, (3,3), padding='same', activation='relu'),\n",
    "          #MaxPooling2D(pool_size=(2,2)),\n",
    "\n",
    "          Flatten(),\n",
    "          Dense(512, activation='relu')\n",
    "      ]) \n",
    "    \"\"\"\n",
    "    encoder_net = tf.keras.Sequential(\n",
    "      [\n",
    "          InputLayer(input_shape=(32, 32, 3)),\n",
    "          Conv2D(32, (3,3), padding='same', activation='relu'),\n",
    "          Conv2D(32, (3,3), strides=2, padding='same', activation='relu'),\n",
    "          #MaxPooling2D(pool_size=(2,2)),\n",
    "          #Dropout(0.25),\n",
    "          Conv2D(64, (3,3), padding='same', activation='relu'),\n",
    "          Conv2D(64, (3,3), strides=2, padding='same', activation='relu'),\n",
    "          #MaxPooling2D(pool_size=(2,2)),\n",
    "          #Dropout(0.25),\n",
    "          Conv2D(128, (3,3), padding='same', kernel_regularizer=regularizers.l2(1e-4)),\n",
    "          Conv2D(128, (3,3), strides=2, padding='same', kernel_regularizer=regularizers.l2(1e-4)),\n",
    "          #MaxPooling2D(pool_size=(2,2)),\n",
    "          #Dropout(0.4),\n",
    "          Flatten(),\n",
    "          Dense(512, activation='relu'),\n",
    "          #Dropout(0.5)\n",
    "      ])\n",
    "\n",
    "    \n",
    "    decoder_net = tf.keras.Sequential(\n",
    "      [\n",
    "          InputLayer(input_shape=(latent_dim,)),\n",
    "          Dense(4*4*128, activation='relu'),\n",
    "          Reshape(target_shape=(4, 4, 128)),\n",
    "          Conv2DTranspose(128, (3, 3), strides=2, padding='same', activation=tf.nn.relu),\n",
    "          Conv2DTranspose(128, (3, 3), strides=1, padding='same', activation=tf.nn.relu),\n",
    "          Conv2DTranspose(64, (3, 3), strides=2, padding='same', activation=tf.nn.relu),\n",
    "          Conv2DTranspose(64, (3, 3), strides=1, padding='same', activation=tf.nn.relu),\n",
    "          Conv2DTranspose(32, (3, 3), strides=2, padding='same', activation=tf.nn.relu),\n",
    "          Conv2DTranspose(32, (3, 3), strides=1, padding='same', activation=tf.nn.relu),\n",
    "          Conv2DTranspose(3, (3, 3), strides=1, padding='same', activation='sigmoid')\n",
    "      ])\n",
    "    \n",
    "    # initialize adversarial detector\n",
    "    ad = AdversarialVAE(threshold=.5,  # threshold for adversarial score\n",
    "                        model=model,\n",
    "                        encoder_net=encoder_net,  # can also pass VAE model instead\n",
    "                        decoder_net=decoder_net,  # of separate encoder and decoder\n",
    "                        latent_dim=latent_dim,\n",
    "                        samples=5,  # nb of samples drawn by VAE\n",
    "                        beta=0.  # weight on KL-divergence loss term of latent space\n",
    "                       )\n",
    "    "
   ]
  },
  {
   "cell_type": "code",
   "execution_count": 20,
   "metadata": {},
   "outputs": [
    {
     "name": "stdout",
     "output_type": "stream",
     "text": [
      "Model: \"sequential_1\"\n",
      "_________________________________________________________________\n",
      "Layer (type)                 Output Shape              Param #   \n",
      "=================================================================\n",
      "conv2d_12 (Conv2D)           (None, 32, 32, 32)        896       \n",
      "_________________________________________________________________\n",
      "conv2d_13 (Conv2D)           (None, 16, 16, 32)        9248      \n",
      "_________________________________________________________________\n",
      "conv2d_14 (Conv2D)           (None, 16, 16, 64)        18496     \n",
      "_________________________________________________________________\n",
      "conv2d_15 (Conv2D)           (None, 8, 8, 64)          36928     \n",
      "_________________________________________________________________\n",
      "conv2d_16 (Conv2D)           (None, 8, 8, 128)         73856     \n",
      "_________________________________________________________________\n",
      "conv2d_17 (Conv2D)           (None, 4, 4, 128)         147584    \n",
      "_________________________________________________________________\n",
      "flatten_2 (Flatten)          (None, 2048)              0         \n",
      "_________________________________________________________________\n",
      "dense_3 (Dense)              (None, 512)               1049088   \n",
      "=================================================================\n",
      "Total params: 1,336,096\n",
      "Trainable params: 1,336,096\n",
      "Non-trainable params: 0\n",
      "_________________________________________________________________\n"
     ]
    }
   ],
   "source": [
    "encoder_net.summary()"
   ]
  },
  {
   "cell_type": "code",
   "execution_count": 21,
   "metadata": {},
   "outputs": [
    {
     "name": "stdout",
     "output_type": "stream",
     "text": [
      "Model: \"sequential_2\"\n",
      "_________________________________________________________________\n",
      "Layer (type)                 Output Shape              Param #   \n",
      "=================================================================\n",
      "dense_4 (Dense)              (None, 2048)              43008     \n",
      "_________________________________________________________________\n",
      "reshape (Reshape)            (None, 4, 4, 128)         0         \n",
      "_________________________________________________________________\n",
      "conv2d_transpose (Conv2DTran (None, 8, 8, 128)         147584    \n",
      "_________________________________________________________________\n",
      "conv2d_transpose_1 (Conv2DTr (None, 8, 8, 128)         147584    \n",
      "_________________________________________________________________\n",
      "conv2d_transpose_2 (Conv2DTr (None, 16, 16, 64)        73792     \n",
      "_________________________________________________________________\n",
      "conv2d_transpose_3 (Conv2DTr (None, 16, 16, 64)        36928     \n",
      "_________________________________________________________________\n",
      "conv2d_transpose_4 (Conv2DTr (None, 32, 32, 32)        18464     \n",
      "_________________________________________________________________\n",
      "conv2d_transpose_5 (Conv2DTr (None, 32, 32, 32)        9248      \n",
      "_________________________________________________________________\n",
      "conv2d_transpose_6 (Conv2DTr (None, 32, 32, 3)         867       \n",
      "=================================================================\n",
      "Total params: 477,475\n",
      "Trainable params: 477,475\n",
      "Non-trainable params: 0\n",
      "_________________________________________________________________\n"
     ]
    }
   ],
   "source": [
    "decoder_net.summary()"
   ]
  },
  {
   "cell_type": "code",
   "execution_count": null,
   "metadata": {},
   "outputs": [],
   "source": []
  },
  {
   "cell_type": "code",
   "execution_count": 22,
   "metadata": {},
   "outputs": [],
   "source": [
    "model_logits = Model(inputs=model.inputs, outputs=model.layers[-2].output)"
   ]
  },
  {
   "cell_type": "code",
   "execution_count": 23,
   "metadata": {},
   "outputs": [
    {
     "name": "stdout",
     "output_type": "stream",
     "text": [
      "(500, 32, 32, 3)\n"
     ]
    }
   ],
   "source": [
    "nb_adv = 500\n",
    "ids = np.arange(nb_adv)\n",
    "np.random.shuffle(ids)\n",
    "X_to_adv = X_test[ids]\n",
    "y_adv = y_test[ids]\n",
    "print(X_to_adv.shape)"
   ]
  },
  {
   "cell_type": "code",
   "execution_count": 24,
   "metadata": {},
   "outputs": [],
   "source": [
    "X_adv = projected_gradient_descent(model_logits,\n",
    "                                   X_to_adv,\n",
    "                                   eps=2.,\n",
    "                                   eps_iter=1.,\n",
    "                                   nb_iter=10,\n",
    "                                   norm=2,\n",
    "                                   clip_min=X_train.min(),\n",
    "                                   clip_max=X_train.max(),\n",
    "                                   rand_init=None,\n",
    "                                   rand_minmax=.3,\n",
    "                                   targeted=False,\n",
    "                                   sanity_checks=False\n",
    "                                  ).numpy()"
   ]
  },
  {
   "cell_type": "code",
   "execution_count": 25,
   "metadata": {},
   "outputs": [],
   "source": [
    "y_pred = np.argmax(model(X_to_adv).numpy(), axis=-1)\n",
    "y_pred_adv = np.argmax(model(X_adv).numpy(), axis=-1)\n",
    "\n",
    "X_to_adv = X_to_adv[(y_pred != y_pred_adv)]\n",
    "X_adv = X_adv[(y_pred != y_pred_adv)]"
   ]
  },
  {
   "cell_type": "code",
   "execution_count": 26,
   "metadata": {},
   "outputs": [
    {
     "name": "stdout",
     "output_type": "stream",
     "text": [
      "(474, 32, 32, 3) (474,)\n"
     ]
    }
   ],
   "source": [
    "\n",
    "y_val = np.concatenate((np.zeros(len(X_to_adv)), np.ones(len(X_adv))))\n",
    "X_val = np.concatenate([X_to_adv, X_adv], axis=0)\n",
    "print(X_val.shape, y_val.shape)"
   ]
  },
  {
   "cell_type": "code",
   "execution_count": 27,
   "metadata": {},
   "outputs": [],
   "source": [
    "def advesarial_accuracy(ground_truth_val, preds_val):\n",
    "    score_val = preds_val['data']['instance_score']\n",
    "    preds_val = preds_val['data']['is_adversarial']\n",
    "\n",
    "    acc = accuracy_score(ground_truth_val, preds_val)\n",
    "\n",
    "    return acc"
   ]
  },
  {
   "cell_type": "code",
   "execution_count": 28,
   "metadata": {},
   "outputs": [
    {
     "name": "stdout",
     "output_type": "stream",
     "text": [
      "800A\n",
      "  1/625 [.] - ETA: 5:36 - loss: 5.5287"
     ]
    },
    {
     "ename": "TypeError",
     "evalue": "'TensorSliceDataset' object does not support indexing",
     "output_type": "error",
     "traceback": [
      "\u001b[0;31m---------------------------------------------------------------------------\u001b[0m",
      "\u001b[0;31mTypeError\u001b[0m                                 Traceback (most recent call last)",
      "\u001b[0;32m<ipython-input-28-d46af438586b>\u001b[0m in \u001b[0;36m<module>\u001b[0;34m\u001b[0m\n\u001b[1;32m      8\u001b[0m            \u001b[0moptimizer\u001b[0m\u001b[0;34m=\u001b[0m\u001b[0mAdam\u001b[0m\u001b[0;34m(\u001b[0m\u001b[0;34m)\u001b[0m\u001b[0;34m,\u001b[0m\u001b[0;34m\u001b[0m\u001b[0;34m\u001b[0m\u001b[0m\n\u001b[1;32m      9\u001b[0m            \u001b[0mepochs\u001b[0m\u001b[0;34m=\u001b[0m\u001b[0;36m2\u001b[0m\u001b[0;34m,\u001b[0m\u001b[0;34m\u001b[0m\u001b[0;34m\u001b[0m\u001b[0m\n\u001b[0;32m---> 10\u001b[0;31m            verbose=True)\n\u001b[0m\u001b[1;32m     11\u001b[0m \u001b[0;34m\u001b[0m\u001b[0m\n\u001b[1;32m     12\u001b[0m     \u001b[0;31m# save the trained outlier detector\u001b[0m\u001b[0;34m\u001b[0m\u001b[0;34m\u001b[0m\u001b[0;34m\u001b[0m\u001b[0m\n",
      "\u001b[0;32m~/git/alibi-detect-fork/alibi_detect/ad/adversarialvae.py\u001b[0m in \u001b[0;36mfit\u001b[0;34m(self, X, validation_data, loss_fn, w_model, w_recon, optimizer, cov_elbo, epochs, batch_size, verbose, log_metric, log_metric_val, callbacks)\u001b[0m\n\u001b[1;32m    148\u001b[0m \u001b[0;34m\u001b[0m\u001b[0m\n\u001b[1;32m    149\u001b[0m         \u001b[0;31m# train\u001b[0m\u001b[0;34m\u001b[0m\u001b[0;34m\u001b[0m\u001b[0;34m\u001b[0m\u001b[0m\n\u001b[0;32m--> 150\u001b[0;31m         \u001b[0mtrainer\u001b[0m\u001b[0;34m(\u001b[0m\u001b[0;34m*\u001b[0m\u001b[0margs\u001b[0m\u001b[0;34m,\u001b[0m \u001b[0;34m**\u001b[0m\u001b[0mkwargs\u001b[0m\u001b[0;34m)\u001b[0m\u001b[0;34m\u001b[0m\u001b[0;34m\u001b[0m\u001b[0m\n\u001b[0m\u001b[1;32m    151\u001b[0m \u001b[0;34m\u001b[0m\u001b[0m\n\u001b[1;32m    152\u001b[0m     def infer_threshold(self,\n",
      "\u001b[0;32m~/git/alibi-detect-fork/alibi_detect/models/trainer.py\u001b[0m in \u001b[0;36mtrainer\u001b[0;34m(model, loss_fn, X_train, y_train, validation_data, optimizer, loss_fn_kwargs, epochs, batch_size, buffer_size, verbose, log_metric, log_metric_val, callbacks)\u001b[0m\n\u001b[1;32m    116\u001b[0m                     \u001b[0mX_val\u001b[0m\u001b[0;34m,\u001b[0m \u001b[0mground_truth_val\u001b[0m \u001b[0;34m=\u001b[0m \u001b[0mvalidation_data\u001b[0m\u001b[0;34m\u001b[0m\u001b[0;34m\u001b[0m\u001b[0m\n\u001b[1;32m    117\u001b[0m                 \u001b[0;32melse\u001b[0m\u001b[0;34m:\u001b[0m\u001b[0;34m\u001b[0m\u001b[0;34m\u001b[0m\u001b[0m\n\u001b[0;32m--> 118\u001b[0;31m                     \u001b[0mX_val\u001b[0m \u001b[0;34m=\u001b[0m \u001b[0mground_truth_val\u001b[0m \u001b[0;34m=\u001b[0m \u001b[0mvalidation_data\u001b[0m\u001b[0;34m[\u001b[0m\u001b[0;36m0\u001b[0m\u001b[0;34m]\u001b[0m\u001b[0;34m\u001b[0m\u001b[0;34m\u001b[0m\u001b[0m\n\u001b[0m\u001b[1;32m    119\u001b[0m                 \u001b[0mpreds_val\u001b[0m \u001b[0;34m=\u001b[0m \u001b[0mmodel\u001b[0m\u001b[0;34m(\u001b[0m\u001b[0mX_val\u001b[0m\u001b[0;34m)\u001b[0m\u001b[0;34m\u001b[0m\u001b[0;34m\u001b[0m\u001b[0m\n\u001b[1;32m    120\u001b[0m \u001b[0;34m\u001b[0m\u001b[0m\n",
      "\u001b[0;31mTypeError\u001b[0m: 'TensorSliceDataset' object does not support indexing"
     ]
    }
   ],
   "source": [
    "if not load_adversarial_detector:\n",
    "    # train\n",
    "    ad.fit(X_train,\n",
    "           validation_data=(X_test, None),\n",
    "           loss_fn=loss_adv_vae,\n",
    "           w_model=1.,  # weight on KL-divergence loss term of model predictions\n",
    "           w_recon=0.,  # weight on elbo loss term\n",
    "           optimizer=Adam(),\n",
    "           epochs=2,\n",
    "           verbose=True)\n",
    "    \n",
    "    # save the trained outlier detector\n",
    "    save_detector(ad, filepath)"
   ]
  },
  {
   "cell_type": "markdown",
   "metadata": {},
   "source": [
    "## Generate adversarial instances\n",
    "\n",
    "The `cleverhans` adversarial attack methods assume that the model outputs logits, so we will create a modified model by simply removing the softmax output layer:"
   ]
  },
  {
   "cell_type": "code",
   "execution_count": 303,
   "metadata": {},
   "outputs": [],
   "source": [
    "model_logits = Model(inputs=model.inputs, outputs=model.layers[-2].output)"
   ]
  },
  {
   "cell_type": "code",
   "execution_count": 304,
   "metadata": {},
   "outputs": [
    {
     "name": "stdout",
     "output_type": "stream",
     "text": [
      "(500, 32, 32, 3)\n"
     ]
    }
   ],
   "source": [
    "nb_adv = 500\n",
    "ids = np.arange(nb_adv)\n",
    "np.random.shuffle(ids)\n",
    "X_to_adv = X_test[ids]\n",
    "y_adv = y_test[ids]\n",
    "print(X_to_adv.shape)"
   ]
  },
  {
   "cell_type": "code",
   "execution_count": 305,
   "metadata": {},
   "outputs": [],
   "source": [
    "X_adv = projected_gradient_descent(model_logits,\n",
    "                                   X_to_adv,\n",
    "                                   eps=2.,\n",
    "                                   eps_iter=1.,\n",
    "                                   nb_iter=10,\n",
    "                                   norm=2,\n",
    "                                   clip_min=X_train.min(),\n",
    "                                   clip_max=X_train.max(),\n",
    "                                   rand_init=None,\n",
    "                                   rand_minmax=.3,\n",
    "                                   targeted=False,\n",
    "                                   sanity_checks=False\n",
    "                                  ).numpy()"
   ]
  },
  {
   "cell_type": "code",
   "execution_count": 306,
   "metadata": {
    "scrolled": true
   },
   "outputs": [
    {
     "data": {
      "image/png": "[encoded data removed]",
      "text/plain": [
       "<Figure size 1080x1440 with 20 Axes>"
      ]
     },
     "metadata": {
      "needs_background": "light"
     },
     "output_type": "display_data"
    }
   ],
   "source": [
    "y_pred = np.argmax(model(X_to_adv).numpy(), axis=-1)\n",
    "y_pred_adv = np.argmax(model(X_adv).numpy(), axis=-1)\n",
    "meta_folder=\"../data/traffic/meta/\"\n",
    "\n",
    "n_rows = 5\n",
    "n_cols = 4\n",
    "figsize = (15, 20)\n",
    "img_shape = (32, 32, 3)\n",
    "\n",
    "fig5 = plt.figure(constrained_layout=False, figsize=figsize)\n",
    "widths = [5, 1, 5, 1]\n",
    "heights = [5, 5, 5, 5, 5]\n",
    "spec5 = fig5.add_gridspec(ncols=4, nrows=5, width_ratios=widths,\n",
    "                          height_ratios=heights)\n",
    "\n",
    "for row in range(n_rows):\n",
    "    ax_0 = fig5.add_subplot(spec5[row, 0])    \n",
    "    ax_0.imshow(X_to_adv[row].reshape(img_shape))\n",
    "    if row == 0:\n",
    "        ax_0.title.set_text('Original')\n",
    "    ax_0.axis('off')\n",
    "    \n",
    "    ax_1 = fig5.add_subplot(spec5[row, 1])\n",
    "    #class_image=cv2.imread(meta_folder+\"{}.png\".format(y_pred[row]))\n",
    "    #image = Image.fromarray(class_image, 'RGB')\n",
    "    #image = np.array(image)\n",
    "    #ax_1.imshow(image)\n",
    "    ax_1.title.set_text('Pred original: {}'.format(y_pred[row]))\n",
    "    ax_1.axis('off')\n",
    "    \n",
    "    ax_2 = fig5.add_subplot(spec5[row, 2])\n",
    "    ax_2.imshow(X_adv[row].reshape(img_shape))\n",
    "    if row == 0:\n",
    "        ax_2.title.set_text('Adversarial')\n",
    "    ax_2.axis('off')\n",
    "    \n",
    "    ax_3 = fig5.add_subplot(spec5[row, 3])\n",
    "    #class_image_adv=cv2.imread(meta_folder+\"{}.png\".format(y_pred_adv[row]))\n",
    "    #image_adv = Image.fromarray(class_image_adv, 'RGB')\n",
    "    #image_adv = np.array(image_adv)   \n",
    "    #ax_3.imshow(image_adv)\n",
    "    ax_3.title.set_text('Pred adversarial: {}'.format(y_pred_adv[row]))\n",
    "    ax_3.axis('off')\n",
    "        #label = 'Width: {}\\nHeight: {}'.format(widths[col], heights[row])\n",
    "        #ax.annotate(label, (0.1, 0.5), xycoords='axes fraction', va='center')"
   ]
  },
  {
   "cell_type": "code",
   "execution_count": null,
   "metadata": {},
   "outputs": [],
   "source": []
  },
  {
   "cell_type": "markdown",
   "metadata": {},
   "source": [
    "## Detect adversarial instances"
   ]
  },
  {
   "cell_type": "code",
   "execution_count": 307,
   "metadata": {},
   "outputs": [
    {
     "name": "stdout",
     "output_type": "stream",
     "text": [
      "(1000, 32, 32, 3)\n"
     ]
    }
   ],
   "source": [
    "X = np.concatenate([X_to_adv, X_adv], axis=0)\n",
    "print(X.shape)"
   ]
  },
  {
   "cell_type": "code",
   "execution_count": 308,
   "metadata": {},
   "outputs": [],
   "source": [
    "X_to_adv = X_to_adv[(y_pred != y_pred_adv)]\n",
    "X_adv = X_adv[(y_pred != y_pred_adv)]"
   ]
  },
  {
   "cell_type": "code",
   "execution_count": 309,
   "metadata": {},
   "outputs": [
    {
     "name": "stdout",
     "output_type": "stream",
     "text": [
      "(520, 32, 32, 3)\n"
     ]
    }
   ],
   "source": [
    "X = np.concatenate([X_to_adv, X_adv], axis=0)\n",
    "print(X.shape)"
   ]
  },
  {
   "cell_type": "code",
   "execution_count": 310,
   "metadata": {},
   "outputs": [],
   "source": [
    "ad.infer_threshold(X_train[:2000], threshold_perc=90.)"
   ]
  },
  {
   "cell_type": "code",
   "execution_count": 311,
   "metadata": {},
   "outputs": [
    {
     "data": {
      "text/plain": [
       "1.0513724803924562"
      ]
     },
     "execution_count": 311,
     "metadata": {},
     "output_type": "execute_result"
    }
   ],
   "source": [
    "ad.threshold"
   ]
  },
  {
   "cell_type": "code",
   "execution_count": 312,
   "metadata": {},
   "outputs": [
    {
     "data": {
      "text/plain": [
       "5"
      ]
     },
     "execution_count": 312,
     "metadata": {},
     "output_type": "execute_result"
    }
   ],
   "source": [
    "ad.samples"
   ]
  },
  {
   "cell_type": "code",
   "execution_count": 313,
   "metadata": {},
   "outputs": [],
   "source": [
    "ad_preds = ad.predict(X, return_instance_score=True)"
   ]
  },
  {
   "cell_type": "code",
   "execution_count": 314,
   "metadata": {},
   "outputs": [
    {
     "data": {
      "image/png": "[encoded data removed]",
      "text/plain": [
       "<Figure size 432x288 with 1 Axes>"
      ]
     },
     "metadata": {
      "needs_background": "light"
     },
     "output_type": "display_data"
    }
   ],
   "source": [
    "labels = ['Normal', 'Adversarial']\n",
    "target = np.array([0 if i < X_to_adv.shape[0] else 1 for i in range(X.shape[0])])\n",
    "plot_instance_score(ad_preds, target, labels, ad.threshold)"
   ]
  },
  {
   "cell_type": "code",
   "execution_count": 315,
   "metadata": {},
   "outputs": [
    {
     "ename": "AttributeError",
     "evalue": "'NoneType' object has no attribute '__array_interface__'",
     "output_type": "error",
     "traceback": [
      "\u001b[0;31m---------------------------------------------------------------------------\u001b[0m",
      "\u001b[0;31mAttributeError\u001b[0m                            Traceback (most recent call last)",
      "\u001b[0;32m<ipython-input-315-93c41e89d26d>\u001b[0m in \u001b[0;36m<module>\u001b[0;34m\u001b[0m\n\u001b[1;32m     15\u001b[0m     \u001b[0max_1\u001b[0m \u001b[0;34m=\u001b[0m \u001b[0mfig5\u001b[0m\u001b[0;34m.\u001b[0m\u001b[0madd_subplot\u001b[0m\u001b[0;34m(\u001b[0m\u001b[0mspec5\u001b[0m\u001b[0;34m[\u001b[0m\u001b[0mrow\u001b[0m\u001b[0;34m,\u001b[0m \u001b[0;36m1\u001b[0m\u001b[0;34m]\u001b[0m\u001b[0;34m)\u001b[0m\u001b[0;34m\u001b[0m\u001b[0;34m\u001b[0m\u001b[0m\n\u001b[1;32m     16\u001b[0m     \u001b[0mclass_image\u001b[0m\u001b[0;34m=\u001b[0m\u001b[0mcv2\u001b[0m\u001b[0;34m.\u001b[0m\u001b[0mimread\u001b[0m\u001b[0;34m(\u001b[0m\u001b[0mmeta_folder\u001b[0m\u001b[0;34m+\u001b[0m\u001b[0;34m\"{}.png\"\u001b[0m\u001b[0;34m.\u001b[0m\u001b[0mformat\u001b[0m\u001b[0;34m(\u001b[0m\u001b[0my_pred\u001b[0m\u001b[0;34m[\u001b[0m\u001b[0mrow\u001b[0m\u001b[0;34m]\u001b[0m\u001b[0;34m)\u001b[0m\u001b[0;34m)\u001b[0m\u001b[0;34m\u001b[0m\u001b[0;34m\u001b[0m\u001b[0m\n\u001b[0;32m---> 17\u001b[0;31m     \u001b[0mimage\u001b[0m \u001b[0;34m=\u001b[0m \u001b[0mImage\u001b[0m\u001b[0;34m.\u001b[0m\u001b[0mfromarray\u001b[0m\u001b[0;34m(\u001b[0m\u001b[0mclass_image\u001b[0m\u001b[0;34m,\u001b[0m \u001b[0;34m'RGB'\u001b[0m\u001b[0;34m)\u001b[0m\u001b[0;34m\u001b[0m\u001b[0;34m\u001b[0m\u001b[0m\n\u001b[0m\u001b[1;32m     18\u001b[0m     \u001b[0mimage\u001b[0m \u001b[0;34m=\u001b[0m \u001b[0mnp\u001b[0m\u001b[0;34m.\u001b[0m\u001b[0marray\u001b[0m\u001b[0;34m(\u001b[0m\u001b[0mimage\u001b[0m\u001b[0;34m)\u001b[0m\u001b[0;34m\u001b[0m\u001b[0;34m\u001b[0m\u001b[0m\n\u001b[1;32m     19\u001b[0m     \u001b[0max_1\u001b[0m\u001b[0;34m.\u001b[0m\u001b[0mimshow\u001b[0m\u001b[0;34m(\u001b[0m\u001b[0mimage\u001b[0m\u001b[0;34m)\u001b[0m\u001b[0;34m\u001b[0m\u001b[0;34m\u001b[0m\u001b[0m\n",
      "\u001b[0;32m~/anaconda3/envs/tf2-gpu/lib/python3.6/site-packages/PIL/Image.py\u001b[0m in \u001b[0;36mfromarray\u001b[0;34m(obj, mode)\u001b[0m\n\u001b[1;32m   2636\u001b[0m     \u001b[0;34m.\u001b[0m\u001b[0;34m.\u001b[0m \u001b[0mversionadded\u001b[0m\u001b[0;34m:\u001b[0m\u001b[0;34m:\u001b[0m \u001b[0;36m1.1\u001b[0m\u001b[0;36m.6\u001b[0m\u001b[0;34m\u001b[0m\u001b[0;34m\u001b[0m\u001b[0m\n\u001b[1;32m   2637\u001b[0m     \"\"\"\n\u001b[0;32m-> 2638\u001b[0;31m     \u001b[0marr\u001b[0m \u001b[0;34m=\u001b[0m \u001b[0mobj\u001b[0m\u001b[0;34m.\u001b[0m\u001b[0m__array_interface__\u001b[0m\u001b[0;34m\u001b[0m\u001b[0;34m\u001b[0m\u001b[0m\n\u001b[0m\u001b[1;32m   2639\u001b[0m     \u001b[0mshape\u001b[0m \u001b[0;34m=\u001b[0m \u001b[0marr\u001b[0m\u001b[0;34m[\u001b[0m\u001b[0;34m\"shape\"\u001b[0m\u001b[0;34m]\u001b[0m\u001b[0;34m\u001b[0m\u001b[0;34m\u001b[0m\u001b[0m\n\u001b[1;32m   2640\u001b[0m     \u001b[0mndim\u001b[0m \u001b[0;34m=\u001b[0m \u001b[0mlen\u001b[0m\u001b[0;34m(\u001b[0m\u001b[0mshape\u001b[0m\u001b[0;34m)\u001b[0m\u001b[0;34m\u001b[0m\u001b[0;34m\u001b[0m\u001b[0m\n",
      "\u001b[0;31mAttributeError\u001b[0m: 'NoneType' object has no attribute '__array_interface__'"
     ]
    },
    {
     "data": {
      "image/png": "[encoded data removed]",
      "text/plain": [
       "<Figure size 1080x1440 with 2 Axes>"
      ]
     },
     "metadata": {
      "needs_background": "light"
     },
     "output_type": "display_data"
    }
   ],
   "source": [
    "scores = ad_preds['data']['instance_score']\n",
    "fig5 = plt.figure(constrained_layout=False, figsize=figsize)\n",
    "widths = [5, 1, 5, 1]\n",
    "heights = [5, 5, 5, 5, 5]\n",
    "spec5 = fig5.add_gridspec(ncols=4, nrows=5, width_ratios=widths,\n",
    "                          height_ratios=heights)\n",
    "\n",
    "for row in range(n_rows):\n",
    "    ax_0 = fig5.add_subplot(spec5[row, 0])    \n",
    "    ax_0.imshow(X_to_adv[row].reshape(img_shape))\n",
    "    if row == 0:\n",
    "        ax_0.title.set_text('Original')  \n",
    "    ax_0.axis('off')\n",
    "    \n",
    "    ax_1 = fig5.add_subplot(spec5[row, 1])\n",
    "    class_image=cv2.imread(meta_folder+\"{}.png\".format(y_pred[row]))\n",
    "    image = Image.fromarray(class_image, 'RGB')\n",
    "    image = np.array(image)\n",
    "    ax_1.imshow(image)\n",
    "    ax_1.title.set_text('Pred original: {}'\n",
    "                  '\\nAdv score: {:.4f}'.format(y_pred[row], scores[row]))    \n",
    "    ax_1.axis('off')\n",
    "    \n",
    "    ax_2 = fig5.add_subplot(spec5[row, 2])\n",
    "    ax_2.imshow(X_adv[row].reshape(img_shape))\n",
    "    if row == 0:\n",
    "        ax_2.title.set_text('Adversarial')\n",
    "    ax_2.axis('off')\n",
    "    \n",
    "    ax_3 = fig5.add_subplot(spec5[row, 3])\n",
    "    class_image_adv=cv2.imread(meta_folder+\"{}.png\".format(y_pred_adv[row]))\n",
    "    image_adv = Image.fromarray(class_image_adv, 'RGB')\n",
    "    image_adv = np.array(image_adv)   \n",
    "    ax_3.imshow(image_adv)\n",
    "    ax_3.title.set_text('Pred Adversarial: {}'\n",
    "                  '\\nAdv score: {:.4f}'.format(y_pred_adv[row], scores[row + nb_adv]))    \n",
    "    ax_3.axis('off')\n",
    "        #label = 'Width: {}\\nHeight: {}'.format(widths[col], heights[row])\n",
    "        #ax.annotate(label, (0.1, 0.5), xycoords='axes fraction', va='center')"
   ]
  },
  {
   "cell_type": "code",
   "execution_count": null,
   "metadata": {},
   "outputs": [],
   "source": []
  },
  {
   "cell_type": "code",
   "execution_count": null,
   "metadata": {},
   "outputs": [],
   "source": []
  },
  {
   "cell_type": "markdown",
   "metadata": {},
   "source": [
    "# Adversarial detection performances"
   ]
  },
  {
   "cell_type": "code",
   "execution_count": 316,
   "metadata": {},
   "outputs": [],
   "source": [
    "kl_test_dict = ad.predict(X_to_adv, return_instance_score=True)\n",
    "kl_test = kl_test_dict['data']['instance_score']\n",
    "kl_adv_dict = ad.predict(X_adv, return_instance_score=True)\n",
    "kl_adv = kl_adv_dict['data']['instance_score']\n",
    "\n",
    "kl_concat = np.concatenate((kl_test, kl_adv))\n",
    "tr = kl_test.shape[0]"
   ]
  },
  {
   "cell_type": "code",
   "execution_count": 317,
   "metadata": {},
   "outputs": [
    {
     "name": "stdout",
     "output_type": "stream",
     "text": [
      "(260,) (260,)\n",
      "0.58465177 0.8104075\n",
      "2.7139776 2.4794614\n"
     ]
    }
   ],
   "source": [
    "print(kl_test.shape, kl_adv.shape)\n",
    "print(kl_test.mean(), kl_test.std())\n",
    "print(kl_adv.mean(), kl_adv.std())"
   ]
  },
  {
   "cell_type": "code",
   "execution_count": 331,
   "metadata": {},
   "outputs": [],
   "source": [
    "preds_ad_test = kl_test_dict['data']['is_adversarial']\n",
    "preds_ad_adv = kl_adv_dict['data']['is_adversarial']\n",
    "preds_ad = np.concatenate((preds_ad_test, preds_ad_adv))\n",
    "y_true_ad = np.concatenate((np.zeros(len(preds_ad_test)), np.ones(len(preds_ad_adv))))"
   ]
  },
  {
   "cell_type": "code",
   "execution_count": 332,
   "metadata": {},
   "outputs": [
    {
     "name": "stdout",
     "output_type": "stream",
     "text": [
      "Adversarial detection accuracy: 0.7692307692307693\n"
     ]
    }
   ],
   "source": [
    "print('Adversarial detection accuracy:', accuracy_score(y_true_ad, preds_ad))"
   ]
  },
  {
   "cell_type": "code",
   "execution_count": 333,
   "metadata": {},
   "outputs": [
    {
     "name": "stdout",
     "output_type": "stream",
     "text": [
      "Adversarial detection f1: 0.7520661157024793\n"
     ]
    }
   ],
   "source": [
    "print('Adversarial detection f1:', f1_score(y_true_ad, preds_ad))"
   ]
  },
  {
   "cell_type": "code",
   "execution_count": 321,
   "metadata": {},
   "outputs": [
    {
     "name": "stdout",
     "output_type": "stream",
     "text": [
      "Confusion matrix\n"
     ]
    },
    {
     "data": {
      "text/plain": [
       "array([[218,  42],\n",
       "       [ 78, 182]])"
      ]
     },
     "execution_count": 321,
     "metadata": {},
     "output_type": "execute_result"
    }
   ],
   "source": [
    "print('Confusion matrix')\n",
    "confusion_matrix(y_true_ad, preds_ad)"
   ]
  },
  {
   "cell_type": "code",
   "execution_count": 322,
   "metadata": {},
   "outputs": [],
   "source": [
    "idx_sparse = np.random.permutation(len(preds_ad_adv))[:100]\n",
    "preds_ad_sparse = np.concatenate((preds_ad_test, preds_ad_adv[idx_sparse]))\n",
    "y_true_ad_sparse = np.concatenate((np.zeros(len(preds_ad_test)), np.ones(len(preds_ad_adv[idx_sparse]))))"
   ]
  },
  {
   "cell_type": "code",
   "execution_count": 323,
   "metadata": {},
   "outputs": [
    {
     "name": "stdout",
     "output_type": "stream",
     "text": [
      "Adversarial detection accuracy: 0.8055555555555556\n"
     ]
    }
   ],
   "source": [
    "print('Adversarial detection accuracy:', accuracy_score(y_true_ad_sparse, preds_ad_sparse))"
   ]
  },
  {
   "cell_type": "code",
   "execution_count": 324,
   "metadata": {},
   "outputs": [
    {
     "name": "stdout",
     "output_type": "stream",
     "text": [
      "Adversarial detection f1: 0.6728971962616822\n"
     ]
    }
   ],
   "source": [
    "print('Adversarial detection f1:', f1_score(y_true_ad_sparse, preds_ad_sparse))"
   ]
  },
  {
   "cell_type": "code",
   "execution_count": 325,
   "metadata": {},
   "outputs": [
    {
     "name": "stdout",
     "output_type": "stream",
     "text": [
      "Confusion matrix\n"
     ]
    },
    {
     "data": {
      "text/plain": [
       "array([[218,  42],\n",
       "       [ 28,  72]])"
      ]
     },
     "execution_count": 325,
     "metadata": {},
     "output_type": "execute_result"
    }
   ],
   "source": [
    "print('Confusion matrix')\n",
    "confusion_matrix(y_true_ad_sparse, preds_ad_sparse)"
   ]
  },
  {
   "cell_type": "code",
   "execution_count": 326,
   "metadata": {},
   "outputs": [],
   "source": [
    "idx_sparse = np.random.permutation(len(preds_ad_adv))[:10]\n",
    "preds_ad_sparse = np.concatenate((preds_ad_test, preds_ad_adv[idx_sparse]))\n",
    "y_true_ad_sparse = np.concatenate((np.zeros(len(preds_ad_test)), np.ones(len(preds_ad_adv[idx_sparse]))))"
   ]
  },
  {
   "cell_type": "code",
   "execution_count": 327,
   "metadata": {},
   "outputs": [
    {
     "name": "stdout",
     "output_type": "stream",
     "text": [
      "Adversarial detection accuracy: 0.8296296296296296\n"
     ]
    }
   ],
   "source": [
    "print('Adversarial detection accuracy:', accuracy_score(y_true_ad_sparse, preds_ad_sparse))"
   ]
  },
  {
   "cell_type": "code",
   "execution_count": 328,
   "metadata": {},
   "outputs": [
    {
     "name": "stdout",
     "output_type": "stream",
     "text": [
      "Adversarial detection f1: 0.20689655172413793\n"
     ]
    }
   ],
   "source": [
    "print('Adversarial detection f1:', f1_score(y_true_ad_sparse, preds_ad_sparse))"
   ]
  },
  {
   "cell_type": "code",
   "execution_count": 329,
   "metadata": {},
   "outputs": [
    {
     "name": "stdout",
     "output_type": "stream",
     "text": [
      "Confusion matrix\n"
     ]
    },
    {
     "data": {
      "text/plain": [
       "array([[218,  42],\n",
       "       [  4,   6]])"
      ]
     },
     "execution_count": 329,
     "metadata": {},
     "output_type": "execute_result"
    }
   ],
   "source": [
    "print('Confusion matrix')\n",
    "confusion_matrix(y_true_ad_sparse, preds_ad_sparse)"
   ]
  },
  {
   "cell_type": "code",
   "execution_count": null,
   "metadata": {},
   "outputs": [],
   "source": []
  },
  {
   "cell_type": "markdown",
   "metadata": {},
   "source": [
    "## Curves"
   ]
  },
  {
   "cell_type": "code",
   "execution_count": 280,
   "metadata": {},
   "outputs": [],
   "source": [
    "def predict_adv(x, tr):\n",
    "    return (x > tr).astype(int)\n",
    "\n",
    "def _calculate_perc(df_t, nb_sigmas=3):\n",
    "    sigma_plus = df_t['test'].mean() + (nb_sigmas * df_t['test'].std())\n",
    "    pc_sigma = percentileofscore(df_t['adv'], sigma_plus) * 0.01\n",
    "    perc = 1 - pc_sigma\n",
    "    return perc, sigma_plus\n",
    "\n",
    "def calculate_perc_nn(X_train, X_test, X_test_adv, predict_fn, nb_samples=100, nb_sigmas=3):\n",
    "    \n",
    "    X_train_samples = np.random.permutation(X_train)[:nb_samples]\n",
    "    preds_train = predict_fn(X_train_samples)\n",
    "    nn = NearestNeighbors()\n",
    "    nn.fit(preds_train)\n",
    "    \n",
    "    preds_test, preds_adv = predict_fn(X_test), predict_fn(X_test_adv)\n",
    "    dist_test, idx_test = nn.kneighbors(preds_test, n_neighbors=1)\n",
    "    dist_adv, idx_adv = nn.kneighbors(preds_adv, n_neighbors=1)\n",
    "\n",
    "    df_dist = pd.DataFrame()\n",
    "    df_dist['test'] = dist_test.flatten()\n",
    "    df_dist['adv'] = dist_adv.flatten()\n",
    "    \n",
    "    perc, sigma_plus = _calculate_perc(df_dist, nb_sigmas=nb_sigmas)\n",
    "    \n",
    "    return perc, df_dist, sigma_plus\n",
    "\n",
    "def predict_fn(x):\n",
    "    return model.predict(x)"
   ]
  },
  {
   "cell_type": "code",
   "execution_count": 281,
   "metadata": {},
   "outputs": [],
   "source": [
    "perm = np.random.permutation(range(len(kl_adv)))[:500]\n",
    "x_kl = np.concatenate((kl_test, kl_adv[perm]))\n",
    "y_kl = np.concatenate((np.zeros(len(kl_test)), np.ones(len(kl_adv[perm]))))\n",
    "x_kl = x_kl / x_kl.max()"
   ]
  },
  {
   "cell_type": "code",
   "execution_count": 282,
   "metadata": {},
   "outputs": [],
   "source": [
    "perc, df_dist, sigma_plus = calculate_perc_nn(X_train, X_to_adv, X_adv, predict_fn, nb_samples=1000, nb_sigmas=5)\n",
    "dist_test, dist_adv = df_dist['test'].values, df_dist['adv'].values\n",
    "x_bl =  np.concatenate((dist_test, dist_adv[perm]))\n",
    "y_bl = np.concatenate((np.zeros(len(dist_test)), np.ones(len(dist_adv[perm]))))\n",
    "x_bl = x_bl / x_bl.max()"
   ]
  },
  {
   "cell_type": "code",
   "execution_count": 283,
   "metadata": {},
   "outputs": [
    {
     "data": {
      "text/plain": [
       "0.5263609480183286"
      ]
     },
     "execution_count": 283,
     "metadata": {},
     "output_type": "execute_result"
    }
   ],
   "source": [
    "sigma_plus"
   ]
  },
  {
   "cell_type": "markdown",
   "metadata": {},
   "source": [
    "### Precision recall curves"
   ]
  },
  {
   "cell_type": "code",
   "execution_count": 284,
   "metadata": {},
   "outputs": [
    {
     "name": "stdout",
     "output_type": "stream",
     "text": [
      "Naive detector baseline\n"
     ]
    },
    {
     "data": {
      "text/plain": [
       "(0.0, 1.0)"
      ]
     },
     "execution_count": 284,
     "metadata": {},
     "output_type": "execute_result"
    },
    {
     "data": {
      "image/png": "[encoded data removed]",
      "text/plain": [
       "<Figure size 432x288 with 1 Axes>"
      ]
     },
     "metadata": {
      "needs_background": "light"
     },
     "output_type": "display_data"
    }
   ],
   "source": [
    "print('Naive detector baseline')\n",
    "precision_bl, recall_bl, thresholds_bl = precision_recall_curve(y_bl, x_bl)\n",
    "\n",
    "# In matplotlib < 1.5, plt.fill_between does not have a 'step' argument\n",
    "step_kwargs = ({'step': 'post'}\n",
    "               if 'step' in signature(plt.fill_between).parameters\n",
    "               else {})\n",
    "plt.step(recall_bl, precision_bl, color='b', alpha=0.2,\n",
    "         where='post')\n",
    "plt.fill_between(recall_bl, precision_bl, alpha=0.2, color='b', **step_kwargs)\n",
    "\n",
    "plt.xlabel('Recall')\n",
    "plt.ylabel('Precision')\n",
    "plt.ylim([0.0, 1.05])\n",
    "plt.xlim([0.0, 1.0])"
   ]
  },
  {
   "cell_type": "code",
   "execution_count": 285,
   "metadata": {},
   "outputs": [
    {
     "name": "stdout",
     "output_type": "stream",
     "text": [
      "Vae detector\n"
     ]
    },
    {
     "data": {
      "text/plain": [
       "(0.0, 1.0)"
      ]
     },
     "execution_count": 285,
     "metadata": {},
     "output_type": "execute_result"
    },
    {
     "data": {
      "image/png": "[encoded data removed]",
      "text/plain": [
       "<Figure size 432x288 with 1 Axes>"
      ]
     },
     "metadata": {
      "needs_background": "light"
     },
     "output_type": "display_data"
    }
   ],
   "source": [
    "print('Vae detector')\n",
    "precision, recall, thresholds = precision_recall_curve(y_kl, x_kl)\n",
    "\n",
    "# In matplotlib < 1.5, plt.fill_between does not have a 'step' argument\n",
    "step_kwargs = ({'step': 'post'}\n",
    "               if 'step' in signature(plt.fill_between).parameters\n",
    "               else {})\n",
    "plt.step(recall, precision, color='b', alpha=0.2,\n",
    "         where='post')\n",
    "plt.fill_between(recall, precision, alpha=0.2, color='b', **step_kwargs)\n",
    "\n",
    "plt.xlabel('Recall')\n",
    "plt.ylabel('Precision')\n",
    "plt.ylim([0.0, 1.05])\n",
    "plt.xlim([0.0, 1.0])"
   ]
  },
  {
   "cell_type": "markdown",
   "metadata": {},
   "source": [
    "### Accuracy - f1 scores"
   ]
  },
  {
   "cell_type": "code",
   "execution_count": 286,
   "metadata": {},
   "outputs": [
    {
     "name": "stderr",
     "output_type": "stream",
     "text": [
      "/home/gio/anaconda3/envs/tf2-gpu/lib/python3.6/site-packages/sklearn/metrics/classification.py:1437: UndefinedMetricWarning: Precision is ill-defined and being set to 0.0 due to no predicted samples.\n",
      "  'precision', 'predicted', average, warn_for)\n",
      "/home/gio/anaconda3/envs/tf2-gpu/lib/python3.6/site-packages/sklearn/metrics/classification.py:1437: UndefinedMetricWarning: F-score is ill-defined and being set to 0.0 due to no predicted samples.\n",
      "  'precision', 'predicted', average, warn_for)\n"
     ]
    }
   ],
   "source": [
    "trs = np.arange(0, 1.001, 0.001)\n",
    "tresholds, precs, recals, accs, f1s = [], [], [], [], []\n",
    "precs_bl, recals_bl, accs_bl, f1s_bl = [], [], [], []\n",
    "for tr in trs:\n",
    "    preds_kl = predict_adv(x_kl, tr)\n",
    "    preds_bl = predict_adv(x_bl, tr)\n",
    "    \n",
    "    prec = precision_score(y_kl, preds_kl)\n",
    "    rec = recall_score(y_kl, preds_kl)\n",
    "    acc = accuracy_score(y_kl, preds_kl)\n",
    "    f1 = f1_score(y_kl, preds_kl)\n",
    "    \n",
    "    prec_bl = precision_score(y_bl, preds_bl)\n",
    "    rec_bl = recall_score(y_bl, preds_bl)\n",
    "    acc_bl = accuracy_score(y_bl, preds_bl)\n",
    "    f1_bl = f1_score(y_bl, preds_bl)\n",
    "    \n",
    "    tresholds.append(tr)\n",
    "    precs.append(prec)\n",
    "    recals.append(rec)\n",
    "    accs.append(acc)\n",
    "    f1s.append(f1)\n",
    "    \n",
    "    precs_bl.append(prec_bl)\n",
    "    recals_bl.append(rec_bl)\n",
    "    accs_bl.append(acc_bl)\n",
    "    f1s_bl.append(f1_bl)\n",
    "\n",
    "df_scores = pd.DataFrame()\n",
    "df_scores['trs'] = tresholds\n",
    "df_scores['precs'] = precs\n",
    "df_scores['recs'] = recals\n",
    "df_scores['accs'] = accs\n",
    "df_scores['f1s'] = f1s\n",
    "\n",
    "df_scores['precs_bl'] = precs_bl\n",
    "df_scores['recs_bl'] = recals_bl\n",
    "df_scores['accs_bl'] = accs_bl\n",
    "df_scores['f1s_bl'] = f1s_bl"
   ]
  },
  {
   "cell_type": "code",
   "execution_count": 287,
   "metadata": {},
   "outputs": [
    {
     "name": "stdout",
     "output_type": "stream",
     "text": [
      "Accuracy\n"
     ]
    },
    {
     "data": {
      "text/plain": [
       "<matplotlib.axes._subplots.AxesSubplot at 0x7f21c60e4048>"
      ]
     },
     "execution_count": 287,
     "metadata": {},
     "output_type": "execute_result"
    },
    {
     "data": {
      "image/png": "[encoded data removed]",
      "text/plain": [
       "<Figure size 1080x576 with 1 Axes>"
      ]
     },
     "metadata": {
      "needs_background": "light"
     },
     "output_type": "display_data"
    }
   ],
   "source": [
    "print('Accuracy')\n",
    "df_scores.plot(x= 'trs',y=['accs', 'accs_bl'], figsize=(15, 8))"
   ]
  },
  {
   "cell_type": "code",
   "execution_count": 288,
   "metadata": {},
   "outputs": [
    {
     "name": "stdout",
     "output_type": "stream",
     "text": [
      "F1 score\n"
     ]
    },
    {
     "data": {
      "text/plain": [
       "<matplotlib.axes._subplots.AxesSubplot at 0x7f21c604d048>"
      ]
     },
     "execution_count": 288,
     "metadata": {},
     "output_type": "execute_result"
    },
    {
     "data": {
      "image/png": "[encoded data removed]",
      "text/plain": [
       "<Figure size 1080x576 with 1 Axes>"
      ]
     },
     "metadata": {
      "needs_background": "light"
     },
     "output_type": "display_data"
    }
   ],
   "source": [
    "print('F1 score')\n",
    "df_scores.plot(x= 'trs',y=['f1s', 'f1s_bl'], figsize=(15, 8))"
   ]
  },
  {
   "cell_type": "code",
   "execution_count": 289,
   "metadata": {},
   "outputs": [
    {
     "data": {
      "text/html": [
       "<div>\n",
       "<style scoped>\n",
       "    .dataframe tbody tr th:only-of-type {\n",
       "        vertical-align: middle;\n",
       "    }\n",
       "\n",
       "    .dataframe tbody tr th {\n",
       "        vertical-align: top;\n",
       "    }\n",
       "\n",
       "    .dataframe thead th {\n",
       "        text-align: right;\n",
       "    }\n",
       "</style>\n",
       "<table border=\"1\" class=\"dataframe\">\n",
       "  <thead>\n",
       "    <tr style=\"text-align: right;\">\n",
       "      <th></th>\n",
       "      <th>trs</th>\n",
       "      <th>precs</th>\n",
       "      <th>recs</th>\n",
       "      <th>accs</th>\n",
       "      <th>f1s</th>\n",
       "      <th>precs_bl</th>\n",
       "      <th>recs_bl</th>\n",
       "      <th>accs_bl</th>\n",
       "      <th>f1s_bl</th>\n",
       "    </tr>\n",
       "  </thead>\n",
       "  <tbody>\n",
       "    <tr>\n",
       "      <td>count</td>\n",
       "      <td>1001.000000</td>\n",
       "      <td>1001.000000</td>\n",
       "      <td>1001.000000</td>\n",
       "      <td>1001.000000</td>\n",
       "      <td>1001.000000</td>\n",
       "      <td>1001.000000</td>\n",
       "      <td>1001.000000</td>\n",
       "      <td>1001.000000</td>\n",
       "      <td>1001.000000</td>\n",
       "    </tr>\n",
       "    <tr>\n",
       "      <td>mean</td>\n",
       "      <td>0.500000</td>\n",
       "      <td>0.942260</td>\n",
       "      <td>0.186095</td>\n",
       "      <td>0.570451</td>\n",
       "      <td>0.251748</td>\n",
       "      <td>0.558053</td>\n",
       "      <td>0.103858</td>\n",
       "      <td>0.476948</td>\n",
       "      <td>0.140950</td>\n",
       "    </tr>\n",
       "    <tr>\n",
       "      <td>std</td>\n",
       "      <td>0.289108</td>\n",
       "      <td>0.107657</td>\n",
       "      <td>0.210242</td>\n",
       "      <td>0.062488</td>\n",
       "      <td>0.221232</td>\n",
       "      <td>0.226760</td>\n",
       "      <td>0.112698</td>\n",
       "      <td>0.032370</td>\n",
       "      <td>0.112541</td>\n",
       "    </tr>\n",
       "    <tr>\n",
       "      <td>min</td>\n",
       "      <td>0.000000</td>\n",
       "      <td>0.000000</td>\n",
       "      <td>0.000000</td>\n",
       "      <td>0.500000</td>\n",
       "      <td>0.000000</td>\n",
       "      <td>0.000000</td>\n",
       "      <td>0.000000</td>\n",
       "      <td>0.411538</td>\n",
       "      <td>0.000000</td>\n",
       "    </tr>\n",
       "    <tr>\n",
       "      <td>25%</td>\n",
       "      <td>0.250000</td>\n",
       "      <td>0.925000</td>\n",
       "      <td>0.038462</td>\n",
       "      <td>0.519231</td>\n",
       "      <td>0.074074</td>\n",
       "      <td>0.382353</td>\n",
       "      <td>0.034615</td>\n",
       "      <td>0.438462</td>\n",
       "      <td>0.065693</td>\n",
       "    </tr>\n",
       "    <tr>\n",
       "      <td>50%</td>\n",
       "      <td>0.500000</td>\n",
       "      <td>1.000000</td>\n",
       "      <td>0.096154</td>\n",
       "      <td>0.548077</td>\n",
       "      <td>0.175439</td>\n",
       "      <td>0.461538</td>\n",
       "      <td>0.069231</td>\n",
       "      <td>0.494231</td>\n",
       "      <td>0.120805</td>\n",
       "    </tr>\n",
       "    <tr>\n",
       "      <td>75%</td>\n",
       "      <td>0.750000</td>\n",
       "      <td>1.000000</td>\n",
       "      <td>0.276923</td>\n",
       "      <td>0.621154</td>\n",
       "      <td>0.426036</td>\n",
       "      <td>0.642857</td>\n",
       "      <td>0.134615</td>\n",
       "      <td>0.503846</td>\n",
       "      <td>0.191781</td>\n",
       "    </tr>\n",
       "    <tr>\n",
       "      <td>max</td>\n",
       "      <td>1.000000</td>\n",
       "      <td>1.000000</td>\n",
       "      <td>1.000000</td>\n",
       "      <td>0.692308</td>\n",
       "      <td>0.705185</td>\n",
       "      <td>1.000000</td>\n",
       "      <td>1.000000</td>\n",
       "      <td>0.509615</td>\n",
       "      <td>0.666667</td>\n",
       "    </tr>\n",
       "  </tbody>\n",
       "</table>\n",
       "</div>"
      ],
      "text/plain": [
       "               trs        precs         recs         accs          f1s  \\\n",
       "count  1001.000000  1001.000000  1001.000000  1001.000000  1001.000000   \n",
       "mean      0.500000     0.942260     0.186095     0.570451     0.251748   \n",
       "std       0.289108     0.107657     0.210242     0.062488     0.221232   \n",
       "min       0.000000     0.000000     0.000000     0.500000     0.000000   \n",
       "25%       0.250000     0.925000     0.038462     0.519231     0.074074   \n",
       "50%       0.500000     1.000000     0.096154     0.548077     0.175439   \n",
       "75%       0.750000     1.000000     0.276923     0.621154     0.426036   \n",
       "max       1.000000     1.000000     1.000000     0.692308     0.705185   \n",
       "\n",
       "          precs_bl      recs_bl      accs_bl       f1s_bl  \n",
       "count  1001.000000  1001.000000  1001.000000  1001.000000  \n",
       "mean      0.558053     0.103858     0.476948     0.140950  \n",
       "std       0.226760     0.112698     0.032370     0.112541  \n",
       "min       0.000000     0.000000     0.411538     0.000000  \n",
       "25%       0.382353     0.034615     0.438462     0.065693  \n",
       "50%       0.461538     0.069231     0.494231     0.120805  \n",
       "75%       0.642857     0.134615     0.503846     0.191781  \n",
       "max       1.000000     1.000000     0.509615     0.666667  "
      ]
     },
     "execution_count": 289,
     "metadata": {},
     "output_type": "execute_result"
    }
   ],
   "source": [
    "df_scores.describe()"
   ]
  },
  {
   "cell_type": "markdown",
   "metadata": {},
   "source": [
    "### Distributions"
   ]
  },
  {
   "cell_type": "code",
   "execution_count": 290,
   "metadata": {},
   "outputs": [
    {
     "name": "stdout",
     "output_type": "stream",
     "text": [
      "Vae detector\n"
     ]
    },
    {
     "data": {
      "text/plain": [
       "<matplotlib.axes._subplots.AxesSubplot at 0x7f21c60e4080>"
      ]
     },
     "execution_count": 290,
     "metadata": {},
     "output_type": "execute_result"
    },
    {
     "data": {
      "image/png": "[encoded data removed]",
      "text/plain": [
       "<Figure size 1080x576 with 1 Axes>"
      ]
     },
     "metadata": {
      "needs_background": "light"
     },
     "output_type": "display_data"
    }
   ],
   "source": [
    "print('Vae detector')\n",
    "fig, ax = plt.subplots(figsize=(15, 8))\n",
    "sns.distplot(kl_test, rug=True, ax=ax, kde=False)\n",
    "plt.axvline(sigma_plus, c='r', linestyle='dashed')\n",
    "sns.distplot(kl_adv, rug=True,ax=ax, kde=False)"
   ]
  },
  {
   "cell_type": "code",
   "execution_count": 291,
   "metadata": {},
   "outputs": [
    {
     "name": "stdout",
     "output_type": "stream",
     "text": [
      "Naive detector baseline\n"
     ]
    },
    {
     "data": {
      "text/plain": [
       "<matplotlib.axes._subplots.AxesSubplot at 0x7f21c5f3bb38>"
      ]
     },
     "execution_count": 291,
     "metadata": {},
     "output_type": "execute_result"
    },
    {
     "data": {
      "image/png": "[encoded data removed]",
      "text/plain": [
       "<Figure size 1080x576 with 1 Axes>"
      ]
     },
     "metadata": {
      "needs_background": "light"
     },
     "output_type": "display_data"
    }
   ],
   "source": [
    "print('Naive detector baseline')\n",
    "fig, ax = plt.subplots(figsize=(15, 8))\n",
    "sns.distplot(df_dist['test'], rug=True, ax=ax, kde=False)\n",
    "plt.axvline(sigma_plus, c='r', linestyle='dashed')\n",
    "sns.distplot(df_dist['adv'], rug=True,ax=ax, kde=False)"
   ]
  },
  {
   "cell_type": "code",
   "execution_count": null,
   "metadata": {},
   "outputs": [],
   "source": [
    "from tensorflow.keras.metrics import MeanMe"
   ]
  },
  {
   "cell_type": "code",
   "execution_count": 337,
   "metadata": {},
   "outputs": [
    {
     "data": {
      "text/plain": [
       "{'data': {'feature_score': None,\n",
       "  'instance_score': array([1.3335790e-02, 1.4519510e-03, 2.3145833e+00, 4.6050154e-02,\n",
       "         3.9955443e-01, 1.0918931e-01, 6.4510000e-01, 2.0981470e-01,\n",
       "         2.2900740e-04, 4.9750900e-01], dtype=float32),\n",
       "  'is_adversarial': array([0, 0, 1, 0, 0, 0, 0, 0, 0, 0])},\n",
       " 'meta': {'name': 'AdversarialVAE',\n",
       "  'detector_type': 'offline',\n",
       "  'data_type': None}}"
      ]
     },
     "execution_count": 337,
     "metadata": {},
     "output_type": "execute_result"
    }
   ],
   "source": [
    "ad.predict(X_val[:10])"
   ]
  },
  {
   "cell_type": "code",
   "execution_count": null,
   "metadata": {},
   "outputs": [],
   "source": []
  }
 ],
 "metadata": {
  "kernelspec": {
   "display_name": "Python 3",
   "language": "python",
   "name": "python3"
  },
  "language_info": {
   "codemirror_mode": {
    "name": "ipython",
    "version": 3
   },
   "file_extension": ".py",
   "mimetype": "text/x-python",
   "name": "python",
   "nbconvert_exporter": "python",
   "pygments_lexer": "ipython3",
   "version": "3.6.9"
  }
 },
 "nbformat": 4,
 "nbformat_minor": 2
}
