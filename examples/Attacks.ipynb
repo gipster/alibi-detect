{
 "cells": [
  {
   "cell_type": "code",
   "execution_count": 1,
   "metadata": {},
   "outputs": [
    {
     "name": "stderr",
     "output_type": "stream",
     "text": [
      "Using TensorFlow backend.\n",
      "ERROR:fbprophet:Importing plotly failed. Interactive plots will not work.\n"
     ]
    }
   ],
   "source": [
    "import numpy as np \n",
    "import pandas as pd \n",
    "import matplotlib.pyplot as plt\n",
    "import tensorflow as tf\n",
    "import keras \n",
    "import cv2\n",
    "from PIL import Image\n",
    "import os\n",
    "import zipfile\n",
    "import logging\n",
    "import json\n",
    "\n",
    "\n",
    "from cleverhans.future.tf2.attacks import projected_gradient_descent, fast_gradient_method\n",
    "\n",
    "import alibi_detect.ad as adv\n",
    "from alibi_detect.datasets import fetch_traffic_signs\n",
    "from alibi_detect.models.losses import loss_adv_vae\n",
    "from alibi_detect.ad import AdversarialVAE\n",
    "from alibi_detect.utils.saving import save_detector, load_detector, save_tf_model, load_tf_model\n",
    "from alibi_detect.utils.visualize import plot_instance_score\n"
   ]
  },
  {
   "cell_type": "code",
   "execution_count": 2,
   "metadata": {},
   "outputs": [],
   "source": [
    "from inspect import signature\n",
    "from sklearn.neighbors import NearestNeighbors\n",
    "from sklearn.metrics import precision_score, recall_score, accuracy_score, precision_recall_curve, f1_score\n",
    "import matplotlib\n",
    "import seaborn as sns\n",
    "from creme.stats import Mean, Var\n",
    "%matplotlib inline\n",
    "from scipy.stats import percentileofscore\n",
    "from importlib import reload"
   ]
  },
  {
   "cell_type": "code",
   "execution_count": 3,
   "metadata": {},
   "outputs": [
    {
     "name": "stdout",
     "output_type": "stream",
     "text": [
      "env: CUDA_VISIBLE_DEVICES=1\n"
     ]
    }
   ],
   "source": [
    "from sklearn.metrics import confusion_matrix\n",
    "%set_env CUDA_VISIBLE_DEVICES=1"
   ]
  },
  {
   "cell_type": "markdown",
   "metadata": {},
   "source": [
    "# Load mnist"
   ]
  },
  {
   "cell_type": "code",
   "execution_count": 8,
   "metadata": {},
   "outputs": [
    {
     "name": "stdout",
     "output_type": "stream",
     "text": [
      "(60000, 28, 28, 1) (60000, 10) (10000, 28, 28, 1) (10000, 10)\n"
     ]
    }
   ],
   "source": [
    "train, test = tf.keras.datasets.mnist.load_data()\n",
    "X_train, y_train = train\n",
    "X_test, y_test = test\n",
    "\n",
    "X_train = X_train.reshape(-1, 28, 28, 1).astype('float32') / 255\n",
    "X_test = X_test.reshape(-1, 28, 28, 1).astype('float32') / 255\n",
    "y_train = keras.utils.to_categorical(y_train, 10)\n",
    "y_test = keras.utils.to_categorical(y_test, 10)\n",
    "print(X_train.shape, y_train.shape, X_test.shape, y_test.shape)"
   ]
  },
  {
   "cell_type": "markdown",
   "metadata": {},
   "source": [
    "# Model"
   ]
  },
  {
   "cell_type": "code",
   "execution_count": 9,
   "metadata": {},
   "outputs": [],
   "source": [
    "import os\n",
    "import tensorflow"
   ]
  },
  {
   "cell_type": "code",
   "execution_count": 13,
   "metadata": {},
   "outputs": [],
   "source": [
    "\n",
    "def model_mnist(typ = \"keras\"):\n",
    "    if typ == 'tf_keras':\n",
    "        \n",
    "        tf.keras.backend.clear_session()\n",
    "        logger = tf.get_logger()\n",
    "        logger.setLevel(logging.ERROR)\n",
    "        \n",
    "        inputs = tensorflow.keras.layers.Input(shape=(X_train.shape[1:]))\n",
    "        x = tensorflow.keras.layers.Conv2D(64, 2, padding='same', activation='relu')(inputs)\n",
    "        x = tensorflow.keras.layers.MaxPooling2D(pool_size=2)(x)\n",
    "        x = tensorflow.keras.layers.Dropout(.3)(x)\n",
    "    \n",
    "        x = tensorflow.keras.layers.Conv2D(32, 2, padding='same', activation='relu')(x)\n",
    "        x = tensorflow.keras.layers.MaxPooling2D(pool_size=2)(x)\n",
    "        x = tensorflow.keras.layers.Dropout(.3)(x)\n",
    "    \n",
    "        x = tensorflow.keras.layers.Flatten()(x)\n",
    "        x = tensorflow.keras.layers.Dense(256, activation='relu')(x)\n",
    "        x = tensorflow.keras.layers.Dropout(.5)(x)\n",
    "        logits = tensorflow.keras.layers.Dense(10, name='logits')(x)\n",
    "        outputs = tensorflow.keras.layers.Activation('softmax', name='softmax')(logits)\n",
    "        model = tensorflow.keras.models.Model(inputs=inputs, outputs=outputs)\n",
    "        model.compile(loss='categorical_crossentropy',\n",
    "                  optimizer='adam',\n",
    "                  metrics=['accuracy'])\n",
    "    elif typ == 'keras':\n",
    "        inputs = keras.layers.Input(shape=(X_train.shape[1:]))\n",
    "        x = keras.layers.Conv2D(64, 2, padding='same', activation='relu')(inputs)\n",
    "        x = keras.layers.MaxPooling2D(pool_size=2)(x)\n",
    "        x = keras.layers.Dropout(.3)(x)\n",
    "    \n",
    "        x = keras.layers.Conv2D(32, 2, padding='same', activation='relu')(x)\n",
    "        x = keras.layers.MaxPooling2D(pool_size=2)(x)\n",
    "        x = keras.layers.Dropout(.3)(x)\n",
    "    \n",
    "        x = keras.layers.Flatten()(x)\n",
    "        x = keras.layers.Dense(256, activation='relu')(x)\n",
    "        x = keras.layers.Dropout(.5)(x)\n",
    "        logits = keras.layers.Dense(10, name='logits')(x)\n",
    "        outputs = keras.layers.Activation('softmax', name='softmax')(logits)\n",
    "        model = keras.models.Model(inputs=inputs, outputs=outputs)\n",
    "        model.compile(loss='categorical_crossentropy',\n",
    "                  optimizer='adam',\n",
    "                  metrics=['accuracy'])\n",
    "    return model\n",
    " "
   ]
  },
  {
   "cell_type": "code",
   "execution_count": 15,
   "metadata": {},
   "outputs": [
    {
     "name": "stdout",
     "output_type": "stream",
     "text": [
      "Train on 60000 samples, validate on 10000 samples\n",
      "Epoch 1/2\n",
      "60000/60000 [==============================] - 2s 39us/sample - loss: 0.5022 - accuracy: 0.8400 - val_loss: 0.1274 - val_accuracy: 0.9635\n",
      "Epoch 2/2\n",
      "60000/60000 [==============================] - 2s 29us/sample - loss: 0.1687 - accuracy: 0.9479 - val_loss: 0.0698 - val_accuracy: 0.9782\n"
     ]
    },
    {
     "data": {
      "text/plain": [
       "<tensorflow.python.keras.callbacks.History at 0x7fa313c35b70>"
      ]
     },
     "execution_count": 15,
     "metadata": {},
     "output_type": "execute_result"
    }
   ],
   "source": [
    "model = model_mnist(typ='tf_keras')\n",
    "model.fit(X_train,\n",
    "              y_train,\n",
    "              epochs=2,\n",
    "              batch_size=256,\n",
    "              verbose=1,\n",
    "              validation_data=(X_test, y_test)\n",
    "              )"
   ]
  },
  {
   "cell_type": "code",
   "execution_count": 16,
   "metadata": {},
   "outputs": [
    {
     "name": "stdout",
     "output_type": "stream",
     "text": [
      "Saved model to disk\n"
     ]
    }
   ],
   "source": [
    "model_json = model.to_json()\n",
    "with open(\"model_tmp/model.json\", \"w\") as json_file:\n",
    "    json_file.write(model_json)\n",
    "# serialize weights to HDF5\n",
    "model.save_weights(\"model_tmp/model.h5\")\n",
    "print(\"Saved model to disk\")"
   ]
  },
  {
   "cell_type": "code",
   "execution_count": null,
   "metadata": {},
   "outputs": [],
   "source": []
  },
  {
   "cell_type": "code",
   "execution_count": 31,
   "metadata": {},
   "outputs": [],
   "source": [
    "json_file = open('model_tmp/model.json', 'r')\n",
    "loaded_model_json = json_file.read()\n",
    "json_file.close()\n",
    "loaded_model = model_from_json(loaded_model_json)"
   ]
  },
  {
   "cell_type": "code",
   "execution_count": 17,
   "metadata": {},
   "outputs": [],
   "source": [
    "loaded_model = model_mnist('keras')"
   ]
  },
  {
   "cell_type": "code",
   "execution_count": 19,
   "metadata": {},
   "outputs": [],
   "source": [
    "loaded_model.load_weights('model_tmp/model.h5')"
   ]
  },
  {
   "cell_type": "code",
   "execution_count": 25,
   "metadata": {},
   "outputs": [],
   "source": [
    "loaded_model = tf.keras.models.load_model('/home/gio/adversarial_vae/adversarial-vae/models/classifier/mnist/model/model.h5')"
   ]
  },
  {
   "cell_type": "code",
   "execution_count": 20,
   "metadata": {},
   "outputs": [
    {
     "name": "stdout",
     "output_type": "stream",
     "text": [
      "Test loss: 0.0698 -- accuracy: 0.9782\n"
     ]
    }
   ],
   "source": [
    "# evaluate model\n",
    "results = loaded_model.evaluate(X_test, y_test, batch_size=256, verbose=0)\n",
    "print('Test loss: {:.4f} -- accuracy: {:.4f}'.format(results[0], results[1]))"
   ]
  },
  {
   "cell_type": "code",
   "execution_count": 21,
   "metadata": {},
   "outputs": [],
   "source": [
    "from art.attacks import DeepFool, CarliniL2Method\n",
    "from art.classifiers import KerasClassifier"
   ]
  },
  {
   "cell_type": "code",
   "execution_count": 22,
   "metadata": {},
   "outputs": [
    {
     "ename": "OperatorNotAllowedInGraphError",
     "evalue": "using a `tf.Tensor` as a Python `bool` is not allowed in Graph execution. Use Eager execution or decorate this function with @tf.function.",
     "output_type": "error",
     "traceback": [
      "\u001b[0;31m--------------------------------------------------------\u001b[0m",
      "\u001b[0;31mOperatorNotAllowedInGraphError\u001b[0mTraceback (most recent call last)",
      "\u001b[0;32m<ipython-input-22-d8d7e53bf372>\u001b[0m in \u001b[0;36m<module>\u001b[0;34m\u001b[0m\n\u001b[0;32m----> 1\u001b[0;31m \u001b[0mm\u001b[0m \u001b[0;34m=\u001b[0m \u001b[0mKerasClassifier\u001b[0m\u001b[0;34m(\u001b[0m\u001b[0mmodel\u001b[0m\u001b[0;34m=\u001b[0m\u001b[0mloaded_model\u001b[0m\u001b[0;34m)\u001b[0m\u001b[0;34m\u001b[0m\u001b[0;34m\u001b[0m\u001b[0m\n\u001b[0m",
      "\u001b[0;32m~/git/art-fork/art/classifiers/keras.py\u001b[0m in \u001b[0;36m__init__\u001b[0;34m(self, model, use_logits, channel_index, clip_values, defences, preprocessing, input_layer, output_layer, custom_activation)\u001b[0m\n\u001b[1;32m     73\u001b[0m         \u001b[0mself\u001b[0m\u001b[0;34m.\u001b[0m\u001b[0m_output_layer\u001b[0m \u001b[0;34m=\u001b[0m \u001b[0moutput_layer\u001b[0m\u001b[0;34m\u001b[0m\u001b[0;34m\u001b[0m\u001b[0m\n\u001b[1;32m     74\u001b[0m \u001b[0;34m\u001b[0m\u001b[0m\n\u001b[0;32m---> 75\u001b[0;31m         \u001b[0mself\u001b[0m\u001b[0;34m.\u001b[0m\u001b[0m_initialize_params\u001b[0m\u001b[0;34m(\u001b[0m\u001b[0mmodel\u001b[0m\u001b[0;34m,\u001b[0m \u001b[0muse_logits\u001b[0m\u001b[0;34m,\u001b[0m \u001b[0minput_layer\u001b[0m\u001b[0;34m,\u001b[0m \u001b[0moutput_layer\u001b[0m\u001b[0;34m,\u001b[0m \u001b[0mcustom_activation\u001b[0m\u001b[0;34m)\u001b[0m\u001b[0;34m\u001b[0m\u001b[0;34m\u001b[0m\u001b[0m\n\u001b[0m\u001b[1;32m     76\u001b[0m \u001b[0;34m\u001b[0m\u001b[0m\n\u001b[1;32m     77\u001b[0m     \u001b[0;32mdef\u001b[0m \u001b[0m_initialize_params\u001b[0m\u001b[0;34m(\u001b[0m\u001b[0mself\u001b[0m\u001b[0;34m,\u001b[0m \u001b[0mmodel\u001b[0m\u001b[0;34m,\u001b[0m \u001b[0muse_logits\u001b[0m\u001b[0;34m,\u001b[0m \u001b[0minput_layer\u001b[0m\u001b[0;34m,\u001b[0m \u001b[0moutput_layer\u001b[0m\u001b[0;34m,\u001b[0m \u001b[0mcustom_activation\u001b[0m\u001b[0;34m)\u001b[0m\u001b[0;34m:\u001b[0m\u001b[0;34m\u001b[0m\u001b[0;34m\u001b[0m\u001b[0m\n",
      "\u001b[0;32m~/git/art-fork/art/classifiers/keras.py\u001b[0m in \u001b[0;36m_initialize_params\u001b[0;34m(self, model, use_logits, input_layer, output_layer, custom_activation)\u001b[0m\n\u001b[1;32m    144\u001b[0m             \u001b[0mpreds\u001b[0m \u001b[0;34m=\u001b[0m \u001b[0mself\u001b[0m\u001b[0;34m.\u001b[0m\u001b[0m_output\u001b[0m\u001b[0;34m\u001b[0m\u001b[0;34m\u001b[0m\u001b[0m\n\u001b[1;32m    145\u001b[0m             \u001b[0mloss_\u001b[0m \u001b[0;34m=\u001b[0m \u001b[0mloss_function\u001b[0m\u001b[0;34m(\u001b[0m\u001b[0mlabel_ph\u001b[0m\u001b[0;34m,\u001b[0m \u001b[0mself\u001b[0m\u001b[0;34m.\u001b[0m\u001b[0m_output\u001b[0m\u001b[0;34m,\u001b[0m \u001b[0mfrom_logits\u001b[0m\u001b[0;34m=\u001b[0m\u001b[0muse_logits\u001b[0m\u001b[0;34m)\u001b[0m\u001b[0;34m\u001b[0m\u001b[0;34m\u001b[0m\u001b[0m\n\u001b[0;32m--> 146\u001b[0;31m         \u001b[0;32mif\u001b[0m \u001b[0mpreds\u001b[0m \u001b[0;34m==\u001b[0m \u001b[0mself\u001b[0m\u001b[0;34m.\u001b[0m\u001b[0m_input\u001b[0m\u001b[0;34m:\u001b[0m  \u001b[0;31m# recent Tensorflow version does not allow a model with an output same as the input.\u001b[0m\u001b[0;34m\u001b[0m\u001b[0;34m\u001b[0m\u001b[0m\n\u001b[0m\u001b[1;32m    147\u001b[0m             \u001b[0mpreds\u001b[0m \u001b[0;34m=\u001b[0m \u001b[0mk\u001b[0m\u001b[0;34m.\u001b[0m\u001b[0midentity\u001b[0m\u001b[0;34m(\u001b[0m\u001b[0mpreds\u001b[0m\u001b[0;34m)\u001b[0m\u001b[0;34m\u001b[0m\u001b[0;34m\u001b[0m\u001b[0m\n\u001b[1;32m    148\u001b[0m         \u001b[0mloss_grads\u001b[0m \u001b[0;34m=\u001b[0m \u001b[0mk\u001b[0m\u001b[0;34m.\u001b[0m\u001b[0mgradients\u001b[0m\u001b[0;34m(\u001b[0m\u001b[0mloss_\u001b[0m\u001b[0;34m,\u001b[0m \u001b[0mself\u001b[0m\u001b[0;34m.\u001b[0m\u001b[0m_input\u001b[0m\u001b[0;34m)\u001b[0m\u001b[0;34m\u001b[0m\u001b[0;34m\u001b[0m\u001b[0m\n",
      "\u001b[0;32m~/anaconda3/envs/tf2-gpu/lib/python3.6/site-packages/tensorflow_core/python/framework/ops.py\u001b[0m in \u001b[0;36m__bool__\u001b[0;34m(self)\u001b[0m\n\u001b[1;32m    763\u001b[0m       \u001b[0;31m`\u001b[0m\u001b[0mTypeError\u001b[0m\u001b[0;31m`\u001b[0m\u001b[0;34m.\u001b[0m\u001b[0;34m\u001b[0m\u001b[0;34m\u001b[0m\u001b[0m\n\u001b[1;32m    764\u001b[0m     \"\"\"\n\u001b[0;32m--> 765\u001b[0;31m     \u001b[0mself\u001b[0m\u001b[0;34m.\u001b[0m\u001b[0m_disallow_bool_casting\u001b[0m\u001b[0;34m(\u001b[0m\u001b[0;34m)\u001b[0m\u001b[0;34m\u001b[0m\u001b[0;34m\u001b[0m\u001b[0m\n\u001b[0m\u001b[1;32m    766\u001b[0m \u001b[0;34m\u001b[0m\u001b[0m\n\u001b[1;32m    767\u001b[0m   \u001b[0;32mdef\u001b[0m \u001b[0m__nonzero__\u001b[0m\u001b[0;34m(\u001b[0m\u001b[0mself\u001b[0m\u001b[0;34m)\u001b[0m\u001b[0;34m:\u001b[0m\u001b[0;34m\u001b[0m\u001b[0;34m\u001b[0m\u001b[0m\n",
      "\u001b[0;32m~/anaconda3/envs/tf2-gpu/lib/python3.6/site-packages/tensorflow_core/python/framework/ops.py\u001b[0m in \u001b[0;36m_disallow_bool_casting\u001b[0;34m(self)\u001b[0m\n\u001b[1;32m    532\u001b[0m     \u001b[0;32melse\u001b[0m\u001b[0;34m:\u001b[0m\u001b[0;34m\u001b[0m\u001b[0;34m\u001b[0m\u001b[0m\n\u001b[1;32m    533\u001b[0m       \u001b[0;31m# Default: V1-style Graph execution.\u001b[0m\u001b[0;34m\u001b[0m\u001b[0;34m\u001b[0m\u001b[0;34m\u001b[0m\u001b[0m\n\u001b[0;32m--> 534\u001b[0;31m       \u001b[0mself\u001b[0m\u001b[0;34m.\u001b[0m\u001b[0m_disallow_in_graph_mode\u001b[0m\u001b[0;34m(\u001b[0m\u001b[0;34m\"using a `tf.Tensor` as a Python `bool`\"\u001b[0m\u001b[0;34m)\u001b[0m\u001b[0;34m\u001b[0m\u001b[0;34m\u001b[0m\u001b[0m\n\u001b[0m\u001b[1;32m    535\u001b[0m \u001b[0;34m\u001b[0m\u001b[0m\n\u001b[1;32m    536\u001b[0m   \u001b[0;32mdef\u001b[0m \u001b[0m_disallow_iteration\u001b[0m\u001b[0;34m(\u001b[0m\u001b[0mself\u001b[0m\u001b[0;34m)\u001b[0m\u001b[0;34m:\u001b[0m\u001b[0;34m\u001b[0m\u001b[0;34m\u001b[0m\u001b[0m\n",
      "\u001b[0;32m~/anaconda3/envs/tf2-gpu/lib/python3.6/site-packages/tensorflow_core/python/framework/ops.py\u001b[0m in \u001b[0;36m_disallow_in_graph_mode\u001b[0;34m(self, task)\u001b[0m\n\u001b[1;32m    521\u001b[0m     raise errors.OperatorNotAllowedInGraphError(\n\u001b[1;32m    522\u001b[0m         \u001b[0;34m\"{} is not allowed in Graph execution. Use Eager execution or decorate\"\u001b[0m\u001b[0;34m\u001b[0m\u001b[0;34m\u001b[0m\u001b[0m\n\u001b[0;32m--> 523\u001b[0;31m         \" this function with @tf.function.\".format(task))\n\u001b[0m\u001b[1;32m    524\u001b[0m \u001b[0;34m\u001b[0m\u001b[0m\n\u001b[1;32m    525\u001b[0m   \u001b[0;32mdef\u001b[0m \u001b[0m_disallow_bool_casting\u001b[0m\u001b[0;34m(\u001b[0m\u001b[0mself\u001b[0m\u001b[0;34m)\u001b[0m\u001b[0;34m:\u001b[0m\u001b[0;34m\u001b[0m\u001b[0;34m\u001b[0m\u001b[0m\n",
      "\u001b[0;31mOperatorNotAllowedInGraphError\u001b[0m: using a `tf.Tensor` as a Python `bool` is not allowed in Graph execution. Use Eager execution or decorate this function with @tf.function."
     ]
    }
   ],
   "source": [
    "m = KerasClassifier(model=loaded_model)"
   ]
  },
  {
   "cell_type": "code",
   "execution_count": null,
   "metadata": {},
   "outputs": [],
   "source": []
  },
  {
   "cell_type": "code",
   "execution_count": null,
   "metadata": {},
   "outputs": [],
   "source": []
  },
  {
   "cell_type": "code",
   "execution_count": null,
   "metadata": {},
   "outputs": [],
   "source": []
  },
  {
   "cell_type": "code",
   "execution_count": null,
   "metadata": {},
   "outputs": [],
   "source": []
  },
  {
   "cell_type": "markdown",
   "metadata": {},
   "source": [
    "# Generate adversarial examples"
   ]
  },
  {
   "cell_type": "code",
   "execution_count": 25,
   "metadata": {},
   "outputs": [],
   "source": [
    "def generate_adv_example(model, X_test, y_test, X_train,\n",
    "                         method = 'fgsm',\n",
    "                         nb_adv = 1000):\n",
    "    \n",
    "    model_logits = Model(inputs=model.inputs, outputs=model.layers[-2].output)\n",
    "    \n",
    "    ids = np.arange(nb_adv)\n",
    "    np.random.shuffle(ids)\n",
    "    X_to_adv = X_test[ids]\n",
    "    y_adv = y_test[ids]\n",
    "    print(X_to_adv.shape)\n",
    "    \n",
    "    if method == 'pfgsm':\n",
    "        X_adv = projected_gradient_descent(model_logits, None, 0,\n",
    "                                   X_to_adv,\n",
    "                                   eps=2.,\n",
    "                                   eps_iter=1.,\n",
    "                                   nb_iter=10,\n",
    "                                   norm=2,\n",
    "                                   clip_min=X_train.min(),\n",
    "                                   clip_max=X_train.max(),\n",
    "                                   rand_init=None,\n",
    "                                   rand_minmax=.3,\n",
    "                                   targeted=False,\n",
    "                                   sanity_checks=False\n",
    "                                  ).numpy()\n",
    "    elif method == 'fgsm':\n",
    "        X_adv = fast_gradient_method(model_logits, \n",
    "                                     X_to_adv, \n",
    "                                     eps=3., \n",
    "                                     norm=2, \n",
    "                                     clip_min=X_train.min(), \n",
    "                                     clip_max=X_train.max(), \n",
    "                                     y=None,\n",
    "                                     targeted=False, \n",
    "                                     sanity_checks=False).numpy()\n",
    "    \n",
    "    return X_to_adv, X_adv\n",
    "\n",
    "def generate_adv_set(X_to_adv, X_adv):\n",
    "    y_pred = np.argmax(model(X_to_adv).numpy(), axis=-1)\n",
    "    y_pred_adv = np.argmax(model(X_adv).numpy(), axis=-1)\n",
    "    X_to_adv = X_to_adv[(y_pred != y_pred_adv)]\n",
    "    X_adv = X_adv[(y_pred != y_pred_adv)]\n",
    "    \n",
    "    y_val = np.concatenate((np.zeros(len(X_to_adv)), np.ones(len(X_adv))))\n",
    "    X_val = np.concatenate([X_to_adv, X_adv], axis=0)\n",
    "    print(X_val.shape, y_val.shape)\n",
    "    \n",
    "    return X_val, y_val"
   ]
  },
  {
   "cell_type": "code",
   "execution_count": 26,
   "metadata": {},
   "outputs": [
    {
     "name": "stdout",
     "output_type": "stream",
     "text": [
      "(1000, 28, 28, 1)\n"
     ]
    }
   ],
   "source": [
    "X_to_adv, X_adv = generate_adv_example(model, X_test, y_test, X_train)"
   ]
  },
  {
   "cell_type": "code",
   "execution_count": 27,
   "metadata": {},
   "outputs": [
    {
     "data": {
      "text/plain": [
       "(1000, 28, 28, 1)"
      ]
     },
     "execution_count": 27,
     "metadata": {},
     "output_type": "execute_result"
    }
   ],
   "source": [
    "X_to_adv.shape"
   ]
  },
  {
   "cell_type": "code",
   "execution_count": 28,
   "metadata": {},
   "outputs": [
    {
     "data": {
      "image/png": "[encoded data removed]",
      "text/plain": [
       "<Figure size 1080x1440 with 20 Axes>"
      ]
     },
     "metadata": {
      "needs_background": "light"
     },
     "output_type": "display_data"
    }
   ],
   "source": [
    "y_pred = np.argmax(model(X_to_adv).numpy(), axis=-1)\n",
    "y_pred_adv = np.argmax(model(X_adv).numpy(), axis=-1)\n",
    "meta_folder=\"../data/traffic/meta/\"\n",
    "\n",
    "n_rows = 5\n",
    "n_cols = 4\n",
    "figsize = (15, 20)\n",
    "img_shape = (28, 28)\n",
    "\n",
    "fig5 = plt.figure(constrained_layout=False, figsize=figsize)\n",
    "widths = [5, 1, 5, 1]\n",
    "heights = [5, 5, 5, 5, 5]\n",
    "spec5 = fig5.add_gridspec(ncols=4, nrows=5, width_ratios=widths,\n",
    "                          height_ratios=heights)\n",
    "\n",
    "for row in range(n_rows):\n",
    "    ax_0 = fig5.add_subplot(spec5[row, 0])    \n",
    "    ax_0.imshow(X_to_adv[row].reshape(img_shape))\n",
    "    if row == 0:\n",
    "        ax_0.title.set_text('Original')\n",
    "    ax_0.axis('off')\n",
    "    \n",
    "    ax_1 = fig5.add_subplot(spec5[row, 1])\n",
    "    #class_image=cv2.imread(meta_folder+\"{}.png\".format(y_pred[row]))\n",
    "    #image = Image.fromarray(class_image, 'RGB')\n",
    "    #image = np.array(image)\n",
    "    #ax_1.imshow(image)\n",
    "    ax_1.title.set_text('Pred original: {}'.format(y_pred[row]))\n",
    "    ax_1.axis('off')\n",
    "    \n",
    "    ax_2 = fig5.add_subplot(spec5[row, 2])\n",
    "    ax_2.imshow(X_adv[row].reshape(img_shape))\n",
    "    if row == 0:\n",
    "        ax_2.title.set_text('Adversarial')\n",
    "    ax_2.axis('off')\n",
    "    \n",
    "    ax_3 = fig5.add_subplot(spec5[row, 3])\n",
    "    #class_image_adv=cv2.imread(meta_folder+\"{}.png\".format(y_pred_adv[row]))\n",
    "    #image_adv = Image.fromarray(class_image_adv, 'RGB')\n",
    "    #image_adv = np.array(image_adv)   \n",
    "    #ax_3.imshow(image_adv)\n",
    "    ax_3.title.set_text('Pred adversarial: {}'.format(y_pred_adv[row]))\n",
    "    ax_3.axis('off')\n",
    "        #label = 'Width: {}\\nHeight: {}'.format(widths[col], heights[row])\n",
    "        #ax.annotate(label, (0.1, 0.5), xycoords='axes fraction', va='center')"
   ]
  },
  {
   "cell_type": "code",
   "execution_count": null,
   "metadata": {},
   "outputs": [],
   "source": []
  },
  {
   "cell_type": "code",
   "execution_count": null,
   "metadata": {},
   "outputs": [],
   "source": []
  }
 ],
 "metadata": {
  "kernelspec": {
   "display_name": "Python 3",
   "language": "python",
   "name": "python3"
  },
  "language_info": {
   "codemirror_mode": {
    "name": "ipython",
    "version": 3
   },
   "file_extension": ".py",
   "mimetype": "text/x-python",
   "name": "python",
   "nbconvert_exporter": "python",
   "pygments_lexer": "ipython3",
   "version": "3.6.9"
  }
 },
 "nbformat": 4,
 "nbformat_minor": 2
}
