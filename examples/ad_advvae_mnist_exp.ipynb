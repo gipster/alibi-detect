{
 "cells": [
  {
   "cell_type": "markdown",
   "metadata": {},
   "source": [
    "# Adversarial VAE detection on MNIST\n",
    "\n",
    "## Method\n",
    "\n",
    "The adversarial VAE detector is first trained on a batch of unlabeled but normal (*not adversarial*) data. The loss is however different from traditional VAE training and focuses on minimizing the KL-divergence between a classifier's predictions on the original and reconstructed data. When an adversarial instance is fed to the VAE, the KL-divergence between the predictions on the adversarial example and the reconstruction is large. The reconstruction does not contain the adversarial artefacts and has a very different prediction distribution. As a result, the adversarial instance is flagged.\n",
    "\n",
    "## Dataset\n",
    "\n",
    "traffic signs"
   ]
  },
  {
   "cell_type": "code",
   "execution_count": 2,
   "metadata": {},
   "outputs": [
    {
     "name": "stderr",
     "output_type": "stream",
     "text": [
      "ERROR:fbprophet:Importing plotly failed. Interactive plots will not work.\n"
     ]
    }
   ],
   "source": [
    "import numpy as np \n",
    "import pandas as pd \n",
    "import matplotlib.pyplot as plt\n",
    "import tensorflow as tf\n",
    "import cv2\n",
    "from PIL import Image\n",
    "import os\n",
    "import zipfile\n",
    "import logging\n",
    "import json\n",
    "\n",
    "from tensorflow.keras.layers import Activation, Conv2D, Conv2DTranspose, Dense, Dropout\n",
    "from tensorflow.keras.layers import Flatten, Input, InputLayer, Reshape, MaxPooling2D\n",
    "from tensorflow.keras.optimizers import Nadam, Adam, RMSprop\n",
    "from tensorflow.keras.models import Model\n",
    "from tensorflow.keras.utils import to_categorical\n",
    "from tensorflow.keras.regularizers import l1, l2, l1_l2\n",
    "# Adversarial attack method. The latest release of the `cleverhans` package does\n",
    "# not support TensrFlow 2 yet, so we need to install from the master branch:\n",
    "# pip install git+https://github.com/tensorflow/cleverhans.git#egg=cleverhans\n",
    "from cleverhans.future.tf2.attacks import projected_gradient_descent, fast_gradient_method\n",
    "\n",
    "import alibi_detect.ad as adv\n",
    "from alibi_detect.datasets import fetch_traffic_signs\n",
    "from alibi_detect.models.losses import loss_adv_vae\n",
    "from alibi_detect.ad import AdversarialVAE\n",
    "from alibi_detect.utils.saving import save_detector, load_detector, save_tf_model, load_tf_model\n",
    "from alibi_detect.utils.visualize import plot_instance_score\n",
    "\n",
    "tf.keras.backend.clear_session()\n",
    "logger = tf.get_logger()\n",
    "logger.setLevel(logging.ERROR)"
   ]
  },
  {
   "cell_type": "code",
   "execution_count": 3,
   "metadata": {},
   "outputs": [],
   "source": [
    "from inspect import signature\n",
    "from sklearn.neighbors import NearestNeighbors\n",
    "from sklearn.metrics import precision_score, recall_score, accuracy_score\n",
    "from sklearn.metrics import precision_recall_curve, f1_score, roc_auc_score, roc_curve\n",
    "import matplotlib\n",
    "import seaborn as sns\n",
    "from creme.stats import Mean, Var\n",
    "%matplotlib inline\n",
    "from scipy.stats import percentileofscore\n",
    "from importlib import reload\n",
    "from scipy.stats import mode"
   ]
  },
  {
   "cell_type": "code",
   "execution_count": 4,
   "metadata": {},
   "outputs": [
    {
     "name": "stdout",
     "output_type": "stream",
     "text": [
      "env: CUDA_VISIBLE_DEVICES=1\n"
     ]
    }
   ],
   "source": [
    "from sklearn.metrics import confusion_matrix\n",
    "%set_env CUDA_VISIBLE_DEVICES=1"
   ]
  },
  {
   "cell_type": "code",
   "execution_count": 5,
   "metadata": {},
   "outputs": [],
   "source": [
    "log_dir = '/home/gio/experiments/mnist/model_0/vae_0/'\n",
    "if not os.path.exists(log_dir):\n",
    "    os.makedirs(log_dir)\n",
    "data_dir = '/'.join(log_dir.split('/')[:-3]) + '/'\n",
    "model_dir = '/'.join(log_dir.split('/')[:-2]) + '/'\n",
    "detector_dir = '/'.join(log_dir.split('/')[:-1]) + '/'"
   ]
  },
  {
   "cell_type": "markdown",
   "metadata": {},
   "source": [
    "# Mnist model"
   ]
  },
  {
   "cell_type": "markdown",
   "metadata": {},
   "source": [
    "## Load data"
   ]
  },
  {
   "cell_type": "code",
<<<<<<< HEAD
   "execution_count": 6,
=======
   "execution_count": 4,
>>>>>>> 4accbb0b22b27aa5c684d652a52e25066ed1bb22
   "metadata": {},
   "outputs": [
    {
     "name": "stdout",
     "output_type": "stream",
     "text": [
      "(60000, 28, 28, 1) (60000, 10) (10000, 28, 28, 1) (10000, 10)\n"
     ]
    }
   ],
   "source": [
    "train, test = tf.keras.datasets.fashion_mnist.load_data()\n",
    "X_train, y_train = train\n",
    "X_test, y_test = test\n",
    "\n",
    "X_train = X_train.reshape(-1, 28, 28, 1).astype('float32') / 255\n",
    "X_test = X_test.reshape(-1, 28, 28, 1).astype('float32') / 255\n",
    "y_train = to_categorical(y_train, 10)\n",
    "y_test = to_categorical(y_test, 10)\n",
    "print(X_train.shape, y_train.shape, X_test.shape, y_test.shape)\n"
   ]
  },
  {
   "cell_type": "markdown",
   "metadata": {},
   "source": [
    "### Show example"
   ]
  },
  {
   "cell_type": "code",
<<<<<<< HEAD
   "execution_count": 7,
=======
   "execution_count": 5,
>>>>>>> 4accbb0b22b27aa5c684d652a52e25066ed1bb22
   "metadata": {},
   "outputs": [
    {
     "name": "stdout",
     "output_type": "stream",
     "text": [
      "Sample instance from the signs data set.\n"
     ]
    },
    {
     "data": {
      "image/png": "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\n",
      "text/plain": [
       "<Figure size 432x288 with 1 Axes>"
      ]
     },
     "metadata": {
      "needs_background": "light"
     },
     "output_type": "display_data"
    }
   ],
   "source": [
    "idx = 4200\n",
    "x = X_train[idx: idx + 1]\n",
    "plt.imshow(np.squeeze(x))\n",
    "print('Sample instance from the signs data set.')"
   ]
  },
  {
   "cell_type": "markdown",
   "metadata": {},
   "source": [
    "## Create and train mnist model\n",
    "\n",
    "The pretrained outlier and adversarial detectors used in the example notebooks can be found [here](https://console.cloud.google.com/storage/browser/seldon-models/alibi-detect). You can either manually download the relevant files in the [model_mnist](https://console.cloud.google.com/storage/browser/seldon-models/alibi-detect/model_mnist/) folder to e.g. the local directory ```my_dir```. Alternatively,  if you have [Google Cloud SDK](https://cloud.google.com/sdk/docs/) installed, you can download the whole folder as follows:\n",
    "\n",
    "```bash\n",
    "!gsutil cp -r gs://seldon-models/alibi-detect/model_mnist my_dir\n",
    "```"
   ]
  },
  {
   "cell_type": "code",
<<<<<<< HEAD
   "execution_count": 8,
=======
   "execution_count": 7,
>>>>>>> 4accbb0b22b27aa5c684d652a52e25066ed1bb22
   "metadata": {},
   "outputs": [],
   "source": [
    "load_model = True"
   ]
  },
  {
   "cell_type": "code",
<<<<<<< HEAD
   "execution_count": 15,
   "metadata": {},
   "outputs": [
    {
     "name": "stdout",
     "output_type": "stream",
     "text": [
      "Train on 60000 samples, validate on 10000 samples\n",
      "Epoch 1/50\n",
      "60000/60000 [==============================] - 4s 61us/sample - loss: 0.6842 - accuracy: 0.7455 - val_loss: 0.4029 - val_accuracy: 0.8483\n",
      "Epoch 2/50\n",
      "60000/60000 [==============================] - 3s 50us/sample - loss: 0.4092 - accuracy: 0.8507 - val_loss: 0.3392 - val_accuracy: 0.8750\n",
      "Epoch 3/50\n",
      "60000/60000 [==============================] - 3s 51us/sample - loss: 0.3536 - accuracy: 0.8720 - val_loss: 0.2948 - val_accuracy: 0.8905\n",
      "Epoch 4/50\n",
      "60000/60000 [==============================] - 3s 51us/sample - loss: 0.3201 - accuracy: 0.8835 - val_loss: 0.2714 - val_accuracy: 0.9008\n",
      "Epoch 5/50\n",
      "60000/60000 [==============================] - 3s 51us/sample - loss: 0.2939 - accuracy: 0.8922 - val_loss: 0.2658 - val_accuracy: 0.9034\n",
      "Epoch 6/50\n",
      "60000/60000 [==============================] - 3s 51us/sample - loss: 0.2790 - accuracy: 0.8960 - val_loss: 0.2452 - val_accuracy: 0.9091\n",
      "Epoch 7/50\n",
      "60000/60000 [==============================] - 3s 51us/sample - loss: 0.2626 - accuracy: 0.9049 - val_loss: 0.2339 - val_accuracy: 0.9135\n",
      "Epoch 8/50\n",
      "60000/60000 [==============================] - 3s 51us/sample - loss: 0.2519 - accuracy: 0.9073 - val_loss: 0.2254 - val_accuracy: 0.9173\n",
      "Epoch 9/50\n",
      "60000/60000 [==============================] - 3s 51us/sample - loss: 0.2432 - accuracy: 0.9110 - val_loss: 0.2167 - val_accuracy: 0.9200\n",
      "Epoch 10/50\n",
      "60000/60000 [==============================] - 3s 51us/sample - loss: 0.2354 - accuracy: 0.9129 - val_loss: 0.2123 - val_accuracy: 0.9212\n",
      "Epoch 11/50\n",
      "60000/60000 [==============================] - 3s 51us/sample - loss: 0.2299 - accuracy: 0.9157 - val_loss: 0.2130 - val_accuracy: 0.9215\n",
      "Epoch 12/50\n",
      "60000/60000 [==============================] - 3s 51us/sample - loss: 0.2188 - accuracy: 0.9197 - val_loss: 0.2061 - val_accuracy: 0.9220\n",
      "Epoch 13/50\n",
      "60000/60000 [==============================] - 3s 51us/sample - loss: 0.2134 - accuracy: 0.9215 - val_loss: 0.2107 - val_accuracy: 0.9220\n",
      "Epoch 14/50\n",
      "60000/60000 [==============================] - 3s 51us/sample - loss: 0.2081 - accuracy: 0.9230 - val_loss: 0.2034 - val_accuracy: 0.9253\n",
      "Epoch 15/50\n",
      "60000/60000 [==============================] - 3s 51us/sample - loss: 0.2050 - accuracy: 0.9233 - val_loss: 0.2022 - val_accuracy: 0.9250\n",
      "Epoch 16/50\n",
      "60000/60000 [==============================] - 3s 51us/sample - loss: 0.1978 - accuracy: 0.9272 - val_loss: 0.1970 - val_accuracy: 0.9267\n",
      "Epoch 17/50\n",
      "60000/60000 [==============================] - 3s 51us/sample - loss: 0.1926 - accuracy: 0.9287 - val_loss: 0.1951 - val_accuracy: 0.9307\n",
      "Epoch 18/50\n",
      "60000/60000 [==============================] - 3s 51us/sample - loss: 0.1902 - accuracy: 0.9306 - val_loss: 0.2001 - val_accuracy: 0.9287\n",
      "Epoch 19/50\n",
      "60000/60000 [==============================] - 3s 51us/sample - loss: 0.1893 - accuracy: 0.9294 - val_loss: 0.1997 - val_accuracy: 0.9270\n",
      "Epoch 20/50\n",
      "60000/60000 [==============================] - 3s 51us/sample - loss: 0.1835 - accuracy: 0.9324 - val_loss: 0.1961 - val_accuracy: 0.9300\n",
      "Epoch 21/50\n",
      "60000/60000 [==============================] - 3s 51us/sample - loss: 0.1801 - accuracy: 0.9340 - val_loss: 0.1972 - val_accuracy: 0.9309\n",
      "Epoch 22/50\n",
      "60000/60000 [==============================] - 3s 51us/sample - loss: 0.1753 - accuracy: 0.9337 - val_loss: 0.1933 - val_accuracy: 0.9312\n",
      "Epoch 23/50\n",
      "60000/60000 [==============================] - 3s 51us/sample - loss: 0.1728 - accuracy: 0.9359 - val_loss: 0.1929 - val_accuracy: 0.9299\n",
      "Epoch 24/50\n",
      "60000/60000 [==============================] - 3s 51us/sample - loss: 0.1701 - accuracy: 0.9361 - val_loss: 0.1936 - val_accuracy: 0.9314\n",
      "Epoch 25/50\n",
      "60000/60000 [==============================] - 3s 51us/sample - loss: 0.1646 - accuracy: 0.9377 - val_loss: 0.1914 - val_accuracy: 0.9311\n",
      "Epoch 26/50\n",
      "60000/60000 [==============================] - 3s 51us/sample - loss: 0.1650 - accuracy: 0.9384 - val_loss: 0.1953 - val_accuracy: 0.9322\n",
      "Epoch 27/50\n",
      "60000/60000 [==============================] - 3s 51us/sample - loss: 0.1619 - accuracy: 0.9395 - val_loss: 0.1967 - val_accuracy: 0.9312\n",
      "Epoch 28/50\n",
      "60000/60000 [==============================] - 3s 51us/sample - loss: 0.1583 - accuracy: 0.9403 - val_loss: 0.1886 - val_accuracy: 0.9340\n",
      "Epoch 29/50\n",
      "60000/60000 [==============================] - 3s 51us/sample - loss: 0.1589 - accuracy: 0.9400 - val_loss: 0.1924 - val_accuracy: 0.9324\n",
      "Epoch 30/50\n",
      "60000/60000 [==============================] - 3s 51us/sample - loss: 0.1576 - accuracy: 0.9409 - val_loss: 0.1897 - val_accuracy: 0.9337\n",
      "Epoch 31/50\n",
      "60000/60000 [==============================] - 3s 51us/sample - loss: 0.1525 - accuracy: 0.9426 - val_loss: 0.1896 - val_accuracy: 0.9347\n",
      "Epoch 32/50\n",
      "60000/60000 [==============================] - 3s 51us/sample - loss: 0.1483 - accuracy: 0.9452 - val_loss: 0.1939 - val_accuracy: 0.9337\n",
      "Epoch 33/50\n",
      "60000/60000 [==============================] - 3s 51us/sample - loss: 0.1477 - accuracy: 0.9437 - val_loss: 0.1929 - val_accuracy: 0.9331\n",
      "Epoch 34/50\n",
      "60000/60000 [==============================] - 3s 51us/sample - loss: 0.1458 - accuracy: 0.9453 - val_loss: 0.1927 - val_accuracy: 0.9348\n",
      "Epoch 35/50\n",
      "60000/60000 [==============================] - 3s 51us/sample - loss: 0.1449 - accuracy: 0.9454 - val_loss: 0.1896 - val_accuracy: 0.9338\n",
      "Epoch 36/50\n",
      "60000/60000 [==============================] - 3s 51us/sample - loss: 0.1447 - accuracy: 0.9453 - val_loss: 0.1952 - val_accuracy: 0.9351\n",
      "Epoch 37/50\n",
      "60000/60000 [==============================] - 3s 51us/sample - loss: 0.1403 - accuracy: 0.9467 - val_loss: 0.1985 - val_accuracy: 0.9320\n",
      "Epoch 38/50\n",
      "60000/60000 [==============================] - 3s 51us/sample - loss: 0.1385 - accuracy: 0.9478 - val_loss: 0.1938 - val_accuracy: 0.9332\n",
      "Epoch 39/50\n",
      "60000/60000 [==============================] - 3s 51us/sample - loss: 0.1381 - accuracy: 0.9471 - val_loss: 0.1894 - val_accuracy: 0.9354\n",
      "Epoch 40/50\n",
      "60000/60000 [==============================] - 3s 51us/sample - loss: 0.1356 - accuracy: 0.9490 - val_loss: 0.2004 - val_accuracy: 0.9346\n",
      "Epoch 41/50\n",
      "60000/60000 [==============================] - 3s 51us/sample - loss: 0.1354 - accuracy: 0.9494 - val_loss: 0.1908 - val_accuracy: 0.9343\n",
      "Epoch 42/50\n",
      "60000/60000 [==============================] - 3s 51us/sample - loss: 0.1318 - accuracy: 0.9500 - val_loss: 0.1938 - val_accuracy: 0.9341\n",
      "Epoch 43/50\n",
      "60000/60000 [==============================] - 3s 51us/sample - loss: 0.1303 - accuracy: 0.9506 - val_loss: 0.1949 - val_accuracy: 0.9360\n",
      "Epoch 44/50\n",
      "60000/60000 [==============================] - 3s 51us/sample - loss: 0.1299 - accuracy: 0.9506 - val_loss: 0.1938 - val_accuracy: 0.9348\n",
      "Epoch 45/50\n",
      "60000/60000 [==============================] - 3s 51us/sample - loss: 0.1328 - accuracy: 0.9493 - val_loss: 0.1895 - val_accuracy: 0.9356\n",
      "Epoch 46/50\n",
      "60000/60000 [==============================] - 3s 51us/sample - loss: 0.1285 - accuracy: 0.9514 - val_loss: 0.1901 - val_accuracy: 0.9363\n",
      "Epoch 47/50\n",
      "60000/60000 [==============================] - 3s 51us/sample - loss: 0.1285 - accuracy: 0.9511 - val_loss: 0.1974 - val_accuracy: 0.9340\n",
      "Epoch 48/50\n",
      "60000/60000 [==============================] - 3s 51us/sample - loss: 0.1270 - accuracy: 0.9519 - val_loss: 0.1982 - val_accuracy: 0.9343\n",
      "Epoch 49/50\n",
      "60000/60000 [==============================] - 3s 51us/sample - loss: 0.1238 - accuracy: 0.9534 - val_loss: 0.1952 - val_accuracy: 0.9364\n",
      "Epoch 50/50\n",
      "60000/60000 [==============================] - 3s 51us/sample - loss: 0.1238 - accuracy: 0.9528 - val_loss: 0.1986 - val_accuracy: 0.9354\n"
     ]
    }
   ],
=======
   "execution_count": null,
   "metadata": {},
   "outputs": [],
   "source": []
  },
  {
   "cell_type": "code",
   "execution_count": 8,
   "metadata": {},
   "outputs": [],
>>>>>>> 4accbb0b22b27aa5c684d652a52e25066ed1bb22
   "source": [
    "filepath = model_dir\n",
    "if load_model:\n",
    "    model = load_tf_model(filepath)\n",
    "else:\n",
    "    # define model\n",
    "    #inputs = Input(shape=(X_train.shape[1:]))\n",
    "    #x = Conv2D(64, 2, padding='same', activation='relu')(inputs)\n",
    "    #x = MaxPooling2D(pool_size=2)(x)\n",
    "    #x = Dropout(.3)(x)\n",
    "    \n",
    "    #x = Conv2D(32, 2, padding='same', activation='relu')(x)\n",
    "    #x = MaxPooling2D(pool_size=2)(x)\n",
    "    #x = Dropout(.3)(x)\n",
    "    \n",
    "    #x = Flatten()(x)\n",
    "    #x = Dense(256, activation='relu')(x)\n",
    "    #x = Dropout(.5)(x)\n",
    "    \n",
    "    #logits = Dense(10, name='logits')(x)\n",
    "    #outputs = Activation('softmax', name='softmax')(logits)\n",
    "    #model = Model(inputs=inputs, outputs=outputs)\n",
    "    #model.compile(loss='categorical_crossentropy',\n",
    "    #              optimizer='adam',\n",
    "    #              metrics=['accuracy'])\n",
    "    \n",
    "    inputs = Input(shape=(X_train.shape[1:]))\n",
    "    x = Conv2D(filters=64, kernel_size=(2, 2), padding='same', activation='relu')(inputs)\n",
    "    x = Conv2D(filters=64, kernel_size=(2, 2), padding='same', activation='relu')(x)\n",
    "    x = MaxPooling2D(pool_size=(2, 2))(x)\n",
    "    x = Dropout(0.3)(x)\n",
    "    \n",
    "    x = Conv2D(filters=32, kernel_size=(2, 2), padding='same', activation='relu')(x)\n",
    "    x = Conv2D(filters=32, kernel_size=(2, 2), padding='same', activation='relu')(x)\n",
    "    x = MaxPooling2D(pool_size=(2, 2))(x)\n",
    "    x = Dropout(0.3)(x)\n",
    "\n",
    "    x = Flatten()(x)\n",
    "    x = Dense(256, activation='relu')(x)\n",
    "    x = Dropout(0.5)(x)\n",
    "    logits = Dense(10, name='logits')(x)\n",
    "    outputs = Activation('softmax', name='softmax')(logits)\n",
    "    model = Model(inputs=inputs, outputs=outputs)\n",
    "    model.compile(loss='categorical_crossentropy',\n",
    "                  optimizer='adam',\n",
    "    \n",
    "                  metrics=['accuracy'])\n",
    "    \n",
    "    # train model\n",
    "\n",
    "    model.fit(X_train,\n",
    "              y_train,\n",
    "              epochs=50,\n",
    "              batch_size=256,\n",
    "              verbose=1,\n",
    "              validation_data=(X_test, y_test)\n",
    "              )\n",
    "    \n",
    "    # save model\n",
    "    save_tf_model(model, filepath)"
   ]
  },
  {
   "cell_type": "code",
<<<<<<< HEAD
   "execution_count": 16,
=======
   "execution_count": 9,
>>>>>>> 4accbb0b22b27aa5c684d652a52e25066ed1bb22
   "metadata": {},
   "outputs": [
    {
     "ename": "NameError",
     "evalue": "name 'X_val' is not defined",
     "output_type": "error",
     "traceback": [
<<<<<<< HEAD
      "\u001b[0;31m--------------------------------------------------------\u001b[0m",
      "\u001b[0;31mNameError\u001b[0m              Traceback (most recent call last)",
      "\u001b[0;32m<ipython-input-16-f6376469b80a>\u001b[0m in \u001b[0;36m<module>\u001b[0;34m\u001b[0m\n\u001b[1;32m      1\u001b[0m \u001b[0;31m# evaluate model\u001b[0m\u001b[0;34m\u001b[0m\u001b[0;34m\u001b[0m\u001b[0;34m\u001b[0m\u001b[0m\n\u001b[0;32m----> 2\u001b[0;31m \u001b[0mresults\u001b[0m \u001b[0;34m=\u001b[0m \u001b[0mmodel\u001b[0m\u001b[0;34m.\u001b[0m\u001b[0mevaluate\u001b[0m\u001b[0;34m(\u001b[0m\u001b[0mX_val\u001b[0m\u001b[0;34m,\u001b[0m \u001b[0my_val\u001b[0m\u001b[0;34m,\u001b[0m \u001b[0mbatch_size\u001b[0m\u001b[0;34m=\u001b[0m\u001b[0;36m256\u001b[0m\u001b[0;34m,\u001b[0m \u001b[0mverbose\u001b[0m\u001b[0;34m=\u001b[0m\u001b[0;36m0\u001b[0m\u001b[0;34m)\u001b[0m\u001b[0;34m\u001b[0m\u001b[0;34m\u001b[0m\u001b[0m\n\u001b[0m\u001b[1;32m      3\u001b[0m \u001b[0mprint\u001b[0m\u001b[0;34m(\u001b[0m\u001b[0;34m'Test loss: {:.4f} -- accuracy: {:.4f}'\u001b[0m\u001b[0;34m.\u001b[0m\u001b[0mformat\u001b[0m\u001b[0;34m(\u001b[0m\u001b[0mresults\u001b[0m\u001b[0;34m[\u001b[0m\u001b[0;36m0\u001b[0m\u001b[0;34m]\u001b[0m\u001b[0;34m,\u001b[0m \u001b[0mresults\u001b[0m\u001b[0;34m[\u001b[0m\u001b[0;36m1\u001b[0m\u001b[0;34m]\u001b[0m\u001b[0;34m)\u001b[0m\u001b[0;34m)\u001b[0m\u001b[0;34m\u001b[0m\u001b[0;34m\u001b[0m\u001b[0m\n",
=======
      "\u001b[0;31m---------------------------------------------------------------------------\u001b[0m",
      "\u001b[0;31mNameError\u001b[0m                                 Traceback (most recent call last)",
      "\u001b[0;32m<ipython-input-9-f6376469b80a>\u001b[0m in \u001b[0;36m<module>\u001b[0;34m\u001b[0m\n\u001b[1;32m      1\u001b[0m \u001b[0;31m# evaluate model\u001b[0m\u001b[0;34m\u001b[0m\u001b[0;34m\u001b[0m\u001b[0;34m\u001b[0m\u001b[0m\n\u001b[0;32m----> 2\u001b[0;31m \u001b[0mresults\u001b[0m \u001b[0;34m=\u001b[0m \u001b[0mmodel\u001b[0m\u001b[0;34m.\u001b[0m\u001b[0mevaluate\u001b[0m\u001b[0;34m(\u001b[0m\u001b[0mX_val\u001b[0m\u001b[0;34m,\u001b[0m \u001b[0my_val\u001b[0m\u001b[0;34m,\u001b[0m \u001b[0mbatch_size\u001b[0m\u001b[0;34m=\u001b[0m\u001b[0;36m256\u001b[0m\u001b[0;34m,\u001b[0m \u001b[0mverbose\u001b[0m\u001b[0;34m=\u001b[0m\u001b[0;36m0\u001b[0m\u001b[0;34m)\u001b[0m\u001b[0;34m\u001b[0m\u001b[0;34m\u001b[0m\u001b[0m\n\u001b[0m\u001b[1;32m      3\u001b[0m \u001b[0mprint\u001b[0m\u001b[0;34m(\u001b[0m\u001b[0;34m'Test loss: {:.4f} -- accuracy: {:.4f}'\u001b[0m\u001b[0;34m.\u001b[0m\u001b[0mformat\u001b[0m\u001b[0;34m(\u001b[0m\u001b[0mresults\u001b[0m\u001b[0;34m[\u001b[0m\u001b[0;36m0\u001b[0m\u001b[0;34m]\u001b[0m\u001b[0;34m,\u001b[0m \u001b[0mresults\u001b[0m\u001b[0;34m[\u001b[0m\u001b[0;36m1\u001b[0m\u001b[0;34m]\u001b[0m\u001b[0;34m)\u001b[0m\u001b[0;34m)\u001b[0m\u001b[0;34m\u001b[0m\u001b[0;34m\u001b[0m\u001b[0m\n",
>>>>>>> 4accbb0b22b27aa5c684d652a52e25066ed1bb22
      "\u001b[0;31mNameError\u001b[0m: name 'X_val' is not defined"
     ]
    }
   ],
   "source": [
    "# evaluate model\n",
    "results = model.evaluate(X_val, y_val, batch_size=256, verbose=0)\n",
    "print('Test loss: {:.4f} -- accuracy: {:.4f}'.format(results[0], results[1]))"
   ]
  },
  {
   "cell_type": "code",
<<<<<<< HEAD
   "execution_count": 17,
=======
   "execution_count": 10,
>>>>>>> 4accbb0b22b27aa5c684d652a52e25066ed1bb22
   "metadata": {},
   "outputs": [
    {
     "name": "stdout",
     "output_type": "stream",
     "text": [
      "Test loss: 0.1986 -- accuracy: 0.9354\n"
     ]
    }
   ],
   "source": [
    "# evaluate model\n",
    "results = model.evaluate(X_test, y_test, batch_size=256, verbose=0)\n",
    "print('Test loss: {:.4f} -- accuracy: {:.4f}'.format(results[0], results[1]))"
   ]
  },
  {
   "cell_type": "code",
<<<<<<< HEAD
   "execution_count": 18,
=======
   "execution_count": 11,
>>>>>>> 4accbb0b22b27aa5c684d652a52e25066ed1bb22
   "metadata": {},
   "outputs": [
    {
     "name": "stdout",
     "output_type": "stream",
     "text": [
      "Model: \"model_6\"\n",
      "_________________________________________________________________\n",
      "Layer (type)                 Output Shape              Param #   \n",
      "=================================================================\n",
      "input_7 (InputLayer)         [(None, 28, 28, 1)]       0         \n",
      "_________________________________________________________________\n",
      "conv2d_21 (Conv2D)           (None, 28, 28, 64)        320       \n",
      "_________________________________________________________________\n",
      "conv2d_22 (Conv2D)           (None, 28, 28, 64)        16448     \n",
      "_________________________________________________________________\n",
      "max_pooling2d_13 (MaxPooling (None, 14, 14, 64)        0         \n",
      "_________________________________________________________________\n",
      "dropout_19 (Dropout)         (None, 14, 14, 64)        0         \n",
      "_________________________________________________________________\n",
      "conv2d_23 (Conv2D)           (None, 14, 14, 32)        8224      \n",
      "_________________________________________________________________\n",
      "conv2d_24 (Conv2D)           (None, 14, 14, 32)        4128      \n",
      "_________________________________________________________________\n",
      "max_pooling2d_14 (MaxPooling (None, 7, 7, 32)          0         \n",
      "_________________________________________________________________\n",
      "dropout_20 (Dropout)         (None, 7, 7, 32)          0         \n",
      "_________________________________________________________________\n",
      "flatten_6 (Flatten)          (None, 1568)              0         \n",
      "_________________________________________________________________\n",
      "dense_6 (Dense)              (None, 256)               401664    \n",
      "_________________________________________________________________\n",
      "dropout_21 (Dropout)         (None, 256)               0         \n",
      "_________________________________________________________________\n",
      "logits (Dense)               (None, 10)                2570      \n",
      "_________________________________________________________________\n",
      "softmax (Activation)         (None, 10)                0         \n",
      "=================================================================\n",
      "Total params: 433,354\n",
      "Trainable params: 433,354\n",
      "Non-trainable params: 0\n",
      "_________________________________________________________________\n"
     ]
    }
   ],
   "source": [
    "model.summary()"
   ]
  },
  {
   "cell_type": "code",
<<<<<<< HEAD
   "execution_count": 19,
=======
   "execution_count": 12,
>>>>>>> 4accbb0b22b27aa5c684d652a52e25066ed1bb22
   "metadata": {},
   "outputs": [],
   "source": [
    "probs = model(X_test).numpy()"
   ]
  },
  {
   "cell_type": "code",
<<<<<<< HEAD
   "execution_count": 20,
=======
   "execution_count": 13,
>>>>>>> 4accbb0b22b27aa5c684d652a52e25066ed1bb22
   "metadata": {},
   "outputs": [
    {
     "data": {
      "text/plain": [
       "(10000, 10)"
      ]
     },
<<<<<<< HEAD
     "execution_count": 20,
=======
     "execution_count": 13,
>>>>>>> 4accbb0b22b27aa5c684d652a52e25066ed1bb22
     "metadata": {},
     "output_type": "execute_result"
    }
   ],
   "source": [
    "probs.shape"
   ]
  },
  {
   "cell_type": "code",
<<<<<<< HEAD
   "execution_count": 21,
=======
   "execution_count": 14,
>>>>>>> 4accbb0b22b27aa5c684d652a52e25066ed1bb22
   "metadata": {},
   "outputs": [
    {
     "data": {
      "text/plain": [
       "0.9539994"
      ]
     },
<<<<<<< HEAD
     "execution_count": 21,
=======
     "execution_count": 14,
>>>>>>> 4accbb0b22b27aa5c684d652a52e25066ed1bb22
     "metadata": {},
     "output_type": "execute_result"
    }
   ],
   "source": [
    "probs.max(axis=1).mean()"
   ]
  },
  {
   "cell_type": "markdown",
   "metadata": {},
   "source": [
    "# Generate adversarial instances\n",
    "\n",
    "The `cleverhans` adversarial attack methods assume that the model outputs logits, so we will create a modified model by simply removing the softmax output layer:"
   ]
  },
  {
   "cell_type": "code",
   "execution_count": null,
   "metadata": {},
   "outputs": [],
   "source": []
  },
  {
   "cell_type": "code",
   "execution_count": 81,
   "metadata": {},
   "outputs": [],
   "source": [
    "def generate_adv_example(model, X_test, y_test, X_train,\n",
    "                         method = 'fgsm', ad_loss_w = 0.1, eps=2, eps_iter=1, nb_iter=10,\n",
    "                         nb_adv = 1000, ad=ad):\n",
    "    \n",
    "    model_logits = Model(inputs=model.inputs, outputs=model.layers[-2].output)\n",
    "    \n",
    "    ids = np.arange(nb_adv)\n",
    "    np.random.shuffle(ids)\n",
    "    X_to_adv = X_test[ids]\n",
    "    y_adv = y_test[ids]\n",
    "    #print(X_to_adv.shape)\n",
    "    \n",
    "    if method == 'pfgsm':\n",
    "        X_adv = projected_gradient_descent(model_logits, ad, ad_loss_w,\n",
    "                                   X_to_adv,\n",
    "                                   eps=eps,\n",
    "                                   eps_iter=eps_iter,\n",
    "                                   nb_iter=nb_iter,\n",
    "                                   norm=2,\n",
    "                                   clip_min=X_train.min(),\n",
    "                                   clip_max=X_train.max(),\n",
    "                                   rand_init=None,\n",
    "                                   rand_minmax=.3,\n",
    "                                   targeted=False,\n",
    "                                   sanity_checks=False\n",
    "                                  ).numpy()\n",
    "    elif method == 'fgsm':\n",
    "        X_adv = fast_gradient_method(model_logits, \n",
    "                                     X_to_adv, \n",
    "                                     eps=eps, \n",
    "                                     norm=2, \n",
    "                                     clip_min=X_train.min(), \n",
    "                                     clip_max=X_train.max(), \n",
    "                                     y=None,\n",
    "                                     targeted=False, \n",
    "                                     sanity_checks=False).numpy()\n",
    "    \n",
    "    return X_to_adv, X_adv, np.argmax(y_adv, axis=1)\n",
    "\n",
    "def generate_adv_set(X_to_adv, X_adv):\n",
    "    y_pred = np.argmax(model(X_to_adv).numpy(), axis=-1)\n",
    "    y_pred_adv = np.argmax(model(X_adv).numpy(), axis=-1)\n",
    "    \n",
    "    X_to_adv = X_to_adv[(y_pred != y_pred_adv)]\n",
    "    X_adv = X_adv[(y_pred != y_pred_adv)]\n",
    "    \n",
    "    y_pred = ad.predict(X_to_adv)['data']['is_adversarial']\n",
    "    y_pred_adv = ad.predict(X_adv)['data']['is_adversarial']\n",
    "    \n",
    "    y_val = np.concatenate((np.zeros(len(X_to_adv)), np.ones(len(X_adv))))\n",
    "    preds_val = np.concatenate([y_pred, y_pred_adv], axis=0)\n",
    "    #print(X_val.shape, y_val.shape)\n",
    "    \n",
    "    return preds_val, y_val\n"
   ]
  },
  {
   "cell_type": "code",
   "execution_count": 22,
   "metadata": {},
   "outputs": [],
   "source": [
    "model_logits = Model(inputs=model.inputs, outputs=model.layers[-2].output)"
   ]
  },
  {
   "cell_type": "code",
   "execution_count": 23,
   "metadata": {},
   "outputs": [
    {
     "name": "stdout",
     "output_type": "stream",
     "text": [
      "(1000, 28, 28, 1)\n"
     ]
    }
   ],
   "source": [
    "nb_adv = 1000\n",
    "ids = np.arange(nb_adv)\n",
    "np.random.shuffle(ids)\n",
    "X_to_adv = X_test[ids]\n",
    "y_adv = y_test[ids]\n",
    "print(X_to_adv.shape)"
   ]
  },
  {
   "cell_type": "code",
   "execution_count": 24,
   "metadata": {},
   "outputs": [],
   "source": [
    "X_adv = projected_gradient_descent(model_logits, None, 0,\n",
    "                                   X_to_adv,\n",
    "                                   eps=2.,\n",
    "                                   eps_iter=1.,\n",
    "                                   nb_iter=10,\n",
    "                                   norm=2,\n",
    "                                   clip_min=X_train.min(),\n",
    "                                   clip_max=X_train.max(),\n",
    "                                   rand_init=None,\n",
    "                                   rand_minmax=.3,\n",
    "                                   targeted=False,\n",
    "                                   sanity_checks=False\n",
    "                                  ).numpy()"
   ]
  },
  {
   "cell_type": "code",
   "execution_count": 25,
   "metadata": {},
   "outputs": [
    {
     "data": {
      "image/png": "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\n",
      "text/plain": [
       "<Figure size 1080x1440 with 20 Axes>"
      ]
     },
     "metadata": {
      "needs_background": "light"
     },
     "output_type": "display_data"
    }
   ],
   "source": [
    "y_pred = np.argmax(model(X_to_adv).numpy(), axis=-1)\n",
    "y_pred_adv = np.argmax(model(X_adv).numpy(), axis=-1)\n",
    "meta_folder=\"../data/traffic/meta/\"\n",
    "\n",
    "n_rows = 5\n",
    "n_cols = 4\n",
    "figsize = (15, 20)\n",
    "img_shape = (28, 28)\n",
    "\n",
    "fig5 = plt.figure(constrained_layout=False, figsize=figsize)\n",
    "widths = [5, 1, 5, 1]\n",
    "heights = [5, 5, 5, 5, 5]\n",
    "spec5 = fig5.add_gridspec(ncols=4, nrows=5, width_ratios=widths,\n",
    "                          height_ratios=heights)\n",
    "\n",
    "for row in range(n_rows):\n",
    "    ax_0 = fig5.add_subplot(spec5[row, 0])    \n",
    "    ax_0.imshow(X_to_adv[row].reshape(img_shape))\n",
    "    if row == 0:\n",
    "        ax_0.title.set_text('Original')\n",
    "    ax_0.axis('off')\n",
    "    \n",
    "    ax_1 = fig5.add_subplot(spec5[row, 1])\n",
    "    #class_image=cv2.imread(meta_folder+\"{}.png\".format(y_pred[row]))\n",
    "    #image = Image.fromarray(class_image, 'RGB')\n",
    "    #image = np.array(image)\n",
    "    #ax_1.imshow(image)\n",
    "    ax_1.title.set_text('Pred original: {}'.format(y_pred[row]))\n",
    "    ax_1.axis('off')\n",
    "    \n",
    "    ax_2 = fig5.add_subplot(spec5[row, 2])\n",
    "    ax_2.imshow(X_adv[row].reshape(img_shape))\n",
    "    if row == 0:\n",
    "        ax_2.title.set_text('Adversarial')\n",
    "    ax_2.axis('off')\n",
    "    \n",
    "    ax_3 = fig5.add_subplot(spec5[row, 3])\n",
    "    #class_image_adv=cv2.imread(meta_folder+\"{}.png\".format(y_pred_adv[row]))\n",
    "    #image_adv = Image.fromarray(class_image_adv, 'RGB')\n",
    "    #image_adv = np.array(image_adv)   \n",
    "    #ax_3.imshow(image_adv)\n",
    "    ax_3.title.set_text('Pred adversarial: {}'.format(y_pred_adv[row]))\n",
    "    ax_3.axis('off')\n",
    "        #label = 'Width: {}\\nHeight: {}'.format(widths[col], heights[row])\n",
    "        #ax.annotate(label, (0.1, 0.5), xycoords='axes fraction', va='center')"
   ]
  },
  {
   "cell_type": "code",
   "execution_count": 26,
   "metadata": {},
   "outputs": [],
   "source": [
    "y_pred = np.argmax(model(X_to_adv).numpy(), axis=-1)\n",
    "y_pred_adv = np.argmax(model(X_adv).numpy(), axis=-1)\n",
    "\n",
    "X_to_adv = X_to_adv[(y_pred != y_pred_adv)]\n",
    "X_adv = X_adv[(y_pred != y_pred_adv)]\n",
    "y_adv = y_adv[(y_pred != y_pred_adv)]\n",
    "y_adv = np.argmax(y_adv, axis=1)"
   ]
  },
  {
   "cell_type": "code",
   "execution_count": null,
   "metadata": {},
   "outputs": [],
   "source": []
  },
  {
   "cell_type": "code",
   "execution_count": 27,
   "metadata": {},
   "outputs": [
    {
     "name": "stdout",
     "output_type": "stream",
     "text": [
      "(1606, 28, 28, 1) (1606,) (803,)\n"
     ]
    }
   ],
   "source": [
    "y_val = np.concatenate((np.zeros(len(X_to_adv)), np.ones(len(X_adv))))\n",
    "X_val = np.concatenate([X_to_adv, X_adv], axis=0)\n",
    "print(X_val.shape, y_val.shape, y_adv.shape)"
   ]
  },
  {
   "cell_type": "code",
   "execution_count": 28,
   "metadata": {},
   "outputs": [],
   "source": [
    "nb_adv = int(X_val.shape[0] / 2)"
   ]
  },
  {
   "cell_type": "markdown",
   "metadata": {},
   "source": [
    "# Adversarial detection "
   ]
  },
  {
   "cell_type": "markdown",
   "metadata": {},
   "source": [
    "## Adversarial VAE for MNIST\n",
    "\n",
    "You can again either manually download the relevant files in the [ad_vae_mnist](https://console.cloud.google.com/storage/browser/seldon-models/alibi-detect/ad_vae_mnist/) folder to e.g. the local directory ```my_dir``` or use ```gsutil```:\n",
    "\n",
    "```bash\n",
    "!gsutil cp -r gs://seldon-models/alibi-detect/ad_vae_mnist my_dir\n",
    "```"
   ]
  },
  {
   "cell_type": "code",
   "execution_count": 29,
   "metadata": {},
   "outputs": [],
   "source": [
    "load_adversarial_detector = False"
   ]
  },
  {
   "cell_type": "markdown",
   "metadata": {},
   "source": [
    "### Run training cell"
   ]
  },
  {
   "cell_type": "markdown",
   "metadata": {},
   "source": [
    "---"
   ]
  },
  {
   "cell_type": "code",
   "execution_count": 30,
   "metadata": {},
   "outputs": [
    {
     "data": {
      "text/plain": [
       "'/home/gio/experiments/mnist/model_0/'"
      ]
     },
     "execution_count": 30,
     "metadata": {},
     "output_type": "execute_result"
    }
   ],
   "source": [
    "filepath"
   ]
  },
  {
   "cell_type": "code",
   "execution_count": 85,
   "metadata": {},
   "outputs": [
    {
     "name": "stdout",
     "output_type": "stream",
     "text": [
      "Creating log dir: /home/gio/experiments/mnist/model_0/vae_0/47\n",
      "938/938 [=] - 37s 39ms/step - loss: 0.4677\n",
      "Accuracy improved from 0 to 0.8213. Saving model in /home/gio/experiments/mnist/model_0/vae_0/47/best.ckpt\n",
      "939/938 [=] - 37s 40ms/step - loss: 0.4676 - detection_acc: 0.8213 - detection_f1: 0.7983\n",
      "938/938 [=] - 37s 40ms/step - loss: 0.2089\n",
      "Accuracy improved from 0.8213 to 0.8481. Saving model in /home/gio/experiments/mnist/model_0/vae_0/47/best.ckpt\n",
      "939/938 [=] - 38s 40ms/step - loss: 0.2089 - detection_acc: 0.8481 - detection_f1: 0.8481\n",
      "938/938 [=] - 36s 38ms/step - loss: 0.1627\n",
      "Accuracy did not improve. Saving model in /home/gio/experiments/mnist/model_0/vae_0/47/best.ckpt anyway\n",
      "939/938 [=] - 37s 39ms/step - loss: 0.1628 - detection_acc: 0.8369 - detection_f1: 0.8331\n",
      "938/938 [=] - 37s 40ms/step - loss: 0.1319\n",
      "Accuracy did not improve. Saving model in /home/gio/experiments/mnist/model_0/vae_0/47/best.ckpt anyway\n",
      "939/938 [=] - 38s 41ms/step - loss: 0.1318 - detection_acc: 0.8070 - detection_f1: 0.8212\n",
      "938/938 [=] - 37s 39ms/step - loss: 0.1133\n",
      "Accuracy did not improve. Saving model in /home/gio/experiments/mnist/model_0/vae_0/47/best.ckpt anyway\n",
      "939/938 [=] - 38s 40ms/step - loss: 0.1133 - detection_acc: 0.8232 - detection_f1: 0.8223\n",
      "938/938 [=] - 37s 39ms/step - loss: 0.0931\n",
      "Accuracy did not improve. Saving model in /home/gio/experiments/mnist/model_0/vae_0/47/best.ckpt anyway\n",
      "939/938 [=] - 38s 40ms/step - loss: 0.0930 - detection_acc: 0.7858 - detection_f1: 0.7962\n",
      "938/938 [=] - 37s 39ms/step - loss: 0.0752\n",
      "Accuracy did not improve. Saving model in /home/gio/experiments/mnist/model_0/vae_0/47/best.ckpt anyway\n",
      "939/938 [=] - 37s 40ms/step - loss: 0.0752 - detection_acc: 0.8039 - detection_f1: 0.7844\n",
      "938/938 [=] - 37s 40ms/step - loss: 0.0685\n",
      "Accuracy did not improve. Saving model in /home/gio/experiments/mnist/model_0/vae_0/47/best.ckpt anyway\n",
      "939/938 [=] - 38s 40ms/step - loss: 0.0685 - detection_acc: 0.7914 - detection_f1: 0.8067\n",
      "938/938 [=] - 37s 39ms/step - loss: 0.0592\n",
      "Accuracy did not improve. Saving model in /home/gio/experiments/mnist/model_0/vae_0/47/best.ckpt anyway\n",
      "939/938 [=] - 38s 40ms/step - loss: 0.0592 - detection_acc: 0.8070 - detection_f1: 0.8043\n",
      "938/938 [=] - 37s 39ms/step - loss: 0.0467\n",
      "Accuracy did not improve. Saving model in /home/gio/experiments/mnist/model_0/vae_0/47/best.ckpt anyway\n",
      "939/938 [=] - 37s 40ms/step - loss: 0.0467 - detection_acc: 0.7945 - detection_f1: 0.8088\n"
     ]
    }
   ],
   "source": [
    "encoder_params = {'nb_filters_1': 64, 'nb_filters_2': 128, 'nb_filters_3': 512,\n",
    "               'kernel_1': 4, 'kernel_2': 4, 'kernel_3': 4,\n",
    "               'activation_1': 'relu', 'activation_2': 'relu', 'activation_3': 'relu',\n",
    "                'padding_1': 'same', 'padding_2': 'same', 'padding_3': 'same'}\n",
    "decoder_params = {'nb_filters_1': 64, 'nb_filters_2': 32, 'nb_filters_3': 1,\n",
    "               'kernel_1': 3, 'kernel_2': 3, 'kernel_3': 3, \n",
    "               'activation_1': 'relu', 'activation_2': 'relu', 'activation_3': 'sigmoid',\n",
    "               'padding_1': 'same', 'padding_2': 'same', 'padding_3': 'same',}\n",
    "vae_params = {'latent_dim': 160, 'optimizer': 'Adam'}\n",
    "\n",
    "filepath = detector_dir # change to directory where model is downloaded\n",
    "if load_adversarial_detector:  # load pretrained adversarial detector\n",
    "    ad = load_detector(filepath)\n",
    "else:  # define model, initialize, train and save adversarial detector\n",
    "    latent_dim = vae_params['latent_dim']\n",
    "    alpha = 0.\n",
    "    encoder_net = tf.keras.Sequential(\n",
    "      [\n",
    "          InputLayer(input_shape=(28, 28, 1)),\n",
    "          Conv2D(encoder_params['nb_filters_1'], encoder_params['kernel_1'], strides=2, \n",
    "                 padding=encoder_params['padding_1'], activation=encoder_params['activation_1'],\n",
    "                kernel_regularizer=l2(alpha)),\n",
    "          Conv2D(encoder_params['nb_filters_2'], encoder_params['kernel_2'], strides=2, \n",
    "                 padding=encoder_params['padding_1'], activation=encoder_params['activation_2'],\n",
    "                kernel_regularizer=l2(alpha)),\n",
    "          Conv2D(encoder_params['nb_filters_3'], encoder_params['kernel_3'], strides=2, \n",
    "                 padding=encoder_params['padding_1'], activation=encoder_params['activation_3'],\n",
    "                kernel_regularizer=l2(alpha))\n",
    "      ])\n",
    "    \n",
    "    decoder_net = tf.keras.Sequential(\n",
    "      [\n",
    "          InputLayer(input_shape=(latent_dim,)),\n",
    "          Dense(7*7*28, activation=tf.nn.relu),\n",
    "          Reshape(target_shape=(7, 7, 28)),\n",
    "          Conv2DTranspose(decoder_params['nb_filters_1'], decoder_params['kernel_1'], strides=2, \n",
    "                         padding=decoder_params['padding_1'], activation=decoder_params['activation_1'],\n",
    "                         kernel_regularizer=l2(alpha)),\n",
    "          Conv2DTranspose(decoder_params['nb_filters_2'], decoder_params['kernel_2'], strides=2, \n",
    "                          padding=decoder_params['padding_1'], activation=decoder_params['activation_2'],\n",
    "                         kernel_regularizer=l2(alpha)),\n",
    "          Conv2DTranspose(decoder_params['nb_filters_3'], decoder_params['kernel_3'], strides=1, \n",
    "                          padding=decoder_params['padding_1'], activation=decoder_params['activation_3'],\n",
    "                         kernel_regularizer=l2(alpha))\n",
    "      ])\n",
    "\n",
    "    runs = next(os.walk(log_dir))[1]\n",
    "    run_id = 0\n",
    "    while str(run_id) in runs:\n",
    "        run_id += 1\n",
    "        if run_id > 100:\n",
    "            break\n",
    "    run_dir = log_dir + str(run_id)\n",
    "    print('Creating log dir:', run_dir)\n",
    "    if not os.path.exists(run_dir):\n",
    "        os.makedirs(run_dir)    \n",
    "    \n",
    "    if vae_params['optimizer'] == 'Adam':\n",
    "        opt = Adam()\n",
    "    elif vae_params['optimizer'] == 'Nadam':\n",
    "        opt = Nadam()\n",
    "    elif vae_params['optimizer'] == 'RMSprop':\n",
    "        opt = RMSprop()\n",
    "    elif vae_params['optimizer'] == 'SGD':\n",
    "        opt = SGD(momentum=0.9)\n",
    "        \n",
    "    # initialize adversarial detector\n",
    "    ad = AdversarialVAE(threshold=.5,  # threshold for adversarial score\n",
    "                        model=model,\n",
    "                        encoder_net=encoder_net,  # can also pass VAE model instead\n",
    "                        decoder_net=decoder_net,  # of separate encoder and decoder\n",
    "                        latent_dim=latent_dim,\n",
    "                        samples=2,  # nb of samples drawn by VAE\n",
    "                        beta=0.  # weight on KL-divergence loss term of latent space\n",
    "                       )\n",
    "    \n",
    "    # train\n",
    "    ad.fit(X_train,\n",
    "           validation_data=(X_test[:1000], None),\n",
    "           adversarial_data=(X_val, y_val),\n",
    "           loss_fn=loss_adv_vae,\n",
    "           w_model=1.,  # weight on KL-divergence loss term of model predictions\n",
    "           w_recon=0.,  # weight on elbo loss term\n",
    "           optimizer=opt,\n",
    "           epochs=10,\n",
    "           verbose=True,\n",
    "          log_metric_val='acc',\n",
    "          log_dir=run_dir)\n",
    "    \n",
    "    # save the trained outlier detector\n",
    "    save_detector(ad, filepath)\n",
    "    \n",
    "    with open(os.path.join(run_dir,'encoder_params.json'), 'w') as f:\n",
    "        json.dump(encoder_params, f)\n",
    "        f.close()\n",
    "    with open(os.path.join(run_dir,'decoder_params.json'), 'w') as f:\n",
    "        json.dump(decoder_params, f)\n",
    "        f.close()\n",
    "    with open(os.path.join(run_dir,'vae_params.json'), 'w') as f:\n",
    "        json.dump(vae_params, f)\n",
    "        f.close()"
   ]
  },
  {
   "cell_type": "markdown",
   "metadata": {},
   "source": [
    "---"
   ]
  },
  {
   "cell_type": "code",
   "execution_count": 86,
   "metadata": {},
   "outputs": [],
   "source": [
    "df_adv_scores = pd.read_csv('/home/gio/experiments/mnist/model_0/vae_0/47/adv_scores.csv')\n",
    "df_scores = pd.read_csv('/home/gio/experiments/mnist/model_0/vae_0/47/scores.csv')\n",
    "df_losses = pd.read_csv('/home/gio/experiments/mnist/model_0/vae_0/47/losses.csv')"
   ]
  },
  {
   "cell_type": "code",
   "execution_count": 87,
   "metadata": {},
   "outputs": [
    {
     "data": {
      "text/plain": [
       "<matplotlib.axes._subplots.AxesSubplot at 0x7fb830484748>"
      ]
     },
     "execution_count": 87,
     "metadata": {},
     "output_type": "execute_result"
    },
    {
     "data": {
      "image/png": "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\n",
      "text/plain": [
       "<Figure size 720x576 with 1 Axes>"
      ]
     },
     "metadata": {
      "needs_background": "light"
     },
     "output_type": "display_data"
    }
   ],
   "source": [
    "df_scores[['acc', 'f1']].plot(figsize=(10, 8))"
   ]
  },
  {
   "cell_type": "code",
   "execution_count": 88,
   "metadata": {},
   "outputs": [
    {
     "data": {
      "text/plain": [
       "<matplotlib.axes._subplots.AxesSubplot at 0x7fb7c4f2a7b8>"
      ]
     },
     "execution_count": 88,
     "metadata": {},
     "output_type": "execute_result"
    },
    {
     "data": {
      "image/png": "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\n",
      "text/plain": [
       "<Figure size 720x576 with 1 Axes>"
      ]
     },
     "metadata": {
      "needs_background": "light"
     },
     "output_type": "display_data"
    }
   ],
   "source": [
    "df_losses.plot(figsize=(10, 8))"
   ]
  },
  {
   "cell_type": "code",
   "execution_count": 89,
   "metadata": {},
   "outputs": [],
   "source": [
    "#df_adv_scores[df_adv_scores['labels']==0].mean()"
   ]
  },
  {
   "cell_type": "code",
   "execution_count": 90,
   "metadata": {},
   "outputs": [],
   "source": [
    "#df_adv_scores[df_adv_scores['labels']==1].mean()"
   ]
  },
  {
   "cell_type": "markdown",
   "metadata": {},
   "source": [
    "## Detect adversarial instances"
   ]
  },
  {
   "cell_type": "code",
   "execution_count": 91,
   "metadata": {},
   "outputs": [
    {
     "data": {
      "text/plain": [
       "0.210069428384304"
      ]
     },
     "execution_count": 91,
     "metadata": {},
     "output_type": "execute_result"
    }
   ],
   "source": [
    "ad.vae.load_weights('/home/gio/experiments/mnist/model_0/vae_0/47/best.ckpt')\n",
    "ad.infer_threshold(X_train[:2000], threshold_perc=95.)\n",
    "ad.threshold"
   ]
  },
  {
   "cell_type": "code",
   "execution_count": 118,
   "metadata": {},
   "outputs": [
    {
     "name": "stdout",
     "output_type": "stream",
     "text": [
      "Attacking ...\n",
      "Done!\n"
     ]
    }
   ],
   "source": [
    "loss_ws, accs_no_attack, accs_attack, accs_defence = [], [], [], []\n",
    "print('Attacking ...')\n",
    "for loss_w in np.arange(0., 1.0, 0.1):\n",
    "    #print('ad loss weight:', loss_w)\n",
    "    X_to_adv, X_adv, y_adv = generate_adv_example(model, X_test, y_test, X_train, method='pfgsm', \n",
    "                                                  ad_loss_w=loss_w, eps=2, eps_iter=1., ad=ad)\n",
    "\n",
    "    preds_xtoadv = np.argmax(model(X_to_adv).numpy(), axis=1)\n",
    "    preds_adv = np.argmax(model(X_adv).numpy(), axis=1)\n",
    "    #X_concat = np.concatenate((X_to_adv, X_adv))\n",
    "    #preds_concat = np.concatenate((preds_xtoadv, preds_adv))\n",
    "    #y_adv_concat = np. concatenate((y_adv, y_adv))\n",
    "    \n",
    "    loss_ws.append(loss_w)\n",
    "    accs_no_attack.append(accuracy_score(preds_xtoadv, y_adv))\n",
    "    accs_attack.append(accuracy_score(preds_adv, y_adv))\n",
    "    \n",
    "    nb_rep = 10\n",
    "    nb_classes = 10\n",
    "    nb_samples = len(X_adv)\n",
    "    concatenation = tuple([X_adv for _ in range(nb_rep)])\n",
    "    shape_0 = (X_adv.shape[0], nb_rep) + X_adv.shape[1:]\n",
    "    X_adv_conc = np.concatenate(concatenation, axis=1).reshape(shape_0)\n",
    "    shape_1 = (X_adv_conc.shape[0] * X_adv_conc.shape[1], ) + X_adv_conc.shape[2:]\n",
    "    X_adv_fin = X_adv_conc.reshape(shape_1)\n",
    "    \n",
    "    preds_adv_trans = model.predict(ad.vae(X_adv_fin).numpy())\n",
    "    preds_adv_trans = preds_adv_trans.reshape(nb_samples, nb_rep, nb_classes)\n",
    "    #preds_fin = mode(np. argmax(preds_adv_trans, axis=1), axis=1)[0]\n",
    "    preds_fin = np.mean(preds_adv_trans, axis=1)\n",
    "    preds_fin = np.argmax(preds_fin, axis=1)\n",
    "\n",
    "    accs_defence.append(accuracy_score(preds_fin, y_adv))\n",
    "print('Done!')\n",
    "df = pd.DataFrame()\n",
    "df['loss_w'] = loss_ws\n",
    "df['acc_no_attack'] = accs_no_attack\n",
    "df['acc_attack'] = accs_attack\n",
    "df['acc_defence'] = accs_defence\n",
    "df.set_index('loss_w', inplace=True)"
   ]
  },
  {
   "cell_type": "code",
   "execution_count": 119,
   "metadata": {},
   "outputs": [
    {
     "data": {
      "text/plain": [
       "<matplotlib.axes._subplots.AxesSubplot at 0x7fb746854438>"
      ]
     },
     "execution_count": 119,
     "metadata": {},
     "output_type": "execute_result"
    },
    {
     "data": {
      "image/png": "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\n",
      "text/plain": [
       "<Figure size 1080x576 with 1 Axes>"
      ]
     },
     "metadata": {
      "needs_background": "light"
     },
     "output_type": "display_data"
    }
   ],
   "source": [
    "df.plot(figsize=(15, 8))"
   ]
  },
  {
   "cell_type": "code",
   "execution_count": 120,
   "metadata": {},
   "outputs": [],
   "source": [
    "ad_preds = ad.predict(X_val, return_instance_score=True)\n",
    "y_pred = ad_preds['data']['is_adversarial']"
   ]
  },
  {
   "cell_type": "code",
   "execution_count": 121,
   "metadata": {},
   "outputs": [
    {
     "data": {
      "image/png": "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\n",
      "text/plain": [
       "<Figure size 432x288 with 1 Axes>"
      ]
     },
     "metadata": {
      "needs_background": "light"
     },
     "output_type": "display_data"
    }
   ],
   "source": [
    "labels = ['Normal', 'Adversarial']\n",
    "target = np.array([0 if i < X_to_adv.shape[0] else 1 for i in range(X_val.shape[0])])\n",
    "plot_instance_score(ad_preds, target, labels, ad.threshold)"
   ]
  },
  {
   "cell_type": "code",
   "execution_count": 122,
   "metadata": {},
   "outputs": [
    {
     "data": {
      "text/plain": [
       "0.7851805728518058"
      ]
     },
     "execution_count": 122,
     "metadata": {},
     "output_type": "execute_result"
    }
   ],
   "source": [
    "accuracy_score(y_val, y_pred)"
   ]
  },
  {
   "cell_type": "code",
   "execution_count": 123,
   "metadata": {},
   "outputs": [
    {
     "data": {
      "image/png": "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\n",
      "text/plain": [
       "<Figure size 1080x1440 with 20 Axes>"
      ]
     },
     "metadata": {
      "needs_background": "light"
     },
     "output_type": "display_data"
    }
   ],
   "source": [
    "scores = ad_preds['data']['instance_score']\n",
    "fig5 = plt.figure(constrained_layout=False, figsize=figsize)\n",
    "widths = [5, 1, 5, 1]\n",
    "heights = [5, 5, 5, 5, 5]\n",
    "spec5 = fig5.add_gridspec(ncols=4, nrows=5, width_ratios=widths,\n",
    "                          height_ratios=heights)\n",
    "\n",
    "for row in range(n_rows):\n",
    "    ax_0 = fig5.add_subplot(spec5[row, 0])    \n",
    "    ax_0.imshow(X_to_adv[row].reshape(img_shape))\n",
    "    if row == 0:\n",
    "        ax_0.title.set_text('Original')  \n",
    "    ax_0.axis('off')\n",
    "    \n",
    "    ax_1 = fig5.add_subplot(spec5[row, 1])\n",
    "    #class_image=cv2.imread(meta_folder+\"{}.png\".format(y_pred[row]))\n",
    "    #image = Image.fromarray(class_image, 'RGB')\n",
    "    #image = np.array(image)\n",
    "    #ax_1.imshow(image)\n",
    "    ax_1.title.set_text('Pred original: {}'\n",
    "                  '\\nAdv score: {:.4f}'.format(y_pred[row], scores[row]))    \n",
    "    ax_1.axis('off')\n",
    "    \n",
    "    ax_2 = fig5.add_subplot(spec5[row, 2])\n",
    "    ax_2.imshow(X_adv[row].reshape(img_shape))\n",
    "    if row == 0:\n",
    "        ax_2.title.set_text('Adversarial')\n",
    "    ax_2.axis('off')\n",
    "    \n",
    "    ax_3 = fig5.add_subplot(spec5[row, 3])\n",
    "    #class_image_adv=cv2.imread(meta_folder+\"{}.png\".format(y_pred_adv[row]))\n",
    "    #image_adv = Image.fromarray(class_image_adv, 'RGB')\n",
    "    #image_adv = np.array(image_adv)   \n",
    "    #ax_3.imshow(image_adv)\n",
    "    ax_3.title.set_text('Pred Adversarial: {}'\n",
    "                  '\\nAdv score: {:.4f}'.format(y_pred_adv[row], scores[row + nb_adv]))    \n",
    "    ax_3.axis('off')\n",
    "        #label = 'Width: {}\\nHeight: {}'.format(widths[col], heights[row])\n",
    "        #ax.annotate(label, (0.1, 0.5), xycoords='axes fraction', va='center')"
   ]
  },
  {
   "cell_type": "code",
   "execution_count": 124,
   "metadata": {},
   "outputs": [
    {
     "data": {
      "text/plain": [
       "803"
      ]
     },
     "execution_count": 124,
     "metadata": {},
     "output_type": "execute_result"
    }
   ],
   "source": [
    "nb_adv"
   ]
  },
  {
   "cell_type": "code",
   "execution_count": 125,
   "metadata": {},
   "outputs": [],
   "source": [
    "kl_test_dict = ad.predict(X_val[:nb_adv], return_instance_score=True)\n",
    "kl_test = kl_test_dict['data']['instance_score']\n",
    "kl_adv_dict = ad.predict(X_val[nb_adv:], return_instance_score=True)\n",
    "kl_adv = kl_adv_dict['data']['instance_score']\n",
    "\n",
    "kl_concat = np.concatenate((kl_test, kl_adv))\n",
    "tr = kl_test.shape[0]"
   ]
  },
  {
   "cell_type": "code",
   "execution_count": 126,
   "metadata": {},
   "outputs": [
    {
     "name": "stdout",
     "output_type": "stream",
     "text": [
      "(803,) (803,)\n",
      "0.13040303 0.5264132\n",
      "3.0169094 3.7319834\n"
     ]
    }
   ],
   "source": [
    "print(kl_test.shape, kl_adv.shape)\n",
    "print(kl_test.mean(), kl_test.std())\n",
    "print(kl_adv.mean(), kl_adv.std())"
   ]
  },
  {
   "cell_type": "markdown",
   "metadata": {},
   "source": [
    "### All samples"
   ]
  },
  {
   "cell_type": "code",
   "execution_count": null,
   "metadata": {},
   "outputs": [],
   "source": []
  },
  {
   "cell_type": "code",
   "execution_count": 50,
   "metadata": {},
   "outputs": [],
   "source": [
    "preds_ad_test = kl_test_dict['data']['is_adversarial']\n",
    "preds_ad_adv = kl_adv_dict['data']['is_adversarial']\n",
    "preds_ad = np.concatenate((preds_ad_test, preds_ad_adv))\n",
    "y_true_ad = np.concatenate((np.zeros(len(preds_ad_test)), np.ones(len(preds_ad_adv))))"
   ]
  },
  {
   "cell_type": "code",
   "execution_count": 51,
   "metadata": {},
   "outputs": [
    {
     "data": {
      "text/plain": [
       "(803,)"
      ]
     },
     "execution_count": 51,
     "metadata": {},
     "output_type": "execute_result"
    }
   ],
   "source": [
    "preds_ad_adv.shape"
   ]
  },
  {
   "cell_type": "code",
   "execution_count": 52,
   "metadata": {},
   "outputs": [
    {
     "name": "stdout",
     "output_type": "stream",
     "text": [
      "Adversarial detection accuracy: 0.7826899128268991\n"
     ]
    }
   ],
   "source": [
    "print('Adversarial detection accuracy:', accuracy_score(y_true_ad, preds_ad))"
   ]
  },
  {
   "cell_type": "code",
   "execution_count": 53,
   "metadata": {},
   "outputs": [
    {
     "name": "stdout",
     "output_type": "stream",
     "text": [
      "Adversarial detection f1: 0.7412898443291327\n"
     ]
    }
   ],
   "source": [
    "print('Adversarial detection f1:', f1_score(y_true_ad, preds_ad))"
   ]
  },
  {
   "cell_type": "code",
   "execution_count": 54,
   "metadata": {},
   "outputs": [
    {
     "name": "stdout",
     "output_type": "stream",
     "text": [
      "Adversarial detection confusion matrix:\n"
     ]
    },
    {
     "data": {
      "text/plain": [
       "array([[757,  46],\n",
       "       [303, 500]])"
      ]
     },
     "execution_count": 54,
     "metadata": {},
     "output_type": "execute_result"
    }
   ],
   "source": [
    "print('Adversarial detection confusion matrix:')\n",
    "confusion_matrix(y_true_ad, preds_ad)"
   ]
  },
  {
   "cell_type": "markdown",
   "metadata": {},
   "source": [
    "### 100 advesarial samples"
   ]
  },
  {
   "cell_type": "code",
   "execution_count": 55,
   "metadata": {},
   "outputs": [],
   "source": [
    "idx_sparse = np.random.permutation(len(preds_ad_adv))[:100]\n",
    "preds_ad_sparse = np.concatenate((preds_ad_test, preds_ad_adv[idx_sparse]))\n",
    "y_true_ad_sparse = np.concatenate((np.zeros(len(preds_ad_test)), np.ones(len(preds_ad_adv[idx_sparse]))))"
   ]
  },
  {
   "cell_type": "code",
   "execution_count": 56,
   "metadata": {},
   "outputs": [
    {
     "name": "stdout",
     "output_type": "stream",
     "text": [
      "Adversarial detection accuracy: 0.9102990033222591\n"
     ]
    }
   ],
   "source": [
    "print('Adversarial detection accuracy:', accuracy_score(y_true_ad_sparse, preds_ad_sparse))"
   ]
  },
  {
   "cell_type": "code",
   "execution_count": 57,
   "metadata": {},
   "outputs": [
    {
     "name": "stdout",
     "output_type": "stream",
     "text": [
      "Adversarial detection f1: 0.6161137440758293\n"
     ]
    }
   ],
   "source": [
    "print('Adversarial detection f1:', f1_score(y_true_ad_sparse, preds_ad_sparse))"
   ]
  },
  {
   "cell_type": "code",
   "execution_count": 58,
   "metadata": {},
   "outputs": [
    {
     "name": "stdout",
     "output_type": "stream",
     "text": [
      "Adversarial detection confusion matrix:\n"
     ]
    },
    {
     "data": {
      "text/plain": [
       "array([[757,  46],\n",
       "       [ 35,  65]])"
      ]
     },
     "execution_count": 58,
     "metadata": {},
     "output_type": "execute_result"
    }
   ],
   "source": [
    "print('Adversarial detection confusion matrix:')\n",
    "confusion_matrix(y_true_ad_sparse, preds_ad_sparse)"
   ]
  },
  {
   "cell_type": "markdown",
   "metadata": {},
   "source": [
    "### 10 adversarial samples"
   ]
  },
  {
   "cell_type": "code",
   "execution_count": 59,
   "metadata": {},
   "outputs": [],
   "source": [
    "idx_sparse = np.random.permutation(len(preds_ad_adv))[:10]\n",
    "preds_ad_sparse = np.concatenate((preds_ad_test, preds_ad_adv[idx_sparse]))\n",
    "y_true_ad_sparse = np.concatenate((np.zeros(len(preds_ad_test)), np.ones(len(preds_ad_adv[idx_sparse]))))"
   ]
  },
  {
   "cell_type": "code",
   "execution_count": 60,
   "metadata": {},
   "outputs": [
    {
     "name": "stdout",
     "output_type": "stream",
     "text": [
      "Adversarial detection accuracy: 0.9384993849938499\n"
     ]
    }
   ],
   "source": [
    "print('Adversarial detection accuracy:', accuracy_score(y_true_ad_sparse, preds_ad_sparse))"
   ]
  },
  {
   "cell_type": "code",
   "execution_count": 61,
   "metadata": {},
   "outputs": [
    {
     "name": "stdout",
     "output_type": "stream",
     "text": [
      "Adversarial detection f1: 0.1935483870967742\n"
     ]
    }
   ],
   "source": [
    "print('Adversarial detection f1:', f1_score(y_true_ad_sparse, preds_ad_sparse))"
   ]
  },
  {
   "cell_type": "code",
   "execution_count": 62,
   "metadata": {},
   "outputs": [
    {
     "name": "stdout",
     "output_type": "stream",
     "text": [
      "Adversarial detection confusion matrix:\n"
     ]
    },
    {
     "data": {
      "text/plain": [
       "array([[757,  46],\n",
       "       [  4,   6]])"
      ]
     },
     "execution_count": 62,
     "metadata": {},
     "output_type": "execute_result"
    }
   ],
   "source": [
    "print('Adversarial detection confusion matrix:')\n",
    "confusion_matrix(y_true_ad_sparse, preds_ad_sparse)"
   ]
  },
  {
   "cell_type": "markdown",
   "metadata": {},
   "source": [
    "## Curves"
   ]
  },
  {
   "cell_type": "code",
   "execution_count": 63,
   "metadata": {},
   "outputs": [],
   "source": [
    "def predict_adv(x, tr):\n",
    "    return (x > tr).astype(int)\n",
    "\n",
    "def _calculate_perc(df_t, nb_sigmas=3):\n",
    "    sigma_plus = df_t['test'].mean() + (nb_sigmas * df_t['test'].std())\n",
    "    pc_sigma = percentileofscore(df_t['adv'], sigma_plus) * 0.01\n",
    "    perc = 1 - pc_sigma\n",
    "    return perc, sigma_plus\n",
    "\n",
    "def calculate_perc_nn(X_train, X_test, X_test_adv, predict_fn, nb_samples=100, nb_sigmas=3):\n",
    "    \n",
    "    X_train_samples = np.random.permutation(X_train)[:nb_samples]\n",
    "    preds_train = predict_fn(X_train_samples)\n",
    "    nn = NearestNeighbors()\n",
    "    nn.fit(preds_train)\n",
    "    \n",
    "    preds_test, preds_adv = predict_fn(X_test), predict_fn(X_test_adv)\n",
    "    dist_test, idx_test = nn.kneighbors(preds_test, n_neighbors=1)\n",
    "    dist_adv, idx_adv = nn.kneighbors(preds_adv, n_neighbors=1)\n",
    "\n",
    "    df_dist = pd.DataFrame()\n",
    "    df_dist['test'] = dist_test.flatten()\n",
    "    df_dist['adv'] = dist_adv.flatten()\n",
    "    \n",
    "    perc, sigma_plus = _calculate_perc(df_dist, nb_sigmas=nb_sigmas)\n",
    "    \n",
    "    return perc, df_dist, sigma_plus\n",
    "\n",
    "def predict_fn(x):\n",
    "    return model.predict(x)"
   ]
  },
  {
   "cell_type": "code",
   "execution_count": 64,
   "metadata": {},
   "outputs": [],
   "source": [
    "perm = np.random.permutation(range(len(kl_adv)))[:]\n",
    "x_kl = np.concatenate((kl_test, kl_adv[perm]))\n",
    "y_kl = np.concatenate((np.zeros(len(kl_test)), np.ones(len(kl_adv[perm]))))\n",
    "x_kl = x_kl / x_kl.max()"
   ]
  },
  {
   "cell_type": "code",
   "execution_count": 65,
   "metadata": {},
   "outputs": [],
   "source": [
    "perc, df_dist, sigma_plus = calculate_perc_nn(X_train, X_to_adv, X_adv, predict_fn, nb_samples=1000, nb_sigmas=5)\n",
    "dist_test, dist_adv = df_dist['test'].values, df_dist['adv'].values\n",
    "x_bl =  np.concatenate((dist_test, dist_adv[perm]))\n",
    "y_bl = np.concatenate((np.zeros(len(dist_test)), np.ones(len(dist_adv[perm]))))\n",
    "x_bl = x_bl / x_bl.max()"
   ]
  },
  {
   "cell_type": "markdown",
   "metadata": {},
   "source": [
    "### Precision recall curves"
   ]
  },
  {
   "cell_type": "code",
   "execution_count": 66,
   "metadata": {},
   "outputs": [
    {
     "name": "stdout",
     "output_type": "stream",
     "text": [
      "Naive detector baseline\n"
     ]
    },
    {
     "data": {
      "text/plain": [
       "(0.0, 1.0)"
      ]
     },
     "execution_count": 66,
     "metadata": {},
     "output_type": "execute_result"
    },
    {
     "data": {
      "image/png": "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\n",
      "text/plain": [
       "<Figure size 432x288 with 1 Axes>"
      ]
     },
     "metadata": {
      "needs_background": "light"
     },
     "output_type": "display_data"
    }
   ],
   "source": [
    "print('Naive detector baseline')\n",
    "precision_bl, recall_bl, thresholds_bl = precision_recall_curve(y_bl, x_bl)\n",
    "\n",
    "# In matplotlib < 1.5, plt.fill_between does not have a 'step' argument\n",
    "step_kwargs = ({'step': 'post'}\n",
    "               if 'step' in signature(plt.fill_between).parameters\n",
    "               else {})\n",
    "plt.step(recall_bl, precision_bl, color='b', alpha=0.2,\n",
    "         where='post')\n",
    "plt.fill_between(recall_bl, precision_bl, alpha=0.2, color='b', **step_kwargs)\n",
    "\n",
    "plt.xlabel('Recall')\n",
    "plt.ylabel('Precision')\n",
    "plt.ylim([0.0, 1.0])\n",
    "plt.xlim([0.0, 1.0])"
   ]
  },
  {
   "cell_type": "code",
   "execution_count": 67,
   "metadata": {},
   "outputs": [
    {
     "name": "stdout",
     "output_type": "stream",
     "text": [
      "Vae detector\n"
     ]
    },
    {
     "data": {
      "text/plain": [
       "(0.0, 1.0)"
      ]
     },
     "execution_count": 67,
     "metadata": {},
     "output_type": "execute_result"
    },
    {
     "data": {
      "image/png": "iVBORw0KGgoAAAANSUhEUgAAAYoAAAEKCAYAAAAMzhLIAAAABHNCSVQICAgIfAhkiAAAAAlwSFlzAAALEgAACxIB0t1+/AAAADh0RVh0U29mdHdhcmUAbWF0cGxvdGxpYiB2ZXJzaW9uMy4xLjEsIGh0dHA6Ly9tYXRwbG90bGliLm9yZy8QZhcZAAAeB0lEQVR4nO3dfZRU9Z3n8fe3q7qbxoZGeVIBAQ2giIjaURxn1YyJg5ws7u7kOJr1TMy64242TpLJTHadM3uSbGb37Jlks7MzE2cSZuIaPTsxmnNimMSHjQ/RTY44QAQfULSDCC1EQBBoaWi6+7t/fOumiqb7dtFdt6u6+LzOqdN1q27d+vUF7off4zV3R0REZCgN1S6AiIjUNgWFiIikUlCIiEgqBYWIiKRSUIiISCoFhYiIpMosKMzsHjPbbWYvD/G+mdlfmVmHmb1oZpdmVRYRERm5LGsU9wIrUt6/AVhQeNwB/G2GZRERkRHKLCjc/VlgX8ouNwL3eVgLTDGzs7Iqj4iIjEy+it89C9hRst1ZeG3XwB3N7A6i1sGECZMuO/vshRUpQFMTnHZaRQ4lIlLTNmzYsNfdp4/ks9UMChvktUHXE3H31cBqgAUL2v0v/3I9udzovryjA848E37nd0Z3HBGR8cDM3hrpZ6sZFJ3AnJLt2cDO4T7U0ABTp0J+lCX/1a/ABosqERE5TjWDYg1wp5k9AFwBHHD3E5qdsnb0KHR1wcGD0N0NPT3x2llnwTnnnPzx+vvjGMmjvx+OHIn3uruhtzeeHzpU3HfGDFi8uHK/Uzll7O+HXK4yYekex+vri+e9vfHTHY4di+/o74/nib6+2G5oiP16eoplcY9zlsvFfn19xWOef378bG6Ox8n8zkk53aGxUf9REClXZkFhZt8FrgWmmVkn8CWgEcDdvwk8AqwEOoDDwCezKstg+vpg/3742c8iKN5/P3729cVFa/p0+PjHT/xcchE7fDgCpbs7fvb0FF/r6YkL27FjsX3kSPw0K15A8/nY59AhmDgRWlvjc8mFNQmrGTMGL0Nvbzx6emL76NFiCB09Gj+T95LwO3as+Lm+Ppg8GZYtO34/syhvQ0OxzEnY5XLxO5oVf7fkQp6Ez8BHUtZkv9JHEi65XOzX1xcXcPf4jt7eYs3x0KF4vm1b9C01NsKCBcVzBcXjdXcfH07JsZM/9yRozjsv/pzz+eKficJD5ESZBYW73zLM+w58OqvvH447vPcebN0KLS1x0TzzzOjcfvPN4gX10CE4cCCCpLs7HocPx4WzuzteTy7QZnGBzeeLj5YWmDIlLkz5fFzgSpvNXn0V9u6Fn/wkLmxQvDBPmgRXX108fldX8YKfXPST/20fO1asxSSvNTYWL7Z9fcX/vedyEZLNzfDuu3Hs5PdNjp1cZPv6ihfS5PmxY3GxTsIgn49jJw8onofknCS/f/J6LlfcP9mn9GF2/EW7txdeey1+7toV52f79mKwJIGTfKa398QaU/L9e/bEe1u2xDmePj1+jwkT4OyzY7/+/jhGczOccUYx4AHa2hQocmqx8XY/ikWL2v2++9aPuo8Civ9zHejllyMELrgggiJ5JBfbfD4uIK2t8ZgwIbYbRjDY2D36S1pa4rhNTfHzxRejDMkF2axYC8nlio/GxuKFuKmpeEEufW+wcnV1wYYNMHNmbCfB1thYfAx1Ya8FSVNUacicjK4ueP31OM5pp0VY53JRu0vC78iROJ8zZx7ftNbWBrNmwdy5sT+cWIs6mWYxkbFgZhvcvX0kn61mH0XVpf2v8P3340KSz8eFYcaMCIVKBNTAMpw1yOyRiy+OAJk4MS46jY2MeqRXqdZWuOaayh1vrI32z6G1FS4dsBbA4cPxMwnFnh7YvLnY7JXLxXZra9REX345/ux6e4tBkgTFxIkwfz7MmXPid4uMN6d0UAxlyZJoXmlsrF4ZhgoQyU5SO0g0NsIHP3j8a/Pmxd+Nl16KIdb79hX/niS1vs7OONbrr0ettLUVli6N95P+GbPq/v0SORkKiiHoH7EMpbHxxNpIqcWLow9o7dqomTY1FcMj6fswi5pqa2s0g82eHbWY3t7oN0ma/tSEJbVAQSGSgdNPhxtuiNrD448Xm67cIxB+9asIhGTI7qRJ8f7RoxEO06bFfmecURycMGVKBItZNGlVuhlUZCj6qyaSoVwOVq488fWlSyMgGhpiVN3hwxEQ+/bFY+fO6GCfOjWC4eDBqJHk89F3smxZ1GqSUWyqeUiWFBQiVZKM1GpriwdEDWIwyfyQ3l5Yvz6GCu/ZU5w4eMEF0XkukoUaGewoImlyuWh2mjIFfuM3og9k794Ii40b4amnivNwRCpNNQqRcWbiRPjQh4rbLS3RVPXLXxaH577/fkwebG2N/g+R0VBQiIxzyUS/p5+OZqhkKZZk8uVNN0WYiIyUgkJknFu4MJafKV0+5r33Yp5HVxc8+ihcfnkMwRUZCfVRiNSByZOLy8nk8zG8tr09ahYdHbGW2MGD6seQkVGNQqRO5fNw3XXR2b1vH/zgB1HzmDy5OEfDLIbnTpkSI6i6umIOiFYFkFIKCpE6t2xZLCeydWtxAcqGhqh9JCsEt7QU16pqbIxlbGbOjLCZOVMrFZzqFBQip4CFC+OR6OqKn42NEQ6HDkVwHDgQS9+vWxfb/f1Rw1i2LO7fUSurB8vYUlCInIJaW4/fTkZFTZ4cS6gnN+d65ZUIj/374/4f06ZFs1RbW/HeJ/39xQUVm5uLtZQJE3TfjnqhoBCR4zQ0xIV/4sRYiv6dd2DTphhJ1dYWixyW3qPj8OHi8iLJzaqSm1xddFFxkcOmpmr/ZjJSCgoRSTVzJlx/fSwf8vbb0d/R31+shezYEZ3he/fGvg0NsHt3vN/ZGTeGamuLzvO5c2Nfhcb4oqAQkbLk83Ghnzv3+NcXLTpx3/7+CIk334waSUNDBMbmzXHr2SVLIkimTx+bssvoKChEpOIaGuCcc+IB0RS1Zw/84hdxn/bOzli/atUqhcV4oDEMIpK5XC7mcKxcGbWJ00+Pobo//WmshtvbW+0SShrVKERkTE2dGv0VO3fGY/fuWNDwox+N5impPQoKERlzZvCbvxlNUj//edQuHn44+j+amqL2MXVqDLdN5m5oDkf1KChEpGpyObj66ri/+LZtMXKqqSkCYsKEaKJKbs40dSrMmxejpmRsKShEpOqWL4+f/f0x3Patt6Lze/v2CI7e3piPsWkTXHhhzBTXPcPHjk61iNSMhobBh+D29sIbb0St49ixGHY7axZcfLH6NcaCgkJEal4+H/cFnzcvbtD07rvRCd7REffZuOSSaKaSbCgoRGTcaGmJIbYQ61C9/XY0Ue3cGUuqa3n0bGgcgYiMSxdeGEuLtLZGv8Zjj0V4aE5G5alGISLjWnt7zMPo6Iihth0dUbNYujRGTsnoKShEZNw777zoq3jqqVjltrMz7qtx3nlw/vmxPLq7lj0fKQWFiNSF5ma44YYIhE2bYNeuuAXsG2/AuefG0NvTTouRUs3N1S7t+KKgEJG6YhbzLCDmYbz2WtzB78iRmIvx6qsxgmrWrJjwN2OGZn0PR0EhInVr4Aq2zz0HBw9GaLz0UoTK0qXRzyFDU1CIyCkhl4v1pZIbMLlH7eLo0ahdaGjt0DKtcJnZCjPbYmYdZnbXIO+fY2ZPm9kLZvaima3MsjwiIskNmObNgwUL4p7gjz0WoeFe7dLVpsxqFGaWA+4GPgJ0AuvMbI27by7Z7T8DD7r735rZYuARYF5WZRIRKfWBD0ST1PbtcW+Mnp4Ij5YWjZAqlWXT0+VAh7tvBTCzB4AbgdKgcGBy4XkbsDPD8oiInGDRolj+44UXYONGePHFWOZ8/nyYM0cjpCDboJgF7CjZ7gSuGLDPl4H/a2Z/AJwGfHiwA5nZHcAdADNnnlPxgorIqW3GDFi4MJYC6eqKdaS2b4fJk4ujo6ZOjQBpba12acdelkExWMVtYAvgLcC97v51M7sSuN/Mlrh7/3Efcl8NrAZYtKhdrYgiUnHz58cDYjjtpk3wzjtxU6X+/miOam6G3/qtqGmcSrIMik6g9HTO5sSmpduBFQDu/pyZTQCmAbszLJeISKpJk2KEFMQoqb4+2Lo11pR64gm46KKYCd7dHTWOpqbqljdrWQbFOmCBmc0H3gZuBj4+YJ/twHXAvWZ2ATAB2JNhmURETko+X1zm3CyWB/mnf4oFCPv64g58s2ZFuCxbFtv1JrOgcPdeM7sTeBzIAfe4+ytm9hVgvbuvAf4I+Dsz+0OiWeo2dw1QE5HadP750fnd0RGT9t59N26ktHs3TJwYtY7f/u36u12rjbfr8qJF7X7ffet1G0QRqRm9vfD88xEa06bBrbdGB3gtMbMN7j6iOeha4UREZJTyebjqqhgltXdvzMmoJwoKEZEKueCCaJJ6/fUIi3HWYDMkNeCIiFRISwtcfTU880x0dptFJ/ecOTB9erVLN3IKChGRCpo4McLi2WdjhdqGhpjtPW9eDKudOrXaJTx5CgoRkQo77bQY/QSwbRts2RIzvt96K2oX8+bF3IvZs6tZyvIpKEREMpDcDOncc+Px2msRGvv3xzDavr6oYSxYEGtN1fJIzhoumohI/Tj//Hgkcy82boylzd94I5YGmTQp5l9MmxY1jlpajFBBISIyhpI+imuvjSapd96J2kUuF/0b/f0x0/sjH4kFCGvhNq0KChGRKpgwAS6++PjXktu17toFP/pR1EAuvbQ65StVA1klIiIQtYqrroomqK1bYd26WL222hQUIiI1xCwm7l14Ibz3XtQsdlb5lm4KChGRGnTOOREYe/fCo4/CwYPVK4uCQkSkRs2aFZ3f+/bFBL7u7uqUQ0EhIlLDli6NyXk7dsAPfwg9PWNfBgWFiEgNy+dh+fIYEbVvHzz4IPziF/G8v3/4z1eCgkJEpMbl83DZZbEy7Y4dce+Lhx+OwDhyZAy+P/uvEBGR0WpqgmuuiVrE66/H8FmImd0rV0JbW3bfrRqFiMg40tAQE/GWL4fDh2P9qIcfjol6vb0ZfWc2hxURkSydcQZceSXMnRszuTdsgIceyuZmSQoKEZFxbNGiWBfq2LFYN2rfvsp/h4JCRKQOLF0KR4/Cj38c/RaVpKAQEakDU6bA2WdHM9QTT1R2JreCQkSkTixeDMuWRSd3MiqqEhQUIiJ1ZMqUWOpjw4bKdWwrKERE6kg+H7dePXgw7qZXCQoKEZE6c+aZ0fxUqeXJFRQiInWmqSlmalfqNqoKChERSaWgEBGpM2bRkb1lS2U6tBUUIiJ1prk5liXv7ITdu0d/PAWFiEidMYOLLoo+ikrcs0JBISIiqRQUIiKSSkEhIlLHar7pycxWmNkWM+sws7uG2OcmM9tsZq+Y2T9kWR4RkVNFQ0OsJvvmm6M/Vma3QjWzHHA38BGgE1hnZmvcfXPJPguAPwGucvf9ZjYjq/KIiJxKJk2KobG7do3+WFnWKC4HOtx9q7v3AA8ANw7Y5/eBu919P4C7V2Agl4iImMHUqdDSMvpjZRkUs4AdJdudhddKLQQWmtnPzWytma0Y7EBmdoeZrTez9QcO7MmouCIi9SWpUXR1je44WQaFDfLawDmCeWABcC1wC/D3ZjblhA+5r3b3dndvb2ubXvGCiojUoylT4L33YO3a0R2n7D4KM5sFzC39jLs/m/KRTmBOyfZsYOBahp3AWnc/BrxpZluI4FhXbrlERGRwc+bE7OzR9lOUFRRm9ufA7wKbgb7Cyw6kBcU6YIGZzQfeBm4GPj5gn4eJmsS9ZjaNaIqq4H2ZREROXblc3B51tPelKLdG8S+ARe5+tNwDu3uvmd0JPA7kgHvc/RUz+wqw3t3XFN673sySAPqCu1foVhsiItLYOPrlxssNiq1AI1B2UAC4+yPAIwNe+2LJcwc+X3iIiEgGjp7UlftE5QbFYWCjmT1JSVi4+2dG9/UiIpKl/v5YSRZyI65XlBsUawoPEREZR6ZOhc2bYTQNUGUFhbt/x8yaiM5mgC2FkUoiIlLj2tpG9/lyRz1dC3wH2EbMj5hjZp8YZnisiIjUgXKbnr4OXO/uWwDMbCHwXeCyrAomIiK1odw2q8YkJADc/XViFJSIiNS5cmsU683s28D9he1/DWzIpkgiIlJLyg2KTwGfBj5D9FE8C/xNVoUSEZHaUe6op6PA/yw8RETkFJIaFGb2oLvfZGYvceLKr7j70sxKJiIiNWG4GsVnCz8/mnVBRESkNqWOenL3ZHHavcAOd38LaAYu5sQlw0VEpMY0NkJ3N8CE5pEeo9zhsc8CEwr3pHgS+CRw70i/VERExkZzM1xxBYxmCY9yP2jufhj4V8Bfu/u/BBaP9EtFRGTsNDdD3Bh1ZMoOCjO7kpg/8ePCa2XfHU9ERMavcoPic8CfAD8o3HzoXODp7IolIiK1otx5FM8Az5RsbyUm34mISJ0bbh7F/3L3z5nZPzL4PIpVmZVMRERqwnA1imRtp/+RdUFERKQ2pQaFuycL/60Hut29H8DMcsR8ChERqXPldmY/CUws2W4Bnqh8cUREpNaUGxQT3L0r2Sg8n5iyv4iI1Ilyg+J9M7s02TCzy4DubIokIiK1pNxJc58DHjKzZH2ns4DfzaZIIiJSS8qdR7HOzM4HFhE3LnrN3Y9lWjIREakJZTU9mdlE4D8Bn3X3l4B5Zqalx0VETgHl9lH8b6AHuLKw3Qn810xKJCIiNaXcoDjP3b8KHANw926iCUpEROpcuUHRY2YtFJbxMLPzgKOZlUpERGpGuaOevgQ8Bswxs/8DXAXcllWhRESkdgwbFGZmwGvETYuWE01On3X3vRmXTUREasCwQeHubmYPu/tlFG9aJCIip4hy+yjWmtkHMy2JiIjUpHL7KD4E/Hsz2wa8TzQ/ubsvzapgIiJSG8oNihsyLYWIiNSs1KYnM5tgZp8DvgCsAN5297eSx3AHN7MVZrbFzDrM7K6U/T5mZm5m7Sf9G4iISKaG66P4DtAOvETUKr5e7oELNze6u/C5xcAtZrZ4kP0mEffffr7cY4uIyNgZLigWu/ut7v4t4GPAPzuJY18OdLj7VnfvAR4Abhxkvz8DvgocOYlji4jIGBkuKH69Qqy7957ksWcBO0q2Owuv/ZqZXQLMcfcfpR3IzO4ws/Vmtv7AgT0nWQwRERmN4TqzLzazg4XnBrQUtpNRT5NTPjvYWlD+6zfNGoC/oIwZ3u6+GlgNsGhRuw+zu4iIVFBqULh7bhTH7gTmlGzPBnaWbE8ClgA/jcnfnAmsMbNV7r5+FN8rIiIVVO6Eu5FYBywws/lm1gTcDKxJ3nT3A+4+zd3nufs8YC2gkBARqTGZBUWhT+NO4HHgVeBBd3/FzL5iZquy+l4REamscifcjYi7PwI8MuC1Lw6x77VZlkVEREYmy6YnERGpAwoKERFJpaAQEZFUCgoREUmloBARkVQKChERSaWgEBGRVAoKERFJpaAQEZFUCgoREUmloBARkVQKChERSaWgEBGRVAoKERFJpaAQEZFUCgoREUmloBARkVQKChERSaWgEBGRVAoKERFJpaAQEZFUCgoREUmloBARkVQKChERSaWgEBGRVAoKERFJpaAQEZFUCgoREUmloBARkVQKChERSaWgEBGRVAoKERFJpaAQEZFUCgoREUmVaVCY2Qoz22JmHWZ21yDvf97MNpvZi2b2pJnNzbI8IiJy8jILCjPLAXcDNwCLgVvMbPGA3V4A2t19KfB94KtZlUdEREYmyxrF5UCHu2919x7gAeDG0h3c/Wl3P1zYXAvMzrA8IiIyAlkGxSxgR8l2Z+G1odwOPDrYG2Z2h5mtN7P1Bw7sqWARRURkOFkGhQ3ymg+6o9mtQDvwtcHed/fV7t7u7u1tbdMrWEQRERlOPsNjdwJzSrZnAzsH7mRmHwb+FLjG3Y9mWB4RERmBLGsU64AFZjbfzJqAm4E1pTuY2SXAt4BV7r47w7KIiMgIZRYU7t4L3Ak8DrwKPOjur5jZV8xsVWG3rwGtwENmttHM1gxxOBERqZIsm55w90eARwa89sWS5x/O8vtFRGT0NDNbRERSKShERCSVgkJERFIpKEREJJWCQkREUikoREQklYJCRERSKShERCSVgkJERFIpKEREJJWCQkREUikoREQklYJCRERSKShERCSVgkJERFIpKEREJJWCQkREUikoREQklYJCRERSKShERCSVgkJERFIpKEREJJWCQkREUikoREQklYJCRERSKShERCSVgkJERFIpKEREJJWCQkREUikoREQklYJCRERSKShERCSVgkJERFIpKEREJJWCQkREUmUaFGa2wsy2mFmHmd01yPvNZva9wvvPm9m8LMsjIiInL7OgMLMccDdwA7AYuMXMFg/Y7XZgv7t/APgL4M+zKo+IiIxMPsNjXw50uPtWADN7ALgR2Fyyz43AlwvPvw98w8zM3X2og7rDkSOQz7LkIiJ1pKcHwEb8+Swvt7OAHSXbncAVQ+3j7r1mdgCYCuwt3cnM7gDuKGz1XHvt5F/CkFlyCjl2OjTur3YpaoPORZHORZHORTCDrnNG+uksg2Kw+Bp4dS9nH9x9NbAawMzWux9sH33xxr84F0d0LtC5KKVzUaRzUWRm60f62Sw7szuBOSXbs4GdQ+1jZnmgDdiXYZlEROQkZRkU64AFZjbfzJqAm4E1A/ZZA3yi8PxjwFNp/RMiIjL2Mmt6KvQ53Ak8DuSAe9z9FTP7CrDe3dcA3wbuN7MOoiZxcxmHXp1VmcchnYsinYsinYsinYuiEZ8L03/gRUQkjWZmi4hIKgWFiIikqtmg0PIfRWWci8+b2WYze9HMnjSzudUo51gY7lyU7PcxM3Mzq9uhkeWcCzO7qfB34xUz+4exLuNYKePfyDlm9rSZvVD4d7KyGuXMmpndY2a7zezlId43M/urwnl60cwuLevA7l5zD6Lz+5fAuUATsAlYPGCf/wB8s/D8ZuB71S53Fc/Fh4CJheefOpXPRWG/ScCzwFqgvdrlruLfiwXAC8Dphe0Z1S53Fc/FauBTheeLgW3VLndG5+Jq4FLg5SHeXwk8SsxhWw48X85xa7VG8evlP9y9B0iW/yh1I/CdwvPvA9eZ2cjnqNeuYc+Fuz/t7ocLm2uJOSv1qJy/FwB/BnwVODKWhRtj5ZyL3wfudvf9AO6+e4zLOFbKORcOTC48b+PEOV11wd2fJX0u2o3AfR7WAlPM7KzhjlurQTHY8h+zhtrH3XuBZPmPelPOuSh1O/E/hno07Lkws0uAOe7+o7EsWBWU8/diIbDQzH5uZmvNbMWYlW5slXMuvgzcamadwCPAH4xN0WrOyV5PgGyX8BiNii3/UQfK/j3N7FagHbgm0xJVT+q5MLMGYhXi28aqQFVUzt+LPNH8dC1Ry/x/ZrbE3d/LuGxjrZxzcQtwr7t/3cyuJOZvLXH3/uyLV1NGdN2s1RqFlv8oKudcYGYfBv4UWOXuR8eobGNtuHMxCVgC/NTMthFtsGvqtEO73H8jP3T3Y+7+JrCFCI56U865uB14EMDdnwMmANPGpHS1pazryUC1GhRa/qNo2HNRaG75FhES9doODcOcC3c/4O7T3H2eu88j+mtWufuIF0OrYeX8G3mYGOiAmU0jmqK2jmkpx0Y552I7cB2AmV1ABMWeMS1lbVgD/F5h9NNy4IC77xruQzXZ9OTZLf8x7pR5Lr4GtAIPFfrzt7v7qqoVOiNlnotTQpnn4nHgejPbDPQBX3D3d6tX6myUeS7+CPg7M/tDoqnltnr8j6WZfZdoapxW6I/5EtAI4O7fJPpnVgIdwGHgk2Udtw7PlYiIVFCtNj2JiEiNUFCIiEgqBYWIiKRSUIiISCoFhYiIpFJQiAxgZn1mttHMXjazfzSzKRU+/m1m9o3C8y+b2R9X8vgilaagEDlRt7svc/clxBydT1e7QCLVpKAQSfccJYummdkXzGxdYS3//1Ly+u8VXttkZvcXXvvnhXulvGBmT5jZzCqUX2TUanJmtkgtMLMcsezDtwvb1xNrJV1OLK62xsyuBt4l1tm6yt33mtkZhUP8DFju7m5m/xb4j8QMYZFxRUEhcqIWM9sIzAM2AD8pvH594fFCYbuVCI6Lge+7+14Ad08Wp5wNfK+w3n8T8OaYlF6kwtT0JHKibndfBswlLvBJH4UB/73Qf7HM3T/g7t8uvD7YWjh/DXzD3S8C/h2xEJ3IuKOgEBmCux8APgP8sZk1EovO/RszawUws1lmNgN4ErjJzKYWXk+antqAtwvPP4HIOKWmJ5EU7v6CmW0Cbnb3+wtLVD9XWKW3C7i1sFLpfwOeMbM+omnqNuKuag+Z2dvEkufzq/E7iIyWVo8VEZFUanoSEZFUCgoREUmloBARkVQKChERSaWgEBGRVAoKERFJpaAQEZFU/x/n57Vmv1QpfQAAAABJRU5ErkJggg==\n",
      "text/plain": [
       "<Figure size 432x288 with 1 Axes>"
      ]
     },
     "metadata": {
      "needs_background": "light"
     },
     "output_type": "display_data"
    }
   ],
   "source": [
    "print('Vae detector')\n",
    "precision, recall, thresholds = precision_recall_curve(y_kl, x_kl)\n",
    "\n",
    "# In matplotlib < 1.5, plt.fill_between does not have a 'step' argument\n",
    "step_kwargs = ({'step': 'post'}\n",
    "               if 'step' in signature(plt.fill_between).parameters\n",
    "               else {})\n",
    "plt.step(recall, precision, color='b', alpha=0.2,\n",
    "         where='post')\n",
    "plt.fill_between(recall, precision, alpha=0.2, color='b', **step_kwargs)\n",
    "\n",
    "plt.xlabel('Recall')\n",
    "plt.ylabel('Precision')\n",
    "plt.ylim([0.0, 1.0])\n",
    "plt.xlim([0.0, 1.0])"
   ]
  },
  {
   "cell_type": "code",
   "execution_count": 68,
   "metadata": {},
   "outputs": [
    {
     "name": "stdout",
     "output_type": "stream",
     "text": [
      "Vae detector roc\n"
     ]
    },
    {
     "data": {
      "text/plain": [
       "(0.0, 1.0)"
      ]
     },
     "execution_count": 68,
     "metadata": {},
     "output_type": "execute_result"
    },
    {
     "data": {
      "image/png": "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\n",
      "text/plain": [
       "<Figure size 432x288 with 1 Axes>"
      ]
     },
     "metadata": {
      "needs_background": "light"
     },
     "output_type": "display_data"
    }
   ],
   "source": [
    "print('Vae detector roc')\n",
    "fpr, tpr, thresholds = roc_curve(y_kl, x_kl)\n",
    "\n",
    "# In matplotlib < 1.5, plt.fill_between does not have a 'step' argument\n",
    "step_kwargs = ({'step': 'post'}\n",
    "               if 'step' in signature(plt.fill_between).parameters\n",
    "               else {})\n",
    "plt.step(fpr, tpr, color='b', alpha=0.2,\n",
    "         where='post')\n",
    "plt.fill_between(fpr, tpr, alpha=0.2, color='b', **step_kwargs)\n",
    "\n",
    "plt.xlabel('fpr')\n",
    "plt.ylabel('tpr')\n",
    "plt.ylim([0.0, 1.0])\n",
    "plt.xlim([0.0, 1.0])"
   ]
  },
  {
   "cell_type": "code",
   "execution_count": 69,
   "metadata": {},
   "outputs": [
    {
     "data": {
      "text/plain": [
       "0.9141776867258367"
      ]
     },
     "execution_count": 69,
     "metadata": {},
     "output_type": "execute_result"
    }
   ],
   "source": [
    "roc_auc_score(y_kl, x_kl)"
   ]
  },
  {
   "cell_type": "markdown",
   "metadata": {},
   "source": [
    "### Accuracy - f1 scores"
   ]
  },
  {
   "cell_type": "code",
   "execution_count": 70,
   "metadata": {},
   "outputs": [
    {
     "name": "stderr",
     "output_type": "stream",
     "text": [
      "/home/gio/anaconda3/envs/tf2-gpu/lib/python3.6/site-packages/sklearn/metrics/classification.py:1437: UndefinedMetricWarning: Precision is ill-defined and being set to 0.0 due to no predicted samples.\n",
      "  'precision', 'predicted', average, warn_for)\n",
      "/home/gio/anaconda3/envs/tf2-gpu/lib/python3.6/site-packages/sklearn/metrics/classification.py:1437: UndefinedMetricWarning: F-score is ill-defined and being set to 0.0 due to no predicted samples.\n",
      "  'precision', 'predicted', average, warn_for)\n"
     ]
    }
   ],
   "source": [
    "trs = np.arange(0, 1.001, 0.001)\n",
    "tresholds, precs, recals, accs, f1s = [], [], [], [], []\n",
    "precs_bl, recals_bl, accs_bl, f1s_bl = [], [], [], []\n",
    "for tr in trs:\n",
    "    preds_kl = predict_adv(x_kl, tr)\n",
    "    preds_bl = predict_adv(x_bl, tr)\n",
    "    \n",
    "    prec = precision_score(y_kl, preds_kl)\n",
    "    rec = recall_score(y_kl, preds_kl)\n",
    "    acc = accuracy_score(y_kl, preds_kl)\n",
    "    f1 = f1_score(y_kl, preds_kl)\n",
    "    \n",
    "    prec_bl = precision_score(y_bl, preds_bl)\n",
    "    rec_bl = recall_score(y_bl, preds_bl)\n",
    "    acc_bl = accuracy_score(y_bl, preds_bl)\n",
    "    f1_bl = f1_score(y_bl, preds_bl)\n",
    "    \n",
    "    tresholds.append(tr)\n",
    "    precs.append(prec)\n",
    "    recals.append(rec)\n",
    "    accs.append(acc)\n",
    "    f1s.append(f1)\n",
    "    \n",
    "    precs_bl.append(prec_bl)\n",
    "    recals_bl.append(rec_bl)\n",
    "    accs_bl.append(acc_bl)\n",
    "    f1s_bl.append(f1_bl)\n",
    "\n",
    "df_scores = pd.DataFrame()\n",
    "df_scores['trs'] = tresholds\n",
    "df_scores['precs'] = precs\n",
    "df_scores['recs'] = recals\n",
    "df_scores['accs'] = accs\n",
    "df_scores['f1s'] = f1s\n",
    "\n",
    "df_scores['precs_bl'] = precs_bl\n",
    "df_scores['recs_bl'] = recals_bl\n",
    "df_scores['accs_bl'] = accs_bl\n",
    "df_scores['f1s_bl'] = f1s_bl"
   ]
  },
  {
   "cell_type": "code",
   "execution_count": 71,
   "metadata": {},
   "outputs": [
    {
     "name": "stdout",
     "output_type": "stream",
     "text": [
      "Accuracy\n"
     ]
    },
    {
     "data": {
      "text/plain": [
       "<matplotlib.axes._subplots.AxesSubplot at 0x7fbbac2f6d68>"
      ]
     },
     "execution_count": 71,
     "metadata": {},
     "output_type": "execute_result"
    },
    {
     "data": {
      "image/png": "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\n",
      "text/plain": [
       "<Figure size 1080x576 with 1 Axes>"
      ]
     },
     "metadata": {
      "needs_background": "light"
     },
     "output_type": "display_data"
    }
   ],
   "source": [
    "print('Accuracy')\n",
    "df_scores.plot(x= 'trs',y=['accs', 'accs_bl'], figsize=(15, 8))"
   ]
  },
  {
   "cell_type": "code",
   "execution_count": 72,
   "metadata": {},
   "outputs": [
    {
     "name": "stdout",
     "output_type": "stream",
     "text": [
      "F1 score\n"
     ]
    },
    {
     "data": {
      "text/plain": [
       "<matplotlib.axes._subplots.AxesSubplot at 0x7fbc3443d4a8>"
      ]
     },
     "execution_count": 72,
     "metadata": {},
     "output_type": "execute_result"
    },
    {
     "data": {
      "image/png": "iVBORw0KGgoAAAANSUhEUgAAA3IAAAHgCAYAAADg5l+AAAAABHNCSVQICAgIfAhkiAAAAAlwSFlzAAALEgAACxIB0t1+/AAAADh0RVh0U29mdHdhcmUAbWF0cGxvdGxpYiB2ZXJzaW9uMy4xLjEsIGh0dHA6Ly9tYXRwbG90bGliLm9yZy8QZhcZAAAgAElEQVR4nOzdd3SVVbrH8d8+J72ThJAGJPQAoYYudgUGBlRsWGbs1+7YRh3LdZxy1VHHjnV0LNjGOtJEBAUEgVAEEmpoIdQACQRSz3v/QBlkKAFOsk/5ftZyyTnnzbt/iEvz5HnevY3jOAIAAAAA+A+X7QAAAAAAgGNDIQcAAAAAfoZCDgAAAAD8DIUcAAAAAPgZCjkAAAAA8DMUcgAAAADgZ0JsLZycnOxkZWXZWh4AAAAArMrPz9/mOE7T4/laa4VcVlaW5s6da2t5AAAAALDKGLP2eL+W0UoAAAAA8DMUcgAAAADgZyjkAAAAAMDPWHtGDgAAAEBwqKmpUXFxsSorK21HsSIiIkKZmZkKDQ312j0p5AAAAAA0qOLiYsXGxiorK0vGGNtxGpXjOCotLVVxcbGys7O9dl9GKwEAAAA0qMrKSiUlJQVdESdJxhglJSV5vRtJIQcAAACgwQVjEfezhvi9U8gBAAAACHjPPvuscnJyNHLkSPXr10/h4eF64oknbMc6bjwjBwAAACDgvfjiixo/fryio6O1du1affbZZ7YjnRA6cgAAAAAC2vXXX6+ioiINHz5c7777rnr16vVfO0hWVFRo6NCh6tq1qzp37qwPPvjAUtr6oSMHAAAAoNH88d9LVFBS7tV7dkyP0//+utNhP3/ppZc0YcIETZkyRcnJyYe8ZsKECUpPT9fYsWMlSWVlZV7N6G105AAAAAAEvdzcXH399de65557NG3aNMXHx9uOdER05AAAAAA0miN1zmxq166d8vPzNW7cON133306++yz9dBDD9mOdVgUcgAAAACCXklJiRITE3XZZZcpJiZGb775pu1IR0QhBwAAACBobNq0SXl5eSovL5fL5dLTTz+tgoICLVq0SHfffbdcLpdCQ0M1evRo21GPiEIOAAAAQMBbs2bN/l8XFxf/1+eDBg3SoEGDGjHRifGpzU4cx1Gdx7EdAwAAAAB8mvVCbk91rT6cs161dR6NenWWch+eqLdnrbUdCwAAAAB8lvXRyue/WakXp65SwcZyzSraLkl66PPFapcSoz6tkiynAwAAAADfY7Uj5ziOxi3aKEl68/s1kqSv7zhZKbHhuv2DBbr1vfm68o3ZqqnzWEwJAAAAAL7FaiFXsLFca0r36NYz2urU9k01olu62qTE6tqBrVRSVqkvFpZoyrKtenT8Unl4dg4AAAAAJFkerVyyoVySdG73DN1xVrv97/+2f5ZaJEapS2aCnvtmhV6fvlqVNXX6y7m5tqICAAAAgM+wWsgVbCxXVJhbLROjfvF+qNulszulSpL+fE5nRYeH6JXvirRzb43+em6uosLc+68DAAAAgGBjtRJaUlKmnLQ4uVzmsNcYY3TP4A669Yy2+mrJJo16ZZYGPjZFI56foR0V1Y2YFgAAAIC/evbZZ5WTk6ORI0eqX79+Cg8P1xNPPHFc98rKytK2bdv+6/2HH374uO95rKx25Ao37tK53TOOep3bZXTHWe3Uvlms/jZxqZrFhatw0y4Ne266nrqwK7tbAgAAADiiF198UePHj1d0dLTWrl2rzz77zHakE2KtkKvzONpdVauWSVFHv/gnQ7ukaWiXNEnSgvU7ddv78zXq1Vn64uaT1DkjvqGiAgAAAPCW8fdKmxZ5956pudKQRw/78fXXX6+ioiINHz5cV111lW6//XaNHTv2F9dUVFTowgsvVHFxserq6vTggw/qoosuOuw9//a3v2nKlCmSpDFjxqhNmzbe+b3Uk7XRypq6fbtQpsRFHNfXd2ueoM9vGqAQt0v/yi/2ZjQAAAAAAeSll15Senq6pkyZottvv/2Q10yYMEHp6elauHChFi9erMGDBx/xnnFxcZo9e7Zuvvlm/e53v2uI2EdUr46cMWawpGckuSW95jjOowd93kLSPyUl/HTNvY7jjDvSPWs9+86GS4kNP/bUP0mICtOZOSn68scS3T80h81PAAAAAF93hM6ZTbm5ubrrrrt0zz33aNiwYRo4cOARrx81atT+vx+uOGxIR618jDFuSS9IGiKpo6RRxpiOB132gKQPHcfpLuliSS8e7b61dSdeyEnSyB6Z2ra7WhOXbDqh+wAAAAAIXu3atVN+fr5yc3N133336ZFHHjni9caYQ/66sdSnhdVb0krHcYocx6mW9L6kEQdd40iK++nX8ZJKjnbTEx2t/Nlp7VOUlRSlxycs03fLt57QvQAAAAAEp5KSEkVFRemyyy7TXXfdpXnz5h3x+g8++GD/3/v169cYEX+hPqOVGZLWH/C6WFKfg655WNJXxphbJEVLOvNQNzLGXCfpOklqkt5KqWFuxYSf2H4rLpfRH0d01h8+WaQr35yjawe20m/7t1RafOQJ3RcAAABA4Nm0aZPy8vJUXl4ul8ulp59+WgUFBVq0aJHuvvtuuVwuhYaGavTo0Ue8T1VVlfr06SOPx6P33nuvkdL/h3Ec58gXGHOBpEGO41zz0+vLJfV2HOeWA66546d7PWmM6SfpdUmdHcfxHO6+Ka06Oh1veEFT7z7NG78PbdlVqaHPTtfWXVVqGhuu1LgIhbiNPriun8JCeHYOAAAAsKWwsFA5OTm2Y1h1qH8Gxph8x3Hyjud+9alwiiU1P+B1pv57dPJqSR9KkuM4MyVFSEo+0k1r6xylxJ7YWOWBUmIjNOWuU/XJjf3VNiVGJTv3av66nXpr5hqvrQEAAAAAvqA+c41zJLU1xmRL2qB9m5lcctA16ySdIelNY0yO9hVyR3xgrdbjUVJM2LEnPoKY8BD1aNFEY67tK8dxdOlrP+jPYwu1prRCfxrR2cpDiAAAAAD807nnnqvVq1f/4r3HHntMgwYNspToP45ayDmOU2uMuVnSRO07WuAfjuMsMcY8Immu4zhfSLpT0qvGmNu1b+OTK5yjzGw6jhp05NEYo9d/20uPT1yqN2asUcvEaF17cqsGWw8AAABAYPn0009tRziseu008tOZcOMOeu+hA35dIGnAsS7ubuAOWWSYWw8O7ajN5ZX66/hCZSdH68yOzRp0TQAAAAD/zXGcoJ2QO9q+JMfD2i4gjiS3q+H/IF0uoycv6KbcjHjd+v58bSqrbPA1AQAAAPxHRESESktLG6Sg8XWO46i0tFQREd7bH0SqZ0euITiO0yiFnLSvM/f8qB467cmpem1akR4YdvB55gAAAAAaSmZmpoqLi7V1a3Ce+xwREaHMzEyv3tNaISc1TkfuZy2SojSsS5ren7Ne9wzpoFA3RxIAAAAAjSE0NFTZ2dm2YwSUgB+tPNCZOc20u6pWhRvLG3VdAAAAAPAme4Wc0/iFXF5WE0nS3DU7GnVdAAAAAPAmq/OFDb1r5cHS4iOVkRCpOWu2N+q6AAAAAOBNFjtyjtzuxt9+tH/rJE1fuU1VtXWNvjYAAAAAeENQdeQk6Ve5adpVWavpK7Y1+toAAAAA4A1WNzsJaeRn5CRpQJtkxUeG6oM56xt9bQAAAADwBqsdOZeFQi4sxKUr+mfpq4LNWrB+Z6OvDwAAAAAnymohZ6MjJ0nXDMxW09hwnfPCDF331lxt211lJQcAAAAAHI+g68hJUmxEqJ68oKsk6auCzbrx3XnyeBwrWQAAAADgWAVlR06STm7XVIWPDNZjI3M1e/V2jV+8yVoWAAAAADgWdjtyFnatPFBkmFvn92yuNikxeuTLJVq5ZbfVPAAAAABQH0HbkfuZ22X0/CXdVVPn6JEvC2zHAQAAAICjsnuOnNvq8vt1SI3TyB4ZmrWqVLuram3HAQAAAIAjCroDwQ/njJxmqq7z6LvlW21HAQAAAIAjCvrRyp/ltWyi1LgIvfxdETtYAgAAAPBpQXn8wKGEuF26e1B7LVy/U98s3WI7DgAAAAAcFh25A4zolq74yFCNW7TRdhQAAAAAOCw6cgcIcbt0Rk6Kvi7crJo6j+04AAAAAHBIdOQOMqxLmsora/XvhSW2owAAAADAIQX1geCHcmq7FHVKj9PTX6+gKwcAAADAJ9GRO4jLZXTn2e20bvsejXh+hj7OL1ZVbZ3tWAAAAACwn91z5HywkJOk09qnqGfLJirYWK47P1qokx6botemFclxOJYAAAAAgH0hNhf31ULOGKPXf5un7RXV2rBzr16YslJ/HluoXlmJ6to8wXY8AAAAAEGOjtxhJESFqVXTGA1s21R/OTdXkrRyy27LqQAAAACAQq5emjeJkttltKa0wnYUAAAAAKCQq4+wEJcym0SqaBuFHAAAAAD7eEaunrKSojX2x41q3mSpTm6XrP6tk21HAgAAABCk7HbkfPAcucNJi4+QJL307Srd98kidrAEAAAAYA2jlfV0Xo9MDc1N0x9+1UFrS/do3rodtiMBAAAACFIUcvXUOztRL1zaQ5f0aamoMLf+PLZQKzbvUm2dx3Y0AAAAAEHGaiEX4keF3M9iwkP04LCOmr9up876+3c69Ymp2l5RbTsWAAAAgCBitZBz+WEhJ0kX92quMdf00V/PzdXGsko9+dUy25EAAAAABBE6csfBGKP+bZJ1SZ8WurxvS703e51WbtllOxYAAACAIGG3I+dHu1Yezq1ntFVUWIgem0BXDgAAAEDjsNuRc/t/IZcYHabrT2mlSQWbNXfNdttxAAAAAAQBzpHzgqtOylazuHD9aWyhPB7OlwMAAADQsDh+wAuiwkL0+0EdtHD9Tt350ULtra6zHQkAAABAAAuxuXigFHKSdG73DBVt260XpqxSbESIHhnR2XYkAAAAAAGKQs5LXC6juwd1UFWNR69NX62umQka2TPTdiwAAAAAAYjRSi+7Z0gH9WuVpAc+W6zS3VW24wAAAAAIQBRyXhbqdulP53RWZW2dXvp2le04AAAAAAIQu1Y2gDYpMTq/R6Zem75akws3244DAAAAIMDQkWsgfzqns9o3i9WDny1WZQ27WAIAAADwHquFnAnQjpwkRYS69b+/7qSSskq9P3ud7TgAAAAAAoi1Qi5wS7j/6Nc6SbkZ8foov9h2FAAAAAABxF5HLhgqOUnn98zUkpJy5a/dYTsKAAAAgABhsSMXHJXceT0ylBoXoXs//lE1dR7bcQAAAAAEAEYrG1hsRKgeHt5RK7bs1qQCdrAEAAAAcOIYrWwEZ3VMVUZCpF7+rkg791TbjgMAAADAz9GRawRul9HtZ7XT4g1lunnMfNtxAAAAAPi5EFsLB8szcj87v2em1pVW6PkpK7W9olqJ0WG2IwEAAADwU4xWNqIzOzaTx5GmLttiOwoAAAAAP8ZoZSPqnB6v9PgI/WPGatWygyUAAACA40RHrhG5XEb3D+2oxRvKde1bc1W2p8Z2JAAAAAB+yFoh18Qps7W0Vb/KTdVDwzpq+sptuuX9+arzOLYjAQAAAPAz1gq5hCAt5IwxuuqkbD0yorO+W75Vj09cajsSAAAAAD9jrZALc9ub6vQFo3q30CV9Wujlb4s0e/V223EAAAAA+JHgrqYse2BojjKbROqujxbyvBwAAACAeqOQsygqLETPXNxdG8v26tb356uiqtZ2JAAAAAB+gELOsp4tm+jh4Z307fKt6vzwRP3h00Wq4WgCAAAAAEcQYjsApEt6t1ByTLimrdiqd2atU0SIWw/9uqPtWAAAAAB8FIWcDzDGaFCnVA3qlKpQt0v/mLFaXZvHa0S3DNvRAAAAAPggi6OVnJ92KH/4VY56tEjQn74sYMQSAAAAwCHxjJyPCXW7dNNpbbRtd7UmF26xHQcAAACAD6KQ80GntGuqtPgI/X3Scu2trrMdBwAAAICPoZDzQSFulx4d2UXLt+zSC1NW2o4DAAAAwMdQyPmoU9o11dkdm2n0t6uUv3aH7TgAAAAAfIi9Qo69To7qmoGtVOdxNHL09/pXfrHtOAAAAAB8BB05H9YrK1ETf3ey+rZK1EOfL1ZVLc/LAQAAAOD4AZ/XPjVWV/TP0p7qOhWUlNuOAwAAAMAH0JHzA91bNJEkzV+303ISAAAAAL6AQs4PNIuLUFp8hGYVlarOQycTAAAACHYUcn7i1PZN9VXBZg1/frrWb99jOw4AAAAAiyjk/MTDwzvpyQu6avW2Cj33zQrbcQAAAABYRCHnJ8JD3BrZM1Ond0jRN0u3ysOIJQAAABC0KOT8zJk5zbRtd5Xmr2fjEwAAACBYcfyAnzmtQ4piwkP0j+mrbUcBAAAAYAkdOT8THxmqKwdkaeyijXp28grV1HlsRwIAAADQyEJsB8Cxu+HU1lpTukdPTVqurwo26cr+2Tq9Q4qaRIfZjgYAAACgERjHsTPimJcZ4cwtrrSydqAYv2ijHvhssUorqtW6abQ+/J9+SooJtx0LAAAAQD0YY/Idx8k7nq9ltNKPDclN0/R7TtcbV/TS+h17dceHC9nNEgAAAAgCFHJ+LjLMrdM6pOjBYR317fKtenVake1IAAAAABqYxWfk6Bx502V9Wmjmqm16dMJSbdlVpbsHtVdEqNt2LAAAAAANoF4dOWPMYGPMMmPMSmPMvYe55kJjTIExZokxZox3Y+JojDF68oJuuqxPS70+fbVGvTpLFVW1tmMBAAAAaABHLeSMMW5JL0gaIqmjpFHGmI4HXdNW0n2SBjiO00nS7xogK44iMsytP53TWaMv7aEfi8t03dtzVVlTZzsWAAAAAC+rT0eut6SVjuMUOY5TLel9SSMOuuZaSS84jrNDkhzH2eLdmDgWQ3LT9PjILpqxslR/HltgOw4AAAAAL6vPM3IZktYf8LpYUp+DrmknScaYGZLckh52HGeCVxLiuIzsmallm3fple+KFB7i1gNDc2SMsR0LAAAAgBfUpyN3qO/+D96pJERSW0mnShol6TVjTMJ/3ciY64wxc40xcx2P51iz4hjdPai9RvbI1OvTV2vd9j224wAAAADwkvoUcsWSmh/wOlNSySGu+dxxnBrHcVZLWqZ9hd0vOI7ziuM4eY7j5BkX3aGGFup26coBWZKkH4vL7IYBAAAA4DX1KeTmSGprjMk2xoRJuljSFwdd85mk0yTJGJOsfaOWHGjmA9o1i1VYiEs/Fu+0HQUAAACAlxy1kHMcp1bSzZImSiqU9KHjOEuMMY8YY4b/dNlESaXGmAJJUyTd7ThOaUOFRv2FhbiUkxanhXTkAAAAgIBRrwPBHccZJ2ncQe89dMCvHUl3/PQXfEyf7ES9MWO1NpbtVVp8pO04AAAAAE5QvQ4EbxAHb5eCBnN535byONKj45equpZNZgAAAAB/Z6+QQ6Npnhil609ppc8XlGjk6O9VsnOv7UgAAAAATgCFXJC4e1AHvXRZD63eVqGbxszT5ws2sAEKAAAA4Kfq9Yxcw2C2srEN7pymqlqPfvfBAt32/gJFhLo0457TlRQTbjsaAAAAgGNARy7IjOiWoR/uO0Njru2jqlqP/vn9GtuRAAAAABwjCrkglBIXof6tk3V2x2b658y12l1VazsSAAAAgGNAIRfErj+ltcr21ujJr5apzsOoKwAAAOAvKOSCWPcWTXRRXnO9MWONLnl1Fp05AAAAwE9QyAW5R0fm6tHzcvXD6u36OL/YdhwAAAAA9WCxkGOUzxcYY3Rx7xZq3yxWXywssR0HAAAAQD3QkYMkaUT3dOWv3aE7P1yob5dvtR0HAAAAwBFQyEGSdGX/bF2Yl6mP5xXr2n/OVeHGctuRAAAAAByGvUKOyUqfEhnm1uPnd1X+A2cqLjJUF708U3PWbLcdCwAAAMAh0JHDLyTFhOuTG/orMTpMt703X+WVNbYjAQAAADgIhRz+S4ukKD11UTdtKq/UTe/O05KSMtuRAAAAAByAXStxSD1aNNFNp7XRtBXbNPTZ6bp5zDw5Dn9mAAAAgC8IsR0AvuuOs9ppSOc0/fvHEo2eukqd0uN1/SmtZIyxHQ0AAAAIahRyOCxjjDqmx6lDaqyKtu7WYxOWqs7j0c2nt7UdDQAAAAhqdp+RY1TPL7hcRqMv7alhXdL09Ncr9PmCDdpSXmk7FgAAABC0KORQLy6X0Z/P6az2qbG67f0FOuPJb7W7qtZ2LAAAACAoWd61kkLOnyREhemTG/vr9jPbaVdVrcYt2mg7EgAAABCU6MjhmISHuHXrGW2UnRytd39YJ4+HP0MAAACgsXGOHI6ZMUY3nNpaC9fv1Ls/rLUdBwAAAAg6jFbiuFzQM1O9sxP1/JSVqq712I4DAAAABBVGK3FcjDG64ZTW2lxepdemF3FYOAAAANCI6MjhuJ3SrqlO75Cixycs05jZ62zHAQAAAIIGHTkcN5fL6LXf5Glg22T9dWyhtu2ush0JAAAACAp05HBCXC6j+4fmqKK6ThMWb7IdBwAAAAgK7FqJE9a+WaxaN43W+MWcKwcAAAA0BkYrccKMMRqam6aZq0q1Yede23EAAACAgMdoJbziwl7NJUlvz+RcOQAAAKCh0ZGDV2Q2idKgTql6b/Y67a2usx0HAAAACGh05OA1Vw7IVtneGv1rXrHtKAAAAEBAoyMHr+mV1UQ9WiToj18s0RszVnNIOAAAANBA2LUSXmOM0RtX9tap7VP0x38XaOKSzbYjAQAAAAGJ0Up4VXxkqF6+vKfiIkI0ddkW23EAAACAgMRoJbzO7TLq2ypJ368qtR0FAAAACEh05NAg+rVO0rrtezTsuWmqqfPYjgMAAAAEFDpyaBAjumWoW/MELd5Qrh+KttuOAwAAAAQUNjtBg0iMDtN71/ZVRKhLE5dssh0HAAAACCghtgMgcEWGuXVGh2b6cO561dR5FBMeoutObqWUuAjb0QAAAAC/ZreQY7Qy4P1xRCftqa7VpILNKttbo1mrS/XUhd3Urlms7WgAAACA3zK2Dm3OS3c7c1dslqKTrayPxvf2zDV68PMlkqS7B7XXTae1sRsIAAAAsMgYk+84Tt7xfC2bnaDRXN4vS+NuHaghnVP11KTl2li213YkAAAAwC9x/AAaVcf0OP3hVznyOI4uefUHFW4stx0JAAAA8DvsWolG1zwxSqN6t9DqbRW67u252ltdZzsSAAAA4FcYrYQVfz03V+9f11frt+/Vc9+ssB0HAAAA8CuMVsKavq2SdH7PTL3yXZEmFWy2HQcAAADwG3TkYNUDQ3OUkxanG9/N1/aKattxAAAAAL9ARw5WJUSF6f6hOaqpc7SweKftOAAAAIBfoCMH6zqlx8kY6cf1ZbajAAAAAH6BXSthXWxEqFolR2vRBjpyAAAAQH0wWgmf0LV5gvLX7lBNncd2FAAAAMDnMVoJn/DrLunasadGH8xZbzsKAAAA4PPoyMEnnNyuqTISIvXAZ4v18BdLbMcBAAAAfBodOfgEt8vo1d/kaUCbJL35/Rrlr91hOxIAAADgs+jIwWd0TI/TK5fnKTUuQg9+tli1PC8HAAAAHBK7VsKnRIeH6P6hOSrYWK5vlm6xHQcAAADwSYxWwucM7pyq2IgQTS6kkAMAAAAOhdFK+JxQt0untGuqyUu3qLKmznYcAAAAwOfQkYNPGtkjU9t2V+nqf86Rw78nAAAAwC/wjBx80mkdUvTA0BzNWFmq+et32o4DAAAA+BQ6cvBZo3q3UHSYW6OnrmLEEgAAADgAHTn4rOjwEN14WhtNKtisTv87Ue/PXmc7EgAAAOAT2OwEPu2m09rotd/kqXmTSN37ySI9PmGpqms5Xw4AAADBjdFK+LwzOzbTG1f2VqvkaL04dZXemLHadiQAAADAKjpy8AvZydH65q5TdXqHFD05abn+vbDEdiQAAADAGjpy8CtPXtBVXTPjdct783lmDgAAAEGLzU7gV5pEh+mda/oor2UTPffNStV5+GEAAAAAgg+jlfA74SFuXTkgWxt27tVXSzbZjgMAAAA0OkYr4ZfO7JiiNikxuvm9+RryzDRtKqu0HQkAAABoNHTk4JfCQ9z66H/66fK+LVW4sVx/GVcohx8MAAAAIEiEWF2db7xxAppEh+nh4Z2UEBWqp79eochQl/5ybq5C3Tz6CQAAgMBmt5CjIwcvuO2MtvI40rOTV6hkZ6VevKyH4iJCbccCAAAAGgytC/g9Y4zuOKudnrigq2YVler80d+rdHeV7VgAAABAg2GzEwSM83tm6p9X9daKLbv11sy1tuMAAAAADYbNThBQBrRJ1kltkvXM5BWavXq77TgAAABAg6Ajh4BzaZ+WkqQLX56pRcVlltMAAAAA3kdHDgFncOdUTb3rVMVHhuqej3/Uj8U7VVPnsR0LAAAA8Bo6cghIWcnRevqiblq1dbeGPz9DT3+93HYkAAAAwGvYtRIB67QOKZr4u5PVMilKH84tVi1dOQAAAAQIRisR0LKSo3XfkBxt3VWlaSu22Y4DAAAAeIXl0UqrqyNInN4hRYnRYfoof73tKAAAAIBX0JFDwAsLcemcbhkat2iTbh4zTzv3VNuOBAAAAJwQNjtBULiif5ZObtdUXy3ZrJGjv1fxjj22IwEAAADHjY4cgkKLpCi9dVVvvX11b23dVaXr38mXx8O/fwAAAPBP7FqJoNKnVZIeGdFZizeU68y/f6vvV25TbZ1HtXUeOXSIAQAA4CfqVcgZYwYbY5YZY1YaY+49wnXnG2McY0xevVbnG2dYMLxruq45KVtVNR5d8toPanP/eLW5f7we+Gyx7WgAAABAvZijdSGMMW5JyyWdJalY0hxJoxzHKTjoulhJYyWFSbrZcZy5R7pvXrrbmTtrhtSi7wnEB45f2d4afTR3vfZW1+nrpVtUsnOvZv/hDBljbEcDAABAEDDG5DuOU78m2EHq05HrLWml4zhFjuNUS3pf0ohDXPcnSY9Lqqz36nTkYFF8ZKiuGdhKt5zRVuf3yNDWXVUq3rHXdiwAAADgqOpTyGVIOvAAruKf3tvPGNNdUnPHcb48tuUp5OAburdoIkl6e9ZanpUDAACAz6tPIXeoObP93+kaY1yS/i7pzqPeyJjrjDFzjTFHHLsEGluH1FjFRoTolU2qcrUAACAASURBVO+K9OLUVbbjAAAAAEdUn0KuWFLzA15nSio54HWspM6Sphpj1kjqK+mLQ2144jjOK47j5O2fA6XzAR8R4nbp3zefpK6Z8frbxGUa8fx0rdyyy3YsAAAA4JDqU8jNkdTWGJNtjAmTdLGkL37+0HGcMsdxkh3HyXIcJ0vSLEnDj7bZyU9ffVyhgYaQlRyt50b10MC2ydqwc6/Of2mm3pm1VlvK6//YJwAAANAYjlrIOY5TK+lmSRMlFUr60HGcJcaYR4wxw09odTpy8DEtkqL09tV99MkNA5QQGaoHPlusYc9N1+ptFbajAQAAAPsd9fiBhpKX7nbmzpgiZZ9sZX3gaKprPVq0YaeufGOOerRsojev7G07EgAAAAJIQx8/0HDoyMGHhYW41LNlom4+vY2mLtuqZyev4Lk5AAAA+AS7hRzgB67on62zOjbTU5OWa/DT0zRu0UbbkQAAABDkLBdydOTg+8JCXHr5sp4ad+tAdUiL1WMTltqOBAAAgCDHaCVQDy6XUcf0OI3skam1pXu0fvse25EAAAAQxOjIAcdgYNtkSdLv//WjtldUW04DAACAYBVidXU6cvAzrZvGqG1KjGYWlWrEC9PVs0UTZSfH6KbTWivEzSOnAAAAaBx05IBjYIzR2FsHasy1fRQbHqr8dTv096+X68Z356myps52PAAAAAQJWgjAMQoLcal/62SNu22gpv3+dD386476qmCz/m9coe1oAAAACBKWNzuxujrgFVcMyNY53dL16fwNqqqlKwcAAICGx2gl4AUjumeovLJWv35uupZv5tBwAAAANCyOHwC8YGCbZA3pnKotu6p00cszVbanxnYkAAAABDA6coAXhLhdGn1ZT718WU/t2FOjGau22Y4EAACAAMZmJ4AX9WzZRDHhIZq+kkIOAAAADYfRSsCLQtwu9W2VqDE/rNPoqatsxwEAAECAYrQS8LIr+mfLZaS/f71c5ZU8KwcAAADvoyMHeNlJbZP10fX9VV3r0VdLNtuOAwAAgAAUYnd5CjkEph4tEpSdHK1HxxeqcGO5zAGfuV1GI3tmql2zWGv5AAAA4N/sFnJ05BCgjDF69Td5uuGdfL0/e90vPquu8+i92ev01tV91K15gqWEAAAA8GfGsVRM5aW7nbmTP5dyhllZH7Bl/fY9uvS1H7S9olpvXNlLvbISbUcCAACABcaYfMdx8o7na9nsBGhkzROj9OH/9FNKXLh+8/psjflhnSYs3qgJizdq+optsvXDFQAAAPgPRisBC1LjI/TBdf102Ws/6A+fLvrFZx/f0E89W9KlAwAAwOGx2QlgSdPYcH1xywAVba2QJO2tqdPI0d9r+opSCjkAAAAcEccPABaFh7iVkxannLQ49WjRRJ3S4/T9qm22YwEAAMDH8Ywc4EP6t07W/HU7Vbq7ynYUAAAA+DDLhRyAA12Y11y1Ho/+8OkivTljtUp27rUdCQAAAD6I0UrAh7RJidEFPZtr4pLNevjfBbrn4x9tRwIAAIAPYrQS8DGPjszVgofO0t2D2mvaim3KX7vddiQAAAD4GDpygI8xxighKkxXDchWdJhb/8rfYDsSAAAAfAzPyAE+KjLMrTM7NtOExRtVU+exHQcAAAA+hI4c4MOG5qZpx54azVxVajsKAAAAfAgdOcCHndyuqWLCQzT2x422owAAAMCHsNkJ4MMiQt06q2MzTViySVt2VdqOAwAAAB/BaCXg464+KVvVtR71+etktb1/nEZPXWU7EgAAACyjIwf4uM4Z8fro+n666dQ26pwRrxemrNSOimrbsQAAAGARHTnAD3TOiNddg9rr0fO6aE91rW55b74qa+psxwIAAIAlbHYC+JH2qbF6/PyumrFqmy58eaZe/a5IHg8/EAEAAAg2jFYCfub8npl68oKu2l5Rrb+MK9RDXyyWQ3cbAAAgqDBaCfih83pkatrvT9P/nNxK78xapx5/mqS3Zq7R3mrGLQEAAIIBHTnATxljdO+QDvq/83LVtlmsHvp8iXr8aZI+zi/W7NXbtbuq1nZEAAAANJAQq6vTkQNOiDFGo3q30MgemRq7qESvfLdad360UJJ0XvcMPXVRN8sJAQAA0BDsFnJ05ACvCAtx6dzumRrUKVUL1u3UWzPXauKSTaqsqVNEqNt2PAAAAHgZu1YCASQqLET92yTrsr4tVVFdp6nLttqOBAAAgAbAZidAAOrbKlGJ0WEau2ij7SgAAABoAGx2AgSgELdLgzqlanLhZg4OBwAACEB05IAA9euuadpTXaf7PlmkWUWltuMAAADAi9jsBAhQ/Vol6fpTWuulb1fp0/kbNKp3CyXHhOn8nplqmRRtOx4AAABOAB05IED9fM7cnPvP1NDcNH2cX6znp6zUhS/P1NrSCtvxAAAAcALYtRIIcE1jw/XCpT20/C9DNOG2k1Vd69Elr/6gDTv32o4GAACA48RmJ0AQaZ8aq7ev7qPyyhpd/voPqq712I4EAACA48BoJRBkOmfE6+mLuqloa4U+m7/BdhwAAAAcB0YrgSB0eocUdUqP0+hvV6nOww9UAAAA/A0dOSAIGWN002lttHpbhcYv5tBwAAAAf8MzckCQGtwpVa2bRuuFKavk8EMVAAAAv8JoJRCkXC6jG05to8KN5Rq/eJPtOAAAADgGjFYCQWxEt3R1SI3VHR8u0KyiUttxAAAAUE+MVgJBLNTt0jvX9FFmkyhd9eYczV693XYkAAAA1AMdOSDIJceEa8y1fZQaH6Er35itzxds0PQV2zRnzXZ2tAQAAPBRIXaX55tEwBekxEbovWv76uJXZum29xfsf/+87hl64oKucrmMxXQAAAA4mOVCDoCvaBYXoS9vOUkFG8slSVOXbdELU1YpLjJUDw/vZDkdAAAADmS3kGO0EvAp0eEh6pWVKEnKa9lEe6rr9MaMNTqne4a6NU+wnA4AAAA/Y7MTAIdkjNGdZ7dXXESIXv52le04AAAAOACbnQA4rJjwEF2Y11xfF27Wrsoa23EAAADwEzpyAI5oUOdU1dQ5mrpsq+0oAAAA+AkdOQBH1KNFEyVFh+mdWWtVU+exHQcAAACyXcgB8Hlul9HvB7fXD6u3666PFmrppnJt3VVlOxYAAEBQ4xw5AEd1Ua8W2ra7Wn+buEyfLyhRmNul136bp5PbNbUdDQAAICgxWgmgXm48tbU+uK6vXry0h1o1jdZt78/Xnupa27EAAACCEpudAKgXY4z6tErSr3LT9OdzOmvHnhpd/848Fe/YYzsaAABA0OFAcADHLC8rUf1bJ+m75Vt1wUszdU73DKXGReiyvi3ldhnb8QAAAAIez8gBOC7vXN1HizaU6cZ35+m1aUWqqXP0VcEmXd63pQZ3TrMdDwAAIKBZLuQA+CuXy6hr8wTNuPd0SdJzk1foyUnLtai4TAPbNlV0OP95AQAAaCiWNzuxujoAL7rljLb69Mb+Kq+s1RszVtuOAwAAENAYrQTgNd1bNNHgTql6ctJyfTxvg1Jiw/X0xd2UFh9pOxoAAEBA4fgBAF7194u66ZqTspWbEa8lJeX67T9mq2xPje1YAAAAAYXjBwB4VWSYW/cP7ahnR3XXK5f31Jpte3TnRwttxwIAAAgodOQANJj+bZJ1y+lt9HXhZi3btMt2HAAAgIBhuSMHINBd1relIkJdenVake0oAAAAAYPRSgANqkl0mC7o2VyfL9igLeWVtuMAAAAEBEYrATS4q0/KVp3H0e8//lFf/liiJSVltiMBAAD4NYuFnBEdOSA4ZCVH648jOmvqsq26ecx8DX9+hqYs3WI7FgAAgN+ye44cHTkgaFzet6XOzElR2d4a/e79BXr430t0avumMsbYjgYAAOB32OwEQKNJi49Uh9Q4Xdq3pdaW7lHRtgrbkQAAAPySvULOSIxWAsHp9A4pkqRJBZstJwEAAPBPbHYCoNFlJESqd3ainp28Qv/7+WJtZjdLAACAY8LxAwCseH5Ud3VMi9N7s9frwpdn6omJy1Rb57EdCwAAwC9Y3OzE0JEDglhKXIT+dUN/zVi5TX8ZW6jnp6zUt8u3KikmTLec3kY9WybajggAAOCz6MgBsGpAm2SNu22g7v9Vjtwuo/w1O/TYhGW2YwEAAPi0enXkjDGDJT0jyS3pNcdxHj3o8zskXSOpVtJWSVc5jrPWy1kBBLBrT26la09upVe/K9JfxhVqyDPT9PPBBOd0T9d1J7e2mg8AAMCXHLWQM8a4Jb0g6SxJxZLmGGO+cByn4IDL5kvKcxxnjzHmBkmPS7roqKszWgngIBf3bq6CjeXaVVkrSdq6u0p/HbdU7/6wTi5j1DwxSs9e3E0JUWGWkwIAANhTn45cb0krHccpkiRjzPuSRkjaX8g5jjPlgOtnSbqsfstTyAH4pdiIUP39om77X9fWefTM5BVaW7pHjqSJizfpurfz9fbVvRUe4rYXFAAAwKL6FHIZktYf8LpYUp8jXH+1pPGH+sAYc52k6ySpR5qbjhyAowpxu3Tn2e33v/58wQbd9v4C3f3Rj3r6om5yucwRvhoAACAw1aeQO9R3SYeswIwxl0nKk3TKoT53HOcVSa9IUl5GGFUcgGM2oluGinfs1d8mLtOEJZv2/weqa/MEvf7bPMVGhFrNBwAA0BjqU8gVS2p+wOtMSSUHX2SMOVPS/ZJOcRynql6r05EDcBxuPLW1kmPCVLStQpJUVePR27PW6qYx8/XK5T0VEcrIJQAACGz1KeTmSGprjMmWtEHSxZIuOfACY0x3SS9LGuw4zhavpwSAAxhjdFGvFr94r0NqrO79ZJE6PjRBr1/RS6e1T7GUDgAAoOEd9Rw5x3FqJd0saaKkQkkfOo6zxBjziDFm+E+X/U1SjKSPjDELjDFfHHVlI7HZCQBvubh3C42+tIc8jvTtsq224wAAADSoep0j5zjOOEnjDnrvoQN+feZxrc5oJQAvGpKbpt7ZiVqwfqftKAAAAA3qqB25hkUhB8C7ujdPUEFJuapq62xHAQAAaDB2Czk6cgC8rHuLJqqu8+i9H9Zp1dbdqq712I4EAADgdfUarWwYRnTkAHjb6R1S1K9Vkh7+d4GkfZugPHFBV4W6XYqPDFVqfITlhAAAACfOYiEHAN4XFuLS61fkaeqyrdpSXqk/jy3UsOem7/vM7dLkO09R88QoyykBAABOjN1CjtFKAA0gKixEv8pNkyT1bZ2koq0Vqqyp010fLdS7P6zTvUM6WE4IAABwYix35CjkADSsDqlx6pAaJ0n6aslmvT9nnX53ZlsODQcAAH6NzU4ABI3f9s/Szj01+mJhie0oAAAAJ4TjBwAEjb6tEtUhNVbPfL1Cc9ZsV20dO1oCAAD/ZLGQM/aWBhCUjDF6/PwuKq2o0gUvzdQr04psRwIAADgujFYCCCpdMhM06fZT1DIpSm/PXEtXDgAA+CVGKwEEneaJUfrDr3K0saxSXxdusR0HAADgmNkr5IzoyAGw5owOKcpIiNRbM9fYjgIAAHDM6MgBCEohbpcu7dtC368q1Tuz1mrumu2qqKq1HQsAAKBeOBAcQNC6akC2JhVs1gOfLZYkDeuSpucv6WE5FQAAwNFZLOTYtRKAXRGhbr13bV/lr92hT+Zt0OcLNmhzeaWaxUXYjgYAAHBEjFYCCGoRoW4NaJOsW89oozrH0Z++LNCPxTu1dVeV7WgAAACHZXm00urqALBfy6Ro3XlWOz3x1XJ9+eNGRYW59dH1/dQpPd52NAAAgP9CRw4AfnLTaW30r+v76eXLeyo+MlTX/nOuFq7fqWWbdmlzeaXteAAAAPux2QkA/MQYo7ysRElSRkKkzn/pe414YYYkyWWkJy7oqq7NEyRJkaFupSdEWssKAACCm91Cjo4cAB/VOSNeY28dqGWbdkmSXv52le74cOEvrrnjrHY6p1uGUuLCFRHqthETAAAEKcuFHAD4rtZNY9S6aYwk6aS2yfpu+VbVefb9AGrcoo16atJyPTVpuTKbROq13+YpzO1STZ2jpJgwJceE24wOAAACHKOVAFAPcRGhGtYlff/rwZ1TNblwi0orqvWXsQUa/PS0/Z+Fhbj04iU9lJUcrVbJ0XK5OG4FAAB4l+Vz5CjkAPin8BC3fpWbJknKa9lEizeUKSzEJbfL6PEJy3TNW3MlSUM6p+q+ITmHvEd8VKjiI0MbLTMAAAgc9go5IzpyAAJCTlqcctLi9r/u2ypJs4pKtai4TC9/V6Txizcd8usiQl169Td5at8sVk1jw2UMnTsAAFA/bHYCAF6WHBOuYV3SNTQ3TQPaJB/ycHFH0rOTV+jy12dLkoZ1SdPj53dRVBiPLgMAgKPjGTkAaCDGGJ3crulhPx/YNlnfLN2iZZt26c3v1+irJZv1zMXdNOSnkU0AAIDD4Ue/AGBJs7gIjerdQo7jqE92ol76rkh3frRQvbIT2fUSAAAckcvu8nTkAMAYoyG5aXrygi7aU12nj+YW244EAAB8nMVCzjBaCQAHaJMSq97ZiXpn1lqVV9bYjgMAAHyY3Y6ch29UAOBAdw9qr83llRrw6Dd6/psVtuMAAAAfZa+QC4mQNi2ytjwA+KJeWYl65Tc91SUzXk98tVxfLCyxHQkAAPgg41gab8zr0MKZe3GZdOdyKbaZlQwA4Kuqaz269LVZWlhcplbJ0b/4LDo8RH8c3kmdM+ItpQMAAN5gjMl3HCfveL7W3q6VYdGSyqT1s6SOI6zFAABfFBbi0ouX9tTjE5aqbO8vx9Dnr9+py1//Qa2bxvzi/fjIUD19cTfFRoQ2ZlQAAGCBvUIuNEpyhUglCyjkAOAQmsaG628XdP2v9wtKyvXkV8tUWVu3/73aOkeTl27Rp/M36Df9shoxJQAAsMFeIWeMFJcula23FgEA/FHH9Di9fkWv/3p/2HPT9MKUlZq9erskKczt0l2D2is9IbKxIwIAgAZmd9fKhJbSTgo5APCGW09vq9iIUBVsLFfBxnJ9vrBEr01bbTsWAABoAPY6cpIU31wqmmo1AgAEirM7persTqn7X980Zp7+MWO1WiRG6ooB2RaTAQAAb7PckWsh7doo1VZbjQEAgeiqn4q3h/9doCUlZZbTAAAAb7LbkUtoLsmRyjdIify0GAC8qWfLJlrw0Fnq/dfJemzCMvVvnSTPAUfOdMlI0Eltky0mBAAAx8v+aKUk7VxHIQcADSAhKkzndsvQB3PX67vlW3/xmctIvx/cQSN7ZKppbLilhAAA4HjYLeR+Lt62r5JanWI1CgAEqv87L1f3Dumg8FCXXMZIkipr6nTJqz/o0fFL9cm8Yt12RjsZI7VrFqM2KbGWEwMAgKOx35ELi5G2FFqNAQCBzOUyahId9ov3IkLd+uLmAfpm6Rbd+O483TRmnqR9B5E/fVE3ndKuqaLD7f4vAgAAHJ7d/0sbI6XkUMgBgAUhbpfO7pSq7+87XTsqalRVW6fr387Xje/O0wU9Mw95GDkAAPANdnetlPYVcpuXSAc8gA8AaDwpsRFqnxqrLpkJGn/byeqdnaiP5xVrw869tqMBAIDD8IFCrqO0d7u09EvbSQAg6MVHheqBoTnyONKAR7/R2B83qrbOo9o6j+1oAADgAMax1AnLy8tz5s6dK5UVS28Ok3askW7Jl5JaW8kDAPiPiUs26cUpK7Ww+D/nz13RP0sPD+9kMRUAAIHFGJPvOE7e8Xyt/SfZ4zOlqyZIf+8kTXtKGvaUFMI22ABg06BOqcpr2UQf5RerptajZZt36c3v16hjWpwu7NXcdjwAAIKe/UJOkmJTpW6XSvP+KW1aKLU+Q+p0jpTe3XYyAAhaSTHhuv6UfVMSdR5HO/ZU6/7PFunT+Rv0zKhuSomNsJwQAIDgZX+08meeOqnwC+mzG6WaPZJxSQNuk05/UHK5rWQEAPxH6e4qPTVpuT6eV6zkmHClJ0RKkmLCQ3T/0By1bhpjOSEAAP7lREYrfaeQ+1nNXqlqtzT5j9L8t6Wuo6RzX2r8gACAQ5pUsFlvzFgtz0///ygoKVezuAh9fvMARYX5xqAHAAD+wL+fkTtYaOS+v0Y8L0U3laY/JbU+XYpsIlWWSTnDpZCwo98HANAgzurYTGd1bLb/9bQVW/Wbf8zWlW/M0dUnZevsTqkW0wEAEBx8ryN3oKrd0tO5+44n+FmrU6WL3pHCYxsyHgDgGLw2rUhPf71Ce6prdeOpbRQVvm8kvnXTGA2isAMA4JACa7TyYCXzpS2FUpMsadty6cs7JDlS5/Olka82dEwAQD3trqrVqFdmadGGsl+8f/VJ2bp2YCulxrM5CgAABwrsQu5gq7+TPr9J2rlOummO1LSd98MBAI6Lx+Oo+qfDw+s8jq7+5xzNKtqujIRI/fW8XLmNkSS1axajlDgKOwBAcAuuQk6SKrbtO3euWed9z8/tXCfFZ0in/kFy+95jfwAQrOo8jr4u3KxbxszfX+BJUnxkqP5xRS+lxIareWKUxYQAANgTfIWcJBV8IX1yrVRbte8cul0bpbAYacDvpFPu9l5QAMAJ27Bzr0p27pUk7a6s1a3vzdeuqlpJ0u8Ht9eNp7axGQ8AACuCs5CTpOoKyRW6bxfLBWP2PT9njHTmw/u6dLFpUv+bvREXAOBFa7ZVaNGGMn2xsESTCzdrzLV91bdVku1YAAA0quAt5A62dZk0ur/kqf3PezfOklJyvLsOAMArdlfVavhz07W7qlZjbx2oprHhtiMBANBoKOQOtGOt5A7b99ffO0qdzuVAcQDwYYUby3XOCzMUFxmqJlGhCg9x68FhHdU7O9F2NAAAGhSF3OFMekia8YzUtIP0/+3dd5SdZZ3A8e9vWnohmUBCEhIgCRATRBKKggsKKGUPWCiJBQi47CKK7XCWXQus7irKUY9dRLCAbARUzKHI2lhXSegukCwllBRMIb1PffaP9yaZTKbcZObeO3fm+znnnrzv+zz3fX7JeXLv/OYpb1TAOV+FCW8pbJuSpH32x+dWc+fjywB4evlGttY3csz44d1y71nHjefMaWO65V6SJHUnE7n2NDfB766HtYth1ULYsQEuvS/b7TK3BbYkqWd5cdVmrpu3kK11jZ1X7sSaLfW8vrmO984YS0QwadRg5pw0kfA7QJLUA5jI5WP9ErjlDNiyCg4+NptuWTvFhE6SerF1W+v50E8eY+m67TSnxLqt9cw+fjzjDtj9yIPDagdx1nRH7CRJxWcil6+1L8Ej34fHfgipGY6eBX93DdS67bUk9XbNzYmr5z7FvU+v2KvsE6dPYWJtltyNGFTDyZNqHbWTJBWcidy+WvYoPHITPHt3dn7Sx2DY+Ozh4iMPL01MkqSiqGts2nXc3AyX/uhRHnll3R51rj5tMqdMGcXUMUMZUFNZ7BAlSX2Eidz+SClL6B7+Jjx3b3ZtwAh442yo25R7bYap74IZl5QuTklSQTU2NbNk3bZd5zc88By/XbQKgCNHD+FHc45jSP9qBverKlWIkqReykSuK1KCzStg6xq46xLYshr6DYF+Q6G5Ada9DBNOyqZiNjfC2Jnwzi9CRUWpI5ckFUB9YzOPvbqOV9Zs5TP3PAtATVUFN188k1OmjCpxdJKk3sRErlAadsB9n4R1r0BFJTQ1wLIFUHtEtklK/TZo2AqNdVmiV1kNZ90IR18ITfVQvzV7VVbDkNGl/ttIkvbR/JfWsvj1Ldw2/1UWr95Cv6p9n2Y5uH8V35r9Jk48bGT3ByhJKmsmcsWSEvz5a7DkYageCDWDsj+r+mcjdEvmw2tPZM+sS017vvedX4KJJ8GIw6Hf4NLEL0naL8vXb+OOR5bS2Lzv35kPLlzJ2i31jB0+oN06F79lAu8/YUJXQpQklSETuZ5i+3pY8L1s5K5m0O7Xs7+Alx/K6gyfAO+9JZu22X84HDS1pCFLkgpr8erNfOsPi6lraG6zfNGKTdQ1NvHwtadRWeFOmZLUl5jI9XT122Dxb2HHRrjvU9m0y53OuhEOPAqa6rIEsLkpm6aZmrNRvZRy6/NaXt9Z1pxtudbW9V2v1Oo8dy/S7vKdhoyGE66EShf0S1Kx3Pf0Cq6640nOnzGOEYNqdl2vrAgumjmeibWDShidJKmQupLI+RN7MdQMhKnnZcfjjss2UKkeCA/dAA9cU7w4omLPF5E7jiyha9iaTQ09aBpZorfzjWl3wlczCI69GPoPLV7cktSLnXbUgUw+cDD3tXq+XX1TM795diX3fvRkBrljpiSpFUfkSqlhOyxdABVVUFmTbYpSUbVnslVRuTvZilbHu8pale9xvUV5Zx78NMz/duf1DnsbHHF2q5HBpt3nUQHTL4Th47v+byRJfdSCl9fyvpsXcM7RBzP7+PFMPnAIo4b0K3VYkqRu5NRKdZ/GutxBtEj+dh4HPH4L3H8NLYbr2jZyEpx4ZW5qZ2KPqZypee/zXddSqzqp1Z8tp4i2OK6dDMd9KL+EVZLKxNd/+wLf+P2LAAwfWM3cK05k+ICaNusOqKlk2IDqYoYnSeoiEzkV1/b12QjcXiOHuZHAZQvgZxdA445uarBFItnWaCNkD3CfMQeGH5JN/zzmfdnzACWpjKWUeOa1jazeVMfVc59iW31Tu3WrK4ObPjiDtx95UBEjlCR1hYmcep66zdkmLxEt1uO1WJPXeo1eW+v28h1da26Gu+fAont2X5t0Bkx7z96jgbQ14kfH5TuPh46F6Rc46iepJJ5buYmnlm5ot/wnD7/KC6s20786v2fdHTVmKD+97HjX30lSCZnISZA9wB2y6Z8P/mth2jjxKhg9PXfS6v/OHv+X8izb6/9fi/OoyNYiDqrdv1gl9SmvbdjOzxYsoaGp7ccctFTf2MxtC5Yw9oAB+zQdc2B1FdedO5U3HDysK6FKknJM5KTWNq3IHunQclrmrk1fYu+Rwl3XOii/58o9R/2KYfR0OP367LjlLqK7DlN+10ZOytYRSlLO5sUIcwAAC8BJREFU3U8s54FnVnResYX/Xb6BmsoKjj90xK5rA2oqueptkxh3wMDuDlGSej0TOakYUoINS/YcRdtjmmWrKZddLVu6AO6+jE43lslHRTVcdPvunUTbGyEcMsYRQEntemLJOj79q2fZ3rB7rd7KjTs4bNRgzpk+ete1/tWVXDBjPMMGuvmKJHXERE7qrda+BFvXZMctdxHdqfW1XUWxu7ypAe6aA5uWd95e9SCYcx+MODx3ob1poB1NHW15v4FQ3b/zdiWVrQcXruRjc59iR8OeUzrfOrmW958wIa97jBnWnzeOH16I8CSpRzORk9Sxzatg6fyOk8HmpuzREltXd1+7/YfBnAfgoDd03z0l9ThNzYnmFj9PzH10KZ/99cJ9useN5x/NsRMO6HIsA6orOXj4gC7fR5KKwUROUvdY8yK88BvaHvVj366nBH/+Gmzf0P6oXEU1vOPf4ZjZXQxcUk+zdO02ttQ1dlovkbj2F8/wzGsbu63tz/39VC47+dBuu58kFYqJnKSeaeUz8Nc7co9waMOyR2DVQjhwaouLbXwmdbS7Z5tv6WzqZ28rpw0liHHUETB7LvQb3FZAUrs2bmvgTy++vseo3v765ZOv8d8vvE5VxZ7rj4cPrOHWS2dy9DincErqOUzkJJWnLa/Df30me8h8S3s9q6+jzWLyKW9Dt7dRZuVtXupCG9s3ZLu61h4Bg0btvj5qCpz1Fah00wsVx8btDdy+YAnb6vccDfzlk6+xvaGJg4f1zmmXg/tX8R/vmsbkg4aUOhRJ+8BETpJUek/8GJ6+a/d5cyMsWwCTTofh+W160SWTz4Ajzip8OypLzyzfyHcfWkxDU2l+7im0J5asY0j/amZ0wzrDYqmsCD701kM5cvTQUocilYyJnCSpZ/rd9fDkbYVvp7EOGrfD2z+b7ZZaaFX9YNp7oJ+jH+oZHl68huvmLaSusfMHwvcUa7fUccCgGj54YhF+0aP9duSYoZwyZVTnFbVfTOQkSX3b9vVw82mw7qXitTnlTHjzVYVvp2jf00Vop1h/l0G1MHp6cdrSfntiyTouvfUxNuexKY5K64vvns7YAzqeljxhxEAm1g4qUkS9R8ETuYg4E/gGUAn8MKV0Q6vyfsBPgRnAWuCilNKrHd3TRE6S1K2aGmDHpuK09dRt8LvritOW9s+534Ip7Uy1jQoYNLK48ahN9Y3NNDaXzyhiX1PX0MyFN83nxdVbOq1bXRncdvkJHDaqvJO5AdWVDOlfvHXdBU3kIqISeAE4A1gOPAbMTiktalHnw8DRKaV/iohZwLtTShd1dF8TOUlS2UoJVj4NdZuL1GAeG/h0uYkitJE1VPgmfv9v2bMzO3L8P8LZXyl8LFKZ21bfyP+t6PizrrGpmY/N/SsrN+0oUlSFU1NVwa2XHMfJk2uL0l5XErmqPOocDyxOKb2ca2wucB6wqEWd84Drc8d3A9+OiEilmrcpSVIhRcCYN5Y6CrVn1h2w6NfZhjttWfYoPHoTLPxVceOSytBAsil3nflLVaJ+aPmPrm5vaKLp9sSaIvxya1XN+C69P59EbiywrMX5cuCE9uqklBojYiMwEljTpegkSZL21cARMHNO++XHXgIjJ8HmFcWLSerlKoHe8HCPhh2NvLRyE4VOSaOpgRnrH+jSPfJJ5NpKR1uPtOVTh4i4ArgC4JBDDsmjaUmSpG5WVQOn/nOpo5DUAw0FjitSW/Nv/jjZNiT7pyKPOsuBluN+44C/tVcnIqqAYcC61jdKKf0gpTQzpTRz1Ci3MZUkSZLUN51w2Ve79P58ErnHgMkRcWhE1ACzgHmt6swDLskdnw/8wfVxkiRJktS2isrKLr2/06mVuTVvHwEeJJv+emtKaWFEfB54PKU0D7gFuC0iFpONxM3qUlSSJEmSpHbls0aOlNL9wP2trn2uxfEO4ILuDU2SJEmS1JZ8plZKkiRJknoQEzlJkiRJKjMmcpIkSZJUZkzkJEmSJKnMmMhJkiRJUpkxkZMkSZKkMmMiJ0mSJEllxkROkiRJksqMiZwkSZIklRkTOUmSJEkqMyZykiRJklRmTOQkSZIkqcyYyEmSJElSmTGRkyRJkqQyYyInSZIkSWUmUkqlaThiM/B8SRqXOlYLrCl1EFI77J/qqeyb6snsn+qpjkgpDdmfN1Z1dyT74PmU0swSti+1KSIet2+qp7J/qqeyb6ons3+qp4qIx/f3vU6tlCRJkqQyYyInSZIkSWWmlIncD0rYttQR+6Z6Mvuneir7pnoy+6d6qv3umyXb7ESSJEmStH+cWilJkiRJZabgiVxEnBkRz0fE4oi4to3yfhHx81z5IxExsdAxSZBX3/xkRCyKiKcj4vcRMaEUcapv6qx/tqh3fkSkiHA3NhVFPn0zIi7MfX4ujIg7ih2j+qY8vtcPiYg/RsRTue/2s0sRp/qeiLg1IlZHxLPtlEdEfDPXd5+OiGPzuW9BE7mIqAS+A5wFTAVmR8TUVtUuB9anlCYBXwe+XMiYJMi7bz4FzEwpHQ3cDXyluFGqr8qzfxIRQ4CrgUeKG6H6qnz6ZkRMBv4FOCml9Abg40UPVH1Onp+bnwHuTCm9CZgFfLe4UaoP+zFwZgflZwGTc68rgO/lc9NCj8gdDyxOKb2cUqoH5gLntapzHvCT3PHdwGkREQWOS+q0b6aU/phS2pY7XQCMK3KM6rvy+ewE+ALZLxh2FDM49Wn59M1/AL6TUloPkFJaXeQY1Tfl0zcTMDR3PAz4WxHjUx+WUvoTsK6DKucBP02ZBcDwiBjT2X0LnciNBZa1OF+eu9ZmnZRSI7ARGFnguKR8+mZLlwMPFDQiabdO+2dEvAkYn1K6t5iBqc/L57NzCjAlIv4SEQsioqPfQkvdJZ++eT3wgYhYDtwPfLQ4oUmd2tefSwGoKlg4mbZG1lpvk5lPHam75d3vIuIDwEzglIJGJO3WYf+MiAqyqeiXFisgKSefz84qsulBp5LNZPifiJiWUtpQ4NjUt+XTN2cDP04pfTUi3gzcluubzYUPT+rQfuVDhR6RWw6Mb3E+jr2HsXfViYgqsqHujoYepe6QT98kIk4HPg2cm1KqK1JsUmf9cwgwDXgoIl4FTgTmueGJiiDf7/Vfp5QaUkqvAM+TJXZSIeXTNy8H7gRIKc0H+gO1RYlO6lheP5e2VuhE7jFgckQcGhE1ZAtL57WqMw+4JHd8PvCH5MPtVHid9s3c1LWbyJI413iomDrsnymljSml2pTSxJTSRLI1nOemlB4vTbjqQ/L5Xr8HeBtARNSSTbV8uahRqi/Kp28uBU4DiIijyBK514sapdS2ecDFud0rTwQ2ppRWdPamgk6tTCk1RsRHgAeBSuDWlNLCiPg88HhKaR5wC9nQ9mKykbhZhYxJgrz75o3AYOCu3P47S1NK55YsaPUZefZPqejy7JsPAu+IiEVAE3BNSmlt6aJWX5Bn3/wUcHNEfIJs2tqlDh6oGCLiP8mmm9fm1mheB1QDpJS+T7Zm82xgMbANmJPXfe2/kiRJklReCv5AcEmSJElS9zKRkyRJkqQyYyInSZIkSWXGRE6SJEmSyoyJnCRJkiSVGRM5SVKvFhHDI+LDpY5DkqTuZCInSerthgN7JXIRUVmCWCRJ6hYFfSC4JEk9wA3A4RHxV6AB2AKsAI6JiOOAO4FxZA8R/kJK6ecli1SSpDyZyEmSertrgWkppWMi4lTgvtz5KxHxXuBvKaVzACJiWAnjlCQpb06tlCT1NY+mlF7JHT8DnB4RX46It6aUNpYyMEmS8mUiJ0nqa7buPEgpvQDMIEvovhQRnytZVJIk7QOnVkqServNwJC2CiLiYGBdSun2iNgCXFrMwCRJ2l8mcpKkXi2ltDYi/hIRzwLbgVUtiqcDN0ZEM9lGKFeWIkZJkvZVpJRKHYMkSZIkaR+4Rk6SJEmSyoyJnCRJkiSVGRM5SZIkSSozJnKSJEmSVGZM5CRJkiSpzJjISZIkSVKZMZGTJEmSpDJjIidJkiRJZeb/AeylRQkO8fGKAAAAAElFTkSuQmCC\n",
      "text/plain": [
       "<Figure size 1080x576 with 1 Axes>"
      ]
     },
     "metadata": {
      "needs_background": "light"
     },
     "output_type": "display_data"
    }
   ],
   "source": [
    "print('F1 score')\n",
    "df_scores.plot(x= 'trs',y=['f1s', 'f1s_bl'], figsize=(15, 8))"
   ]
  },
  {
   "cell_type": "code",
   "execution_count": 73,
   "metadata": {},
   "outputs": [
    {
     "data": {
      "text/html": [
       "<div>\n",
       "<style scoped>\n",
       "    .dataframe tbody tr th:only-of-type {\n",
       "        vertical-align: middle;\n",
       "    }\n",
       "\n",
       "    .dataframe tbody tr th {\n",
       "        vertical-align: top;\n",
       "    }\n",
       "\n",
       "    .dataframe thead th {\n",
       "        text-align: right;\n",
       "    }\n",
       "</style>\n",
       "<table border=\"1\" class=\"dataframe\">\n",
       "  <thead>\n",
       "    <tr style=\"text-align: right;\">\n",
       "      <th></th>\n",
       "      <th>trs</th>\n",
       "      <th>precs</th>\n",
       "      <th>recs</th>\n",
       "      <th>accs</th>\n",
       "      <th>f1s</th>\n",
       "      <th>precs_bl</th>\n",
       "      <th>recs_bl</th>\n",
       "      <th>accs_bl</th>\n",
       "      <th>f1s_bl</th>\n",
       "    </tr>\n",
       "  </thead>\n",
       "  <tbody>\n",
       "    <tr>\n",
       "      <td>count</td>\n",
       "      <td>1001.000000</td>\n",
       "      <td>1001.000000</td>\n",
       "      <td>1001.000000</td>\n",
       "      <td>1001.000000</td>\n",
       "      <td>1001.000000</td>\n",
       "      <td>1001.000000</td>\n",
       "      <td>1001.000000</td>\n",
       "      <td>1001.000000</td>\n",
       "      <td>1001.000000</td>\n",
       "    </tr>\n",
       "    <tr>\n",
       "      <td>mean</td>\n",
       "      <td>0.500000</td>\n",
       "      <td>0.982235</td>\n",
       "      <td>0.135670</td>\n",
       "      <td>0.562429</td>\n",
       "      <td>0.189205</td>\n",
       "      <td>0.459709</td>\n",
       "      <td>0.010402</td>\n",
       "      <td>0.491885</td>\n",
       "      <td>0.017854</td>\n",
       "    </tr>\n",
       "    <tr>\n",
       "      <td>std</td>\n",
       "      <td>0.289108</td>\n",
       "      <td>0.049653</td>\n",
       "      <td>0.205739</td>\n",
       "      <td>0.089181</td>\n",
       "      <td>0.242398</td>\n",
       "      <td>0.247799</td>\n",
       "      <td>0.033286</td>\n",
       "      <td>0.017740</td>\n",
       "      <td>0.027617</td>\n",
       "    </tr>\n",
       "    <tr>\n",
       "      <td>min</td>\n",
       "      <td>0.000000</td>\n",
       "      <td>0.000000</td>\n",
       "      <td>0.000000</td>\n",
       "      <td>0.500000</td>\n",
       "      <td>0.000000</td>\n",
       "      <td>0.000000</td>\n",
       "      <td>0.000000</td>\n",
       "      <td>0.344334</td>\n",
       "      <td>0.000000</td>\n",
       "    </tr>\n",
       "    <tr>\n",
       "      <td>25%</td>\n",
       "      <td>0.250000</td>\n",
       "      <td>0.978723</td>\n",
       "      <td>0.006227</td>\n",
       "      <td>0.503113</td>\n",
       "      <td>0.012376</td>\n",
       "      <td>0.300000</td>\n",
       "      <td>0.001245</td>\n",
       "      <td>0.492528</td>\n",
       "      <td>0.002488</td>\n",
       "    </tr>\n",
       "    <tr>\n",
       "      <td>50%</td>\n",
       "      <td>0.500000</td>\n",
       "      <td>1.000000</td>\n",
       "      <td>0.029888</td>\n",
       "      <td>0.514944</td>\n",
       "      <td>0.058041</td>\n",
       "      <td>0.375000</td>\n",
       "      <td>0.004981</td>\n",
       "      <td>0.498755</td>\n",
       "      <td>0.009840</td>\n",
       "    </tr>\n",
       "    <tr>\n",
       "      <td>75%</td>\n",
       "      <td>0.750000</td>\n",
       "      <td>1.000000</td>\n",
       "      <td>0.186800</td>\n",
       "      <td>0.590909</td>\n",
       "      <td>0.313480</td>\n",
       "      <td>0.500000</td>\n",
       "      <td>0.013699</td>\n",
       "      <td>0.500000</td>\n",
       "      <td>0.026316</td>\n",
       "    </tr>\n",
       "    <tr>\n",
       "      <td>max</td>\n",
       "      <td>1.000000</td>\n",
       "      <td>1.000000</td>\n",
       "      <td>1.000000</td>\n",
       "      <td>0.821918</td>\n",
       "      <td>0.826744</td>\n",
       "      <td>1.000000</td>\n",
       "      <td>1.000000</td>\n",
       "      <td>0.500623</td>\n",
       "      <td>0.666667</td>\n",
       "    </tr>\n",
       "  </tbody>\n",
       "</table>\n",
       "</div>"
      ],
      "text/plain": [
       "               trs        precs         recs         accs          f1s  \\\n",
       "count  1001.000000  1001.000000  1001.000000  1001.000000  1001.000000   \n",
       "mean      0.500000     0.982235     0.135670     0.562429     0.189205   \n",
       "std       0.289108     0.049653     0.205739     0.089181     0.242398   \n",
       "min       0.000000     0.000000     0.000000     0.500000     0.000000   \n",
       "25%       0.250000     0.978723     0.006227     0.503113     0.012376   \n",
       "50%       0.500000     1.000000     0.029888     0.514944     0.058041   \n",
       "75%       0.750000     1.000000     0.186800     0.590909     0.313480   \n",
       "max       1.000000     1.000000     1.000000     0.821918     0.826744   \n",
       "\n",
       "          precs_bl      recs_bl      accs_bl       f1s_bl  \n",
       "count  1001.000000  1001.000000  1001.000000  1001.000000  \n",
       "mean      0.459709     0.010402     0.491885     0.017854  \n",
       "std       0.247799     0.033286     0.017740     0.027617  \n",
       "min       0.000000     0.000000     0.344334     0.000000  \n",
       "25%       0.300000     0.001245     0.492528     0.002488  \n",
       "50%       0.375000     0.004981     0.498755     0.009840  \n",
       "75%       0.500000     0.013699     0.500000     0.026316  \n",
       "max       1.000000     1.000000     0.500623     0.666667  "
      ]
     },
     "execution_count": 73,
     "metadata": {},
     "output_type": "execute_result"
    }
   ],
   "source": [
    "df_scores.describe()"
   ]
  },
  {
   "cell_type": "markdown",
   "metadata": {},
   "source": [
    "### Distributions"
   ]
  },
  {
   "cell_type": "code",
   "execution_count": 74,
   "metadata": {},
   "outputs": [
    {
     "name": "stdout",
     "output_type": "stream",
     "text": [
      "Vae detector\n"
     ]
    },
    {
     "data": {
      "text/plain": [
       "<matplotlib.axes._subplots.AxesSubplot at 0x7fbc343f5a58>"
      ]
     },
     "execution_count": 74,
     "metadata": {},
     "output_type": "execute_result"
    },
    {
     "data": {
      "image/png": "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\n",
      "text/plain": [
       "<Figure size 1080x576 with 1 Axes>"
      ]
     },
     "metadata": {
      "needs_background": "light"
     },
     "output_type": "display_data"
    }
   ],
   "source": [
    "print('Vae detector')\n",
    "fig, ax = plt.subplots(figsize=(15, 8))\n",
    "sns.distplot(kl_test, rug=True, ax=ax, kde=False)\n",
    "plt.axvline(sigma_plus, c='r', linestyle='dashed')\n",
    "sns.distplot(kl_adv, rug=True,ax=ax, kde=False)"
   ]
  },
  {
   "cell_type": "code",
   "execution_count": 75,
   "metadata": {},
   "outputs": [
    {
     "name": "stdout",
     "output_type": "stream",
     "text": [
      "Naive detector baseline\n"
     ]
    },
    {
     "data": {
      "text/plain": [
       "<matplotlib.axes._subplots.AxesSubplot at 0x7fbbe042e320>"
      ]
     },
     "execution_count": 75,
     "metadata": {},
     "output_type": "execute_result"
    },
    {
     "data": {
      "image/png": "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\n",
      "text/plain": [
       "<Figure size 1080x576 with 1 Axes>"
      ]
     },
     "metadata": {
      "needs_background": "light"
     },
     "output_type": "display_data"
    }
   ],
   "source": [
    "print('Naive detector baseline')\n",
    "fig, ax = plt.subplots(figsize=(15, 8))\n",
    "sns.distplot(df_dist['test'], rug=True, ax=ax, kde=False)\n",
    "plt.axvline(sigma_plus, c='r', linestyle='dashed')\n",
    "sns.distplot(df_dist['adv'], rug=True,ax=ax, kde=False)"
   ]
  },
  {
   "cell_type": "markdown",
   "metadata": {},
   "source": [
    "# Model accuracy with adv samples "
   ]
  },
  {
   "cell_type": "code",
   "execution_count": 79,
   "metadata": {},
   "outputs": [
    {
     "data": {
      "text/html": [
       "<div>\n",
       "<style scoped>\n",
       "    .dataframe tbody tr th:only-of-type {\n",
       "        vertical-align: middle;\n",
       "    }\n",
       "\n",
       "    .dataframe tbody tr th {\n",
       "        vertical-align: top;\n",
       "    }\n",
       "\n",
       "    .dataframe thead th {\n",
       "        text-align: right;\n",
       "    }\n",
       "</style>\n",
       "<table border=\"1\" class=\"dataframe\">\n",
       "  <thead>\n",
       "    <tr style=\"text-align: right;\">\n",
       "      <th></th>\n",
       "      <th>acc_no_attack</th>\n",
       "      <th>acc_attack</th>\n",
       "      <th>acc_defence</th>\n",
       "    </tr>\n",
       "    <tr>\n",
       "      <th>loss_w</th>\n",
       "      <th></th>\n",
       "      <th></th>\n",
       "      <th></th>\n",
       "    </tr>\n",
       "  </thead>\n",
       "  <tbody>\n",
       "    <tr>\n",
       "      <td>0.0</td>\n",
       "      <td>0.936</td>\n",
       "      <td>0.250</td>\n",
       "      <td>0.659</td>\n",
       "    </tr>\n",
       "    <tr>\n",
       "      <td>0.1</td>\n",
       "      <td>0.936</td>\n",
       "      <td>0.197</td>\n",
       "      <td>0.747</td>\n",
       "    </tr>\n",
       "    <tr>\n",
       "      <td>0.2</td>\n",
       "      <td>0.936</td>\n",
       "      <td>0.271</td>\n",
       "      <td>0.712</td>\n",
       "    </tr>\n",
       "    <tr>\n",
       "      <td>0.3</td>\n",
       "      <td>0.936</td>\n",
       "      <td>0.341</td>\n",
       "      <td>0.687</td>\n",
       "    </tr>\n",
       "    <tr>\n",
       "      <td>0.4</td>\n",
       "      <td>0.936</td>\n",
       "      <td>0.422</td>\n",
       "      <td>0.682</td>\n",
       "    </tr>\n",
       "    <tr>\n",
       "      <td>0.5</td>\n",
       "      <td>0.936</td>\n",
       "      <td>0.476</td>\n",
       "      <td>0.666</td>\n",
       "    </tr>\n",
       "    <tr>\n",
       "      <td>0.6</td>\n",
       "      <td>0.936</td>\n",
       "      <td>0.516</td>\n",
       "      <td>0.666</td>\n",
       "    </tr>\n",
       "    <tr>\n",
       "      <td>0.7</td>\n",
       "      <td>0.936</td>\n",
       "      <td>0.534</td>\n",
       "      <td>0.661</td>\n",
       "    </tr>\n",
       "    <tr>\n",
       "      <td>0.8</td>\n",
       "      <td>0.936</td>\n",
       "      <td>0.563</td>\n",
       "      <td>0.683</td>\n",
       "    </tr>\n",
       "    <tr>\n",
       "      <td>0.9</td>\n",
       "      <td>0.936</td>\n",
       "      <td>0.596</td>\n",
       "      <td>0.682</td>\n",
       "    </tr>\n",
       "  </tbody>\n",
       "</table>\n",
       "</div>"
      ],
      "text/plain": [
       "        acc_no_attack  acc_attack  acc_defence\n",
       "loss_w                                        \n",
       "0.0             0.936       0.250        0.659\n",
       "0.1             0.936       0.197        0.747\n",
       "0.2             0.936       0.271        0.712\n",
       "0.3             0.936       0.341        0.687\n",
       "0.4             0.936       0.422        0.682\n",
       "0.5             0.936       0.476        0.666\n",
       "0.6             0.936       0.516        0.666\n",
       "0.7             0.936       0.534        0.661\n",
       "0.8             0.936       0.563        0.683\n",
       "0.9             0.936       0.596        0.682"
      ]
     },
     "execution_count": 79,
     "metadata": {},
     "output_type": "execute_result"
    }
   ],
   "source": [
    "df"
   ]
  },
  {
   "cell_type": "code",
   "execution_count": 80,
   "metadata": {},
   "outputs": [],
   "source": [
    "X_to_adv, X_adv, y_adv = generate_adv_example(model, X_test, y_test, X_train, method='pfgsm', \n",
    "                                                  ad_loss_w=0, eps=2, eps_iter=1)\n"
   ]
  },
  {
   "cell_type": "code",
   "execution_count": null,
   "metadata": {},
   "outputs": [],
   "source": []
  },
  {
   "cell_type": "code",
   "execution_count": 91,
   "metadata": {},
   "outputs": [],
   "source": [
    "preds_adv_test, y_adv_test = generate_adv_set(X_to_adv, X_adv)"
   ]
  },
  {
   "cell_type": "code",
   "execution_count": 92,
   "metadata": {},
   "outputs": [
    {
     "data": {
      "text/plain": [
       "0.7196048632218845"
      ]
     },
     "execution_count": 92,
     "metadata": {},
     "output_type": "execute_result"
    }
   ],
   "source": [
    "accuracy_score(preds_adv_test, y_adv_test)"
   ]
  },
  {
   "cell_type": "code",
   "execution_count": 170,
   "metadata": {},
   "outputs": [
    {
     "data": {
      "text/plain": [
       "0.10264900662251655"
      ]
     },
     "execution_count": 170,
     "metadata": {},
     "output_type": "execute_result"
    }
   ],
   "source": [
    "accuracy_score(preds_orig[:906], y_val_adv[:906])"
   ]
  },
  {
   "cell_type": "code",
   "execution_count": null,
   "metadata": {},
   "outputs": [],
   "source": []
  }
 ],
 "metadata": {
  "kernelspec": {
   "display_name": "Python 3",
   "language": "python",
   "name": "python3"
  },
  "language_info": {
   "codemirror_mode": {
    "name": "ipython",
    "version": 3
   },
   "file_extension": ".py",
   "mimetype": "text/x-python",
   "name": "python",
   "nbconvert_exporter": "python",
   "pygments_lexer": "ipython3",
   "version": "3.6.9"
  }
 },
 "nbformat": 4,
 "nbformat_minor": 2
}
