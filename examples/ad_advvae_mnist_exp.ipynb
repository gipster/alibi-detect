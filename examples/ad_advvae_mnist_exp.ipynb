{
 "cells": [
  {
   "cell_type": "markdown",
   "metadata": {},
   "source": [
    "# Adversarial VAE detection on MNIST\n",
    "\n",
    "## Method\n",
    "\n",
    "The adversarial VAE detector is first trained on a batch of unlabeled but normal (*not adversarial*) data. The loss is however different from traditional VAE training and focuses on minimizing the KL-divergence between a classifier's predictions on the original and reconstructed data. When an adversarial instance is fed to the VAE, the KL-divergence between the predictions on the adversarial example and the reconstruction is large. The reconstruction does not contain the adversarial artefacts and has a very different prediction distribution. As a result, the adversarial instance is flagged.\n",
    "\n",
    "## Dataset\n",
    "\n",
    "traffic signs"
   ]
  },
  {
   "cell_type": "code",
   "execution_count": 19,
   "metadata": {},
   "outputs": [],
   "source": [
    "import matplotlib.pyplot as plt\n",
    "import numpy as np\n",
    "import os\n",
    "from sklearn.metrics import roc_curve, auc\n",
    "import tensorflow as tf\n",
    "from tensorflow.keras.layers import (Conv2D, MaxPooling2D, Activation, Dropout, Dense, Flatten, \n",
    "                                     Input, Reshape)\n",
    "from tensorflow.keras.models import Model\n",
    "from tensorflow.keras.regularizers import l1\n",
    "\n",
    "from alibi_detect.ad import AdversarialAE\n",
    "from alibi_detect.utils.fetching import fetch_detector, fetch_tf_model\n",
    "from alibi_detect.utils.prediction import predict_batch\n",
    "from alibi_detect.utils.saving import save_detector, load_detector\n",
    "from alibi_detect.datasets import fetch_attack, fetch_cifar10c, corruption_types_cifar10c"
   ]
  },
  {
   "cell_type": "code",
   "execution_count": 20,
   "metadata": {},
   "outputs": [],
   "source": [
    "def scale_by_instance(X: np.ndarray) -> np.ndarray:\n",
    "    mean_ = X.mean(axis=(1, 2, 3)).reshape(-1, 1, 1, 1)\n",
    "    std_ = X.std(axis=(1, 2, 3)).reshape(-1, 1, 1, 1)\n",
    "    return (X - mean_) / std_, mean_, std_\n",
    "\n",
    "\n",
    "def accuracy(y_true: np.ndarray, y_pred: np.ndarray) -> float:\n",
    "    return (y_true == y_pred).astype(int).sum() / y_true.shape[0]\n",
    "\n",
    "\n",
    "def plot_adversarial(idx: list,\n",
    "                     X: np.ndarray,\n",
    "                     y: np.ndarray,\n",
    "                     X_adv: np.ndarray, \n",
    "                     y_adv: np.ndarray,\n",
    "                     mean: np.ndarray, \n",
    "                     std: np.ndarray, \n",
    "                     score_x: np.ndarray = None,\n",
    "                     score_x_adv: np.ndarray = None,\n",
    "                     X_recon: np.ndarray = None,\n",
    "                     y_recon: np.ndarray = None,\n",
    "                     figsize: tuple = (10, 5)) -> None:\n",
    "    \n",
    "    # category map from class numbers to names\n",
    "    cifar10_map = {0: 'airplane', 1: 'automobile', 2: 'bird', 3: 'cat', 4: 'deer', 5: 'dog',\n",
    "                   6: 'frog', 7: 'horse', 8: 'ship', 9: 'truck'}\n",
    "    \n",
    "    nrows = len(idx)\n",
    "    ncols = 3 if isinstance(X_recon, np.ndarray) else 2\n",
    "    fig, ax = plt.subplots(nrows=nrows, ncols=ncols, figsize=figsize)\n",
    "    \n",
    "    n_subplot = 1\n",
    "    for i in idx:\n",
    "        \n",
    "        # rescale images in [0, 1]\n",
    "        X_adj = (X[i] * std[i] + mean[i]) / 255\n",
    "        X_adv_adj = (X_adv[i] * std[i] + mean[i]) / 255\n",
    "        if isinstance(X_recon, np.ndarray):\n",
    "            X_recon_adj = (X_recon[i] * std[i] + mean[i]) / 255\n",
    "        \n",
    "        # original image\n",
    "        plt.subplot(nrows, ncols, n_subplot)\n",
    "        plt.axis('off')\n",
    "        if i == idx[0]:\n",
    "            if isinstance(score_x, np.ndarray):\n",
    "                plt.title('CIFAR-10 Image \\n{}: {:.3f}'.format(cifar10_map[y[i]], score_x[i]))\n",
    "            else:\n",
    "                plt.title('CIFAR-10 Image \\n{}'.format(cifar10_map[y[i]]))\n",
    "        else:\n",
    "            if isinstance(score_x, np.ndarray):\n",
    "                plt.title('{}: {:.3f}'.format(cifar10_map[y[i]], score_x[i]))\n",
    "            else:\n",
    "                plt.title('{}'.format(cifar10_map[y[i]]))\n",
    "        plt.imshow(X_adj)\n",
    "        n_subplot += 1\n",
    "        \n",
    "        # adversarial image\n",
    "        plt.subplot(nrows, ncols, n_subplot)\n",
    "        plt.axis('off')\n",
    "        if i == idx[0]:\n",
    "            if isinstance(score_x_adv, np.ndarray):\n",
    "                plt.title('Adversarial \\n{}: {:.3f}'.format(cifar10_map[y_adv[i]], score_x_adv[i]))\n",
    "            else:\n",
    "                plt.title('Adversarial \\n{}'.format(cifar10_map[y_adv[i]]))\n",
    "        else:\n",
    "            if isinstance(score_x_adv, np.ndarray):\n",
    "                plt.title('{}: {:.3f}'.format(cifar10_map[y_adv[i]], score_x_adv[i]))\n",
    "            else:\n",
    "                plt.title('{}'.format(cifar10_map[y_adv[i]]))\n",
    "        plt.imshow(X_adv_adj)\n",
    "        n_subplot += 1\n",
    "     \n",
    "        # reconstructed image\n",
    "        if isinstance(X_recon, np.ndarray):\n",
    "            plt.subplot(nrows, ncols, n_subplot)\n",
    "            plt.axis('off')\n",
    "            if i == idx[0]:\n",
    "                plt.title('AE Reconstruction \\n{}'.format(cifar10_map[y_recon[i]]))\n",
    "            else:\n",
    "                plt.title('{}'.format(cifar10_map[y_recon[i]]))\n",
    "            plt.imshow(X_recon_adj)\n",
    "            n_subplot += 1\n",
    "    \n",
    "    plt.show()\n",
    "\n",
    "    \n",
    "def plot_roc(roc_data: dict, figsize: tuple = (10,5)):\n",
    "    plot_labels = []\n",
    "    scores_attacks = []\n",
    "    labels_attacks = []\n",
    "    for k, v in roc_data.items():\n",
    "        if 'original' in k:\n",
    "            continue\n",
    "        score_x = roc_data[v['normal']]['scores']\n",
    "        y_pred = roc_data[v['normal']]['predictions']\n",
    "        score_v = v['scores']\n",
    "        y_pred_v = v['predictions']\n",
    "        labels_v = np.ones(score_x.shape[0])\n",
    "        idx_remove = np.where(y_pred == y_pred_v)[0]\n",
    "        labels_v = np.delete(labels_v, idx_remove)\n",
    "        score_v = np.delete(score_v, idx_remove)\n",
    "        scores = np.concatenate([score_x, score_v])\n",
    "        labels = np.concatenate([np.zeros(y_pred.shape[0]), labels_v]).astype(int)\n",
    "        scores_attacks.append(scores)\n",
    "        labels_attacks.append(labels)\n",
    "        plot_labels.append(k)\n",
    "    \n",
    "    for sc_att, la_att, plt_la in zip(scores_attacks, labels_attacks, plot_labels):\n",
    "        fpr, tpr, thresholds = roc_curve(la_att, sc_att)\n",
    "        roc_auc = auc(fpr, tpr)\n",
    "        label = str('{}: AUC = {:.2f}'.format(plt_la, roc_auc))\n",
    "        plt.plot(fpr, tpr, lw=1, label='{}: AUC={:.4f}'.format(plt_la, roc_auc))\n",
    "\n",
    "    plt.plot([0, 1], [0, 1], color='black', lw=1, linestyle='--')\n",
    "    plt.xlim([0.0, 1.0])\n",
    "    plt.ylim([0.0, 1.05])\n",
    "    plt.xlabel('False Positive Rate')\n",
    "    plt.ylabel('True Positive Rate')\n",
    "    plt.title('{}'.format('ROC curve'))\n",
    "    plt.legend(loc=\"lower right\", ncol=1)\n",
    "    plt.grid()\n",
    "    plt.show()"
   ]
  },
  {
   "cell_type": "code",
   "execution_count": 21,
   "metadata": {},
   "outputs": [
    {
     "name": "stdout",
     "output_type": "stream",
     "text": [
      "env: CUDA_VISIBLE_DEVICES=1\n"
     ]
    }
   ],
   "source": [
    "from sklearn.metrics import confusion_matrix\n",
    "%set_env CUDA_VISIBLE_DEVICES=1"
   ]
  },
  {
   "cell_type": "markdown",
   "metadata": {},
   "source": [
    "# Mnist model"
   ]
  },
  {
   "cell_type": "markdown",
   "metadata": {},
   "source": [
    "## Load data"
   ]
  },
  {
   "cell_type": "code",
   "execution_count": 22,
   "metadata": {},
   "outputs": [
    {
     "name": "stdout",
     "output_type": "stream",
     "text": [
      "(60000, 28, 28, 1) (60000, 10) (10000, 28, 28, 1) (10000, 10)\n"
     ]
    }
   ],
   "source": [
    "train, test = tf.keras.datasets.mnist.load_data()\n",
    "X_train, y_train = train\n",
    "X_test, y_test = test\n",
    "\n",
    "X_train = X_train.reshape(-1, 28, 28, 1).astype('float32') / 255\n",
    "X_test = X_test.reshape(-1, 28, 28, 1).astype('float32') / 255\n",
    "#X_train = X_train.reshape(-1, 28, 28, 1).astype('float32')\n",
    "#X_test = X_test.reshape(-1, 28, 28, 1).astype('float32')\n",
    "y_train = tf.keras.utils.to_categorical(y_train, 10)\n",
    "y_test = tf.keras.utils.to_categorical(y_test, 10)\n",
    "print(X_train.shape, y_train.shape, X_test.shape, y_test.shape)\n"
   ]
  },
  {
   "cell_type": "markdown",
   "metadata": {},
   "source": [
    "### Show example"
   ]
  },
  {
   "cell_type": "code",
   "execution_count": 23,
   "metadata": {},
   "outputs": [
    {
     "name": "stdout",
     "output_type": "stream",
     "text": [
      "Sample instance from the signs data set.\n"
     ]
    },
    {
     "data": {
      "image/png": "[encoded data removed]",
      "text/plain": [
       "<Figure size 432x288 with 1 Axes>"
      ]
     },
     "metadata": {
      "needs_background": "light"
     },
     "output_type": "display_data"
    }
   ],
   "source": [
    "idx = 4200\n",
    "x = X_train[idx: idx + 1]\n",
    "plt.imshow(np.squeeze(x))\n",
    "print('Sample instance from the signs data set.')"
   ]
  },
  {
   "cell_type": "markdown",
   "metadata": {},
   "source": [
    "## Create and train mnist model\n",
    "\n",
    "The pretrained outlier and adversarial detectors used in the example notebooks can be found [here](https://console.cloud.google.com/storage/browser/seldon-models/alibi-detect). You can either manually download the relevant files in the [model_mnist](https://console.cloud.google.com/storage/browser/seldon-models/alibi-detect/model_mnist/) folder to e.g. the local directory ```my_dir```. Alternatively,  if you have [Google Cloud SDK](https://cloud.google.com/sdk/docs/) installed, you can download the whole folder as follows:\n",
    "\n",
    "```bash\n",
    "!gsutil cp -r gs://seldon-models/alibi-detect/model_mnist my_dir\n",
    "```"
   ]
  },
  {
   "cell_type": "code",
   "execution_count": 24,
   "metadata": {},
   "outputs": [],
   "source": [
    "load_model = False\n",
    "model_dir = '/home/gio/adversarial_vae/adversarial-vae/models/classifier/mnist/model/'"
   ]
  },
  {
   "cell_type": "code",
   "execution_count": 25,
   "metadata": {},
   "outputs": [
    {
     "name": "stdout",
     "output_type": "stream",
     "text": [
      "Train on 60000 samples, validate on 10000 samples\n",
      "Epoch 1/6\n",
      "60000/60000 [==============================] - 5s 86us/sample - loss: 0.4052 - accuracy: 0.8698 - val_loss: 0.0688 - val_accuracy: 0.9765\n",
      "Epoch 2/6\n",
      "60000/60000 [==============================] - 3s 50us/sample - loss: 0.1107 - accuracy: 0.9648 - val_loss: 0.0432 - val_accuracy: 0.9848\n",
      "Epoch 3/6\n",
      "60000/60000 [==============================] - 3s 50us/sample - loss: 0.0849 - accuracy: 0.9745 - val_loss: 0.0338 - val_accuracy: 0.9884\n",
      "Epoch 4/6\n",
      "60000/60000 [==============================] - 3s 50us/sample - loss: 0.0695 - accuracy: 0.9785 - val_loss: 0.0285 - val_accuracy: 0.9897\n",
      "Epoch 5/6\n",
      "60000/60000 [==============================] - 3s 51us/sample - loss: 0.0612 - accuracy: 0.9809 - val_loss: 0.0270 - val_accuracy: 0.9915\n",
      "Epoch 6/6\n",
      "60000/60000 [==============================] - 3s 51us/sample - loss: 0.0523 - accuracy: 0.9836 - val_loss: 0.0253 - val_accuracy: 0.9914\n"
     ]
    },
    {
     "ename": "NameError",
     "evalue": "name 'save_tf_model' is not defined",
     "output_type": "error",
     "traceback": [
      "\u001b[0;31m--------------------------------------------------------\u001b[0m",
      "\u001b[0;31mNameError\u001b[0m              Traceback (most recent call last)",
      "\u001b[0;32m<ipython-input-25-f6fe7b7dce90>\u001b[0m in \u001b[0;36m<module>\u001b[0;34m\u001b[0m\n\u001b[1;32m     36\u001b[0m \u001b[0;34m\u001b[0m\u001b[0m\n\u001b[1;32m     37\u001b[0m     \u001b[0;31m# save model\u001b[0m\u001b[0;34m\u001b[0m\u001b[0;34m\u001b[0m\u001b[0;34m\u001b[0m\u001b[0m\n\u001b[0;32m---> 38\u001b[0;31m     \u001b[0msave_tf_model\u001b[0m\u001b[0;34m(\u001b[0m\u001b[0mmodel\u001b[0m\u001b[0;34m,\u001b[0m \u001b[0mfilepath\u001b[0m\u001b[0;34m)\u001b[0m\u001b[0;34m\u001b[0m\u001b[0;34m\u001b[0m\u001b[0m\n\u001b[0m",
      "\u001b[0;31mNameError\u001b[0m: name 'save_tf_model' is not defined"
     ]
    }
   ],
   "source": [
    "filepath = model_dir\n",
    "if load_model:\n",
    "    model = tf.keras.models.load_model('/home/gio/adversarial_vae/adversarial-vae/models/classifier/mnist/model/model.h5')\n",
    "else:\n",
    "\n",
    "    inputs = Input(shape=(X_train.shape[1:]))\n",
    "    x = Conv2D(filters=64, kernel_size=(2, 2), padding='same', activation='relu')(inputs)\n",
    "    x = Conv2D(filters=64, kernel_size=(2, 2), padding='same', activation='relu')(x)\n",
    "    x = MaxPooling2D(pool_size=(2, 2))(x)\n",
    "    x = Dropout(0.3)(x)\n",
    "    \n",
    "    x = Conv2D(filters=32, kernel_size=(2, 2), padding='same', activation='relu')(x)\n",
    "    x = Conv2D(filters=32, kernel_size=(2, 2), padding='same', activation='relu')(x)\n",
    "    x = MaxPooling2D(pool_size=(2, 2))(x)\n",
    "    x = Dropout(0.3)(x)\n",
    "\n",
    "    x = Flatten()(x)\n",
    "    x = Dense(256, activation='relu')(x)\n",
    "    x = Dropout(0.5)(x)\n",
    "    logits = Dense(10, name='logits')(x)\n",
    "    outputs = Activation('softmax', name='softmax')(logits)\n",
    "    model = Model(inputs=inputs, outputs=outputs)\n",
    "    model.compile(loss='categorical_crossentropy',\n",
    "                  optimizer='adam',\n",
    "                  metrics=['accuracy'])\n",
    "    \n",
    "    # train model\n",
    "\n",
    "    model.fit(X_train,\n",
    "              y_train,\n",
    "              epochs=6,\n",
    "              batch_size=256,\n",
    "              verbose=1,\n",
    "              validation_data=(X_test, y_test)\n",
    "              )\n",
    "    \n",
    "    # save model\n",
    "    save_tf_model(model, filepath)"
   ]
  },
  {
   "cell_type": "code",
   "execution_count": 26,
   "metadata": {},
   "outputs": [
    {
     "name": "stdout",
     "output_type": "stream",
     "text": [
      "Test loss: 0.0253 -- accuracy: 0.9914\n"
     ]
    }
   ],
   "source": [
    "# evaluate model\n",
    "results = model.evaluate(X_test, y_test, batch_size=256, verbose=0)\n",
    "print('Test loss: {:.4f} -- accuracy: {:.4f}'.format(results[0], results[1]))"
   ]
  },
  {
   "cell_type": "code",
   "execution_count": 27,
   "metadata": {},
   "outputs": [
    {
     "name": "stdout",
     "output_type": "stream",
     "text": [
      "Model: \"model\"\n",
      "_________________________________________________________________\n",
      "Layer (type)                 Output Shape              Param #   \n",
      "=================================================================\n",
      "input_4 (InputLayer)         [(None, 28, 28, 1)]       0         \n",
      "_________________________________________________________________\n",
      "conv2d_10 (Conv2D)           (None, 28, 28, 64)        320       \n",
      "_________________________________________________________________\n",
      "conv2d_11 (Conv2D)           (None, 28, 28, 64)        16448     \n",
      "_________________________________________________________________\n",
      "max_pooling2d_4 (MaxPooling2 (None, 14, 14, 64)        0         \n",
      "_________________________________________________________________\n",
      "dropout_6 (Dropout)          (None, 14, 14, 64)        0         \n",
      "_________________________________________________________________\n",
      "conv2d_12 (Conv2D)           (None, 14, 14, 32)        8224      \n",
      "_________________________________________________________________\n",
      "conv2d_13 (Conv2D)           (None, 14, 14, 32)        4128      \n",
      "_________________________________________________________________\n",
      "max_pooling2d_5 (MaxPooling2 (None, 7, 7, 32)          0         \n",
      "_________________________________________________________________\n",
      "dropout_7 (Dropout)          (None, 7, 7, 32)          0         \n",
      "_________________________________________________________________\n",
      "flatten_2 (Flatten)          (None, 1568)              0         \n",
      "_________________________________________________________________\n",
      "dense_2 (Dense)              (None, 256)               401664    \n",
      "_________________________________________________________________\n",
      "dropout_8 (Dropout)          (None, 256)               0         \n",
      "_________________________________________________________________\n",
      "logits (Dense)               (None, 10)                2570      \n",
      "_________________________________________________________________\n",
      "softmax (Activation)         (None, 10)                0         \n",
      "=================================================================\n",
      "Total params: 433,354\n",
      "Trainable params: 433,354\n",
      "Non-trainable params: 0\n",
      "_________________________________________________________________\n"
     ]
    }
   ],
   "source": [
    "model.summary()"
   ]
  },
  {
   "cell_type": "code",
   "execution_count": 28,
   "metadata": {},
   "outputs": [],
   "source": [
    "probs = model(X_test).numpy()"
   ]
  },
  {
   "cell_type": "code",
   "execution_count": 29,
   "metadata": {},
   "outputs": [
    {
     "data": {
      "text/plain": [
       "(10000, 10)"
      ]
     },
     "execution_count": 29,
     "metadata": {},
     "output_type": "execute_result"
    }
   ],
   "source": [
    "probs.shape"
   ]
  },
  {
   "cell_type": "code",
   "execution_count": 30,
   "metadata": {},
   "outputs": [
    {
     "data": {
      "text/plain": [
       "0.99091536"
      ]
     },
     "execution_count": 30,
     "metadata": {},
     "output_type": "execute_result"
    }
   ],
   "source": [
    "probs.max(axis=1).mean()"
   ]
  },
  {
   "cell_type": "code",
   "execution_count": 31,
   "metadata": {},
   "outputs": [
    {
     "ename": "ValueError",
     "evalue": "Cannot load file containing pickled data when allow_pickle=False",
     "output_type": "error",
     "traceback": [
      "\u001b[0;31m--------------------------------------------------------\u001b[0m",
      "\u001b[0;31mValueError\u001b[0m             Traceback (most recent call last)",
      "\u001b[0;32m<ipython-input-31-7c2a1c250ca9>\u001b[0m in \u001b[0;36m<module>\u001b[0;34m\u001b[0m\n\u001b[1;32m      1\u001b[0m \u001b[0;31m# C&W attack\u001b[0m\u001b[0;34m\u001b[0m\u001b[0;34m\u001b[0m\u001b[0;34m\u001b[0m\u001b[0m\n\u001b[0;32m----> 2\u001b[0;31m \u001b[0mdata_cw\u001b[0m \u001b[0;34m=\u001b[0m \u001b[0mfetch_attack\u001b[0m\u001b[0;34m(\u001b[0m\u001b[0;34m'mnist'\u001b[0m\u001b[0;34m,\u001b[0m \u001b[0;34m'mnist'\u001b[0m\u001b[0;34m,\u001b[0m \u001b[0;34m'cw'\u001b[0m\u001b[0;34m)\u001b[0m\u001b[0;34m\u001b[0m\u001b[0;34m\u001b[0m\u001b[0m\n\u001b[0m\u001b[1;32m      3\u001b[0m \u001b[0mX_train_cw\u001b[0m\u001b[0;34m,\u001b[0m \u001b[0mX_test_cw\u001b[0m \u001b[0;34m=\u001b[0m \u001b[0mdata_cw\u001b[0m\u001b[0;34m[\u001b[0m\u001b[0;34m'data_train'\u001b[0m\u001b[0;34m]\u001b[0m\u001b[0;34m,\u001b[0m \u001b[0mdata_cw\u001b[0m\u001b[0;34m[\u001b[0m\u001b[0;34m'data_test'\u001b[0m\u001b[0;34m]\u001b[0m\u001b[0;34m\u001b[0m\u001b[0;34m\u001b[0m\u001b[0m\n\u001b[1;32m      4\u001b[0m \u001b[0mmeta_cw\u001b[0m \u001b[0;34m=\u001b[0m \u001b[0mdata_cw\u001b[0m\u001b[0;34m[\u001b[0m\u001b[0;34m'meta'\u001b[0m\u001b[0;34m]\u001b[0m \u001b[0;31m# metadata with hyperparameters of the attack\u001b[0m\u001b[0;34m\u001b[0m\u001b[0;34m\u001b[0m\u001b[0m\n",
      "\u001b[0;32m~/git/alibi-detect-fork/alibi_detect/datasets.py\u001b[0m in \u001b[0;36mfetch_attack\u001b[0;34m(dataset, model, attack, return_X_y)\u001b[0m\n\u001b[1;32m    300\u001b[0m     \u001b[0;31m# get adversarial instances and labels\u001b[0m\u001b[0;34m\u001b[0m\u001b[0;34m\u001b[0m\u001b[0;34m\u001b[0m\u001b[0m\n\u001b[1;32m    301\u001b[0m     \u001b[0mresp\u001b[0m \u001b[0;34m=\u001b[0m \u001b[0mrequests\u001b[0m\u001b[0;34m.\u001b[0m\u001b[0mget\u001b[0m\u001b[0;34m(\u001b[0m\u001b[0mpath_data\u001b[0m\u001b[0;34m)\u001b[0m\u001b[0;34m\u001b[0m\u001b[0;34m\u001b[0m\u001b[0m\n\u001b[0;32m--> 302\u001b[0;31m     \u001b[0mdata\u001b[0m \u001b[0;34m=\u001b[0m \u001b[0mnp\u001b[0m\u001b[0;34m.\u001b[0m\u001b[0mload\u001b[0m\u001b[0;34m(\u001b[0m\u001b[0mBytesIO\u001b[0m\u001b[0;34m(\u001b[0m\u001b[0mresp\u001b[0m\u001b[0;34m.\u001b[0m\u001b[0mcontent\u001b[0m\u001b[0;34m)\u001b[0m\u001b[0;34m)\u001b[0m\u001b[0;34m\u001b[0m\u001b[0;34m\u001b[0m\u001b[0m\n\u001b[0m\u001b[1;32m    303\u001b[0m     \u001b[0mX_train\u001b[0m\u001b[0;34m,\u001b[0m \u001b[0mX_test\u001b[0m \u001b[0;34m=\u001b[0m \u001b[0mdata\u001b[0m\u001b[0;34m[\u001b[0m\u001b[0;34m'X_train_adv'\u001b[0m\u001b[0;34m]\u001b[0m\u001b[0;34m,\u001b[0m \u001b[0mdata\u001b[0m\u001b[0;34m[\u001b[0m\u001b[0;34m'X_test_adv'\u001b[0m\u001b[0;34m]\u001b[0m\u001b[0;34m\u001b[0m\u001b[0;34m\u001b[0m\u001b[0m\n\u001b[1;32m    304\u001b[0m     \u001b[0my_train\u001b[0m\u001b[0;34m,\u001b[0m \u001b[0my_test\u001b[0m \u001b[0;34m=\u001b[0m \u001b[0mdata\u001b[0m\u001b[0;34m[\u001b[0m\u001b[0;34m'y_train'\u001b[0m\u001b[0;34m]\u001b[0m\u001b[0;34m,\u001b[0m \u001b[0mdata\u001b[0m\u001b[0;34m[\u001b[0m\u001b[0;34m'y_test'\u001b[0m\u001b[0;34m]\u001b[0m\u001b[0;34m\u001b[0m\u001b[0;34m\u001b[0m\u001b[0m\n",
      "\u001b[0;32m~/anaconda3/envs/tf2-py37/lib/python3.7/site-packages/numpy/lib/npyio.py\u001b[0m in \u001b[0;36mload\u001b[0;34m(file, mmap_mode, allow_pickle, fix_imports, encoding)\u001b[0m\n\u001b[1;32m    455\u001b[0m             \u001b[0;31m# Try a pickle\u001b[0m\u001b[0;34m\u001b[0m\u001b[0;34m\u001b[0m\u001b[0;34m\u001b[0m\u001b[0m\n\u001b[1;32m    456\u001b[0m             \u001b[0;32mif\u001b[0m \u001b[0;32mnot\u001b[0m \u001b[0mallow_pickle\u001b[0m\u001b[0;34m:\u001b[0m\u001b[0;34m\u001b[0m\u001b[0;34m\u001b[0m\u001b[0m\n\u001b[0;32m--> 457\u001b[0;31m                 raise ValueError(\"Cannot load file containing pickled data \"\n\u001b[0m\u001b[1;32m    458\u001b[0m                                  \"when allow_pickle=False\")\n\u001b[1;32m    459\u001b[0m             \u001b[0;32mtry\u001b[0m\u001b[0;34m:\u001b[0m\u001b[0;34m\u001b[0m\u001b[0;34m\u001b[0m\u001b[0m\n",
      "\u001b[0;31mValueError\u001b[0m: Cannot load file containing pickled data when allow_pickle=False"
     ]
    }
   ],
   "source": [
    "# C&W attack\n",
    "data_cw = fetch_attack('mnist', 'mnist', 'cw')\n",
    "X_train_cw, X_test_cw = data_cw['data_train'], data_cw['data_test']\n",
    "meta_cw = data_cw['meta'] # metadata with hyperparameters of the attack"
   ]
  },
  {
   "cell_type": "markdown",
   "metadata": {},
   "source": [
    "# Generate adversarial instances\n",
    "\n",
    "The `cleverhans` adversarial attack methods assume that the model outputs logits, so we will create a modified model by simply removing the softmax output layer:"
   ]
  },
  {
   "cell_type": "code",
   "execution_count": null,
   "metadata": {},
   "outputs": [],
   "source": []
  },
  {
   "cell_type": "code",
   "execution_count": 13,
   "metadata": {},
   "outputs": [],
   "source": [
    "def generate_adv_example(model, X_test, y_test, X_train,\n",
    "                         method = 'fgsm', ad_loss_w = 0.1, eps=2, eps_iter=1, nb_iter=10,\n",
    "                         nb_adv = 1000, ad=None):\n",
    "    \n",
    "    model_logits = Model(inputs=model.inputs, outputs=model.layers[-2].output)\n",
    "    \n",
    "    ids = np.arange(nb_adv)\n",
    "    np.random.shuffle(ids)\n",
    "    X_to_adv = X_test[ids]\n",
    "    y_adv = y_test[ids]\n",
    "    #print(X_to_adv.shape)\n",
    "    \n",
    "    if method == 'pfgsm':\n",
    "        X_adv = projected_gradient_descent(model_logits, ad, ad_loss_w,\n",
    "                                   X_to_adv,\n",
    "                                   eps=eps,\n",
    "                                   eps_iter=eps_iter,\n",
    "                                   nb_iter=nb_iter,\n",
    "                                   norm=2,\n",
    "                                   clip_min=X_train.min(),\n",
    "                                   clip_max=X_train.max(),\n",
    "                                   rand_init=None,\n",
    "                                   rand_minmax=.3,\n",
    "                                   targeted=False,\n",
    "                                   sanity_checks=False\n",
    "                                  ).numpy()\n",
    "    elif method == 'fgsm':\n",
    "        X_adv = fast_gradient_method(model_logits, \n",
    "                                     X_to_adv, \n",
    "                                     eps=eps, \n",
    "                                     norm=2, \n",
    "                                     clip_min=X_train.min(), \n",
    "                                     clip_max=X_train.max(), \n",
    "                                     y=None,\n",
    "                                     targeted=False, \n",
    "                                     sanity_checks=False).numpy()\n",
    "    \n",
    "    return X_to_adv, X_adv, np.argmax(y_adv, axis=1)\n",
    "\n",
    "def generate_adv_set(X_to_adv, X_adv):\n",
    "    y_pred = np.argmax(model(X_to_adv).numpy(), axis=-1)\n",
    "    y_pred_adv = np.argmax(model(X_adv).numpy(), axis=-1)\n",
    "    \n",
    "    X_to_adv = X_to_adv[(y_pred != y_pred_adv)]\n",
    "    X_adv = X_adv[(y_pred != y_pred_adv)]\n",
    "    \n",
    "    y_pred = ad.predict(X_to_adv)['data']['is_adversarial']\n",
    "    y_pred_adv = ad.predict(X_adv)['data']['is_adversarial']\n",
    "    \n",
    "    X_val = np.concatenate((X_to_adv, X_adv), axis=0)\n",
    "    y_val = np.concatenate((np.zeros(len(X_to_adv)), np.ones(len(X_adv))))\n",
    "    preds_val = np.concatenate([y_pred, y_pred_adv], axis=0)\n",
    "    #print(X_val.shape, y_val.shape)\n",
    "    \n",
    "    return X_val, y_val\n"
   ]
  },
  {
   "cell_type": "code",
   "execution_count": 14,
   "metadata": {},
   "outputs": [],
   "source": [
    "model_logits = Model(inputs=model.inputs, outputs=model.layers[-2].output)"
   ]
  },
  {
   "cell_type": "code",
   "execution_count": 15,
   "metadata": {},
   "outputs": [
    {
     "name": "stdout",
     "output_type": "stream",
     "text": [
      "(1000, 28, 28, 1)\n"
     ]
    }
   ],
   "source": [
    "nb_adv = 1000\n",
    "ids = np.arange(nb_adv)\n",
    "np.random.shuffle(ids)\n",
    "X_to_adv = X_test[ids]\n",
    "y_adv = y_test[ids]\n",
    "print(X_to_adv.shape)"
   ]
  },
  {
   "cell_type": "code",
   "execution_count": null,
   "metadata": {},
   "outputs": [],
   "source": []
  },
  {
   "cell_type": "code",
   "execution_count": 20,
   "metadata": {},
   "outputs": [
    {
     "name": "stderr",
     "output_type": "stream",
     "text": [
      "Using TensorFlow backend.\n"
     ]
    }
   ],
   "source": [
    "fmodel = foolbox.models.KerasModel(model, bounds=(0, 1))"
   ]
  },
  {
   "cell_type": "code",
   "execution_count": 27,
   "metadata": {},
   "outputs": [],
   "source": [
    "from foolbox.criteria import TargetClassProbability, ConfidentMisclassification"
   ]
  },
  {
   "cell_type": "code",
   "execution_count": 2,
   "metadata": {},
   "outputs": [
    {
     "ename": "NameError",
     "evalue": "name 'np' is not defined",
     "output_type": "error",
     "traceback": [
      "\u001b[0;31m--------------------------------------------------------\u001b[0m",
      "\u001b[0;31mNameError\u001b[0m              Traceback (most recent call last)",
      "\u001b[0;32m<ipython-input-2-4c8ef0441874>\u001b[0m in \u001b[0;36m<module>\u001b[0;34m\u001b[0m\n\u001b[0;32m----> 1\u001b[0;31m \u001b[0mlabels\u001b[0m \u001b[0;34m=\u001b[0m \u001b[0mnp\u001b[0m\u001b[0;34m.\u001b[0m\u001b[0margmax\u001b[0m\u001b[0;34m(\u001b[0m\u001b[0mfmodel\u001b[0m\u001b[0;34m.\u001b[0m\u001b[0mforward\u001b[0m\u001b[0;34m(\u001b[0m\u001b[0mX_to_adv\u001b[0m\u001b[0;34m)\u001b[0m\u001b[0;34m,\u001b[0m \u001b[0maxis\u001b[0m\u001b[0;34m=\u001b[0m\u001b[0;36m1\u001b[0m\u001b[0;34m)\u001b[0m\u001b[0;34m\u001b[0m\u001b[0;34m\u001b[0m\u001b[0m\n\u001b[0m\u001b[1;32m      2\u001b[0m \u001b[0mattack\u001b[0m \u001b[0;34m=\u001b[0m \u001b[0mfoolbox\u001b[0m\u001b[0;34m.\u001b[0m\u001b[0mattacks\u001b[0m\u001b[0;34m.\u001b[0m\u001b[0mCarliniWagnerL2Attack\u001b[0m\u001b[0;34m(\u001b[0m\u001b[0mfmodel\u001b[0m\u001b[0;34m)\u001b[0m\u001b[0;34m\u001b[0m\u001b[0;34m\u001b[0m\u001b[0m\n\u001b[1;32m      3\u001b[0m \u001b[0;31m#X_adv = attack(X_to_adv, labels, confidence=0.9)\u001b[0m\u001b[0;34m\u001b[0m\u001b[0;34m\u001b[0m\u001b[0;34m\u001b[0m\u001b[0m\n",
      "\u001b[0;31mNameError\u001b[0m: name 'np' is not defined"
     ]
    }
   ],
   "source": [
    "labels = np.argmax(fmodel.forward(X_to_adv), axis=1)\n",
    "attack = foolbox.attacks.CarliniWagnerL2Attack(fmodel)\n",
    "X_adv = attack(X_to_adv, labels, confidence=0.9)"
   ]
  },
  {
   "cell_type": "code",
   "execution_count": null,
   "metadata": {},
   "outputs": [],
   "source": []
  },
  {
   "cell_type": "code",
   "execution_count": 177,
   "metadata": {},
   "outputs": [],
   "source": [
    "X_to_adv = X_test[:100]"
   ]
  },
  {
   "cell_type": "code",
   "execution_count": 178,
   "metadata": {},
   "outputs": [],
   "source": [
    "X_adv = X_adv_test[:100]"
   ]
  },
  {
   "cell_type": "code",
   "execution_count": 32,
   "metadata": {},
   "outputs": [],
   "source": [
    "X_adv = projected_gradient_descent(model_logits, None, 0,\n",
    "                                   X_to_adv,\n",
    "                                   eps=2.,\n",
    "                                   eps_iter=1.,\n",
    "                                   nb_iter=10,\n",
    "                                   norm=2,\n",
    "                                   clip_min=X_train.min(),\n",
    "                                   clip_max=X_train.max(),\n",
    "                                   rand_init=None,\n",
    "                                   rand_minmax=.3,\n",
    "                                   targeted=False,\n",
    "                                   sanity_checks=False).numpy()"
   ]
  },
  {
   "cell_type": "code",
   "execution_count": 33,
   "metadata": {},
   "outputs": [
    {
     "data": {
      "image/png": "[encoded data removed]",
      "text/plain": [
       "<Figure size 1080x1440 with 20 Axes>"
      ]
     },
     "metadata": {
      "needs_background": "light"
     },
     "output_type": "display_data"
    }
   ],
   "source": [
    "y_pred = np.argmax(model(X_to_adv).numpy(), axis=-1)\n",
    "y_pred_adv = np.argmax(model(X_adv).numpy(), axis=-1)\n",
    "meta_folder=\"../data/traffic/meta/\"\n",
    "\n",
    "n_rows = 5\n",
    "n_cols = 4\n",
    "figsize = (15, 20)\n",
    "img_shape = (28, 28)\n",
    "\n",
    "fig5 = plt.figure(constrained_layout=False, figsize=figsize)\n",
    "widths = [5, 1, 5, 1]\n",
    "heights = [5, 5, 5, 5, 5]\n",
    "spec5 = fig5.add_gridspec(ncols=4, nrows=5, width_ratios=widths,\n",
    "                          height_ratios=heights)\n",
    "\n",
    "for row in range(n_rows):\n",
    "    ax_0 = fig5.add_subplot(spec5[row, 0])    \n",
    "    ax_0.imshow(X_to_adv[row].reshape(img_shape))\n",
    "    if row == 0:\n",
    "        ax_0.title.set_text('Original')\n",
    "    ax_0.axis('off')\n",
    "    \n",
    "    ax_1 = fig5.add_subplot(spec5[row, 1])\n",
    "    #class_image=cv2.imread(meta_folder+\"{}.png\".format(y_pred[row]))\n",
    "    #image = Image.fromarray(class_image, 'RGB')\n",
    "    #image = np.array(image)\n",
    "    #ax_1.imshow(image)\n",
    "    ax_1.title.set_text('Pred original: {}'.format(y_pred[row]))\n",
    "    ax_1.axis('off')\n",
    "    \n",
    "    ax_2 = fig5.add_subplot(spec5[row, 2])\n",
    "    ax_2.imshow(X_adv[row].reshape(img_shape))\n",
    "    if row == 0:\n",
    "        ax_2.title.set_text('Adversarial')\n",
    "    ax_2.axis('off')\n",
    "    \n",
    "    ax_3 = fig5.add_subplot(spec5[row, 3])\n",
    "    #class_image_adv=cv2.imread(meta_folder+\"{}.png\".format(y_pred_adv[row]))\n",
    "    #image_adv = Image.fromarray(class_image_adv, 'RGB')\n",
    "    #image_adv = np.array(image_adv)   \n",
    "    #ax_3.imshow(image_adv)\n",
    "    ax_3.title.set_text('Pred adversarial: {}'.format(y_pred_adv[row]))\n",
    "    ax_3.axis('off')\n",
    "        #label = 'Width: {}\\nHeight: {}'.format(widths[col], heights[row])\n",
    "        #ax.annotate(label, (0.1, 0.5), xycoords='axes fraction', va='center')"
   ]
  },
  {
   "cell_type": "code",
   "execution_count": 34,
   "metadata": {},
   "outputs": [],
   "source": [
    "y_pred = np.argmax(model(X_to_adv).numpy(), axis=-1)\n",
    "y_pred_adv = np.argmax(model(X_adv).numpy(), axis=-1)\n",
    "\n",
    "X_to_adv = X_to_adv[(y_pred != y_pred_adv)]\n",
    "X_adv = X_adv[(y_pred != y_pred_adv)]\n",
    "#y_adv = y_adv[(y_pred != y_pred_adv)]\n",
    "#y_adv = np.argmax(y_adv, axis=1)"
   ]
  },
  {
   "cell_type": "code",
   "execution_count": null,
   "metadata": {},
   "outputs": [],
   "source": []
  },
  {
   "cell_type": "code",
   "execution_count": 35,
   "metadata": {},
   "outputs": [
    {
     "name": "stdout",
     "output_type": "stream",
     "text": [
      "(1904, 28, 28, 1) (1904,) (1000, 10)\n"
     ]
    }
   ],
   "source": [
    "y_val = np.concatenate((np.zeros(len(X_to_adv)), np.ones(len(X_adv))))\n",
    "X_val = np.concatenate([X_to_adv, X_adv], axis=0)\n",
    "print(X_val.shape, y_val.shape, y_adv.shape)"
   ]
  },
  {
   "cell_type": "code",
   "execution_count": 36,
   "metadata": {},
   "outputs": [],
   "source": [
    "nb_adv = int(X_val.shape[0] / 2)"
   ]
  },
  {
   "cell_type": "markdown",
   "metadata": {},
   "source": [
    "# Adversarial detection "
   ]
  },
  {
   "cell_type": "markdown",
   "metadata": {},
   "source": [
    "## Adversarial VAE for MNIST\n",
    "\n",
    "You can again either manually download the relevant files in the [ad_vae_mnist](https://console.cloud.google.com/storage/browser/seldon-models/alibi-detect/ad_vae_mnist/) folder to e.g. the local directory ```my_dir``` or use ```gsutil```:\n",
    "\n",
    "```bash\n",
    "!gsutil cp -r gs://seldon-models/alibi-detect/ad_vae_mnist my_dir\n",
    "```"
   ]
  },
  {
   "cell_type": "code",
   "execution_count": 16,
   "metadata": {},
   "outputs": [],
   "source": [
    "load_adversarial_detector = False"
   ]
  },
  {
   "cell_type": "markdown",
   "metadata": {},
   "source": [
    "### Run training cell"
   ]
  },
  {
   "cell_type": "markdown",
   "metadata": {},
   "source": [
    "---"
   ]
  },
  {
   "cell_type": "code",
   "execution_count": 17,
   "metadata": {},
   "outputs": [
    {
     "data": {
      "text/plain": [
       "'/home/gio/experiments/mnist/model_0/'"
      ]
     },
     "execution_count": 17,
     "metadata": {},
     "output_type": "execute_result"
    }
   ],
   "source": [
    "filepath"
   ]
  },
  {
   "cell_type": "code",
   "execution_count": 18,
   "metadata": {},
   "outputs": [
    {
     "name": "stdout",
     "output_type": "stream",
     "text": [
      "Creating log dir: /home/gio/experiments/mnist/model_0/vae_0/115\n"
     ]
    }
   ],
   "source": [
    "encoder_params = {'nb_filters_1': 64, 'nb_filters_2': 128, 'nb_filters_3': 512,\n",
    "               'kernel_1': 4, 'kernel_2': 4, 'kernel_3': 4,\n",
    "               'activation_1': 'relu', 'activation_2': 'relu', 'activation_3': 'relu',\n",
    "                'padding_1': 'same', 'padding_2': 'same', 'padding_3': 'same'}\n",
    "decoder_params = {'nb_filters_1': 64, 'nb_filters_2': 32, 'nb_filters_3': 1,\n",
    "               'kernel_1': 3, 'kernel_2': 3, 'kernel_3': 3, \n",
    "               'activation_1': 'relu', 'activation_2': 'relu', 'activation_3': 'sigmoid',\n",
    "               'padding_1': 'same', 'padding_2': 'same', 'padding_3': 'same',}\n",
    "vae_params = {'latent_dim': 160, 'optimizer': 'Adam'}\n",
    "\n",
    "filepath = detector_dir # change to directory where model is downloaded\n",
    "if load_adversarial_detector:  # load pretrained adversarial detector\n",
    "    ad = load_detector(filepath)\n",
    "else:  # define model, initialize, train and save adversarial detector\n",
    "    latent_dim = vae_params['latent_dim']\n",
    "    alpha = 0.001\n",
    "    encoder_net = tf.keras.Sequential(\n",
    "      [\n",
    "          InputLayer(input_shape=(28, 28, 1)),\n",
    "          #Conv2D(encoder_params['nb_filters_1'], encoder_params['kernel_1'], strides=1, \n",
    "          #       padding=encoder_params['padding_1'], activation=encoder_params['activation_1'],\n",
    "          #      kernel_regularizer=l2(alpha)),\n",
    "          Conv2D(encoder_params['nb_filters_1'], encoder_params['kernel_1'], strides=2, \n",
    "                 padding=encoder_params['padding_1'], activation=encoder_params['activation_1'],\n",
    "                kernel_regularizer=l2(alpha)),\n",
    "          Conv2D(encoder_params['nb_filters_2'], encoder_params['kernel_2'], strides=2, \n",
    "                 padding=encoder_params['padding_1'], activation=encoder_params['activation_2'],\n",
    "                kernel_regularizer=l2(alpha)),\n",
    "          Conv2D(encoder_params['nb_filters_3'], encoder_params['kernel_3'], strides=2, \n",
    "                 padding=encoder_params['padding_1'], activation=encoder_params['activation_3'],\n",
    "                kernel_regularizer=l2(alpha))\n",
    "      ])\n",
    "    \n",
    "    decoder_net = tf.keras.Sequential(\n",
    "      [\n",
    "          InputLayer(input_shape=(latent_dim,)),\n",
    "          Dense(7*7*28, activation=tf.nn.relu),\n",
    "          Reshape(target_shape=(7, 7, 28)),\n",
    "          Conv2DTranspose(decoder_params['nb_filters_1'], decoder_params['kernel_1'], strides=2, \n",
    "                         padding=decoder_params['padding_1'], activation=decoder_params['activation_1'],\n",
    "                         kernel_regularizer=l2(alpha)),\n",
    "          Conv2DTranspose(decoder_params['nb_filters_2'], decoder_params['kernel_2'], strides=2, \n",
    "                          padding=decoder_params['padding_1'], activation=decoder_params['activation_2'],\n",
    "                         kernel_regularizer=l2(alpha)),\n",
    "          Conv2DTranspose(decoder_params['nb_filters_3'], decoder_params['kernel_3'], strides=1, \n",
    "                          padding=decoder_params['padding_1'], activation=decoder_params['activation_3'],\n",
    "                         kernel_regularizer=l2(alpha))\n",
    "      ])\n",
    "\n",
    "    runs = next(os.walk(log_dir))[1]\n",
    "    run_id = 0\n",
    "    while str(run_id) in runs:\n",
    "        run_id += 1\n",
    "\n",
    "    run_dir = log_dir + str(run_id)\n",
    "    print('Creating log dir:', run_dir)\n",
    "    if not os.path.exists(run_dir):\n",
    "        os.makedirs(run_dir)    \n",
    "    \n",
    "    if vae_params['optimizer'] == 'Adam':\n",
    "        opt = Adam()\n",
    "    elif vae_params['optimizer'] == 'Nadam':\n",
    "        opt = Nadam()\n",
    "    elif vae_params['optimizer'] == 'RMSprop':\n",
    "        opt = RMSprop()\n",
    "    elif vae_params['optimizer'] == 'SGD':\n",
    "        opt = SGD(momentum=0.9)\n",
    "    \n",
    "    # initialize adversarial detector\n",
    "    ad = AdversarialVAE(threshold=.5,  # threshold for adversarial score\n",
    "                        model=model,\n",
    "                        encoder_net=encoder_net,  # can also pass VAE model instead\n",
    "                        decoder_net=decoder_net,  # of separate encoder and decoder\n",
    "                        latent_dim=latent_dim,\n",
    "                        samples=2,  # nb of samples drawn by VAE\n",
    "                        beta=0.  # weight on KL-divergence loss term of latent space\n",
    "                       )\n",
    "    \n"
   ]
  },
  {
   "cell_type": "code",
   "execution_count": 19,
   "metadata": {},
   "outputs": [
    {
     "data": {
      "text/plain": [
       "<tensorflow.python.keras.optimizer_v2.adam.Adam at 0x7f5da068c2e8>"
      ]
     },
     "execution_count": 19,
     "metadata": {},
     "output_type": "execute_result"
    }
   ],
   "source": [
    "opt"
   ]
  },
  {
   "cell_type": "code",
   "execution_count": 45,
   "metadata": {},
   "outputs": [
    {
     "name": "stdout",
     "output_type": "stream",
     "text": [
      "938/938 [=] - 36s 39ms/step - loss: 0.4756\n",
      "Accuracy improved from 0 to 0.8713. Saving model in /home/gio/experiments/mnist/model_0/vae_0/104/best.ckpt\n",
      "939/938 [=] - 38s 40ms/step - loss: 0.4752 - detection_acc: 0.8713 - detection_f1: 0.8850\n",
      "938/938 [=] - 36s 38ms/step - loss: 0.1689\n",
      "Accuracy did not improve. Saving model in /home/gio/experiments/mnist/model_0/vae_0/104/last.ckpt \n",
      "939/938 [=] - 36s 39ms/step - loss: 0.1688 - detection_acc: 0.8267 - detection_f1: 0.8519\n",
      "938/938 [=] - 36s 38ms/step - loss: 0.1291\n",
      "Accuracy did not improve. Saving model in /home/gio/experiments/mnist/model_0/vae_0/104/last.ckpt \n",
      "939/938 [=] - 37s 39ms/step - loss: 0.1290 - detection_acc: 0.8708 - detection_f1: 0.8848\n",
      "938/938 [=] - 36s 38ms/step - loss: 0.1089\n",
      "Accuracy improved from 0.8713 to 0.8787. Saving model in /home/gio/experiments/mnist/model_0/vae_0/104/best.ckpt\n",
      "939/938 [=] - 36s 39ms/step - loss: 0.1088 - detection_acc: 0.8787 - detection_f1: 0.8910\n",
      "938/938 [=] - 36s 38ms/step - loss: 0.0966\n",
      "Accuracy improved from 0.8787 to 0.9018. Saving model in /home/gio/experiments/mnist/model_0/vae_0/104/best.ckpt\n",
      "939/938 [=] - 36s 39ms/step - loss: 0.0966 - detection_acc: 0.9018 - detection_f1: 0.9098\n",
      "938/938 [=] - 36s 38ms/step - loss: 0.0868\n",
      "Accuracy improved from 0.9018 to 0.9259. Saving model in /home/gio/experiments/mnist/model_0/vae_0/104/best.ckpt\n",
      "939/938 [=] - 37s 39ms/step - loss: 0.0868 - detection_acc: 0.9259 - detection_f1: 0.9289\n"
     ]
    }
   ],
   "source": [
    "    # train\n",
    "    ad.fit(X_train,\n",
    "           validation_data=(X_test[:1000], None),\n",
    "           adversarial_data=(X_val, y_val),\n",
    "           loss_fn=loss_adv_vae,\n",
    "           w_model=1.,  # weight on KL-divergence loss term of model predictions\n",
    "           w_recon=0.,  # weight on elbo loss term\n",
    "           optimizer=opt,\n",
    "           epochs=6,\n",
    "           verbose=True,\n",
    "          log_metric_val='acc',\n",
    "          log_dir=run_dir)"
   ]
  },
  {
   "cell_type": "code",
   "execution_count": 47,
   "metadata": {},
   "outputs": [],
   "source": [
    "    # save the trained outlier detector\n",
    "    save_detector(ad, filepath)\n",
    "    \n",
    "\n",
    "with open(os.path.join(run_dir,'encoder_params.json'), 'w') as f:\n",
    "        json.dump(encoder_params, f)\n",
    "        f.close()\n",
    "    with open(os.path.join(run_dir,'decoder_params.json'), 'w') as f:\n",
    "        json.dump(decoder_params, f)\n",
    "        f.close()\n",
    "    with open(os.path.join(run_dir,'vae_params.json'), 'w') as f:\n",
    "        json.dump(vae_params, f)\n",
    "        f.close()"
   ]
  },
  {
   "cell_type": "markdown",
   "metadata": {},
   "source": [
    "---"
   ]
  },
  {
   "cell_type": "code",
   "execution_count": 48,
   "metadata": {},
   "outputs": [],
   "source": [
    "df_adv_scores = pd.read_csv('/home/gio/experiments/mnist/model_0/vae_0/104/adv_scores.csv')\n",
    "df_scores = pd.read_csv('/home/gio/experiments/mnist/model_0/vae_0/104/scores.csv')\n",
    "df_losses = pd.read_csv('/home/gio/experiments/mnist/model_0/vae_0/104/losses.csv')"
   ]
  },
  {
   "cell_type": "code",
   "execution_count": 49,
   "metadata": {},
   "outputs": [
    {
     "data": {
      "text/plain": [
       "<matplotlib.axes._subplots.AxesSubplot at 0x7f32ac42bdd8>"
      ]
     },
     "execution_count": 49,
     "metadata": {},
     "output_type": "execute_result"
    },
    {
     "data": {
      "image/png": "[encoded data removed]",
      "text/plain": [
       "<Figure size 720x576 with 1 Axes>"
      ]
     },
     "metadata": {
      "needs_background": "light"
     },
     "output_type": "display_data"
    }
   ],
   "source": [
    "df_scores[['acc', 'f1']].plot(figsize=(10, 8))"
   ]
  },
  {
   "cell_type": "code",
   "execution_count": 50,
   "metadata": {},
   "outputs": [
    {
     "data": {
      "text/plain": [
       "<matplotlib.axes._subplots.AxesSubplot at 0x7f32e03289b0>"
      ]
     },
     "execution_count": 50,
     "metadata": {},
     "output_type": "execute_result"
    },
    {
     "data": {
      "image/png": "[encoded data removed]",
      "text/plain": [
       "<Figure size 720x576 with 1 Axes>"
      ]
     },
     "metadata": {
      "needs_background": "light"
     },
     "output_type": "display_data"
    }
   ],
   "source": [
    "df_losses.plot(figsize=(10, 8))"
   ]
  },
  {
   "cell_type": "code",
   "execution_count": 51,
   "metadata": {},
   "outputs": [],
   "source": [
    "#df_adv_scores[df_adv_scores['labels']==0].mean()"
   ]
  },
  {
   "cell_type": "code",
   "execution_count": 52,
   "metadata": {},
   "outputs": [],
   "source": [
    "#df_adv_scores[df_adv_scores['labels']==1].mean()"
   ]
  },
  {
   "cell_type": "markdown",
   "metadata": {},
   "source": [
    "## Detect adversarial instances"
   ]
  },
  {
   "cell_type": "code",
   "execution_count": 20,
   "metadata": {},
   "outputs": [
    {
     "data": {
      "text/plain": [
       "0.1570185706019401"
      ]
     },
     "execution_count": 20,
     "metadata": {},
     "output_type": "execute_result"
    }
   ],
   "source": [
    "ad.vae.load_weights('/home/gio/experiments/mnist/model_0/vae_0/104/best.ckpt')\n",
    "ad.ae = ad.vae\n",
    "ad.infer_threshold(X_train[:2000], threshold_perc=95.)\n",
    "ad.threshold"
   ]
  },
  {
   "cell_type": "code",
   "execution_count": 21,
   "metadata": {},
   "outputs": [],
   "source": [
    "X_to_adv = X_test[:5]\n",
    "y_adv = y_test[:5]"
   ]
  },
  {
   "cell_type": "code",
   "execution_count": 22,
   "metadata": {},
   "outputs": [],
   "source": [
    "y_adv = np.argmax(y_adv, axis=1)"
   ]
  },
  {
   "cell_type": "code",
   "execution_count": 23,
   "metadata": {},
   "outputs": [
    {
     "data": {
      "text/plain": [
       "<tf.Tensor: id=1974, shape=(5, 28, 28, 1), dtype=float32, numpy=\n",
       "array([[[[5.80655694e-01],\n",
       "         [5.78343630e-01],\n",
       "         [6.31177962e-01],\n",
       "         ...,\n",
       "         [3.78304243e-01],\n",
       "         [5.72310209e-01],\n",
       "         [3.52522552e-01]],\n",
       "\n",
       "        [[5.31215131e-01],\n",
       "         [5.08665025e-01],\n",
       "         [3.08091372e-01],\n",
       "         ...,\n",
       "         [2.77273178e-01],\n",
       "         [3.21504653e-01],\n",
       "         [3.57126474e-01]],\n",
       "\n",
       "        [[3.87855411e-01],\n",
       "         [1.84966892e-01],\n",
       "         [2.45111018e-01],\n",
       "         ...,\n",
       "         [8.85563195e-02],\n",
       "         [3.10084313e-01],\n",
       "         [1.94887370e-01]],\n",
       "\n",
       "        ...,\n",
       "\n",
       "        [[7.57237792e-01],\n",
       "         [6.91856503e-01],\n",
       "         [3.73332381e-01],\n",
       "         ...,\n",
       "         [2.32969820e-02],\n",
       "         [1.27363890e-01],\n",
       "         [7.85171986e-02]],\n",
       "\n",
       "        [[6.78770244e-01],\n",
       "         [1.58981591e-01],\n",
       "         [1.65551662e-01],\n",
       "         ...,\n",
       "         [1.62810147e-01],\n",
       "         [3.45813364e-01],\n",
       "         [2.09892571e-01]],\n",
       "\n",
       "        [[2.92607069e-01],\n",
       "         [3.35828662e-02],\n",
       "         [2.81865597e-02],\n",
       "         ...,\n",
       "         [1.61644042e-01],\n",
       "         [2.07980692e-01],\n",
       "         [2.50229418e-01]]],\n",
       "\n",
       "\n",
       "       [[[5.66392660e-01],\n",
       "         [5.78227758e-01],\n",
       "         [6.01378739e-01],\n",
       "         ...,\n",
       "         [3.24879587e-01],\n",
       "         [5.33935070e-01],\n",
       "         [2.07518101e-01]],\n",
       "\n",
       "        [[5.66868365e-01],\n",
       "         [5.55219054e-01],\n",
       "         [5.80143094e-01],\n",
       "         ...,\n",
       "         [2.36901909e-01],\n",
       "         [1.33784920e-01],\n",
       "         [1.54172421e-01]],\n",
       "\n",
       "        [[5.78692198e-01],\n",
       "         [5.57809889e-01],\n",
       "         [5.80635309e-01],\n",
       "         ...,\n",
       "         [1.38947964e-02],\n",
       "         [1.07585490e-01],\n",
       "         [4.46402729e-02]],\n",
       "\n",
       "        ...,\n",
       "\n",
       "        [[3.19140434e-01],\n",
       "         [4.03566003e-01],\n",
       "         [1.65378749e-02],\n",
       "         ...,\n",
       "         [3.44812870e-04],\n",
       "         [1.58262551e-02],\n",
       "         [1.22661293e-02]],\n",
       "\n",
       "        [[1.35296553e-01],\n",
       "         [5.21621108e-03],\n",
       "         [9.73665714e-03],\n",
       "         ...,\n",
       "         [3.83086801e-02],\n",
       "         [2.14719415e-01],\n",
       "         [2.14838058e-01]],\n",
       "\n",
       "        [[4.00907099e-02],\n",
       "         [1.07970834e-03],\n",
       "         [1.02800131e-03],\n",
       "         ...,\n",
       "         [1.16411865e-01],\n",
       "         [2.56830037e-01],\n",
       "         [3.11127126e-01]]],\n",
       "\n",
       "\n",
       "       [[[5.64618707e-01],\n",
       "         [5.76238215e-01],\n",
       "         [6.21580243e-01],\n",
       "         ...,\n",
       "         [4.89860505e-01],\n",
       "         [6.45118833e-01],\n",
       "         [3.17141473e-01]],\n",
       "\n",
       "        [[5.59284866e-01],\n",
       "         [5.68154275e-01],\n",
       "         [5.47573864e-01],\n",
       "         ...,\n",
       "         [3.81280243e-01],\n",
       "         [3.09019715e-01],\n",
       "         [3.07405412e-01]],\n",
       "\n",
       "        [[5.61051667e-01],\n",
       "         [5.22298694e-01],\n",
       "         [5.35480261e-01],\n",
       "         ...,\n",
       "         [1.01220638e-01],\n",
       "         [2.50966698e-01],\n",
       "         [1.35886818e-01]],\n",
       "\n",
       "        ...,\n",
       "\n",
       "        [[4.14436638e-01],\n",
       "         [3.59569460e-01],\n",
       "         [1.94925964e-01],\n",
       "         ...,\n",
       "         [3.42421830e-02],\n",
       "         [1.54773325e-01],\n",
       "         [1.50385767e-01]],\n",
       "\n",
       "        [[4.57504034e-01],\n",
       "         [2.37717986e-01],\n",
       "         [2.17395991e-01],\n",
       "         ...,\n",
       "         [1.61076009e-01],\n",
       "         [3.67865443e-01],\n",
       "         [3.47781479e-01]],\n",
       "\n",
       "        [[3.89721960e-01],\n",
       "         [1.90342128e-01],\n",
       "         [1.45535141e-01],\n",
       "         ...,\n",
       "         [2.34114438e-01],\n",
       "         [3.83714974e-01],\n",
       "         [4.29821491e-01]]],\n",
       "\n",
       "\n",
       "       [[[5.78865409e-01],\n",
       "         [5.54346442e-01],\n",
       "         [5.57952404e-01],\n",
       "         ...,\n",
       "         [5.78338921e-01],\n",
       "         [7.00324178e-01],\n",
       "         [2.20000237e-01]],\n",
       "\n",
       "        [[6.06207132e-01],\n",
       "         [5.93898654e-01],\n",
       "         [3.92913431e-01],\n",
       "         ...,\n",
       "         [1.78378761e-01],\n",
       "         [1.21028930e-01],\n",
       "         [2.33804882e-01]],\n",
       "\n",
       "        [[4.80627179e-01],\n",
       "         [2.83302814e-01],\n",
       "         [3.41972768e-01],\n",
       "         ...,\n",
       "         [2.03833580e-02],\n",
       "         [1.12529784e-01],\n",
       "         [7.28296638e-02]],\n",
       "\n",
       "        ...,\n",
       "\n",
       "        [[3.64043087e-01],\n",
       "         [1.81464493e-01],\n",
       "         [1.12176478e-01],\n",
       "         ...,\n",
       "         [1.03348702e-01],\n",
       "         [2.31413603e-01],\n",
       "         [1.64156169e-01]],\n",
       "\n",
       "        [[4.07078862e-01],\n",
       "         [2.42617190e-01],\n",
       "         [3.12021136e-01],\n",
       "         ...,\n",
       "         [2.32864261e-01],\n",
       "         [3.62696856e-01],\n",
       "         [2.94739276e-01]],\n",
       "\n",
       "        [[3.53554606e-01],\n",
       "         [2.06059635e-01],\n",
       "         [2.39686579e-01],\n",
       "         ...,\n",
       "         [2.62555093e-01],\n",
       "         [2.56290287e-01],\n",
       "         [3.00528467e-01]]],\n",
       "\n",
       "\n",
       "       [[[5.61110675e-01],\n",
       "         [5.90685129e-01],\n",
       "         [6.81687117e-01],\n",
       "         ...,\n",
       "         [5.51952243e-01],\n",
       "         [7.62685299e-01],\n",
       "         [3.49819303e-01]],\n",
       "\n",
       "        [[5.00980735e-01],\n",
       "         [4.60282207e-01],\n",
       "         [4.15794671e-01],\n",
       "         ...,\n",
       "         [2.90942729e-01],\n",
       "         [3.90888035e-01],\n",
       "         [4.07989085e-01]],\n",
       "\n",
       "        [[5.12038231e-01],\n",
       "         [3.36727917e-01],\n",
       "         [3.75408322e-01],\n",
       "         ...,\n",
       "         [2.23390341e-01],\n",
       "         [3.70209575e-01],\n",
       "         [3.02050114e-01]],\n",
       "\n",
       "        ...,\n",
       "\n",
       "        [[3.55180293e-01],\n",
       "         [1.72530770e-01],\n",
       "         [3.17937374e-01],\n",
       "         ...,\n",
       "         [4.20977771e-02],\n",
       "         [1.83261603e-01],\n",
       "         [6.95485175e-02]],\n",
       "\n",
       "        [[6.51201248e-01],\n",
       "         [5.21862447e-01],\n",
       "         [5.78586936e-01],\n",
       "         ...,\n",
       "         [1.04490995e-01],\n",
       "         [2.70820916e-01],\n",
       "         [2.29420185e-01]],\n",
       "\n",
       "        [[4.83856082e-01],\n",
       "         [5.60521722e-01],\n",
       "         [5.39455891e-01],\n",
       "         ...,\n",
       "         [1.66287243e-01],\n",
       "         [1.80995107e-01],\n",
       "         [2.45827556e-01]]]], dtype=float32)>"
      ]
     },
     "execution_count": 23,
     "metadata": {},
     "output_type": "execute_result"
    }
   ],
   "source": [
    "ad.ae(X_to_adv)"
   ]
  },
  {
   "cell_type": "code",
   "execution_count": 24,
   "metadata": {},
   "outputs": [],
   "source": [
    "attack_type = 'carlini'\n",
    "import logging\n",
    "logging.basicConfig(level=logging.WARNING)"
   ]
  },
  {
   "cell_type": "code",
   "execution_count": 26,
   "metadata": {},
   "outputs": [],
   "source": [
    "inputsAE = Input(shape=(X_train.shape[1:]))\n",
    "xAE = ad.ae(inputsAE)\n",
    "outputsAE = model(xAE)\n",
    "modelAE = Model(inputs=inputsAE, outputs=outputsAE)\n",
    "modelAE.compile(loss='categorical_crossentropy',\n",
    "                  optimizer='adam',\n",
    "                  metrics=['accuracy'])\n"
   ]
  },
  {
   "cell_type": "code",
   "execution_count": 27,
   "metadata": {},
   "outputs": [
    {
     "name": "stderr",
     "output_type": "stream",
     "text": [
      "/home/gio/git/foolbox-fork/foolbox/attacks/base.py:95: UserWarning: CarliniWagnerL2Attack did not find an adversarial, maybe the model or the criterion is not supported by this attack.\n",
      "  \" attack.\".format(self.name())\n",
      "/home/gio/git/foolbox-fork/foolbox/attacks/base.py:95: UserWarning: CarliniWagnerL2Attack did not find an adversarial, maybe the model or the criterion is not supported by this attack.\n",
      "  \" attack.\".format(self.name())\n",
      "INFO:root:2 of 5 attacks completed\n",
      "/home/gio/git/foolbox-fork/foolbox/attacks/base.py:95: UserWarning: CarliniWagnerL2Attack did not find an adversarial, maybe the model or the criterion is not supported by this attack.\n",
      "  \" attack.\".format(self.name())\n",
      "/home/gio/git/foolbox-fork/foolbox/attacks/base.py:95: UserWarning: CarliniWagnerL2Attack did not find an adversarial, maybe the model or the criterion is not supported by this attack.\n",
      "  \" attack.\".format(self.name())\n",
      "INFO:root:4 of 5 attacks completed\n",
      "/home/gio/git/foolbox-fork/foolbox/attacks/base.py:95: UserWarning: CarliniWagnerL2Attack did not find an adversarial, maybe the model or the criterion is not supported by this attack.\n",
      "  \" attack.\".format(self.name())\n",
      "INFO:root:5 of 5 attacks completed\n"
     ]
    }
   ],
   "source": [
    "        fmodel = foolbox.models.TensorFlowEagerModel(modelAE, bounds=(0, 1), preprocessing=(0, 1))\n",
    "        attack = foolbox.attacks.CarliniWagnerL2Attack(fmodel)\n",
    "        X_adv = attack(X_to_adv, y_adv, detector=ad, loss_w=0.1)"
   ]
  },
  {
   "cell_type": "code",
   "execution_count": 28,
   "metadata": {},
   "outputs": [
    {
     "name": "stdout",
     "output_type": "stream",
     "text": [
      "(5, 28, 28, 1) (5, 28, 28, 1)\n",
      "(5,) (5,)\n",
      "1.0\n",
      "0.2\n"
     ]
    }
   ],
   "source": [
    "    preds_xtoadv = np.argmax(model(X_to_adv).numpy(), axis=1)\n",
    "    preds_adv = np.argmax(model(X_adv).numpy(), axis=1)\n",
    "    #loss_ws.append(loss_w)\n",
    "    print(X_to_adv.shape, X_adv.shape)\n",
    "    print(preds_xtoadv.shape, preds_adv.shape)\n",
    "    print(accuracy_score(preds_xtoadv, y_adv))\n",
    "    print(accuracy_score(preds_adv, y_adv))\n",
    "    "
   ]
  },
  {
   "cell_type": "code",
   "execution_count": 32,
   "metadata": {},
   "outputs": [
    {
     "data": {
      "text/plain": [
       "True"
      ]
     },
     "execution_count": 32,
     "metadata": {},
     "output_type": "execute_result"
    }
   ],
   "source": [
    "np.isnan(X_adv).all()"
   ]
  },
  {
   "cell_type": "code",
   "execution_count": 131,
   "metadata": {},
   "outputs": [
    {
     "data": {
      "text/plain": [
       "array([[9.63939875e-02, 2.18440652e-01, 9.27550048e-02, 8.06015432e-02,\n",
       "        7.92437121e-02, 9.77875590e-02, 8.37877914e-02, 1.16489962e-01,\n",
       "        5.60058653e-02, 7.84939006e-02],\n",
       "       [9.63939875e-02, 2.18440652e-01, 9.27550048e-02, 8.06015432e-02,\n",
       "        7.92437121e-02, 9.77875590e-02, 8.37877914e-02, 1.16489962e-01,\n",
       "        5.60058653e-02, 7.84939006e-02],\n",
       "       [9.63939875e-02, 2.18440652e-01, 9.27550048e-02, 8.06015432e-02,\n",
       "        7.92437121e-02, 9.77875590e-02, 8.37877914e-02, 1.16489962e-01,\n",
       "        5.60058653e-02, 7.84939006e-02],\n",
       "       [9.63939875e-02, 2.18440652e-01, 9.27550048e-02, 8.06015432e-02,\n",
       "        7.92437121e-02, 9.77875590e-02, 8.37877914e-02, 1.16489962e-01,\n",
       "        5.60058653e-02, 7.84939006e-02],\n",
       "       [9.63939875e-02, 2.18440652e-01, 9.27550048e-02, 8.06015432e-02,\n",
       "        7.92437121e-02, 9.77875590e-02, 8.37877914e-02, 1.16489962e-01,\n",
       "        5.60058653e-02, 7.84939006e-02],\n",
       "       [9.63939875e-02, 2.18440652e-01, 9.27550048e-02, 8.06015432e-02,\n",
       "        7.92437121e-02, 9.77875590e-02, 8.37877914e-02, 1.16489962e-01,\n",
       "        5.60058653e-02, 7.84939006e-02],\n",
       "       [1.44961904e-10, 2.08097489e-07, 6.06000006e-09, 1.18384047e-09,\n",
       "        4.96118873e-01, 9.72513931e-07, 4.86577688e-11, 3.82525826e-07,\n",
       "        4.99569118e-01, 4.31040674e-03],\n",
       "       [1.25703172e-08, 2.55500163e-05, 3.15577490e-04, 1.42914166e-06,\n",
       "        5.01192987e-01, 1.38561938e-06, 2.66430922e-09, 1.46366347e-06,\n",
       "        1.14442606e-04, 4.98347104e-01],\n",
       "       [1.26402068e-04, 9.35065873e-06, 6.49847465e-08, 1.05381173e-06,\n",
       "        3.09096868e-06, 4.94165629e-01, 5.02208114e-01, 2.92926927e-07,\n",
       "        3.34081356e-03, 1.45185462e-04],\n",
       "       [9.63939875e-02, 2.18440652e-01, 9.27550048e-02, 8.06015432e-02,\n",
       "        7.92437121e-02, 9.77875590e-02, 8.37877914e-02, 1.16489962e-01,\n",
       "        5.60058653e-02, 7.84939006e-02],\n",
       "       [9.63939875e-02, 2.18440652e-01, 9.27550048e-02, 8.06015432e-02,\n",
       "        7.92437121e-02, 9.77875590e-02, 8.37877914e-02, 1.16489962e-01,\n",
       "        5.60058653e-02, 7.84939006e-02],\n",
       "       [9.63939875e-02, 2.18440652e-01, 9.27550048e-02, 8.06015432e-02,\n",
       "        7.92437121e-02, 9.77875590e-02, 8.37877914e-02, 1.16489962e-01,\n",
       "        5.60058653e-02, 7.84939006e-02],\n",
       "       [1.03020048e-09, 1.37467460e-09, 7.60571126e-08, 6.04276806e-07,\n",
       "        5.00506222e-01, 4.37823928e-06, 5.96336383e-11, 4.29009833e-06,\n",
       "        1.59148913e-05, 4.99468625e-01],\n",
       "       [9.63939875e-02, 2.18440652e-01, 9.27550048e-02, 8.06015432e-02,\n",
       "        7.92437121e-02, 9.77875590e-02, 8.37877914e-02, 1.16489962e-01,\n",
       "        5.60058653e-02, 7.84939006e-02],\n",
       "       [9.63939875e-02, 2.18440652e-01, 9.27550048e-02, 8.06015432e-02,\n",
       "        7.92437121e-02, 9.77875590e-02, 8.37877914e-02, 1.16489962e-01,\n",
       "        5.60058653e-02, 7.84939006e-02],\n",
       "       [9.63939875e-02, 2.18440652e-01, 9.27550048e-02, 8.06015432e-02,\n",
       "        7.92437121e-02, 9.77875590e-02, 8.37877914e-02, 1.16489962e-01,\n",
       "        5.60058653e-02, 7.84939006e-02],\n",
       "       [9.63939875e-02, 2.18440652e-01, 9.27550048e-02, 8.06015432e-02,\n",
       "        7.92437121e-02, 9.77875590e-02, 8.37877914e-02, 1.16489962e-01,\n",
       "        5.60058653e-02, 7.84939006e-02],\n",
       "       [9.63939875e-02, 2.18440652e-01, 9.27550048e-02, 8.06015432e-02,\n",
       "        7.92437121e-02, 9.77875590e-02, 8.37877914e-02, 1.16489962e-01,\n",
       "        5.60058653e-02, 7.84939006e-02],\n",
       "       [2.19422020e-07, 2.02220501e-04, 6.61755712e-06, 4.39391047e-01,\n",
       "        3.86713464e-06, 5.02099752e-01, 1.79311428e-05, 1.08504231e-04,\n",
       "        5.79804815e-02, 1.89311628e-04],\n",
       "       [9.63939875e-02, 2.18440652e-01, 9.27550048e-02, 8.06015432e-02,\n",
       "        7.92437121e-02, 9.77875590e-02, 8.37877914e-02, 1.16489962e-01,\n",
       "        5.60058653e-02, 7.84939006e-02],\n",
       "       [1.17789455e-06, 4.14053975e-05, 5.58925137e-07, 2.15431428e-05,\n",
       "        1.32621359e-03, 2.24754194e-06, 1.14250946e-08, 4.99912530e-01,\n",
       "        8.63508831e-06, 4.98685688e-01],\n",
       "       [1.92322346e-07, 5.91683680e-09, 5.20465337e-10, 2.27312057e-06,\n",
       "        1.55975020e-08, 5.00071883e-01, 4.99906421e-01, 4.97128796e-11,\n",
       "        1.87887435e-05, 4.98801001e-07],\n",
       "       [9.63939875e-02, 2.18440652e-01, 9.27550048e-02, 8.06015432e-02,\n",
       "        7.92437121e-02, 9.77875590e-02, 8.37877914e-02, 1.16489962e-01,\n",
       "        5.60058653e-02, 7.84939006e-02],\n",
       "       [9.63939875e-02, 2.18440652e-01, 9.27550048e-02, 8.06015432e-02,\n",
       "        7.92437121e-02, 9.77875590e-02, 8.37877914e-02, 1.16489962e-01,\n",
       "        5.60058653e-02, 7.84939006e-02],\n",
       "       [9.63939875e-02, 2.18440652e-01, 9.27550048e-02, 8.06015432e-02,\n",
       "        7.92437121e-02, 9.77875590e-02, 8.37877914e-02, 1.16489962e-01,\n",
       "        5.60058653e-02, 7.84939006e-02],\n",
       "       [9.63939875e-02, 2.18440652e-01, 9.27550048e-02, 8.06015432e-02,\n",
       "        7.92437121e-02, 9.77875590e-02, 8.37877914e-02, 1.16489962e-01,\n",
       "        5.60058653e-02, 7.84939006e-02],\n",
       "       [9.63939875e-02, 2.18440652e-01, 9.27550048e-02, 8.06015432e-02,\n",
       "        7.92437121e-02, 9.77875590e-02, 8.37877914e-02, 1.16489962e-01,\n",
       "        5.60058653e-02, 7.84939006e-02],\n",
       "       [9.63939875e-02, 2.18440652e-01, 9.27550048e-02, 8.06015432e-02,\n",
       "        7.92437121e-02, 9.77875590e-02, 8.37877914e-02, 1.16489962e-01,\n",
       "        5.60058653e-02, 7.84939006e-02],\n",
       "       [9.63939875e-02, 2.18440652e-01, 9.27550048e-02, 8.06015432e-02,\n",
       "        7.92437121e-02, 9.77875590e-02, 8.37877914e-02, 1.16489962e-01,\n",
       "        5.60058653e-02, 7.84939006e-02],\n",
       "       [9.63939875e-02, 2.18440652e-01, 9.27550048e-02, 8.06015432e-02,\n",
       "        7.92437121e-02, 9.77875590e-02, 8.37877914e-02, 1.16489962e-01,\n",
       "        5.60058653e-02, 7.84939006e-02],\n",
       "       [9.63939875e-02, 2.18440652e-01, 9.27550048e-02, 8.06015432e-02,\n",
       "        7.92437121e-02, 9.77875590e-02, 8.37877914e-02, 1.16489962e-01,\n",
       "        5.60058653e-02, 7.84939006e-02],\n",
       "       [9.63939875e-02, 2.18440652e-01, 9.27550048e-02, 8.06015432e-02,\n",
       "        7.92437121e-02, 9.77875590e-02, 8.37877914e-02, 1.16489962e-01,\n",
       "        5.60058653e-02, 7.84939006e-02],\n",
       "       [9.63939875e-02, 2.18440652e-01, 9.27550048e-02, 8.06015432e-02,\n",
       "        7.92437121e-02, 9.77875590e-02, 8.37877914e-02, 1.16489962e-01,\n",
       "        5.60058653e-02, 7.84939006e-02],\n",
       "       [9.63939875e-02, 2.18440652e-01, 9.27550048e-02, 8.06015432e-02,\n",
       "        7.92437121e-02, 9.77875590e-02, 8.37877914e-02, 1.16489962e-01,\n",
       "        5.60058653e-02, 7.84939006e-02],\n",
       "       [9.63939875e-02, 2.18440652e-01, 9.27550048e-02, 8.06015432e-02,\n",
       "        7.92437121e-02, 9.77875590e-02, 8.37877914e-02, 1.16489962e-01,\n",
       "        5.60058653e-02, 7.84939006e-02],\n",
       "       [9.63939875e-02, 2.18440652e-01, 9.27550048e-02, 8.06015432e-02,\n",
       "        7.92437121e-02, 9.77875590e-02, 8.37877914e-02, 1.16489962e-01,\n",
       "        5.60058653e-02, 7.84939006e-02],\n",
       "       [2.86489097e-07, 2.60076172e-06, 4.99992490e-01, 6.88866538e-04,\n",
       "        2.69111927e-10, 7.07262027e-11, 7.36387826e-11, 4.99315828e-01,\n",
       "        4.16604884e-08, 1.22887487e-08],\n",
       "       [9.63939875e-02, 2.18440652e-01, 9.27550048e-02, 8.06015432e-02,\n",
       "        7.92437121e-02, 9.77875590e-02, 8.37877914e-02, 1.16489962e-01,\n",
       "        5.60058653e-02, 7.84939006e-02],\n",
       "       [3.69409435e-07, 4.97234225e-01, 4.94664103e-01, 2.85145175e-03,\n",
       "        7.84959070e-07, 5.99272454e-08, 3.46730826e-06, 5.24531770e-03,\n",
       "        1.66915910e-07, 1.05223762e-07],\n",
       "       [9.63939875e-02, 2.18440652e-01, 9.27550048e-02, 8.06015432e-02,\n",
       "        7.92437121e-02, 9.77875590e-02, 8.37877914e-02, 1.16489962e-01,\n",
       "        5.60058653e-02, 7.84939006e-02],\n",
       "       [9.63939875e-02, 2.18440652e-01, 9.27550048e-02, 8.06015432e-02,\n",
       "        7.92437121e-02, 9.77875590e-02, 8.37877914e-02, 1.16489962e-01,\n",
       "        5.60058653e-02, 7.84939006e-02],\n",
       "       [2.00651002e-07, 1.26896048e-04, 5.00352681e-01, 6.04739995e-04,\n",
       "        1.19150783e-07, 4.52938798e-09, 1.30613733e-08, 4.98915106e-01,\n",
       "        2.29649444e-07, 3.26872538e-08],\n",
       "       [9.63939875e-02, 2.18440652e-01, 9.27550048e-02, 8.06015432e-02,\n",
       "        7.92437121e-02, 9.77875590e-02, 8.37877914e-02, 1.16489962e-01,\n",
       "        5.60058653e-02, 7.84939006e-02],\n",
       "       [1.29571765e-06, 1.92840199e-03, 4.98913139e-01, 9.77803438e-07,\n",
       "        4.99120414e-01, 1.38744198e-07, 2.84456655e-05, 7.13471627e-06,\n",
       "        5.77802339e-08, 3.65729704e-08],\n",
       "       [9.63939875e-02, 2.18440652e-01, 9.27550048e-02, 8.06015432e-02,\n",
       "        7.92437121e-02, 9.77875590e-02, 8.37877914e-02, 1.16489962e-01,\n",
       "        5.60058653e-02, 7.84939006e-02],\n",
       "       [9.63939875e-02, 2.18440652e-01, 9.27550048e-02, 8.06015432e-02,\n",
       "        7.92437121e-02, 9.77875590e-02, 8.37877914e-02, 1.16489962e-01,\n",
       "        5.60058653e-02, 7.84939006e-02],\n",
       "       [9.63939875e-02, 2.18440652e-01, 9.27550048e-02, 8.06015432e-02,\n",
       "        7.92437121e-02, 9.77875590e-02, 8.37877914e-02, 1.16489962e-01,\n",
       "        5.60058653e-02, 7.84939006e-02],\n",
       "       [9.63939875e-02, 2.18440652e-01, 9.27550048e-02, 8.06015432e-02,\n",
       "        7.92437121e-02, 9.77875590e-02, 8.37877914e-02, 1.16489962e-01,\n",
       "        5.60058653e-02, 7.84939006e-02],\n",
       "       [1.15704504e-08, 3.41739877e-07, 3.38806139e-08, 5.33060411e-05,\n",
       "        4.99124348e-01, 8.94223122e-05, 2.41856455e-08, 2.06563745e-05,\n",
       "        2.52382197e-05, 5.00686646e-01],\n",
       "       [9.63939875e-02, 2.18440652e-01, 9.27550048e-02, 8.06015432e-02,\n",
       "        7.92437121e-02, 9.77875590e-02, 8.37877914e-02, 1.16489962e-01,\n",
       "        5.60058653e-02, 7.84939006e-02],\n",
       "       [9.63939875e-02, 2.18440652e-01, 9.27550048e-02, 8.06015432e-02,\n",
       "        7.92437121e-02, 9.77875590e-02, 8.37877914e-02, 1.16489962e-01,\n",
       "        5.60058653e-02, 7.84939006e-02],\n",
       "       [9.63939875e-02, 2.18440652e-01, 9.27550048e-02, 8.06015432e-02,\n",
       "        7.92437121e-02, 9.77875590e-02, 8.37877914e-02, 1.16489962e-01,\n",
       "        5.60058653e-02, 7.84939006e-02],\n",
       "       [9.63939875e-02, 2.18440652e-01, 9.27550048e-02, 8.06015432e-02,\n",
       "        7.92437121e-02, 9.77875590e-02, 8.37877914e-02, 1.16489962e-01,\n",
       "        5.60058653e-02, 7.84939006e-02],\n",
       "       [9.63939875e-02, 2.18440652e-01, 9.27550048e-02, 8.06015432e-02,\n",
       "        7.92437121e-02, 9.77875590e-02, 8.37877914e-02, 1.16489962e-01,\n",
       "        5.60058653e-02, 7.84939006e-02],\n",
       "       [9.63939875e-02, 2.18440652e-01, 9.27550048e-02, 8.06015432e-02,\n",
       "        7.92437121e-02, 9.77875590e-02, 8.37877914e-02, 1.16489962e-01,\n",
       "        5.60058653e-02, 7.84939006e-02],\n",
       "       [9.63939875e-02, 2.18440652e-01, 9.27550048e-02, 8.06015432e-02,\n",
       "        7.92437121e-02, 9.77875590e-02, 8.37877914e-02, 1.16489962e-01,\n",
       "        5.60058653e-02, 7.84939006e-02],\n",
       "       [9.63939875e-02, 2.18440652e-01, 9.27550048e-02, 8.06015432e-02,\n",
       "        7.92437121e-02, 9.77875590e-02, 8.37877914e-02, 1.16489962e-01,\n",
       "        5.60058653e-02, 7.84939006e-02],\n",
       "       [9.63939875e-02, 2.18440652e-01, 9.27550048e-02, 8.06015432e-02,\n",
       "        7.92437121e-02, 9.77875590e-02, 8.37877914e-02, 1.16489962e-01,\n",
       "        5.60058653e-02, 7.84939006e-02],\n",
       "       [9.63939875e-02, 2.18440652e-01, 9.27550048e-02, 8.06015432e-02,\n",
       "        7.92437121e-02, 9.77875590e-02, 8.37877914e-02, 1.16489962e-01,\n",
       "        5.60058653e-02, 7.84939006e-02],\n",
       "       [1.04665276e-07, 9.08809739e-07, 6.87949040e-08, 7.84532767e-06,\n",
       "        6.69389323e-04, 4.93095309e-01, 2.23123813e-08, 7.00390013e-03,\n",
       "        5.20901335e-03, 4.94013369e-01],\n",
       "       [9.63939875e-02, 2.18440652e-01, 9.27550048e-02, 8.06015432e-02,\n",
       "        7.92437121e-02, 9.77875590e-02, 8.37877914e-02, 1.16489962e-01,\n",
       "        5.60058653e-02, 7.84939006e-02],\n",
       "       [9.63939875e-02, 2.18440652e-01, 9.27550048e-02, 8.06015432e-02,\n",
       "        7.92437121e-02, 9.77875590e-02, 8.37877914e-02, 1.16489962e-01,\n",
       "        5.60058653e-02, 7.84939006e-02],\n",
       "       [2.03915079e-06, 1.35779374e-06, 4.31720139e-07, 1.83403477e-04,\n",
       "        1.09544635e-05, 4.99651194e-01, 4.83111216e-06, 2.37332351e-04,\n",
       "        2.78274558e-04, 4.99630243e-01],\n",
       "       [3.67187951e-08, 7.08634161e-07, 4.99233127e-01, 4.98960882e-01,\n",
       "        1.40729195e-09, 2.81804364e-06, 1.35555872e-11, 1.73503340e-05,\n",
       "        1.78144092e-03, 3.55816155e-06],\n",
       "       [9.63939875e-02, 2.18440652e-01, 9.27550048e-02, 8.06015432e-02,\n",
       "        7.92437121e-02, 9.77875590e-02, 8.37877914e-02, 1.16489962e-01,\n",
       "        5.60058653e-02, 7.84939006e-02],\n",
       "       [7.62972468e-06, 1.76473346e-03, 7.16064824e-05, 4.09556320e-03,\n",
       "        4.92055267e-01, 2.55807396e-03, 1.79317692e-06, 4.96257935e-03,\n",
       "        7.99889167e-05, 4.94402707e-01],\n",
       "       [9.63939875e-02, 2.18440652e-01, 9.27550048e-02, 8.06015432e-02,\n",
       "        7.92437121e-02, 9.77875590e-02, 8.37877914e-02, 1.16489962e-01,\n",
       "        5.60058653e-02, 7.84939006e-02],\n",
       "       [9.63939875e-02, 2.18440652e-01, 9.27550048e-02, 8.06015432e-02,\n",
       "        7.92437121e-02, 9.77875590e-02, 8.37877914e-02, 1.16489962e-01,\n",
       "        5.60058653e-02, 7.84939006e-02],\n",
       "       [9.63939875e-02, 2.18440652e-01, 9.27550048e-02, 8.06015432e-02,\n",
       "        7.92437121e-02, 9.77875590e-02, 8.37877914e-02, 1.16489962e-01,\n",
       "        5.60058653e-02, 7.84939006e-02],\n",
       "       [9.63939875e-02, 2.18440652e-01, 9.27550048e-02, 8.06015432e-02,\n",
       "        7.92437121e-02, 9.77875590e-02, 8.37877914e-02, 1.16489962e-01,\n",
       "        5.60058653e-02, 7.84939006e-02],\n",
       "       [9.63939875e-02, 2.18440652e-01, 9.27550048e-02, 8.06015432e-02,\n",
       "        7.92437121e-02, 9.77875590e-02, 8.37877914e-02, 1.16489962e-01,\n",
       "        5.60058653e-02, 7.84939006e-02],\n",
       "       [9.63939875e-02, 2.18440652e-01, 9.27550048e-02, 8.06015432e-02,\n",
       "        7.92437121e-02, 9.77875590e-02, 8.37877914e-02, 1.16489962e-01,\n",
       "        5.60058653e-02, 7.84939006e-02],\n",
       "       [1.85343666e-07, 1.38034766e-05, 4.98156756e-01, 5.01809657e-01,\n",
       "        2.64957544e-13, 1.11671632e-07, 7.71367887e-13, 1.93627639e-05,\n",
       "        3.57898848e-08, 4.93752026e-08],\n",
       "       [3.58599414e-06, 4.68144890e-06, 2.09373848e-05, 1.67945836e-05,\n",
       "        1.36792360e-05, 2.53099529e-06, 5.02992162e-11, 1.67474092e-03,\n",
       "        4.99689043e-01, 4.98573989e-01],\n",
       "       [9.63939875e-02, 2.18440652e-01, 9.27550048e-02, 8.06015432e-02,\n",
       "        7.92437121e-02, 9.77875590e-02, 8.37877914e-02, 1.16489962e-01,\n",
       "        5.60058653e-02, 7.84939006e-02],\n",
       "       [9.63939875e-02, 2.18440652e-01, 9.27550048e-02, 8.06015432e-02,\n",
       "        7.92437121e-02, 9.77875590e-02, 8.37877914e-02, 1.16489962e-01,\n",
       "        5.60058653e-02, 7.84939006e-02],\n",
       "       [9.63939875e-02, 2.18440652e-01, 9.27550048e-02, 8.06015432e-02,\n",
       "        7.92437121e-02, 9.77875590e-02, 8.37877914e-02, 1.16489962e-01,\n",
       "        5.60058653e-02, 7.84939006e-02],\n",
       "       [9.63939875e-02, 2.18440652e-01, 9.27550048e-02, 8.06015432e-02,\n",
       "        7.92437121e-02, 9.77875590e-02, 8.37877914e-02, 1.16489962e-01,\n",
       "        5.60058653e-02, 7.84939006e-02],\n",
       "       [2.64015925e-05, 7.16677969e-05, 1.70208259e-05, 6.02651880e-06,\n",
       "        1.84718275e-03, 1.02532965e-06, 5.27631663e-08, 3.86410742e-04,\n",
       "        4.99238104e-01, 4.98406082e-01],\n",
       "       [9.63939875e-02, 2.18440652e-01, 9.27550048e-02, 8.06015432e-02,\n",
       "        7.92437121e-02, 9.77875590e-02, 8.37877914e-02, 1.16489962e-01,\n",
       "        5.60058653e-02, 7.84939006e-02],\n",
       "       [1.61799161e-08, 7.28218538e-07, 6.76755292e-08, 2.90630601e-06,\n",
       "        5.62509347e-04, 2.96437847e-05, 2.76530903e-12, 4.98452455e-01,\n",
       "        1.28157041e-07, 5.00951469e-01],\n",
       "       [9.63939875e-02, 2.18440652e-01, 9.27550048e-02, 8.06015432e-02,\n",
       "        7.92437121e-02, 9.77875590e-02, 8.37877914e-02, 1.16489962e-01,\n",
       "        5.60058653e-02, 7.84939006e-02],\n",
       "       [9.63939875e-02, 2.18440652e-01, 9.27550048e-02, 8.06015432e-02,\n",
       "        7.92437121e-02, 9.77875590e-02, 8.37877914e-02, 1.16489962e-01,\n",
       "        5.60058653e-02, 7.84939006e-02],\n",
       "       [9.63939875e-02, 2.18440652e-01, 9.27550048e-02, 8.06015432e-02,\n",
       "        7.92437121e-02, 9.77875590e-02, 8.37877914e-02, 1.16489962e-01,\n",
       "        5.60058653e-02, 7.84939006e-02],\n",
       "       [9.63939875e-02, 2.18440652e-01, 9.27550048e-02, 8.06015432e-02,\n",
       "        7.92437121e-02, 9.77875590e-02, 8.37877914e-02, 1.16489962e-01,\n",
       "        5.60058653e-02, 7.84939006e-02],\n",
       "       [9.63939875e-02, 2.18440652e-01, 9.27550048e-02, 8.06015432e-02,\n",
       "        7.92437121e-02, 9.77875590e-02, 8.37877914e-02, 1.16489962e-01,\n",
       "        5.60058653e-02, 7.84939006e-02],\n",
       "       [9.63939875e-02, 2.18440652e-01, 9.27550048e-02, 8.06015432e-02,\n",
       "        7.92437121e-02, 9.77875590e-02, 8.37877914e-02, 1.16489962e-01,\n",
       "        5.60058653e-02, 7.84939006e-02],\n",
       "       [3.29677796e-09, 5.06024342e-03, 2.99510248e-05, 4.95864868e-01,\n",
       "        8.60360567e-04, 6.58857198e-06, 1.48047411e-06, 4.98166800e-01,\n",
       "        6.23201822e-06, 3.36173230e-06],\n",
       "       [9.63939875e-02, 2.18440652e-01, 9.27550048e-02, 8.06015432e-02,\n",
       "        7.92437121e-02, 9.77875590e-02, 8.37877914e-02, 1.16489962e-01,\n",
       "        5.60058653e-02, 7.84939006e-02],\n",
       "       [1.13268488e-03, 4.72799897e-01, 1.20438524e-02, 2.53782999e-02,\n",
       "        3.14201694e-03, 4.67893784e-04, 6.82572834e-03, 4.67153220e-03,\n",
       "        4.72871602e-01, 6.66454318e-04],\n",
       "       [9.63939875e-02, 2.18440652e-01, 9.27550048e-02, 8.06015432e-02,\n",
       "        7.92437121e-02, 9.77875590e-02, 8.37877914e-02, 1.16489962e-01,\n",
       "        5.60058653e-02, 7.84939006e-02],\n",
       "       [9.63939875e-02, 2.18440652e-01, 9.27550048e-02, 8.06015432e-02,\n",
       "        7.92437121e-02, 9.77875590e-02, 8.37877914e-02, 1.16489962e-01,\n",
       "        5.60058653e-02, 7.84939006e-02],\n",
       "       [4.42314530e-07, 1.19556025e-05, 9.51216862e-06, 1.00241448e-06,\n",
       "        4.94946241e-01, 1.44247597e-05, 4.09760474e-07, 1.71425490e-04,\n",
       "        1.00282300e-02, 4.94816452e-01],\n",
       "       [9.63939875e-02, 2.18440652e-01, 9.27550048e-02, 8.06015432e-02,\n",
       "        7.92437121e-02, 9.77875590e-02, 8.37877914e-02, 1.16489962e-01,\n",
       "        5.60058653e-02, 7.84939006e-02],\n",
       "       [9.63939875e-02, 2.18440652e-01, 9.27550048e-02, 8.06015432e-02,\n",
       "        7.92437121e-02, 9.77875590e-02, 8.37877914e-02, 1.16489962e-01,\n",
       "        5.60058653e-02, 7.84939006e-02],\n",
       "       [2.71490513e-04, 7.92161736e-05, 4.58657851e-05, 2.26677889e-06,\n",
       "        4.83713567e-01, 1.00837008e-03, 8.39928258e-03, 4.99843418e-06,\n",
       "        4.86863405e-01, 1.96115226e-02],\n",
       "       [6.89283770e-05, 4.73859370e-01, 2.87967455e-03, 5.19466493e-03,\n",
       "        2.90616676e-02, 1.46617496e-03, 1.08448694e-05, 1.04054948e-02,\n",
       "        1.59590133e-03, 4.75457281e-01],\n",
       "       [3.26149913e-10, 7.25587888e-05, 5.03902197e-01, 8.75447367e-05,\n",
       "        2.12631051e-07, 1.09139142e-09, 2.68193051e-10, 4.95928615e-01,\n",
       "        8.84944893e-06, 2.89326584e-11],\n",
       "       [9.63939875e-02, 2.18440652e-01, 9.27550048e-02, 8.06015432e-02,\n",
       "        7.92437121e-02, 9.77875590e-02, 8.37877914e-02, 1.16489962e-01,\n",
       "        5.60058653e-02, 7.84939006e-02],\n",
       "       [9.63939875e-02, 2.18440652e-01, 9.27550048e-02, 8.06015432e-02,\n",
       "        7.92437121e-02, 9.77875590e-02, 8.37877914e-02, 1.16489962e-01,\n",
       "        5.60058653e-02, 7.84939006e-02]], dtype=float32)"
      ]
     },
     "execution_count": 131,
     "metadata": {},
     "output_type": "execute_result"
    }
   ],
   "source": [
    "ad.model(X_adv).numpy()"
   ]
  },
  {
   "cell_type": "code",
   "execution_count": 136,
   "metadata": {},
   "outputs": [
    {
     "data": {
      "text/plain": [
       "74.0"
      ]
     },
     "execution_count": 136,
     "metadata": {},
     "output_type": "execute_result"
    }
   ],
   "source": [
    "np.isnan(X_adv).astype(int).sum()/ (28 * 28)"
   ]
  },
  {
   "cell_type": "code",
   "execution_count": 40,
   "metadata": {},
   "outputs": [],
   "source": [
    "attack_type = 'pfgsm'"
   ]
  },
  {
   "cell_type": "code",
   "execution_count": 106,
   "metadata": {},
   "outputs": [
    {
     "name": "stdout",
     "output_type": "stream",
     "text": [
      "Attacking ...\n",
      "ad loss weight: 0.1\n",
      "(100, 28, 28, 1) (100, 28, 28, 1)\n",
      "(100,) (100,)\n",
      "Vae detector\n",
      "Done!\n"
     ]
    }
   ],
   "source": [
    "loss_ws, accs_no_attack, accs_attack, accs_defence, roc_curves, aucs, adv_scores = [], [], [], [], [], [], []\n",
    "print('Attacking ...')\n",
    "#for loss_w in np.arange(0.01, 1.0, 0.01):\n",
    "if True:\n",
    "    loss_w = 0.1\n",
    "    print('ad loss weight:', loss_w)\n",
    "    if attack_type == 'carlini':\n",
    "        fmodel = foolbox.models.TensorFlowEagerModel(model, bounds=(0, 1))\n",
    "        labels_test = np.argmax(fmodel.forward(X_to_adv), axis=1)\n",
    "        attack = foolbox.attacks.CarliniWagnerL2Attack(fmodel)\n",
    "        X_adv = attack(X_to_adv, labels_test, detector=ad, loss_w=loss_w)\n",
    "    elif attack_type == 'pfgsm':\n",
    "        X_adv = projected_gradient_descent(model_logits, ad, loss_w,\n",
    "                                       X_to_adv,\n",
    "                                   eps=1.,\n",
    "                                   eps_iter=1.,\n",
    "                                   nb_iter=10,\n",
    "                                   norm=2,\n",
    "                                   clip_min=X_train.min(),\n",
    "                                   clip_max=X_train.max(),\n",
    "                                   rand_init=None,\n",
    "                                   rand_minmax=.3,\n",
    "                                   targeted=False,\n",
    "                                   sanity_checks=False).numpy()\n",
    "    #X_concat = np.concatenate((X_to_adv, X_adv))\n",
    "    #preds_concat = np.concatenate((preds_xtoadv, preds_adv))\n",
    "    #y_adv_concat = np. concatenate((y_adv, y_adv))\n",
    "    preds_xtoadv = np.argmax(model(X_to_adv).numpy(), axis=1)\n",
    "    preds_adv = np.argmax(model(X_adv).numpy(), axis=1)\n",
    "    loss_ws.append(loss_w)\n",
    "    print(X_to_adv.shape, X_adv.shape)\n",
    "    print(preds_xtoadv.shape, preds_adv.shape)\n",
    "    accs_no_attack.append(accuracy_score(preds_xtoadv, y_adv))\n",
    "    accs_attack.append(accuracy_score(preds_adv, y_adv))\n",
    "    \n",
    "    nb_rep = 10\n",
    "    nb_classes = 10\n",
    "    nb_samples = len(X_adv)\n",
    "    concatenation = tuple([X_adv for _ in range(nb_rep)])\n",
    "    shape_0 = (X_adv.shape[0], nb_rep) + X_adv.shape[1:]\n",
    "    X_adv_conc = np.concatenate(concatenation, axis=1).reshape(shape_0)\n",
    "    shape_1 = (X_adv_conc.shape[0] * X_adv_conc.shape[1], ) + X_adv_conc.shape[2:]\n",
    "    X_adv_fin = X_adv_conc.reshape(shape_1)\n",
    "    \n",
    "    preds_adv_trans = model.predict(ad.vae(X_adv_fin).numpy())\n",
    "    preds_adv_trans = preds_adv_trans.reshape(nb_samples, nb_rep, nb_classes)\n",
    "    #preds_fin = mode(np. argmax(preds_adv_trans, axis=1), axis=1)[0]\n",
    "    preds_fin = np.mean(preds_adv_trans, axis=1)\n",
    "    preds_fin = np.argmax(preds_fin, axis=1)\n",
    "\n",
    "    accs_defence.append(accuracy_score(preds_fin, y_adv))\n",
    "    \n",
    "    kl_test_dict = ad.predict(X_to_adv, return_instance_score=True)\n",
    "    kl_test = kl_test_dict['data']['instance_score']\n",
    "    kl_adv_dict = ad.predict(X_adv, return_instance_score=True)\n",
    "    kl_adv = kl_adv_dict['data']['instance_score']\n",
    "    perm = np.random.permutation(range(len(kl_adv)))[:]\n",
    "    x_kl = np.concatenate((kl_test, kl_adv[perm]))\n",
    "    y_kl = np.concatenate((np.zeros(len(kl_test)), np.ones(len(kl_adv[perm]))))\n",
    "    x_kl = x_kl / x_kl.max()\n",
    "    print('Vae detector')\n",
    "    roc = roc_curve(y_kl, x_kl)\n",
    "    roc_curves.append(roc)\n",
    "    auc = roc_auc_score(y_kl, x_kl)\n",
    "    aucs.append(auc)\n",
    "    adv_scores.append(ad.score(X_adv).mean())\n",
    "print('Done!')\n",
    "df = pd.DataFrame()\n",
    "df['loss_w'] = loss_ws\n",
    "df['acc_no_attack'] = accs_no_attack\n",
    "df['acc_attack'] = accs_attack\n",
    "df['acc_defence'] = accs_defence\n",
    "df['auc'] = aucs\n",
    "df.set_index('loss_w', inplace=True)"
   ]
  },
  {
   "cell_type": "code",
   "execution_count": 107,
   "metadata": {},
   "outputs": [
    {
     "name": "stdout",
     "output_type": "stream",
     "text": [
      "detector loss with + sign\n"
     ]
    },
    {
     "name": "stderr",
     "output_type": "stream",
     "text": [
      "/home/gio/anaconda3/envs/tf2-gpu/lib/python3.6/site-packages/pandas/plotting/_matplotlib/core.py:1085: UserWarning: Attempting to set identical left == right == 0.1 results in singular transformations; automatically expanding.\n",
      "  ax.set_xlim(left, right)\n"
     ]
    },
    {
     "data": {
      "text/plain": [
       "<matplotlib.axes._subplots.AxesSubplot at 0x7f27e570f240>"
      ]
     },
     "execution_count": 107,
     "metadata": {},
     "output_type": "execute_result"
    },
    {
     "data": {
      "image/png": "[encoded data removed]",
      "text/plain": [
       "<Figure size 1080x576 with 1 Axes>"
      ]
     },
     "metadata": {
      "needs_background": "light"
     },
     "output_type": "display_data"
    }
   ],
   "source": [
    "print('detector loss with + sign')\n",
    "df.plot(figsize=(15, 8))"
   ]
  },
  {
   "cell_type": "code",
   "execution_count": 108,
   "metadata": {},
   "outputs": [
    {
     "data": {
      "text/html": [
       "<div>\n",
       "<style scoped>\n",
       "    .dataframe tbody tr th:only-of-type {\n",
       "        vertical-align: middle;\n",
       "    }\n",
       "\n",
       "    .dataframe tbody tr th {\n",
       "        vertical-align: top;\n",
       "    }\n",
       "\n",
       "    .dataframe thead th {\n",
       "        text-align: right;\n",
       "    }\n",
       "</style>\n",
       "<table border=\"1\" class=\"dataframe\">\n",
       "  <thead>\n",
       "    <tr style=\"text-align: right;\">\n",
       "      <th></th>\n",
       "      <th>acc_no_attack</th>\n",
       "      <th>acc_attack</th>\n",
       "      <th>acc_defence</th>\n",
       "      <th>auc</th>\n",
       "    </tr>\n",
       "    <tr>\n",
       "      <th>loss_w</th>\n",
       "      <th></th>\n",
       "      <th></th>\n",
       "      <th></th>\n",
       "      <th></th>\n",
       "    </tr>\n",
       "  </thead>\n",
       "  <tbody>\n",
       "    <tr>\n",
       "      <td>0.1</td>\n",
       "      <td>0.99</td>\n",
       "      <td>0.77</td>\n",
       "      <td>0.81</td>\n",
       "      <td>0.9315</td>\n",
       "    </tr>\n",
       "  </tbody>\n",
       "</table>\n",
       "</div>"
      ],
      "text/plain": [
       "        acc_no_attack  acc_attack  acc_defence     auc\n",
       "loss_w                                                \n",
       "0.1              0.99        0.77         0.81  0.9315"
      ]
     },
     "execution_count": 108,
     "metadata": {},
     "output_type": "execute_result"
    }
   ],
   "source": [
    "df"
   ]
  },
  {
   "cell_type": "code",
   "execution_count": 109,
   "metadata": {},
   "outputs": [
    {
     "data": {
      "text/plain": [
       "[1.3837821]"
      ]
     },
     "execution_count": 109,
     "metadata": {},
     "output_type": "execute_result"
    }
   ],
   "source": [
    "adv_scores"
   ]
  },
  {
   "cell_type": "code",
   "execution_count": 110,
   "metadata": {},
   "outputs": [
    {
     "data": {
      "text/plain": [
       "1.3697493"
      ]
     },
     "execution_count": 110,
     "metadata": {},
     "output_type": "execute_result"
    }
   ],
   "source": [
    "ad.score(X_adv).mean()"
   ]
  },
  {
   "cell_type": "code",
   "execution_count": 111,
   "metadata": {},
   "outputs": [
    {
     "data": {
      "text/plain": [
       "(0.0, 1.0)"
      ]
     },
     "execution_count": 111,
     "metadata": {},
     "output_type": "execute_result"
    },
    {
     "data": {
      "image/png": "[encoded data removed]",
      "text/plain": [
       "<Figure size 432x288 with 1 Axes>"
      ]
     },
     "metadata": {
      "needs_background": "light"
     },
     "output_type": "display_data"
    }
   ],
   "source": [
    "fpr, tpr, thresholds = roc_curves[-1]\n",
    "\n",
    "# In matplotlib < 1.5, plt.fill_between does not have a 'step' argument\n",
    "step_kwargs = ({'step': 'post'}\n",
    "               if 'step' in signature(plt.fill_between).parameters\n",
    "               else {})\n",
    "plt.step(fpr, tpr, color='b', alpha=0.2,\n",
    "         where='post')\n",
    "plt.fill_between(fpr, tpr, alpha=0.2, color='b', **step_kwargs)\n",
    "\n",
    "plt.xlabel('fpr')\n",
    "plt.ylabel('tpr')\n",
    "plt.ylim([0.0, 1.0])\n",
    "plt.xlim([0.0, 1.0])"
   ]
  },
  {
   "cell_type": "code",
   "execution_count": 112,
   "metadata": {},
   "outputs": [
    {
     "data": {
      "image/png": "[encoded data removed]",
      "text/plain": [
       "<Figure size 1080x1440 with 20 Axes>"
      ]
     },
     "metadata": {
      "needs_background": "light"
     },
     "output_type": "display_data"
    }
   ],
   "source": [
    "y_pred = np.argmax(model(X_to_adv).numpy(), axis=-1)\n",
    "y_pred_adv = np.argmax(model(X_adv).numpy(), axis=-1)\n",
    "meta_folder=\"../data/traffic/meta/\"\n",
    "\n",
    "n_rows = 5\n",
    "n_cols = 4\n",
    "figsize = (15, 20)\n",
    "img_shape = (28, 28)\n",
    "\n",
    "fig5 = plt.figure(constrained_layout=False, figsize=figsize)\n",
    "widths = [5, 1, 5, 1]\n",
    "heights = [5, 5, 5, 5, 5]\n",
    "spec5 = fig5.add_gridspec(ncols=4, nrows=5, width_ratios=widths,\n",
    "                          height_ratios=heights)\n",
    "\n",
    "for row in range(n_rows):\n",
    "    ax_0 = fig5.add_subplot(spec5[row, 0])    \n",
    "    ax_0.imshow(X_to_adv[row].reshape(img_shape))\n",
    "    if row == 0:\n",
    "        ax_0.title.set_text('Original')\n",
    "    ax_0.axis('off')\n",
    "    \n",
    "    ax_1 = fig5.add_subplot(spec5[row, 1])\n",
    "    #class_image=cv2.imread(meta_folder+\"{}.png\".format(y_pred[row]))\n",
    "    #image = Image.fromarray(class_image, 'RGB')\n",
    "    #image = np.array(image)\n",
    "    #ax_1.imshow(image)\n",
    "    ax_1.title.set_text('Pred original: {}'.format(y_pred[row]))\n",
    "    ax_1.axis('off')\n",
    "    \n",
    "    ax_2 = fig5.add_subplot(spec5[row, 2])\n",
    "    ax_2.imshow(X_adv[row].reshape(img_shape))\n",
    "    if row == 0:\n",
    "        ax_2.title.set_text('Adversarial')\n",
    "    ax_2.axis('off')\n",
    "    \n",
    "    ax_3 = fig5.add_subplot(spec5[row, 3])\n",
    "    #class_image_adv=cv2.imread(meta_folder+\"{}.png\".format(y_pred_adv[row]))\n",
    "    #image_adv = Image.fromarray(class_image_adv, 'RGB')\n",
    "    #image_adv = np.array(image_adv)   \n",
    "    #ax_3.imshow(image_adv)\n",
    "    ax_3.title.set_text('Pred adversarial: {}'.format(y_pred_adv[row]))\n",
    "    ax_3.axis('off')\n",
    "        #label = 'Width: {}\\nHeight: {}'.format(widths[col], heights[row])\n",
    "        #ax.annotate(label, (0.1, 0.5), xycoords='axes fraction', va='center')"
   ]
  },
  {
   "cell_type": "code",
   "execution_count": 113,
   "metadata": {},
   "outputs": [],
   "source": [
    "#print('detector loss with - sign')\n",
    "#df.plot(figsize=(15, 8))"
   ]
  },
  {
   "cell_type": "code",
   "execution_count": 114,
   "metadata": {},
   "outputs": [
    {
     "data": {
      "text/plain": [
       "<matplotlib.image.AxesImage at 0x7f27e50062e8>"
      ]
     },
     "execution_count": 114,
     "metadata": {},
     "output_type": "execute_result"
    },
    {
     "data": {
      "image/png": "[encoded data removed]",
      "text/plain": [
       "<Figure size 432x288 with 1 Axes>"
      ]
     },
     "metadata": {
      "needs_background": "light"
     },
     "output_type": "display_data"
    }
   ],
   "source": [
    "plt.imshow(X_to_adv[2].reshape(28, 28))"
   ]
  },
  {
   "cell_type": "code",
   "execution_count": 115,
   "metadata": {},
   "outputs": [
    {
     "data": {
      "text/plain": [
       "<matplotlib.image.AxesImage at 0x7f27e4fe5240>"
      ]
     },
     "execution_count": 115,
     "metadata": {},
     "output_type": "execute_result"
    },
    {
     "data": {
      "image/png": "[encoded data removed]",
      "text/plain": [
       "<Figure size 432x288 with 1 Axes>"
      ]
     },
     "metadata": {
      "needs_background": "light"
     },
     "output_type": "display_data"
    }
   ],
   "source": [
    "plt.imshow(X_adv[2].reshape(28, 28))"
   ]
  },
  {
   "cell_type": "code",
   "execution_count": 116,
   "metadata": {},
   "outputs": [
    {
     "data": {
      "text/plain": [
       "array([[8.5402831e-12, 5.1244164e-10, 8.7334566e-09, 1.1344794e-06,\n",
       "        3.8656255e-11, 4.4143630e-11, 1.0448275e-15, 9.9999821e-01,\n",
       "        1.2212321e-10, 5.6244414e-07]], dtype=float32)"
      ]
     },
     "execution_count": 116,
     "metadata": {},
     "output_type": "execute_result"
    }
   ],
   "source": [
    "ad.model(X_to_adv[0].reshape(1, 28, 28, 1)).numpy()"
   ]
  },
  {
   "cell_type": "code",
   "execution_count": 117,
   "metadata": {},
   "outputs": [
    {
     "data": {
      "text/plain": [
       "array([[3.73621756e-09, 3.01709463e-07, 7.85286829e-06, 6.64275810e-02,\n",
       "        4.51988633e-08, 3.86506872e-06, 1.26284296e-11, 9.32868481e-01,\n",
       "        1.45359152e-07, 6.91762660e-04]], dtype=float32)"
      ]
     },
     "execution_count": 117,
     "metadata": {},
     "output_type": "execute_result"
    }
   ],
   "source": [
    "ad.model(X_adv[0].reshape(1, 28, 28, 1)).numpy()"
   ]
  },
  {
   "cell_type": "code",
   "execution_count": 118,
   "metadata": {},
   "outputs": [
    {
     "data": {
      "text/plain": [
       "array([[3.3952979e-08, 1.1243275e-06, 1.4020694e-06, 1.4916682e-06,\n",
       "        6.7045676e-07, 1.6184002e-08, 1.2886536e-11, 9.9997580e-01,\n",
       "        2.5469529e-10, 1.9480578e-05]], dtype=float32)"
      ]
     },
     "execution_count": 118,
     "metadata": {},
     "output_type": "execute_result"
    }
   ],
   "source": [
    "ad.model(ad.vae(X_to_adv[0].reshape(1, 28, 28, 1)).numpy()).numpy()"
   ]
  },
  {
   "cell_type": "code",
   "execution_count": 119,
   "metadata": {},
   "outputs": [
    {
     "data": {
      "text/plain": [
       "array([[1.6172150e-07, 2.0257539e-06, 6.8822415e-06, 1.3893086e-05,\n",
       "        9.9299211e-07, 7.5131993e-08, 5.6160201e-11, 9.9985218e-01,\n",
       "        2.0715962e-09, 1.2377153e-04]], dtype=float32)"
      ]
     },
     "execution_count": 119,
     "metadata": {},
     "output_type": "execute_result"
    }
   ],
   "source": [
    "ad.model(ad.vae(X_adv[0].reshape(1, 28, 28, 1)).numpy()).numpy()"
   ]
  },
  {
   "cell_type": "code",
   "execution_count": null,
   "metadata": {},
   "outputs": [],
   "source": []
  },
  {
   "cell_type": "code",
   "execution_count": 204,
   "metadata": {},
   "outputs": [],
   "source": [
    "ad_preds = ad.predict(X_val, return_instance_score=True)\n",
    "y_pred = ad_preds['data']['is_adversarial']"
   ]
  },
  {
   "cell_type": "code",
   "execution_count": 205,
   "metadata": {},
   "outputs": [
    {
     "data": {
      "image/png": "[encoded data removed]",
      "text/plain": [
       "<Figure size 432x288 with 1 Axes>"
      ]
     },
     "metadata": {
      "needs_background": "light"
     },
     "output_type": "display_data"
    }
   ],
   "source": [
    "labels = ['Normal', 'Adversarial']\n",
    "target = np.array([0 if i < X_to_adv.shape[0] else 1 for i in range(X_val.shape[0])])\n",
    "plot_instance_score(ad_preds, target, labels, ad.threshold)"
   ]
  },
  {
   "cell_type": "code",
   "execution_count": 206,
   "metadata": {},
   "outputs": [
    {
     "data": {
      "text/plain": [
       "0.955"
      ]
     },
     "execution_count": 206,
     "metadata": {},
     "output_type": "execute_result"
    }
   ],
   "source": [
    "accuracy_score(y_val, y_pred)"
   ]
  },
  {
   "cell_type": "code",
   "execution_count": 207,
   "metadata": {},
   "outputs": [
    {
     "data": {
      "image/png": "[encoded data removed]",
      "text/plain": [
       "<Figure size 1080x1440 with 20 Axes>"
      ]
     },
     "metadata": {
      "needs_background": "light"
     },
     "output_type": "display_data"
    }
   ],
   "source": [
    "scores = ad_preds['data']['instance_score']\n",
    "fig5 = plt.figure(constrained_layout=False, figsize=figsize)\n",
    "widths = [5, 1, 5, 1]\n",
    "heights = [5, 5, 5, 5, 5]\n",
    "spec5 = fig5.add_gridspec(ncols=4, nrows=5, width_ratios=widths,\n",
    "                          height_ratios=heights)\n",
    "\n",
    "for row in range(n_rows):\n",
    "    ax_0 = fig5.add_subplot(spec5[row, 0])    \n",
    "    ax_0.imshow(X_to_adv[row].reshape(img_shape))\n",
    "    if row == 0:\n",
    "        ax_0.title.set_text('Original')  \n",
    "    ax_0.axis('off')\n",
    "    \n",
    "    ax_1 = fig5.add_subplot(spec5[row, 1])\n",
    "    #class_image=cv2.imread(meta_folder+\"{}.png\".format(y_pred[row]))\n",
    "    #image = Image.fromarray(class_image, 'RGB')\n",
    "    #image = np.array(image)\n",
    "    #ax_1.imshow(image)\n",
    "    ax_1.title.set_text('Pred original: {}'\n",
    "                  '\\nAdv score: {:.4f}'.format(y_pred[row], scores[row]))    \n",
    "    ax_1.axis('off')\n",
    "    \n",
    "    ax_2 = fig5.add_subplot(spec5[row, 2])\n",
    "    ax_2.imshow(X_adv[row].reshape(img_shape))\n",
    "    if row == 0:\n",
    "        ax_2.title.set_text('Adversarial')\n",
    "    ax_2.axis('off')\n",
    "    \n",
    "    ax_3 = fig5.add_subplot(spec5[row, 3])\n",
    "    #class_image_adv=cv2.imread(meta_folder+\"{}.png\".format(y_pred_adv[row]))\n",
    "    #image_adv = Image.fromarray(class_image_adv, 'RGB')\n",
    "    #image_adv = np.array(image_adv)   \n",
    "    #ax_3.imshow(image_adv)\n",
    "    ax_3.title.set_text('Pred Adversarial: {}'\n",
    "                  '\\nAdv score: {:.4f}'.format(y_pred_adv[row], scores[row + nb_adv]))    \n",
    "    ax_3.axis('off')\n",
    "        #label = 'Width: {}\\nHeight: {}'.format(widths[col], heights[row])\n",
    "        #ax.annotate(label, (0.1, 0.5), xycoords='axes fraction', va='center')"
   ]
  },
  {
   "cell_type": "code",
   "execution_count": 208,
   "metadata": {},
   "outputs": [
    {
     "data": {
      "text/plain": [
       "100"
      ]
     },
     "execution_count": 208,
     "metadata": {},
     "output_type": "execute_result"
    }
   ],
   "source": [
    "nb_adv"
   ]
  },
  {
   "cell_type": "code",
   "execution_count": 209,
   "metadata": {},
   "outputs": [],
   "source": [
    "kl_test_dict = ad.predict(X_val[:nb_adv], return_instance_score=True)\n",
    "kl_test = kl_test_dict['data']['instance_score']\n",
    "kl_adv_dict = ad.predict(X_val[nb_adv:], return_instance_score=True)\n",
    "kl_adv = kl_adv_dict['data']['instance_score']\n",
    "\n",
    "kl_concat = np.concatenate((kl_test, kl_adv))\n",
    "tr = kl_test.shape[0]"
   ]
  },
  {
   "cell_type": "code",
   "execution_count": 210,
   "metadata": {},
   "outputs": [
    {
     "name": "stdout",
     "output_type": "stream",
     "text": [
      "(100,) (100,)\n",
      "0.05332961 0.22031035\n",
      "2.9016984 1.5406144\n"
     ]
    }
   ],
   "source": [
    "print(kl_test.shape, kl_adv.shape)\n",
    "print(kl_test.mean(), kl_test.std())\n",
    "print(kl_adv.mean(), kl_adv.std())"
   ]
  },
  {
   "cell_type": "markdown",
   "metadata": {},
   "source": [
    "### All samples"
   ]
  },
  {
   "cell_type": "code",
   "execution_count": null,
   "metadata": {},
   "outputs": [],
   "source": []
  },
  {
   "cell_type": "code",
   "execution_count": 211,
   "metadata": {},
   "outputs": [],
   "source": [
    "preds_ad_test = kl_test_dict['data']['is_adversarial']\n",
    "preds_ad_adv = kl_adv_dict['data']['is_adversarial']\n",
    "preds_ad = np.concatenate((preds_ad_test, preds_ad_adv))\n",
    "y_true_ad = np.concatenate((np.zeros(len(preds_ad_test)), np.ones(len(preds_ad_adv))))"
   ]
  },
  {
   "cell_type": "code",
   "execution_count": 212,
   "metadata": {},
   "outputs": [
    {
     "data": {
      "text/plain": [
       "(100,)"
      ]
     },
     "execution_count": 212,
     "metadata": {},
     "output_type": "execute_result"
    }
   ],
   "source": [
    "preds_ad_adv.shape"
   ]
  },
  {
   "cell_type": "code",
   "execution_count": 213,
   "metadata": {},
   "outputs": [
    {
     "name": "stdout",
     "output_type": "stream",
     "text": [
      "Adversarial detection accuracy: 0.95\n"
     ]
    }
   ],
   "source": [
    "print('Adversarial detection accuracy:', accuracy_score(y_true_ad, preds_ad))"
   ]
  },
  {
   "cell_type": "code",
   "execution_count": 214,
   "metadata": {},
   "outputs": [
    {
     "name": "stdout",
     "output_type": "stream",
     "text": [
      "Adversarial detection f1: 0.9504950495049505\n"
     ]
    }
   ],
   "source": [
    "print('Adversarial detection f1:', f1_score(y_true_ad, preds_ad))"
   ]
  },
  {
   "cell_type": "code",
   "execution_count": 215,
   "metadata": {},
   "outputs": [
    {
     "name": "stdout",
     "output_type": "stream",
     "text": [
      "Adversarial detection confusion matrix:\n"
     ]
    },
    {
     "data": {
      "text/plain": [
       "array([[94,  6],\n",
       "       [ 4, 96]])"
      ]
     },
     "execution_count": 215,
     "metadata": {},
     "output_type": "execute_result"
    }
   ],
   "source": [
    "print('Adversarial detection confusion matrix:')\n",
    "confusion_matrix(y_true_ad, preds_ad)"
   ]
  },
  {
   "cell_type": "markdown",
   "metadata": {},
   "source": [
    "### 100 advesarial samples"
   ]
  },
  {
   "cell_type": "code",
   "execution_count": 216,
   "metadata": {},
   "outputs": [],
   "source": [
    "idx_sparse = np.random.permutation(len(preds_ad_adv))[:100]\n",
    "preds_ad_sparse = np.concatenate((preds_ad_test, preds_ad_adv[idx_sparse]))\n",
    "y_true_ad_sparse = np.concatenate((np.zeros(len(preds_ad_test)), np.ones(len(preds_ad_adv[idx_sparse]))))"
   ]
  },
  {
   "cell_type": "code",
   "execution_count": 217,
   "metadata": {},
   "outputs": [
    {
     "name": "stdout",
     "output_type": "stream",
     "text": [
      "Adversarial detection accuracy: 0.95\n"
     ]
    }
   ],
   "source": [
    "print('Adversarial detection accuracy:', accuracy_score(y_true_ad_sparse, preds_ad_sparse))"
   ]
  },
  {
   "cell_type": "code",
   "execution_count": 218,
   "metadata": {},
   "outputs": [
    {
     "name": "stdout",
     "output_type": "stream",
     "text": [
      "Adversarial detection f1: 0.9504950495049505\n"
     ]
    }
   ],
   "source": [
    "print('Adversarial detection f1:', f1_score(y_true_ad_sparse, preds_ad_sparse))"
   ]
  },
  {
   "cell_type": "code",
   "execution_count": 219,
   "metadata": {},
   "outputs": [
    {
     "name": "stdout",
     "output_type": "stream",
     "text": [
      "Adversarial detection confusion matrix:\n"
     ]
    },
    {
     "data": {
      "text/plain": [
       "array([[94,  6],\n",
       "       [ 4, 96]])"
      ]
     },
     "execution_count": 219,
     "metadata": {},
     "output_type": "execute_result"
    }
   ],
   "source": [
    "print('Adversarial detection confusion matrix:')\n",
    "confusion_matrix(y_true_ad_sparse, preds_ad_sparse)"
   ]
  },
  {
   "cell_type": "markdown",
   "metadata": {},
   "source": [
    "### 10 adversarial samples"
   ]
  },
  {
   "cell_type": "code",
   "execution_count": 220,
   "metadata": {},
   "outputs": [],
   "source": [
    "idx_sparse = np.random.permutation(len(preds_ad_adv))[:10]\n",
    "preds_ad_sparse = np.concatenate((preds_ad_test, preds_ad_adv[idx_sparse]))\n",
    "y_true_ad_sparse = np.concatenate((np.zeros(len(preds_ad_test)), np.ones(len(preds_ad_adv[idx_sparse]))))"
   ]
  },
  {
   "cell_type": "code",
   "execution_count": 221,
   "metadata": {},
   "outputs": [
    {
     "name": "stdout",
     "output_type": "stream",
     "text": [
      "Adversarial detection accuracy: 0.9454545454545454\n"
     ]
    }
   ],
   "source": [
    "print('Adversarial detection accuracy:', accuracy_score(y_true_ad_sparse, preds_ad_sparse))"
   ]
  },
  {
   "cell_type": "code",
   "execution_count": 222,
   "metadata": {},
   "outputs": [
    {
     "name": "stdout",
     "output_type": "stream",
     "text": [
      "Adversarial detection f1: 0.7692307692307693\n"
     ]
    }
   ],
   "source": [
    "print('Adversarial detection f1:', f1_score(y_true_ad_sparse, preds_ad_sparse))"
   ]
  },
  {
   "cell_type": "code",
   "execution_count": 223,
   "metadata": {},
   "outputs": [
    {
     "name": "stdout",
     "output_type": "stream",
     "text": [
      "Adversarial detection confusion matrix:\n"
     ]
    },
    {
     "data": {
      "text/plain": [
       "array([[94,  6],\n",
       "       [ 0, 10]])"
      ]
     },
     "execution_count": 223,
     "metadata": {},
     "output_type": "execute_result"
    }
   ],
   "source": [
    "print('Adversarial detection confusion matrix:')\n",
    "confusion_matrix(y_true_ad_sparse, preds_ad_sparse)"
   ]
  },
  {
   "cell_type": "markdown",
   "metadata": {},
   "source": [
    "## Curves"
   ]
  },
  {
   "cell_type": "code",
   "execution_count": 224,
   "metadata": {},
   "outputs": [],
   "source": [
    "def predict_adv(x, tr):\n",
    "    return (x > tr).astype(int)\n",
    "\n",
    "def _calculate_perc(df_t, nb_sigmas=3):\n",
    "    sigma_plus = df_t['test'].mean() + (nb_sigmas * df_t['test'].std())\n",
    "    pc_sigma = percentileofscore(df_t['adv'], sigma_plus) * 0.01\n",
    "    perc = 1 - pc_sigma\n",
    "    return perc, sigma_plus\n",
    "\n",
    "def calculate_perc_nn(X_train, X_test, X_test_adv, predict_fn, nb_samples=100, nb_sigmas=3):\n",
    "    \n",
    "    X_train_samples = np.random.permutation(X_train)[:nb_samples]\n",
    "    preds_train = predict_fn(X_train_samples)\n",
    "    nn = NearestNeighbors()\n",
    "    nn.fit(preds_train)\n",
    "    \n",
    "    preds_test, preds_adv = predict_fn(X_test), predict_fn(X_test_adv)\n",
    "    dist_test, idx_test = nn.kneighbors(preds_test, n_neighbors=1)\n",
    "    dist_adv, idx_adv = nn.kneighbors(preds_adv, n_neighbors=1)\n",
    "\n",
    "    df_dist = pd.DataFrame()\n",
    "    df_dist['test'] = dist_test.flatten()\n",
    "    df_dist['adv'] = dist_adv.flatten()\n",
    "    \n",
    "    perc, sigma_plus = _calculate_perc(df_dist, nb_sigmas=nb_sigmas)\n",
    "    \n",
    "    return perc, df_dist, sigma_plus\n",
    "\n",
    "def predict_fn(x):\n",
    "    return model.predict(x)"
   ]
  },
  {
   "cell_type": "code",
   "execution_count": 225,
   "metadata": {},
   "outputs": [],
   "source": [
    "perm = np.random.permutation(range(len(kl_adv)))[:]\n",
    "x_kl = np.concatenate((kl_test, kl_adv[perm]))\n",
    "y_kl = np.concatenate((np.zeros(len(kl_test)), np.ones(len(kl_adv[perm]))))\n",
    "x_kl = x_kl / x_kl.max()"
   ]
  },
  {
   "cell_type": "code",
   "execution_count": 226,
   "metadata": {},
   "outputs": [],
   "source": [
    "perc, df_dist, sigma_plus = calculate_perc_nn(X_train, X_to_adv, X_adv, predict_fn, nb_samples=1000, nb_sigmas=5)\n",
    "dist_test, dist_adv = df_dist['test'].values, df_dist['adv'].values\n",
    "x_bl =  np.concatenate((dist_test, dist_adv[perm]))\n",
    "y_bl = np.concatenate((np.zeros(len(dist_test)), np.ones(len(dist_adv[perm]))))\n",
    "x_bl = x_bl / x_bl.max()"
   ]
  },
  {
   "cell_type": "markdown",
   "metadata": {},
   "source": [
    "### Precision recall curves"
   ]
  },
  {
   "cell_type": "code",
   "execution_count": 227,
   "metadata": {},
   "outputs": [
    {
     "name": "stdout",
     "output_type": "stream",
     "text": [
      "Naive detector baseline\n"
     ]
    },
    {
     "data": {
      "text/plain": [
       "(0.0, 1.0)"
      ]
     },
     "execution_count": 227,
     "metadata": {},
     "output_type": "execute_result"
    },
    {
     "data": {
      "image/png": "[encoded data removed]",
      "text/plain": [
       "<Figure size 432x288 with 1 Axes>"
      ]
     },
     "metadata": {
      "needs_background": "light"
     },
     "output_type": "display_data"
    }
   ],
   "source": [
    "print('Naive detector baseline')\n",
    "precision_bl, recall_bl, thresholds_bl = precision_recall_curve(y_bl, x_bl)\n",
    "\n",
    "# In matplotlib < 1.5, plt.fill_between does not have a 'step' argument\n",
    "step_kwargs = ({'step': 'post'}\n",
    "               if 'step' in signature(plt.fill_between).parameters\n",
    "               else {})\n",
    "plt.step(recall_bl, precision_bl, color='b', alpha=0.2,\n",
    "         where='post')\n",
    "plt.fill_between(recall_bl, precision_bl, alpha=0.2, color='b', **step_kwargs)\n",
    "\n",
    "plt.xlabel('Recall')\n",
    "plt.ylabel('Precision')\n",
    "plt.ylim([0.0, 1.0])\n",
    "plt.xlim([0.0, 1.0])"
   ]
  },
  {
   "cell_type": "code",
   "execution_count": 228,
   "metadata": {},
   "outputs": [
    {
     "name": "stdout",
     "output_type": "stream",
     "text": [
      "Vae detector\n"
     ]
    },
    {
     "data": {
      "text/plain": [
       "(0.0, 1.0)"
      ]
     },
     "execution_count": 228,
     "metadata": {},
     "output_type": "execute_result"
    },
    {
     "data": {
      "image/png": "[encoded data removed]",
      "text/plain": [
       "<Figure size 432x288 with 1 Axes>"
      ]
     },
     "metadata": {
      "needs_background": "light"
     },
     "output_type": "display_data"
    }
   ],
   "source": [
    "print('Vae detector')\n",
    "precision, recall, thresholds = precision_recall_curve(y_kl, x_kl)\n",
    "\n",
    "# In matplotlib < 1.5, plt.fill_between does not have a 'step' argument\n",
    "step_kwargs = ({'step': 'post'}\n",
    "               if 'step' in signature(plt.fill_between).parameters\n",
    "               else {})\n",
    "plt.step(recall, precision, color='b', alpha=0.2,\n",
    "         where='post')\n",
    "plt.fill_between(recall, precision, alpha=0.2, color='b', **step_kwargs)\n",
    "\n",
    "plt.xlabel('Recall')\n",
    "plt.ylabel('Precision')\n",
    "plt.ylim([0.0, 1.0])\n",
    "plt.xlim([0.0, 1.0])"
   ]
  },
  {
   "cell_type": "code",
   "execution_count": 229,
   "metadata": {},
   "outputs": [
    {
     "name": "stdout",
     "output_type": "stream",
     "text": [
      "Vae detector roc\n"
     ]
    },
    {
     "data": {
      "text/plain": [
       "(0.0, 1.0)"
      ]
     },
     "execution_count": 229,
     "metadata": {},
     "output_type": "execute_result"
    },
    {
     "data": {
      "image/png": "[encoded data removed]",
      "text/plain": [
       "<Figure size 432x288 with 1 Axes>"
      ]
     },
     "metadata": {
      "needs_background": "light"
     },
     "output_type": "display_data"
    }
   ],
   "source": [
    "print('Vae detector roc')\n",
    "fpr, tpr, thresholds = roc_curve(y_kl, x_kl)\n",
    "\n",
    "# In matplotlib < 1.5, plt.fill_between does not have a 'step' argument\n",
    "step_kwargs = ({'step': 'post'}\n",
    "               if 'step' in signature(plt.fill_between).parameters\n",
    "               else {})\n",
    "plt.step(fpr, tpr, color='b', alpha=0.2,\n",
    "         where='post')\n",
    "plt.fill_between(fpr, tpr, alpha=0.2, color='b', **step_kwargs)\n",
    "\n",
    "plt.xlabel('fpr')\n",
    "plt.ylabel('tpr')\n",
    "plt.ylim([0.0, 1.0])\n",
    "plt.xlim([0.0, 1.0])"
   ]
  },
  {
   "cell_type": "code",
   "execution_count": 230,
   "metadata": {},
   "outputs": [
    {
     "data": {
      "text/plain": [
       "0.9933"
      ]
     },
     "execution_count": 230,
     "metadata": {},
     "output_type": "execute_result"
    }
   ],
   "source": [
    "roc_auc_score(y_kl, x_kl)"
   ]
  },
  {
   "cell_type": "markdown",
   "metadata": {},
   "source": [
    "### Accuracy - f1 scores"
   ]
  },
  {
   "cell_type": "code",
   "execution_count": 127,
   "metadata": {},
   "outputs": [
    {
     "name": "stderr",
     "output_type": "stream",
     "text": [
      "/home/gio/anaconda3/envs/tf2-gpu/lib/python3.6/site-packages/sklearn/metrics/classification.py:1437: UndefinedMetricWarning: Precision is ill-defined and being set to 0.0 due to no predicted samples.\n",
      "  'precision', 'predicted', average, warn_for)\n",
      "/home/gio/anaconda3/envs/tf2-gpu/lib/python3.6/site-packages/sklearn/metrics/classification.py:1437: UndefinedMetricWarning: F-score is ill-defined and being set to 0.0 due to no predicted samples.\n",
      "  'precision', 'predicted', average, warn_for)\n"
     ]
    }
   ],
   "source": [
    "trs = np.arange(0, 1.001, 0.001)\n",
    "tresholds, precs, recals, accs, f1s = [], [], [], [], []\n",
    "precs_bl, recals_bl, accs_bl, f1s_bl = [], [], [], []\n",
    "for tr in trs:\n",
    "    preds_kl = predict_adv(x_kl, tr)\n",
    "    preds_bl = predict_adv(x_bl, tr)\n",
    "    \n",
    "    prec = precision_score(y_kl, preds_kl)\n",
    "    rec = recall_score(y_kl, preds_kl)\n",
    "    acc = accuracy_score(y_kl, preds_kl)\n",
    "    f1 = f1_score(y_kl, preds_kl)\n",
    "    \n",
    "    prec_bl = precision_score(y_bl, preds_bl)\n",
    "    rec_bl = recall_score(y_bl, preds_bl)\n",
    "    acc_bl = accuracy_score(y_bl, preds_bl)\n",
    "    f1_bl = f1_score(y_bl, preds_bl)\n",
    "    \n",
    "    tresholds.append(tr)\n",
    "    precs.append(prec)\n",
    "    recals.append(rec)\n",
    "    accs.append(acc)\n",
    "    f1s.append(f1)\n",
    "    \n",
    "    precs_bl.append(prec_bl)\n",
    "    recals_bl.append(rec_bl)\n",
    "    accs_bl.append(acc_bl)\n",
    "    f1s_bl.append(f1_bl)\n",
    "\n",
    "df_scores = pd.DataFrame()\n",
    "df_scores['trs'] = tresholds\n",
    "df_scores['precs'] = precs\n",
    "df_scores['recs'] = recals\n",
    "df_scores['accs'] = accs\n",
    "df_scores['f1s'] = f1s\n",
    "\n",
    "df_scores['precs_bl'] = precs_bl\n",
    "df_scores['recs_bl'] = recals_bl\n",
    "df_scores['accs_bl'] = accs_bl\n",
    "df_scores['f1s_bl'] = f1s_bl"
   ]
  },
  {
   "cell_type": "code",
   "execution_count": 128,
   "metadata": {},
   "outputs": [
    {
     "name": "stdout",
     "output_type": "stream",
     "text": [
      "Accuracy\n"
     ]
    },
    {
     "data": {
      "text/plain": [
       "<matplotlib.axes._subplots.AxesSubplot at 0x7f59dcc73b00>"
      ]
     },
     "execution_count": 128,
     "metadata": {},
     "output_type": "execute_result"
    },
    {
     "data": {
      "image/png": "[encoded data removed]",
      "text/plain": [
       "<Figure size 1080x576 with 1 Axes>"
      ]
     },
     "metadata": {
      "needs_background": "light"
     },
     "output_type": "display_data"
    }
   ],
   "source": [
    "print('Accuracy')\n",
    "df_scores.plot(x= 'trs',y=['accs', 'accs_bl'], figsize=(15, 8))"
   ]
  },
  {
   "cell_type": "code",
   "execution_count": 129,
   "metadata": {},
   "outputs": [
    {
     "name": "stdout",
     "output_type": "stream",
     "text": [
      "F1 score\n"
     ]
    },
    {
     "data": {
      "text/plain": [
       "<matplotlib.axes._subplots.AxesSubplot at 0x7f59dcb84ac8>"
      ]
     },
     "execution_count": 129,
     "metadata": {},
     "output_type": "execute_result"
    },
    {
     "data": {
      "image/png": "[encoded data removed]",
      "text/plain": [
       "<Figure size 1080x576 with 1 Axes>"
      ]
     },
     "metadata": {
      "needs_background": "light"
     },
     "output_type": "display_data"
    }
   ],
   "source": [
    "print('F1 score')\n",
    "df_scores.plot(x= 'trs',y=['f1s', 'f1s_bl'], figsize=(15, 8))"
   ]
  },
  {
   "cell_type": "code",
   "execution_count": 130,
   "metadata": {},
   "outputs": [
    {
     "data": {
      "text/html": [
       "<div>\n",
       "<style scoped>\n",
       "    .dataframe tbody tr th:only-of-type {\n",
       "        vertical-align: middle;\n",
       "    }\n",
       "\n",
       "    .dataframe tbody tr th {\n",
       "        vertical-align: top;\n",
       "    }\n",
       "\n",
       "    .dataframe thead th {\n",
       "        text-align: right;\n",
       "    }\n",
       "</style>\n",
       "<table border=\"1\" class=\"dataframe\">\n",
       "  <thead>\n",
       "    <tr style=\"text-align: right;\">\n",
       "      <th></th>\n",
       "      <th>trs</th>\n",
       "      <th>precs</th>\n",
       "      <th>recs</th>\n",
       "      <th>accs</th>\n",
       "      <th>f1s</th>\n",
       "      <th>precs_bl</th>\n",
       "      <th>recs_bl</th>\n",
       "      <th>accs_bl</th>\n",
       "      <th>f1s_bl</th>\n",
       "    </tr>\n",
       "  </thead>\n",
       "  <tbody>\n",
       "    <tr>\n",
       "      <td>count</td>\n",
       "      <td>1001.000000</td>\n",
       "      <td>1001.000000</td>\n",
       "      <td>1001.000000</td>\n",
       "      <td>1001.000000</td>\n",
       "      <td>1001.000000</td>\n",
       "      <td>1001.000000</td>\n",
       "      <td>1001.000000</td>\n",
       "      <td>1001.000000</td>\n",
       "      <td>1001.000000</td>\n",
       "    </tr>\n",
       "    <tr>\n",
       "      <td>mean</td>\n",
       "      <td>0.500000</td>\n",
       "      <td>0.993081</td>\n",
       "      <td>0.372766</td>\n",
       "      <td>0.683418</td>\n",
       "      <td>0.441342</td>\n",
       "      <td>0.992126</td>\n",
       "      <td>0.754215</td>\n",
       "      <td>0.873398</td>\n",
       "      <td>0.798081</td>\n",
       "    </tr>\n",
       "    <tr>\n",
       "      <td>std</td>\n",
       "      <td>0.289108</td>\n",
       "      <td>0.037249</td>\n",
       "      <td>0.361739</td>\n",
       "      <td>0.177069</td>\n",
       "      <td>0.376792</td>\n",
       "      <td>0.036075</td>\n",
       "      <td>0.332610</td>\n",
       "      <td>0.164441</td>\n",
       "      <td>0.310266</td>\n",
       "    </tr>\n",
       "    <tr>\n",
       "      <td>min</td>\n",
       "      <td>0.000000</td>\n",
       "      <td>0.000000</td>\n",
       "      <td>0.000000</td>\n",
       "      <td>0.500000</td>\n",
       "      <td>0.000000</td>\n",
       "      <td>0.000000</td>\n",
       "      <td>0.000000</td>\n",
       "      <td>0.500000</td>\n",
       "      <td>0.000000</td>\n",
       "    </tr>\n",
       "    <tr>\n",
       "      <td>25%</td>\n",
       "      <td>0.250000</td>\n",
       "      <td>0.995633</td>\n",
       "      <td>0.029000</td>\n",
       "      <td>0.514000</td>\n",
       "      <td>0.056365</td>\n",
       "      <td>0.991080</td>\n",
       "      <td>0.679000</td>\n",
       "      <td>0.837500</td>\n",
       "      <td>0.805970</td>\n",
       "    </tr>\n",
       "    <tr>\n",
       "      <td>50%</td>\n",
       "      <td>0.500000</td>\n",
       "      <td>0.998498</td>\n",
       "      <td>0.237000</td>\n",
       "      <td>0.617500</td>\n",
       "      <td>0.382876</td>\n",
       "      <td>0.996319</td>\n",
       "      <td>0.954000</td>\n",
       "      <td>0.974000</td>\n",
       "      <td>0.973388</td>\n",
       "    </tr>\n",
       "    <tr>\n",
       "      <td>75%</td>\n",
       "      <td>0.750000</td>\n",
       "      <td>1.000000</td>\n",
       "      <td>0.762000</td>\n",
       "      <td>0.878000</td>\n",
       "      <td>0.861521</td>\n",
       "      <td>1.000000</td>\n",
       "      <td>1.000000</td>\n",
       "      <td>0.994000</td>\n",
       "      <td>0.994036</td>\n",
       "    </tr>\n",
       "    <tr>\n",
       "      <td>max</td>\n",
       "      <td>1.000000</td>\n",
       "      <td>1.000000</td>\n",
       "      <td>1.000000</td>\n",
       "      <td>0.966000</td>\n",
       "      <td>0.966203</td>\n",
       "      <td>1.000000</td>\n",
       "      <td>1.000000</td>\n",
       "      <td>0.997500</td>\n",
       "      <td>0.997504</td>\n",
       "    </tr>\n",
       "  </tbody>\n",
       "</table>\n",
       "</div>"
      ],
      "text/plain": [
       "               trs        precs         recs         accs          f1s  \\\n",
       "count  1001.000000  1001.000000  1001.000000  1001.000000  1001.000000   \n",
       "mean      0.500000     0.993081     0.372766     0.683418     0.441342   \n",
       "std       0.289108     0.037249     0.361739     0.177069     0.376792   \n",
       "min       0.000000     0.000000     0.000000     0.500000     0.000000   \n",
       "25%       0.250000     0.995633     0.029000     0.514000     0.056365   \n",
       "50%       0.500000     0.998498     0.237000     0.617500     0.382876   \n",
       "75%       0.750000     1.000000     0.762000     0.878000     0.861521   \n",
       "max       1.000000     1.000000     1.000000     0.966000     0.966203   \n",
       "\n",
       "          precs_bl      recs_bl      accs_bl       f1s_bl  \n",
       "count  1001.000000  1001.000000  1001.000000  1001.000000  \n",
       "mean      0.992126     0.754215     0.873398     0.798081  \n",
       "std       0.036075     0.332610     0.164441     0.310266  \n",
       "min       0.000000     0.000000     0.500000     0.000000  \n",
       "25%       0.991080     0.679000     0.837500     0.805970  \n",
       "50%       0.996319     0.954000     0.974000     0.973388  \n",
       "75%       1.000000     1.000000     0.994000     0.994036  \n",
       "max       1.000000     1.000000     0.997500     0.997504  "
      ]
     },
     "execution_count": 130,
     "metadata": {},
     "output_type": "execute_result"
    }
   ],
   "source": [
    "df_scores.describe()"
   ]
  },
  {
   "cell_type": "markdown",
   "metadata": {},
   "source": [
    "### Distributions"
   ]
  },
  {
   "cell_type": "code",
   "execution_count": 131,
   "metadata": {},
   "outputs": [
    {
     "name": "stdout",
     "output_type": "stream",
     "text": [
      "Vae detector\n"
     ]
    },
    {
     "data": {
      "text/plain": [
       "<matplotlib.axes._subplots.AxesSubplot at 0x7f59dcb70080>"
      ]
     },
     "execution_count": 131,
     "metadata": {},
     "output_type": "execute_result"
    },
    {
     "data": {
      "image/png": "[encoded data removed]",
      "text/plain": [
       "<Figure size 1080x576 with 1 Axes>"
      ]
     },
     "metadata": {
      "needs_background": "light"
     },
     "output_type": "display_data"
    }
   ],
   "source": [
    "print('Vae detector')\n",
    "fig, ax = plt.subplots(figsize=(15, 8))\n",
    "sns.distplot(kl_test, rug=True, ax=ax, kde=False)\n",
    "plt.axvline(sigma_plus, c='r', linestyle='dashed')\n",
    "sns.distplot(kl_adv, rug=True,ax=ax, kde=False)"
   ]
  },
  {
   "cell_type": "code",
   "execution_count": 132,
   "metadata": {},
   "outputs": [
    {
     "name": "stdout",
     "output_type": "stream",
     "text": [
      "Naive detector baseline\n"
     ]
    },
    {
     "data": {
      "text/plain": [
       "<matplotlib.axes._subplots.AxesSubplot at 0x7f59dce74b70>"
      ]
     },
     "execution_count": 132,
     "metadata": {},
     "output_type": "execute_result"
    },
    {
     "data": {
      "image/png": "[encoded data removed]",
      "text/plain": [
       "<Figure size 1080x576 with 1 Axes>"
      ]
     },
     "metadata": {
      "needs_background": "light"
     },
     "output_type": "display_data"
    }
   ],
   "source": [
    "print('Naive detector baseline')\n",
    "fig, ax = plt.subplots(figsize=(15, 8))\n",
    "sns.distplot(df_dist['test'], rug=True, ax=ax, kde=False)\n",
    "plt.axvline(sigma_plus, c='r', linestyle='dashed')\n",
    "sns.distplot(df_dist['adv'], rug=True,ax=ax, kde=False)"
   ]
  },
  {
   "cell_type": "markdown",
   "metadata": {},
   "source": [
    "# Model accuracy with adv samples "
   ]
  },
  {
   "cell_type": "code",
   "execution_count": null,
   "metadata": {},
   "outputs": [],
   "source": []
  },
  {
   "cell_type": "code",
   "execution_count": 91,
   "metadata": {},
   "outputs": [],
   "source": [
    "preds_adv_test, y_adv_test = generate_adv_set(X_to_adv, X_adv)"
   ]
  },
  {
   "cell_type": "code",
   "execution_count": 92,
   "metadata": {},
   "outputs": [
    {
     "data": {
      "text/plain": [
       "0.7196048632218845"
      ]
     },
     "execution_count": 92,
     "metadata": {},
     "output_type": "execute_result"
    }
   ],
   "source": [
    "accuracy_score(preds_adv_test, y_adv_test)"
   ]
  },
  {
   "cell_type": "code",
   "execution_count": 170,
   "metadata": {},
   "outputs": [
    {
     "data": {
      "text/plain": [
       "0.10264900662251655"
      ]
     },
     "execution_count": 170,
     "metadata": {},
     "output_type": "execute_result"
    }
   ],
   "source": [
    "accuracy_score(preds_orig[:906], y_val_adv[:906])"
   ]
  },
  {
   "cell_type": "code",
   "execution_count": null,
   "metadata": {},
   "outputs": [],
   "source": []
  }
 ],
 "metadata": {
  "kernelspec": {
   "display_name": "Python [conda env:tf2-py37]",
   "language": "python",
   "name": "conda-env-tf2-py37-py"
  },
  "language_info": {
   "codemirror_mode": {
    "name": "ipython",
    "version": 3
   },
   "file_extension": ".py",
   "mimetype": "text/x-python",
   "name": "python",
   "nbconvert_exporter": "python",
   "pygments_lexer": "ipython3",
   "version": "3.7.6"
  }
 },
 "nbformat": 4,
 "nbformat_minor": 2
}
