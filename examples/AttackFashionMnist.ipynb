{
 "cells": [
  {
   "cell_type": "code",
   "execution_count": 1,
   "metadata": {},
   "outputs": [
    {
     "name": "stderr",
     "output_type": "stream",
     "text": [
      "Using TensorFlow backend.\n",
      "ERROR:fbprophet:Importing plotly failed. Interactive plots will not work.\n"
     ]
    }
   ],
   "source": [
    "import numpy as np \n",
    "import pandas as pd \n",
    "import matplotlib.pyplot as plt\n",
    "import tensorflow as tf\n",
    "import keras \n",
    "import cv2\n",
    "from PIL import Image\n",
    "import os\n",
    "import json\n",
    "import joblib\n",
    "from tensorflow.keras.layers import Activation, Conv2D, Conv2DTranspose, Dense, Dropout\n",
    "from tensorflow.keras.layers import Flatten, Input, InputLayer, Reshape, MaxPooling2D\n",
    "from tensorflow.keras.optimizers import Nadam, Adam, RMSprop\n",
    "from tensorflow.keras.models import Model\n",
    "from tensorflow.keras.utils import to_categorical\n",
    "from tensorflow.keras.regularizers import l1, l2, l1_l2\n",
    "\n",
    "from cleverhans.future.tf2.attacks import projected_gradient_descent, fast_gradient_method\n",
    "\n",
    "import alibi_detect.ad as adv\n",
    "from alibi_detect.datasets import fetch_traffic_signs\n",
    "from alibi_detect.models.losses import loss_adv_vae\n",
    "from alibi_detect.ad import AdversarialVAE\n",
    "from alibi_detect.utils.saving import save_detector, load_detector, save_tf_model, load_tf_model\n",
    "from alibi_detect.utils.visualize import plot_instance_score"
   ]
  },
  {
   "cell_type": "code",
   "execution_count": 2,
   "metadata": {},
   "outputs": [],
   "source": [
    "from inspect import signature\n",
    "from sklearn.neighbors import NearestNeighbors\n",
    "from sklearn.metrics import precision_score, recall_score, accuracy_score, precision_recall_curve, f1_score\n",
    "from creme.stats import Mean, Var\n",
    "%matplotlib inline\n",
    "from scipy.stats import percentileofscore\n",
    "from importlib import reload"
   ]
  },
  {
   "cell_type": "code",
   "execution_count": 3,
   "metadata": {},
   "outputs": [
    {
     "name": "stdout",
     "output_type": "stream",
     "text": [
      "env: CUDA_VISIBLE_DEVICES=3\n"
     ]
    }
   ],
   "source": [
    "from sklearn.metrics import confusion_matrix\n",
    "import foolbox\n",
    "%set_env CUDA_VISIBLE_DEVICES=3"
   ]
  },
  {
   "cell_type": "markdown",
   "metadata": {},
   "source": [
    "# Load dataset"
   ]
  },
  {
   "cell_type": "code",
   "execution_count": 4,
   "metadata": {},
   "outputs": [
    {
     "name": "stdout",
     "output_type": "stream",
     "text": [
      "(60000, 28, 28, 1) (60000, 10) (10000, 28, 28, 1) (10000, 10)\n"
     ]
    }
   ],
   "source": [
    "train, test = tf.keras.datasets.fashion_mnist.load_data()\n",
    "X_train, y_train = train\n",
    "X_test, y_test = test\n",
    "\n",
    "X_train = X_train.reshape(-1, 28, 28, 1).astype('float32') / 255\n",
    "X_test = X_test.reshape(-1, 28, 28, 1).astype('float32') / 255\n",
    "y_train = keras.utils.to_categorical(y_train, 10)\n",
    "y_test = keras.utils.to_categorical(y_test, 10)\n",
    "print(X_train.shape, y_train.shape, X_test.shape, y_test.shape)"
   ]
  },
  {
   "cell_type": "markdown",
   "metadata": {},
   "source": [
    "# Load model"
   ]
  },
  {
   "cell_type": "code",
   "execution_count": 5,
   "metadata": {},
   "outputs": [],
   "source": [
    "model = tf.keras.models.load_model('/home/gio/adversarial_vae/adversarial-vae/models/classifier/fashion_mnist/model/model.h5')"
   ]
  },
  {
   "cell_type": "markdown",
   "metadata": {},
   "source": [
    "# Load / train detector"
   ]
  },
  {
   "cell_type": "code",
   "execution_count": 6,
   "metadata": {},
   "outputs": [
    {
     "name": "stdout",
     "output_type": "stream",
     "text": [
      "Creating log dir: /home/gio/experiments/mnist/model_0/vae_0/83\n"
     ]
    }
   ],
   "source": [
    "load_adversarial_detector = False\n",
    "\n",
    "log_dir = '/home/gio/experiments/mnist/model_0/vae_0/'\n",
    "if not os.path.exists(log_dir):\n",
    "    os.makedirs(log_dir)\n",
    "data_dir = '/'.join(log_dir.split('/')[:-3]) + '/'\n",
    "model_dir = '/'.join(log_dir.split('/')[:-2]) + '/'\n",
    "detector_dir = '/'.join(log_dir.split('/')[:-1]) + '/'\n",
    "\n",
    "encoder_params = {'nb_filters_1': 64, 'nb_filters_2': 128, 'nb_filters_3': 512,\n",
    "               'kernel_1': 4, 'kernel_2': 4, 'kernel_3': 4,\n",
    "               'activation_1': 'relu', 'activation_2': 'relu', 'activation_3': 'relu',\n",
    "                'padding_1': 'same', 'padding_2': 'same', 'padding_3': 'same'}\n",
    "decoder_params = {'nb_filters_1': 64, 'nb_filters_2': 32, 'nb_filters_3': 1,\n",
    "               'kernel_1': 3, 'kernel_2': 3, 'kernel_3': 3, \n",
    "               'activation_1': 'relu', 'activation_2': 'relu', 'activation_3': 'sigmoid',\n",
    "               'padding_1': 'same', 'padding_2': 'same', 'padding_3': 'same',}\n",
    "vae_params = {'latent_dim': 160, 'optimizer': 'Adam'}\n",
    "\n",
    "filepath = detector_dir # change to directory where model is downloaded\n",
    "if load_adversarial_detector:  # load pretrained adversarial detector\n",
    "    ad = load_detector(filepath)\n",
    "else:  # define model, initialize, train and save adversarial detector\n",
    "    latent_dim = vae_params['latent_dim']\n",
    "    alpha = 0.\n",
    "    encoder_net = tf.keras.Sequential(\n",
    "      [\n",
    "          InputLayer(input_shape=(28, 28, 1)),\n",
    "          #Conv2D(encoder_params['nb_filters_1'], encoder_params['kernel_1'], strides=1, \n",
    "          #       padding=encoder_params['padding_1'], activation=encoder_params['activation_1'],\n",
    "          #      kernel_regularizer=l2(alpha)),\n",
    "          Conv2D(encoder_params['nb_filters_1'], encoder_params['kernel_1'], strides=2, \n",
    "                 padding=encoder_params['padding_1'], activation=encoder_params['activation_1'],\n",
    "                kernel_regularizer=l2(alpha)),\n",
    "          Conv2D(encoder_params['nb_filters_2'], encoder_params['kernel_2'], strides=2, \n",
    "                 padding=encoder_params['padding_1'], activation=encoder_params['activation_2'],\n",
    "                kernel_regularizer=l2(alpha)),\n",
    "          Conv2D(encoder_params['nb_filters_3'], encoder_params['kernel_3'], strides=2, \n",
    "                 padding=encoder_params['padding_1'], activation=encoder_params['activation_3'],\n",
    "                kernel_regularizer=l2(alpha))\n",
    "      ])\n",
    "    \n",
    "    decoder_net = tf.keras.Sequential(\n",
    "      [\n",
    "          InputLayer(input_shape=(latent_dim,)),\n",
    "          Dense(7*7*28, activation=tf.nn.relu),\n",
    "          Reshape(target_shape=(7, 7, 28)),\n",
    "          Conv2DTranspose(decoder_params['nb_filters_1'], decoder_params['kernel_1'], strides=2, \n",
    "                         padding=decoder_params['padding_1'], activation=decoder_params['activation_1'],\n",
    "                         kernel_regularizer=l2(alpha)),\n",
    "          Conv2DTranspose(decoder_params['nb_filters_2'], decoder_params['kernel_2'], strides=2, \n",
    "                          padding=decoder_params['padding_1'], activation=decoder_params['activation_2'],\n",
    "                         kernel_regularizer=l2(alpha)),\n",
    "          Conv2DTranspose(decoder_params['nb_filters_3'], decoder_params['kernel_3'], strides=1, \n",
    "                          padding=decoder_params['padding_1'], activation=decoder_params['activation_3'],\n",
    "                         kernel_regularizer=l2(alpha))\n",
    "      ])\n",
    "\n",
    "    runs = next(os.walk(log_dir))[1]\n",
    "    run_id = 0\n",
    "    while str(run_id) in runs:\n",
    "        run_id += 1\n",
    "        if run_id > 100:\n",
    "            break\n",
    "    \n",
    "    run_dir = log_dir + str(run_id)\n",
    "    print('Creating log dir:', run_dir)\n",
    "    if not os.path.exists(run_dir):\n",
    "        os.makedirs(run_dir)    \n",
    "    \n",
    "    if vae_params['optimizer'] == 'Adam':\n",
    "        opt = Adam()\n",
    "    elif vae_params['optimizer'] == 'Nadam':\n",
    "        opt = Nadam()\n",
    "    elif vae_params['optimizer'] == 'RMSprop':\n",
    "        opt = RMSprop()\n",
    "    elif vae_params['optimizer'] == 'SGD':\n",
    "        opt = SGD(momentum=0.9)\n",
    "        \n",
    "    # initialize adversarial detector\n",
    "    ad = AdversarialVAE(threshold=.5,  # threshold for adversarial score\n",
    "                        model=model,\n",
    "                        encoder_net=encoder_net,  # can also pass VAE model instead\n",
    "                        decoder_net=decoder_net,  # of separate encoder and decoder\n",
    "                        latent_dim=latent_dim,\n",
    "                        samples=2,  # nb of samples drawn by VAE\n",
    "                        beta=0.  # weight on KL-divergence loss term of latent space\n",
    "                       )\n",
    "    \n"
   ]
  },
  {
   "cell_type": "code",
   "execution_count": 7,
   "metadata": {},
   "outputs": [
    {
     "ename": "NameError",
     "evalue": "name 'X_val' is not defined",
     "output_type": "error",
     "traceback": [
      "\u001b[0;31m--------------------------------------------------------\u001b[0m",
      "\u001b[0;31mNameError\u001b[0m              Traceback (most recent call last)",
      "\u001b[0;32m<ipython-input-7-2db3251ae016>\u001b[0m in \u001b[0;36m<module>\u001b[0;34m\u001b[0m\n\u001b[1;32m      2\u001b[0m ad.fit(X_train,\n\u001b[1;32m      3\u001b[0m        \u001b[0mvalidation_data\u001b[0m\u001b[0;34m=\u001b[0m\u001b[0;34m(\u001b[0m\u001b[0mX_test\u001b[0m\u001b[0;34m[\u001b[0m\u001b[0;34m:\u001b[0m\u001b[0;36m1000\u001b[0m\u001b[0;34m]\u001b[0m\u001b[0;34m,\u001b[0m \u001b[0;32mNone\u001b[0m\u001b[0;34m)\u001b[0m\u001b[0;34m,\u001b[0m\u001b[0;34m\u001b[0m\u001b[0;34m\u001b[0m\u001b[0m\n\u001b[0;32m----> 4\u001b[0;31m        \u001b[0madversarial_data\u001b[0m\u001b[0;34m=\u001b[0m\u001b[0;34m(\u001b[0m\u001b[0mX_val\u001b[0m\u001b[0;34m,\u001b[0m \u001b[0my_val\u001b[0m\u001b[0;34m)\u001b[0m\u001b[0;34m,\u001b[0m\u001b[0;34m\u001b[0m\u001b[0;34m\u001b[0m\u001b[0m\n\u001b[0m\u001b[1;32m      5\u001b[0m        \u001b[0mloss_fn\u001b[0m\u001b[0;34m=\u001b[0m\u001b[0mloss_adv_vae\u001b[0m\u001b[0;34m,\u001b[0m\u001b[0;34m\u001b[0m\u001b[0;34m\u001b[0m\u001b[0m\n\u001b[1;32m      6\u001b[0m        \u001b[0mw_model\u001b[0m\u001b[0;34m=\u001b[0m\u001b[0;36m1.\u001b[0m\u001b[0;34m,\u001b[0m  \u001b[0;31m# weight on KL-divergence loss term of model predictions\u001b[0m\u001b[0;34m\u001b[0m\u001b[0;34m\u001b[0m\u001b[0m\n",
      "\u001b[0;31mNameError\u001b[0m: name 'X_val' is not defined"
     ]
    }
   ],
   "source": [
    "    # train\n",
    "    ad.fit(X_train,\n",
    "           validation_data=(X_test[:1000], None),\n",
    "           adversarial_data=(X_val, y_val),\n",
    "           loss_fn=loss_adv_vae,\n",
    "           w_model=1.,  # weight on KL-divergence loss term of model predictions\n",
    "           w_recon=0.,  # weight on elbo loss term\n",
    "           optimizer=opt,\n",
    "           epochs=6,\n",
    "           verbose=True,\n",
    "          log_metric_val='acc',\n",
    "          log_dir=run_dir)"
   ]
  },
  {
   "cell_type": "code",
   "execution_count": null,
   "metadata": {},
   "outputs": [],
   "source": [
    "    # save the trained outlier detector\n",
    "    save_detector(ad, filepath)\n",
    "    \n",
    "    with open(os.path.join(run_dir,'encoder_params.json'), 'w') as f:\n",
    "        json.dump(encoder_params, f)\n",
    "        f.close()\n",
    "    with open(os.path.join(run_dir,'decoder_params.json'), 'w') as f:\n",
    "        json.dump(decoder_params, f)\n",
    "        f.close()\n",
    "    with open(os.path.join(run_dir,'vae_params.json'), 'w') as f:\n",
    "        json.dump(vae_params, f)\n",
    "        f.close()"
   ]
  },
  {
   "cell_type": "markdown",
   "metadata": {},
   "source": [
    "# Evaluate detector"
   ]
  },
  {
   "cell_type": "code",
   "execution_count": 69,
   "metadata": {},
   "outputs": [],
   "source": [
    "df_adv_scores = pd.read_csv('/home/gio/experiments/mnist/model_0/vae_0/63/adv_scores.csv')\n",
    "df_scores = pd.read_csv('/home/gio/experiments/mnist/model_0/vae_0/63/scores.csv')\n",
    "df_losses = pd.read_csv('/home/gio/experiments/mnist/model_0/vae_0/63/losses.csv')"
   ]
  },
  {
   "cell_type": "code",
   "execution_count": 8,
   "metadata": {},
   "outputs": [
    {
     "data": {
      "text/plain": [
       "0.22173159793019281"
      ]
     },
     "execution_count": 8,
     "metadata": {},
     "output_type": "execute_result"
    }
   ],
   "source": [
    "ad.vae.load_weights('/home/gio/experiments/mnist/model_0/vae_0/63/last.ckpt')\n",
    "ad.infer_threshold(X_train[:2000], threshold_perc=95.)\n",
    "ad.threshold"
   ]
  },
  {
   "cell_type": "markdown",
   "metadata": {},
   "source": [
    "### Attack model"
   ]
  },
  {
   "cell_type": "code",
   "execution_count": 9,
   "metadata": {},
   "outputs": [],
   "source": [
    "mean = X_train.mean(axis=1).mean()\n",
    "std = X_train.std()"
   ]
  },
  {
   "cell_type": "code",
   "execution_count": 10,
   "metadata": {},
   "outputs": [],
   "source": [
    "fmodel = foolbox.models.KerasModel(model, bounds=(0, 1))"
   ]
  },
  {
   "cell_type": "code",
   "execution_count": null,
   "metadata": {},
   "outputs": [],
   "source": [
    "fdetec"
   ]
  },
  {
   "cell_type": "code",
   "execution_count": 105,
   "metadata": {},
   "outputs": [
    {
     "name": "stdout",
     "output_type": "stream",
     "text": [
      "{'abort_early': True, 'attack': 'carlini', 'binary_search_steps': 10, 'confidence': 0, 'initial_const': 0.001, 'learning_rate': 0.005, 'max_iterations': 1000}\n"
     ]
    }
   ],
   "source": [
    "dataset_id = 3\n",
    "dataset = joblib.load('/home/gio/adversarial_vae/datasets/adversarial/fashion_mnist/dataset_{}.joblib'.format(dataset_id))\n",
    "params = dataset['params']\n",
    "print(params)\n",
    "X_adv = dataset['X_adv_test'][:1000]\n",
    "X_to_adv = X_test[:1000]\n",
    "y_adv = np.argmax(y_test[:1000], axis=1)"
   ]
  },
  {
   "cell_type": "code",
   "execution_count": 106,
   "metadata": {},
   "outputs": [],
   "source": [
    "y_val = np.concatenate((np.zeros(len(X_to_adv)), np.ones(len(X_adv))))\n",
    "X_val = np.concatenate([X_to_adv, X_adv], axis=0)"
   ]
  },
  {
   "cell_type": "code",
   "execution_count": 83,
   "metadata": {},
   "outputs": [],
   "source": [
    "#labels = np.argmax(y_test, axis=1)\n",
    "#attack = foolbox.attacks.FGSM(fmodel)\n",
    "#adversarials = attack(X_test, labels)\n",
    "# if the i'th image is misclassfied without a perturbation, then adversarials[i] will be the same as images[i]\n",
    "# if the attack fails to find an adversarial for the i'th image, then adversarials[i] will all be np.nan\n",
    "\n",
    "# Foolbox guarantees that all returned adversarials are in fact in adversarials\n",
    "#print(np.mean(fmodel.forward(adversarials).argmax(axis=-1) == labels))"
   ]
  },
  {
   "cell_type": "markdown",
   "metadata": {},
   "source": [
    "### Evaluate detector"
   ]
  },
  {
   "cell_type": "code",
   "execution_count": 100,
   "metadata": {},
   "outputs": [
    {
     "name": "stdout",
     "output_type": "stream",
     "text": [
      "accuracy 0.928\n",
      "accuracy attack 0.054\n",
      "accuracy defence 0.899\n"
     ]
    }
   ],
   "source": [
    "preds_xtoadv = np.argmax(model(X_to_adv).numpy(), axis=1)\n",
    "preds_adv = np.argmax(model(X_adv).numpy(), axis=1)\n",
    "print('accuracy', accuracy_score(preds_xtoadv, y_adv))\n",
    "print('accuracy attack', accuracy_score(preds_adv, y_adv))\n",
    "\n",
    "nb_rep, nb_classes, nb_samples = 10, 10, len(X_adv)\n",
    "concatenation = tuple([X_adv for _ in range(nb_rep)])\n",
    "shape_0 = (X_adv.shape[0], nb_rep) + X_adv.shape[1:]\n",
    "X_adv_conc = np.concatenate(concatenation, axis=1).reshape(shape_0)\n",
    "shape_1 = (X_adv_conc.shape[0] * X_adv_conc.shape[1], ) + X_adv_conc.shape[2:]\n",
    "X_adv_fin = X_adv_conc.reshape(shape_1)\n",
    "    \n",
    "preds_adv_trans = model.predict(ad.vae(X_adv_fin).numpy())\n",
    "preds_adv_trans = preds_adv_trans.reshape(nb_samples, nb_rep, nb_classes)\n",
    "    #preds_fin = mode(np. argmax(preds_adv_trans, axis=1), axis=1)[0]\n",
    "preds_fin = np.mean(preds_adv_trans, axis=1)\n",
    "preds_fin = np.argmax(preds_fin, axis=1)\n",
    "\n",
    "print('accuracy defence', accuracy_score(preds_fin, y_adv))"
   ]
  },
  {
   "cell_type": "code",
   "execution_count": 101,
   "metadata": {},
   "outputs": [
    {
     "name": "stdout",
     "output_type": "stream",
     "text": [
      "Attacking ...\n",
      "ad loss weight: 0.0\n",
      "ad loss weight: 0.1\n",
      "ad loss weight: 0.2\n",
      "ad loss weight: 0.30000000000000004\n",
      "ad loss weight: 0.4\n",
      "ad loss weight: 0.5\n",
      "ad loss weight: 0.6000000000000001\n",
      "ad loss weight: 0.7000000000000001\n",
      "ad loss weight: 0.8\n",
      "ad loss weight: 0.9\n",
      "Done!\n"
     ]
    }
   ],
   "source": [
    "loss_ws, accs_no_attack, accs_attack, accs_defence = [], [], [], []\n",
    "print('Attacking ...')\n",
    "model_logits = Model(inputs=model.inputs, outputs=model.layers[-2].output)\n",
    "for loss_w in np.arange(0., 1.0, 0.1):\n",
    "#if True:\n",
    "    #loss_w = 0\n",
    "    print('ad loss weight:', loss_w)\n",
    "    X_adv = projected_gradient_descent(model_logits, ad, loss_w,\n",
    "                                   X_to_adv,\n",
    "                                   eps=2.,\n",
    "                                   eps_iter=1.,\n",
    "                                   nb_iter=10,\n",
    "                                   norm=2,\n",
    "                                   clip_min=X_train.min(),\n",
    "                                   clip_max=X_train.max(),\n",
    "                                   rand_init=None,\n",
    "                                   rand_minmax=.3,\n",
    "                                   targeted=False,\n",
    "                                   sanity_checks=False\n",
    "                                  ).numpy()\n",
    "    preds_xtoadv = np.argmax(model(X_to_adv).numpy(), axis=1)\n",
    "    preds_adv = np.argmax(model(X_adv).numpy(), axis=1)\n",
    "    #X_concat = np.concatenate((X_to_adv, X_adv))\n",
    "    #preds_concat = np.concatenate((preds_xtoadv, preds_adv))\n",
    "    #y_adv_concat = np. concatenate((y_adv, y_adv))\n",
    "    \n",
    "    loss_ws.append(loss_w)\n",
    "    accs_no_attack.append(accuracy_score(preds_xtoadv, y_adv))\n",
    "    accs_attack.append(accuracy_score(preds_adv, y_adv))\n",
    "    \n",
    "    nb_rep = 10\n",
    "    nb_classes = 10\n",
    "    nb_samples = len(X_adv)\n",
    "    concatenation = tuple([X_adv for _ in range(nb_rep)])\n",
    "    shape_0 = (X_adv.shape[0], nb_rep) + X_adv.shape[1:]\n",
    "    X_adv_conc = np.concatenate(concatenation, axis=1).reshape(shape_0)\n",
    "    shape_1 = (X_adv_conc.shape[0] * X_adv_conc.shape[1], ) + X_adv_conc.shape[2:]\n",
    "    X_adv_fin = X_adv_conc.reshape(shape_1)\n",
    "    \n",
    "    preds_adv_trans = model.predict(ad.vae(X_adv_fin).numpy())\n",
    "    preds_adv_trans = preds_adv_trans.reshape(nb_samples, nb_rep, nb_classes)\n",
    "    #preds_fin = mode(np. argmax(preds_adv_trans, axis=1), axis=1)[0]\n",
    "    preds_fin = np.mean(preds_adv_trans, axis=1)\n",
    "    preds_fin = np.argmax(preds_fin, axis=1)\n",
    "\n",
    "    accs_defence.append(accuracy_score(preds_fin, y_adv))\n",
    "print('Done!')\n",
    "df = pd.DataFrame()\n",
    "df['loss_w'] = loss_ws\n",
    "df['acc_no_attack'] = accs_no_attack\n",
    "df['acc_attack'] = accs_attack\n",
    "df['acc_defence'] = accs_defence\n",
    "df.set_index('loss_w', inplace=True)"
   ]
  },
  {
   "cell_type": "code",
   "execution_count": 102,
   "metadata": {},
   "outputs": [
    {
     "data": {
      "text/html": [
       "<div>\n",
       "<style scoped>\n",
       "    .dataframe tbody tr th:only-of-type {\n",
       "        vertical-align: middle;\n",
       "    }\n",
       "\n",
       "    .dataframe tbody tr th {\n",
       "        vertical-align: top;\n",
       "    }\n",
       "\n",
       "    .dataframe thead th {\n",
       "        text-align: right;\n",
       "    }\n",
       "</style>\n",
       "<table border=\"1\" class=\"dataframe\">\n",
       "  <thead>\n",
       "    <tr style=\"text-align: right;\">\n",
       "      <th></th>\n",
       "      <th>acc_no_attack</th>\n",
       "      <th>acc_attack</th>\n",
       "      <th>acc_defence</th>\n",
       "    </tr>\n",
       "    <tr>\n",
       "      <th>loss_w</th>\n",
       "      <th></th>\n",
       "      <th></th>\n",
       "      <th></th>\n",
       "    </tr>\n",
       "  </thead>\n",
       "  <tbody>\n",
       "    <tr>\n",
       "      <td>0.0</td>\n",
       "      <td>0.928</td>\n",
       "      <td>0.128</td>\n",
       "      <td>0.560</td>\n",
       "    </tr>\n",
       "    <tr>\n",
       "      <td>0.1</td>\n",
       "      <td>0.928</td>\n",
       "      <td>0.102</td>\n",
       "      <td>0.550</td>\n",
       "    </tr>\n",
       "    <tr>\n",
       "      <td>0.2</td>\n",
       "      <td>0.928</td>\n",
       "      <td>0.203</td>\n",
       "      <td>0.485</td>\n",
       "    </tr>\n",
       "    <tr>\n",
       "      <td>0.3</td>\n",
       "      <td>0.928</td>\n",
       "      <td>0.302</td>\n",
       "      <td>0.477</td>\n",
       "    </tr>\n",
       "    <tr>\n",
       "      <td>0.4</td>\n",
       "      <td>0.928</td>\n",
       "      <td>0.358</td>\n",
       "      <td>0.463</td>\n",
       "    </tr>\n",
       "    <tr>\n",
       "      <td>0.5</td>\n",
       "      <td>0.928</td>\n",
       "      <td>0.409</td>\n",
       "      <td>0.478</td>\n",
       "    </tr>\n",
       "    <tr>\n",
       "      <td>0.6</td>\n",
       "      <td>0.928</td>\n",
       "      <td>0.450</td>\n",
       "      <td>0.490</td>\n",
       "    </tr>\n",
       "    <tr>\n",
       "      <td>0.7</td>\n",
       "      <td>0.928</td>\n",
       "      <td>0.507</td>\n",
       "      <td>0.525</td>\n",
       "    </tr>\n",
       "    <tr>\n",
       "      <td>0.8</td>\n",
       "      <td>0.928</td>\n",
       "      <td>0.523</td>\n",
       "      <td>0.543</td>\n",
       "    </tr>\n",
       "    <tr>\n",
       "      <td>0.9</td>\n",
       "      <td>0.928</td>\n",
       "      <td>0.552</td>\n",
       "      <td>0.567</td>\n",
       "    </tr>\n",
       "  </tbody>\n",
       "</table>\n",
       "</div>"
      ],
      "text/plain": [
       "        acc_no_attack  acc_attack  acc_defence\n",
       "loss_w                                        \n",
       "0.0             0.928       0.128        0.560\n",
       "0.1             0.928       0.102        0.550\n",
       "0.2             0.928       0.203        0.485\n",
       "0.3             0.928       0.302        0.477\n",
       "0.4             0.928       0.358        0.463\n",
       "0.5             0.928       0.409        0.478\n",
       "0.6             0.928       0.450        0.490\n",
       "0.7             0.928       0.507        0.525\n",
       "0.8             0.928       0.523        0.543\n",
       "0.9             0.928       0.552        0.567"
      ]
     },
     "execution_count": 102,
     "metadata": {},
     "output_type": "execute_result"
    }
   ],
   "source": [
    "df"
   ]
  },
  {
   "cell_type": "code",
   "execution_count": 109,
   "metadata": {},
   "outputs": [],
   "source": [
    "    X_adv = projected_gradient_descent(model_logits, ad, 0,\n",
    "                                   X_to_adv,\n",
    "                                   eps=2.,\n",
    "                                   eps_iter=1.,\n",
    "                                   nb_iter=10,\n",
    "                                   norm=2,\n",
    "                                   clip_min=X_train.min(),\n",
    "                                   clip_max=X_train.max(),\n",
    "                                   rand_init=None,\n",
    "                                   rand_minmax=.3,\n",
    "                                   targeted=False,\n",
    "                                   sanity_checks=False\n",
    "                                  ).numpy()"
   ]
  },
  {
   "cell_type": "code",
   "execution_count": 110,
   "metadata": {},
   "outputs": [
    {
     "name": "stdout",
     "output_type": "stream",
     "text": [
      "Sample instance from the signs data set.\n"
     ]
    },
    {
     "data": {
      "image/png": "[encoded data removed]",
      "text/plain": [
       "<Figure size 432x288 with 1 Axes>"
      ]
     },
     "metadata": {
      "needs_background": "light"
     },
     "output_type": "display_data"
    }
   ],
   "source": [
    "idx = 0\n",
    "x = X_to_adv[idx: idx + 1]\n",
    "plt.imshow(np.squeeze(x))\n",
    "print('Sample instance from the signs data set.')"
   ]
  },
  {
   "cell_type": "code",
   "execution_count": 111,
   "metadata": {},
   "outputs": [
    {
     "name": "stdout",
     "output_type": "stream",
     "text": [
      "Sample instance from the signs data set.\n"
     ]
    },
    {
     "data": {
      "image/png": "[encoded data removed]",
      "text/plain": [
       "<Figure size 432x288 with 1 Axes>"
      ]
     },
     "metadata": {
      "needs_background": "light"
     },
     "output_type": "display_data"
    }
   ],
   "source": [
    "idx = 0\n",
    "x = X_adv[idx: idx + 1]\n",
    "plt.imshow(np.squeeze(x))\n",
    "print('Sample instance from the signs data set.')"
   ]
  },
  {
   "cell_type": "code",
   "execution_count": 93,
   "metadata": {},
   "outputs": [
    {
     "data": {
      "image/png": "[encoded data removed]",
      "text/plain": [
       "<Figure size 432x288 with 1 Axes>"
      ]
     },
     "metadata": {
      "needs_background": "light"
     },
     "output_type": "display_data"
    }
   ],
   "source": [
    "ad_preds = ad.predict(X_val, return_instance_score=True)\n",
    "y_pred = ad_preds['data']['is_adversarial']\n",
    "labels = ['Normal', 'Adversarial']\n",
    "target = np.array([0 if i < X_to_adv.shape[0] else 1 for i in range(X_val.shape[0])])\n",
    "plot_instance_score(ad_preds, target, labels, ad.threshold)"
   ]
  },
  {
   "cell_type": "code",
   "execution_count": null,
   "metadata": {},
   "outputs": [],
   "source": []
  }
 ],
 "metadata": {
  "kernelspec": {
   "display_name": "Python 3",
   "language": "python",
   "name": "python3"
  },
  "language_info": {
   "codemirror_mode": {
    "name": "ipython",
    "version": 3
   },
   "file_extension": ".py",
   "mimetype": "text/x-python",
   "name": "python",
   "nbconvert_exporter": "python",
   "pygments_lexer": "ipython3",
   "version": "3.6.9"
  }
 },
 "nbformat": 4,
 "nbformat_minor": 2
}
