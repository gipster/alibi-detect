{
 "cells": [
  {
   "cell_type": "code",
   "execution_count": 1,
   "metadata": {},
   "outputs": [
    {
     "name": "stderr",
     "output_type": "stream",
     "text": [
      "Using TensorFlow backend.\n",
      "ERROR:fbprophet:Importing plotly failed. Interactive plots will not work.\n"
     ]
    }
   ],
   "source": [
    "import numpy as np \n",
    "import pandas as pd \n",
    "import matplotlib.pyplot as plt\n",
    "import tensorflow as tf\n",
    "import keras \n",
    "import cv2\n",
    "from PIL import Image\n",
    "import os\n",
    "import zipfile\n",
    "import logging\n",
    "import json\n",
    "import foolbox\n",
    "from cleverhans.future.tf2.attacks import projected_gradient_descent, fast_gradient_method\n",
    "\n",
    "from tensorflow.keras.layers import Activation, Conv2D, Conv2DTranspose, Dense, Dropout\n",
    "from tensorflow.keras.layers import Flatten, Input, InputLayer, Reshape, MaxPooling2D\n",
    "from tensorflow.keras.optimizers import Nadam, Adam, RMSprop\n",
    "from tensorflow.keras.models import Model\n",
    "from tensorflow.keras.utils import to_categorical\n",
    "from tensorflow.keras.regularizers import l1, l2, l1_l2\n",
    "\n",
    "\n",
    "import alibi_detect.ad as adv\n",
    "from alibi_detect.datasets import fetch_traffic_signs\n",
    "from alibi_detect.models.losses import loss_adv_vae\n",
    "from alibi_detect.ad import AdversarialVAE\n",
    "from alibi_detect.utils.saving import save_detector, load_detector, save_tf_model, load_tf_model\n",
    "from alibi_detect.utils.visualize import plot_instance_score\n"
   ]
  },
  {
   "cell_type": "code",
   "execution_count": 2,
   "metadata": {},
   "outputs": [],
   "source": [
    "from inspect import signature\n",
    "from sklearn.neighbors import NearestNeighbors\n",
    "from sklearn.metrics import precision_score, recall_score, accuracy_score, precision_recall_curve, f1_score\n",
    "import matplotlib\n",
    "import seaborn as sns\n",
    "from creme.stats import Mean, Var\n",
    "%matplotlib inline\n",
    "from scipy.stats import percentileofscore\n",
    "from importlib import reload"
   ]
  },
  {
   "cell_type": "code",
   "execution_count": 3,
   "metadata": {},
   "outputs": [
    {
     "name": "stdout",
     "output_type": "stream",
     "text": [
      "env: CUDA_VISIBLE_DEVICES=3\n"
     ]
    }
   ],
   "source": [
    "from sklearn.metrics import confusion_matrix\n",
    "%set_env CUDA_VISIBLE_DEVICES=3"
   ]
  },
  {
   "cell_type": "markdown",
   "metadata": {},
   "source": [
    "# Load mnist"
   ]
  },
  {
   "cell_type": "code",
   "execution_count": 4,
   "metadata": {},
   "outputs": [
    {
     "name": "stdout",
     "output_type": "stream",
     "text": [
      "(60000, 28, 28, 1) (60000, 10) (10000, 28, 28, 1) (10000, 10)\n"
     ]
    }
   ],
   "source": [
    "train, test = tf.keras.datasets.mnist.load_data()\n",
    "X_train, y_train = train\n",
    "X_test, y_test = test\n",
    "\n",
    "X_train = X_train.reshape(-1, 28, 28, 1).astype('float32') / 255\n",
    "X_test = X_test.reshape(-1, 28, 28, 1).astype('float32') / 255\n",
    "y_train = keras.utils.to_categorical(y_train, 10)\n",
    "y_test = keras.utils.to_categorical(y_test, 10)\n",
    "print(X_train.shape, y_train.shape, X_test.shape, y_test.shape)"
   ]
  },
  {
   "cell_type": "markdown",
   "metadata": {},
   "source": [
    "# Model"
   ]
  },
  {
   "cell_type": "code",
   "execution_count": 5,
   "metadata": {},
   "outputs": [],
   "source": [
    "model = tf.keras.models.load_model('/home/gio/adversarial_vae/adversarial-vae/models/classifier/mnist/model/model.h5')"
   ]
  },
  {
   "cell_type": "code",
   "execution_count": 6,
   "metadata": {},
   "outputs": [
    {
     "name": "stdout",
     "output_type": "stream",
     "text": [
      "Test loss: 0.0251 -- accuracy: 0.9928\n"
     ]
    }
   ],
   "source": [
    "# evaluate model\n",
    "results = model.evaluate(X_test, y_test, batch_size=256, verbose=0)\n",
    "print('Test loss: {:.4f} -- accuracy: {:.4f}'.format(results[0], results[1]))"
   ]
  },
  {
   "cell_type": "code",
   "execution_count": 7,
   "metadata": {},
   "outputs": [],
   "source": [
    "fmodel = foolbox.models.TensorFlowEagerModel(model, bounds=(0, 1))"
   ]
  },
  {
   "cell_type": "code",
   "execution_count": 16,
   "metadata": {},
   "outputs": [],
   "source": [
    "x_test = X_test[100:200]\n",
    "labels_test = np.argmax(fmodel.forward(x_test), axis=1)"
   ]
  },
  {
   "cell_type": "code",
   "execution_count": 17,
   "metadata": {},
   "outputs": [],
   "source": [
    "import logging\n",
    "logging.basicConfig(level=logging.WARNING)\n",
    "attack = foolbox.attacks.CarliniWagnerL2Attack(fmodel)"
   ]
  },
  {
   "cell_type": "code",
   "execution_count": 18,
   "metadata": {},
   "outputs": [
    {
     "name": "stderr",
     "output_type": "stream",
     "text": [
      "/home/gio/git/foolbox-fork/foolbox/attacks/base.py:95: UserWarning: CarliniWagnerL2Attack did not find an adversarial, maybe the model or the criterion is not supported by this attack.\n",
      "  \" attack.\".format(self.name())\n"
     ]
    }
   ],
   "source": [
    "advs_da = attack(x_test, labels_test)"
   ]
  },
  {
   "cell_type": "code",
   "execution_count": 19,
   "metadata": {},
   "outputs": [],
   "source": [
    "X_to_adv = x_test\n",
    "X_adv = advs_da"
   ]
  },
  {
   "cell_type": "code",
   "execution_count": 20,
   "metadata": {},
   "outputs": [],
   "source": [
    "y_val = np.concatenate((np.zeros(len(X_to_adv)), np.ones(len(X_adv))))\n",
    "X_val = np.concatenate([X_to_adv, X_adv], axis=0)"
   ]
  },
  {
   "cell_type": "code",
   "execution_count": null,
   "metadata": {},
   "outputs": [],
   "source": []
  },
  {
   "cell_type": "code",
   "execution_count": 24,
   "metadata": {},
   "outputs": [
    {
     "name": "stdout",
     "output_type": "stream",
     "text": [
      "Creating log dir: /home/gio/experiments/mnist/model_0/vae_0/102\n"
     ]
    }
   ],
   "source": [
    "load_adversarial_detector = False\n",
    "\n",
    "log_dir = '/home/gio/experiments/mnist/model_0/vae_0/'\n",
    "if not os.path.exists(log_dir):\n",
    "    os.makedirs(log_dir)\n",
    "data_dir = '/'.join(log_dir.split('/')[:-3]) + '/'\n",
    "model_dir = '/'.join(log_dir.split('/')[:-2]) + '/'\n",
    "detector_dir = '/'.join(log_dir.split('/')[:-1]) + '/'\n",
    "\n",
    "encoder_params = {'nb_filters_1': 64, 'nb_filters_2': 128, 'nb_filters_3': 512,\n",
    "               'kernel_1': 4, 'kernel_2': 4, 'kernel_3': 4,\n",
    "               'activation_1': 'relu', 'activation_2': 'relu', 'activation_3': 'relu',\n",
    "                'padding_1': 'same', 'padding_2': 'same', 'padding_3': 'same'}\n",
    "decoder_params = {'nb_filters_1': 64, 'nb_filters_2': 32, 'nb_filters_3': 1,\n",
    "               'kernel_1': 3, 'kernel_2': 3, 'kernel_3': 3, \n",
    "               'activation_1': 'relu', 'activation_2': 'relu', 'activation_3': 'sigmoid',\n",
    "               'padding_1': 'same', 'padding_2': 'same', 'padding_3': 'same',}\n",
    "vae_params = {'latent_dim': 160, 'optimizer': 'Adam'}\n",
    "\n",
    "filepath = detector_dir # change to directory where model is downloaded\n",
    "if load_adversarial_detector:  # load pretrained adversarial detector\n",
    "    ad = load_detector(filepath)\n",
    "else:  # define model, initialize, train and save adversarial detector\n",
    "    latent_dim = vae_params['latent_dim']\n",
    "    alpha = 0.\n",
    "    encoder_net = tf.keras.Sequential(\n",
    "      [\n",
    "          InputLayer(input_shape=(28, 28, 1)),\n",
    "          #Conv2D(encoder_params['nb_filters_1'], encoder_params['kernel_1'], strides=1, \n",
    "          #       padding=encoder_params['padding_1'], activation=encoder_params['activation_1'],\n",
    "          #      kernel_regularizer=l2(alpha)),\n",
    "          Conv2D(encoder_params['nb_filters_1'], encoder_params['kernel_1'], strides=2, \n",
    "                 padding=encoder_params['padding_1'], activation=encoder_params['activation_1'],\n",
    "                kernel_regularizer=l2(alpha)),\n",
    "          Conv2D(encoder_params['nb_filters_2'], encoder_params['kernel_2'], strides=2, \n",
    "                 padding=encoder_params['padding_1'], activation=encoder_params['activation_2'],\n",
    "                kernel_regularizer=l2(alpha)),\n",
    "          Conv2D(encoder_params['nb_filters_3'], encoder_params['kernel_3'], strides=2, \n",
    "                 padding=encoder_params['padding_1'], activation=encoder_params['activation_3'],\n",
    "                kernel_regularizer=l2(alpha))\n",
    "      ])\n",
    "    \n",
    "    decoder_net = tf.keras.Sequential(\n",
    "      [\n",
    "          InputLayer(input_shape=(latent_dim,)),\n",
    "          Dense(7*7*28, activation=tf.nn.relu),\n",
    "          Reshape(target_shape=(7, 7, 28)),\n",
    "          Conv2DTranspose(decoder_params['nb_filters_1'], decoder_params['kernel_1'], strides=2, \n",
    "                         padding=decoder_params['padding_1'], activation=decoder_params['activation_1'],\n",
    "                         kernel_regularizer=l2(alpha)),\n",
    "          Conv2DTranspose(decoder_params['nb_filters_2'], decoder_params['kernel_2'], strides=2, \n",
    "                          padding=decoder_params['padding_1'], activation=decoder_params['activation_2'],\n",
    "                         kernel_regularizer=l2(alpha)),\n",
    "          Conv2DTranspose(decoder_params['nb_filters_3'], decoder_params['kernel_3'], strides=1, \n",
    "                          padding=decoder_params['padding_1'], activation=decoder_params['activation_3'],\n",
    "                         kernel_regularizer=l2(alpha))\n",
    "      ])\n",
    "\n",
    "    runs = next(os.walk(log_dir))[1]\n",
    "    run_id = 0\n",
    "    while str(run_id) in runs:\n",
    "        run_id += 1\n",
    "    \n",
    "    run_dir = log_dir + str(run_id)\n",
    "    print('Creating log dir:', run_dir)\n",
    "    if not os.path.exists(run_dir):\n",
    "        os.makedirs(run_dir)    \n",
    "    \n",
    "    if vae_params['optimizer'] == 'Adam':\n",
    "        opt = Adam()\n",
    "    elif vae_params['optimizer'] == 'Nadam':\n",
    "        opt = Nadam()\n",
    "    elif vae_params['optimizer'] == 'RMSprop':\n",
    "        opt = RMSprop()\n",
    "    elif vae_params['optimizer'] == 'SGD':\n",
    "        opt = SGD(momentum=0.9)\n",
    "        \n",
    "    # initialize adversarial detector\n",
    "    ad = AdversarialVAE(threshold=.5,  # threshold for adversarial score\n",
    "                        model=model,\n",
    "                        encoder_net=encoder_net,  # can also pass VAE model instead\n",
    "                        decoder_net=decoder_net,  # of separate encoder and decoder\n",
    "                        latent_dim=latent_dim,\n",
    "                        samples=2,  # nb of samples drawn by VAE\n",
    "                        beta=0.  # weight on KL-divergence loss term of latent space\n",
    "                       )\n",
    "    \n"
   ]
  },
  {
   "cell_type": "code",
   "execution_count": 25,
   "metadata": {},
   "outputs": [
    {
     "name": "stdout",
     "output_type": "stream",
     "text": [
      "938/938 [=] - 31s 33ms/step - loss: 0.3130\n",
      "Accuracy improved from 0 to 0.84. Saving model in /home/gio/experiments/mnist/model_0/vae_0/102/best.ckpt\n",
      "939/938 [=] - 31s 33ms/step - loss: 0.3126 - detection_acc: 0.8400 - detection_f1: 0.8621\n",
      "938/938 [=] - 31s 33ms/step - loss: 0.0469\n",
      "Accuracy improved from 0.84 to 0.895. Saving model in /home/gio/experiments/mnist/model_0/vae_0/102/best.ckpt\n",
      "939/938 [=] - 31s 33ms/step - loss: 0.0469 - detection_acc: 0.8950 - detection_f1: 0.9050\n",
      "938/938 [=] - 31s 33ms/step - loss: 0.0316\n",
      "Accuracy improved from 0.895 to 0.915. Saving model in /home/gio/experiments/mnist/model_0/vae_0/102/best.ckpt\n",
      "939/938 [=] - 31s 33ms/step - loss: 0.0315 - detection_acc: 0.9150 - detection_f1: 0.9217\n",
      "938/938 [=] - 31s 33ms/step - loss: 0.0199\n",
      "Accuracy improved from 0.915 to 0.97. Saving model in /home/gio/experiments/mnist/model_0/vae_0/102/best.ckpt\n",
      "939/938 [=] - 31s 33ms/step - loss: 0.0199 - detection_acc: 0.9700 - detection_f1: 0.9709\n",
      "938/938 [=] - 31s 33ms/step - loss: 0.0171\n",
      "Accuracy did not improve. Saving model in /home/gio/experiments/mnist/model_0/vae_0/102/last.ckpt \n",
      "939/938 [=] - 31s 33ms/step - loss: 0.0171 - detection_acc: 0.9150 - detection_f1: 0.9217\n",
      "938/938 [=] - 31s 33ms/step - loss: 0.0153\n",
      "Accuracy did not improve. Saving model in /home/gio/experiments/mnist/model_0/vae_0/102/last.ckpt \n",
      "939/938 [=] - 31s 33ms/step - loss: 0.0153 - detection_acc: 0.9200 - detection_f1: 0.9259\n"
     ]
    }
   ],
   "source": [
    "    # train\n",
    "    ad.fit(X_train,\n",
    "           validation_data=(X_test[100:200], None),\n",
    "           adversarial_data=(X_val, y_val),\n",
    "           loss_fn=loss_adv_vae,\n",
    "           w_model=1.,  # weight on KL-divergence loss term of model predictions\n",
    "           w_recon=0.,  # weight on elbo loss term\n",
    "           optimizer=opt,\n",
    "           epochs=6,\n",
    "           verbose=True,\n",
    "          log_metric_val='acc',\n",
    "          log_dir=run_dir)"
   ]
  },
  {
   "cell_type": "code",
   "execution_count": 26,
   "metadata": {},
   "outputs": [
    {
     "ename": "IndexError",
     "evalue": "index 10 is out of bounds for axis 0 with size 5",
     "output_type": "error",
     "traceback": [
      "\u001b[0;31m--------------------------------------------------------\u001b[0m",
      "\u001b[0;31mIndexError\u001b[0m             Traceback (most recent call last)",
      "\u001b[0;32m<ipython-input-26-2c72b31736f5>\u001b[0m in \u001b[0;36m<module>\u001b[0;34m\u001b[0m\n\u001b[1;32m     15\u001b[0m \u001b[0;34m\u001b[0m\u001b[0m\n\u001b[1;32m     16\u001b[0m \u001b[0;32mfor\u001b[0m \u001b[0mrow\u001b[0m \u001b[0;32min\u001b[0m \u001b[0mrange\u001b[0m\u001b[0;34m(\u001b[0m\u001b[0;36m10\u001b[0m\u001b[0;34m,\u001b[0m \u001b[0;36m10\u001b[0m \u001b[0;34m+\u001b[0m \u001b[0mn_rows\u001b[0m\u001b[0;34m)\u001b[0m\u001b[0;34m:\u001b[0m\u001b[0;34m\u001b[0m\u001b[0;34m\u001b[0m\u001b[0m\n\u001b[0;32m---> 17\u001b[0;31m     \u001b[0max_0\u001b[0m \u001b[0;34m=\u001b[0m \u001b[0mfig5\u001b[0m\u001b[0;34m.\u001b[0m\u001b[0madd_subplot\u001b[0m\u001b[0;34m(\u001b[0m\u001b[0mspec5\u001b[0m\u001b[0;34m[\u001b[0m\u001b[0mrow\u001b[0m\u001b[0;34m,\u001b[0m \u001b[0;36m0\u001b[0m\u001b[0;34m]\u001b[0m\u001b[0;34m)\u001b[0m\u001b[0;34m\u001b[0m\u001b[0;34m\u001b[0m\u001b[0m\n\u001b[0m\u001b[1;32m     18\u001b[0m     \u001b[0max_0\u001b[0m\u001b[0;34m.\u001b[0m\u001b[0mimshow\u001b[0m\u001b[0;34m(\u001b[0m\u001b[0mX_to_adv\u001b[0m\u001b[0;34m[\u001b[0m\u001b[0mrow\u001b[0m\u001b[0;34m]\u001b[0m\u001b[0;34m.\u001b[0m\u001b[0mreshape\u001b[0m\u001b[0;34m(\u001b[0m\u001b[0mimg_shape\u001b[0m\u001b[0;34m)\u001b[0m\u001b[0;34m)\u001b[0m\u001b[0;34m\u001b[0m\u001b[0;34m\u001b[0m\u001b[0m\n\u001b[1;32m     19\u001b[0m     \u001b[0;32mif\u001b[0m \u001b[0mrow\u001b[0m \u001b[0;34m==\u001b[0m \u001b[0;36m0\u001b[0m\u001b[0;34m:\u001b[0m\u001b[0;34m\u001b[0m\u001b[0;34m\u001b[0m\u001b[0m\n",
      "\u001b[0;32m~/anaconda3/envs/tf2-gpu/lib/python3.6/site-packages/matplotlib/gridspec.py\u001b[0m in \u001b[0;36m__getitem__\u001b[0;34m(self, key)\u001b[0m\n\u001b[1;32m    168\u001b[0m                 \u001b[0;32mraise\u001b[0m \u001b[0mValueError\u001b[0m\u001b[0;34m(\u001b[0m\u001b[0;34m\"unrecognized subplot spec\"\u001b[0m\u001b[0;34m)\u001b[0m\u001b[0;34m\u001b[0m\u001b[0;34m\u001b[0m\u001b[0m\n\u001b[1;32m    169\u001b[0m             num1, num2 = np.ravel_multi_index(\n\u001b[0;32m--> 170\u001b[0;31m                 \u001b[0;34m[\u001b[0m\u001b[0m_normalize\u001b[0m\u001b[0;34m(\u001b[0m\u001b[0mk1\u001b[0m\u001b[0;34m,\u001b[0m \u001b[0mnrows\u001b[0m\u001b[0;34m,\u001b[0m \u001b[0;36m0\u001b[0m\u001b[0;34m)\u001b[0m\u001b[0;34m,\u001b[0m \u001b[0m_normalize\u001b[0m\u001b[0;34m(\u001b[0m\u001b[0mk2\u001b[0m\u001b[0;34m,\u001b[0m \u001b[0mncols\u001b[0m\u001b[0;34m,\u001b[0m \u001b[0;36m1\u001b[0m\u001b[0;34m)\u001b[0m\u001b[0;34m]\u001b[0m\u001b[0;34m,\u001b[0m\u001b[0;34m\u001b[0m\u001b[0;34m\u001b[0m\u001b[0m\n\u001b[0m\u001b[1;32m    171\u001b[0m                 (nrows, ncols))\n\u001b[1;32m    172\u001b[0m         \u001b[0;32melse\u001b[0m\u001b[0;34m:\u001b[0m  \u001b[0;31m# Single key\u001b[0m\u001b[0;34m\u001b[0m\u001b[0;34m\u001b[0m\u001b[0m\n",
      "\u001b[0;32m~/anaconda3/envs/tf2-gpu/lib/python3.6/site-packages/matplotlib/gridspec.py\u001b[0m in \u001b[0;36m_normalize\u001b[0;34m(key, size, axis)\u001b[0m\n\u001b[1;32m    156\u001b[0m                     \u001b[0;32mreturn\u001b[0m \u001b[0mkey\u001b[0m\u001b[0;34m,\u001b[0m \u001b[0mkey\u001b[0m\u001b[0;34m\u001b[0m\u001b[0;34m\u001b[0m\u001b[0m\n\u001b[1;32m    157\u001b[0m                 \u001b[0;32melif\u001b[0m \u001b[0maxis\u001b[0m \u001b[0;32mis\u001b[0m \u001b[0;32mnot\u001b[0m \u001b[0;32mNone\u001b[0m\u001b[0;34m:\u001b[0m\u001b[0;34m\u001b[0m\u001b[0;34m\u001b[0m\u001b[0m\n\u001b[0;32m--> 158\u001b[0;31m                     raise IndexError(f\"index {orig_key} is out of bounds for \"\n\u001b[0m\u001b[1;32m    159\u001b[0m                                      f\"axis {axis} with size {size}\")\n\u001b[1;32m    160\u001b[0m                 \u001b[0;32melse\u001b[0m\u001b[0;34m:\u001b[0m  \u001b[0;31m# flat index\u001b[0m\u001b[0;34m\u001b[0m\u001b[0;34m\u001b[0m\u001b[0m\n",
      "\u001b[0;31mIndexError\u001b[0m: index 10 is out of bounds for axis 0 with size 5"
     ]
    },
    {
     "data": {
      "text/plain": [
       "<Figure size 1080x1440 with 0 Axes>"
      ]
     },
     "metadata": {},
     "output_type": "display_data"
    }
   ],
   "source": [
    "y_pred = np.argmax(model(X_to_adv).numpy(), axis=-1)\n",
    "y_pred_adv = np.argmax(model(X_adv).numpy(), axis=-1)\n",
    "meta_folder=\"../data/traffic/meta/\"\n",
    "\n",
    "n_rows = 5\n",
    "n_cols = 4\n",
    "figsize = (15, 20)\n",
    "img_shape = (28, 28)\n",
    "\n",
    "fig5 = plt.figure(constrained_layout=False, figsize=figsize)\n",
    "widths = [5, 1, 5, 1]\n",
    "heights = [5, 5, 5, 5, 5]\n",
    "spec5 = fig5.add_gridspec(ncols=4, nrows=5, width_ratios=widths,\n",
    "                          height_ratios=heights)\n",
    "\n",
    "for row in range(10, 10 + n_rows):\n",
    "    ax_0 = fig5.add_subplot(spec5[row, 0])    \n",
    "    ax_0.imshow(X_to_adv[row].reshape(img_shape))\n",
    "    if row == 0:\n",
    "        ax_0.title.set_text('Original')\n",
    "    ax_0.axis('off')\n",
    "    \n",
    "    ax_1 = fig5.add_subplot(spec5[row, 1])\n",
    "    #class_image=cv2.imread(meta_folder+\"{}.png\".format(y_pred[row]))\n",
    "    #image = Image.fromarray(class_image, 'RGB')\n",
    "    #image = np.array(image)\n",
    "    #ax_1.imshow(image)\n",
    "    ax_1.title.set_text('Pred original: {}'.format(y_pred[row]))\n",
    "    ax_1.axis('off')\n",
    "    \n",
    "    ax_2 = fig5.add_subplot(spec5[row, 2])\n",
    "    ax_2.imshow(X_adv[row].reshape(img_shape))\n",
    "    if row == 0:\n",
    "        ax_2.title.set_text('Adversarial')\n",
    "    ax_2.axis('off')\n",
    "    \n",
    "    ax_3 = fig5.add_subplot(spec5[row, 3])\n",
    "    #class_image_adv=cv2.imread(meta_folder+\"{}.png\".format(y_pred_adv[row]))\n",
    "    #image_adv = Image.fromarray(class_image_adv, 'RGB')\n",
    "    #image_adv = np.array(image_adv)   \n",
    "    #ax_3.imshow(image_adv)\n",
    "    ax_3.title.set_text('Pred adversarial: {}'.format(y_pred_adv[row]))\n",
    "    ax_3.axis('off')\n",
    "        #label = 'Width: {}\\nHeight: {}'.format(widths[col], heights[row])\n",
    "        #ax.annotate(label, (0.1, 0.5), xycoords='axes fraction', va='center')"
   ]
  },
  {
   "cell_type": "code",
   "execution_count": 27,
   "metadata": {},
   "outputs": [
    {
     "data": {
      "text/plain": [
       "0.036017707549035535"
      ]
     },
     "execution_count": 27,
     "metadata": {},
     "output_type": "execute_result"
    }
   ],
   "source": [
    "ad.vae.load_weights('/home/gio/experiments/mnist/model_0/vae_0/102/best.ckpt')\n",
    "ad.infer_threshold(X_train[:2000], threshold_perc=95.)\n",
    "ad.threshold"
   ]
  },
  {
   "cell_type": "code",
   "execution_count": 28,
   "metadata": {},
   "outputs": [],
   "source": [
    "y_adv = y_test[100:200]\n",
    "y_adv = np.argmax(y_adv, axis=1)"
   ]
  },
  {
   "cell_type": "code",
   "execution_count": null,
   "metadata": {},
   "outputs": [],
   "source": []
  },
  {
   "cell_type": "code",
   "execution_count": 29,
   "metadata": {
    "scrolled": true
   },
   "outputs": [
    {
     "name": "stdout",
     "output_type": "stream",
     "text": [
      "Attacking ...\n",
      "ad loss weight: 0.0\n"
     ]
    },
    {
     "ename": "KeyboardInterrupt",
     "evalue": "",
     "output_type": "error",
     "traceback": [
      "\u001b[0;31m--------------------------------------------------------\u001b[0m",
      "\u001b[0;31mKeyboardInterrupt\u001b[0m      Traceback (most recent call last)",
      "\u001b[0;32m<ipython-input-29-c285ec6d2eaf>\u001b[0m in \u001b[0;36m<module>\u001b[0;34m\u001b[0m\n\u001b[1;32m      5\u001b[0m     \u001b[0mprint\u001b[0m\u001b[0;34m(\u001b[0m\u001b[0;34m'ad loss weight:'\u001b[0m\u001b[0;34m,\u001b[0m \u001b[0mloss_w\u001b[0m\u001b[0;34m)\u001b[0m\u001b[0;34m\u001b[0m\u001b[0;34m\u001b[0m\u001b[0m\n\u001b[1;32m      6\u001b[0m     \u001b[0mattack\u001b[0m \u001b[0;34m=\u001b[0m \u001b[0mfoolbox\u001b[0m\u001b[0;34m.\u001b[0m\u001b[0mattacks\u001b[0m\u001b[0;34m.\u001b[0m\u001b[0mCarliniWagnerL2Attack\u001b[0m\u001b[0;34m(\u001b[0m\u001b[0mfmodel\u001b[0m\u001b[0;34m)\u001b[0m\u001b[0;34m\u001b[0m\u001b[0;34m\u001b[0m\u001b[0m\n\u001b[0;32m----> 7\u001b[0;31m     \u001b[0mX_adv\u001b[0m \u001b[0;34m=\u001b[0m \u001b[0mattack\u001b[0m\u001b[0;34m(\u001b[0m\u001b[0mx_test\u001b[0m\u001b[0;34m,\u001b[0m \u001b[0mlabels_test\u001b[0m\u001b[0;34m,\u001b[0m \u001b[0mdetector\u001b[0m\u001b[0;34m=\u001b[0m\u001b[0mad\u001b[0m\u001b[0;34m,\u001b[0m \u001b[0mloss_w\u001b[0m\u001b[0;34m=\u001b[0m\u001b[0mloss_w\u001b[0m\u001b[0;34m)\u001b[0m\u001b[0;34m\u001b[0m\u001b[0;34m\u001b[0m\u001b[0m\n\u001b[0m\u001b[1;32m      8\u001b[0m \u001b[0;34m\u001b[0m\u001b[0m\n\u001b[1;32m      9\u001b[0m     \u001b[0mpreds_xtoadv\u001b[0m \u001b[0;34m=\u001b[0m \u001b[0mnp\u001b[0m\u001b[0;34m.\u001b[0m\u001b[0margmax\u001b[0m\u001b[0;34m(\u001b[0m\u001b[0mmodel\u001b[0m\u001b[0;34m(\u001b[0m\u001b[0mX_to_adv\u001b[0m\u001b[0;34m)\u001b[0m\u001b[0;34m.\u001b[0m\u001b[0mnumpy\u001b[0m\u001b[0;34m(\u001b[0m\u001b[0;34m)\u001b[0m\u001b[0;34m,\u001b[0m \u001b[0maxis\u001b[0m\u001b[0;34m=\u001b[0m\u001b[0;36m1\u001b[0m\u001b[0;34m)\u001b[0m\u001b[0;34m\u001b[0m\u001b[0;34m\u001b[0m\u001b[0m\n",
      "\u001b[0;32m~/git/foolbox-fork/foolbox/attacks/base.py\u001b[0m in \u001b[0;36m__call__\u001b[0;34m(self, inputs, labels, unpack, individual_kwargs, **kwargs)\u001b[0m\n\u001b[1;32m     50\u001b[0m             \u001b[0mthreshold\u001b[0m\u001b[0;34m=\u001b[0m\u001b[0mthreshold\u001b[0m\u001b[0;34m,\u001b[0m\u001b[0;34m\u001b[0m\u001b[0;34m\u001b[0m\u001b[0m\n\u001b[1;32m     51\u001b[0m             \u001b[0mindividual_kwargs\u001b[0m\u001b[0;34m=\u001b[0m\u001b[0mindividual_kwargs\u001b[0m\u001b[0;34m,\u001b[0m\u001b[0;34m\u001b[0m\u001b[0;34m\u001b[0m\u001b[0m\n\u001b[0;32m---> 52\u001b[0;31m             \u001b[0;34m**\u001b[0m\u001b[0mkwargs\u001b[0m\u001b[0;34m,\u001b[0m\u001b[0;34m\u001b[0m\u001b[0;34m\u001b[0m\u001b[0m\n\u001b[0m\u001b[1;32m     53\u001b[0m         )\n\u001b[1;32m     54\u001b[0m \u001b[0;34m\u001b[0m\u001b[0m\n",
      "\u001b[0;32m~/git/foolbox-fork/foolbox/batching.py\u001b[0m in \u001b[0;36mrun_parallel\u001b[0;34m(create_attack_fn, model, criterion, inputs, labels, distance, threshold, verbose, individual_kwargs, **kwargs)\u001b[0m\n\u001b[1;32m    269\u001b[0m         \u001b[0;32mfor\u001b[0m \u001b[0mattack\u001b[0m\u001b[0;34m,\u001b[0m \u001b[0mresult\u001b[0m \u001b[0;32min\u001b[0m \u001b[0mzip\u001b[0m\u001b[0;34m(\u001b[0m\u001b[0mattacks\u001b[0m\u001b[0;34m,\u001b[0m \u001b[0mresults\u001b[0m\u001b[0;34m)\u001b[0m\u001b[0;34m:\u001b[0m\u001b[0;34m\u001b[0m\u001b[0;34m\u001b[0m\u001b[0m\n\u001b[1;32m    270\u001b[0m             \u001b[0;32mtry\u001b[0m\u001b[0;34m:\u001b[0m\u001b[0;34m\u001b[0m\u001b[0;34m\u001b[0m\u001b[0m\n\u001b[0;32m--> 271\u001b[0;31m                 \u001b[0mx\u001b[0m \u001b[0;34m=\u001b[0m \u001b[0mattack\u001b[0m\u001b[0;34m.\u001b[0m\u001b[0msend\u001b[0m\u001b[0;34m(\u001b[0m\u001b[0mresult\u001b[0m\u001b[0;34m)\u001b[0m\u001b[0;34m\u001b[0m\u001b[0;34m\u001b[0m\u001b[0m\n\u001b[0m\u001b[1;32m    272\u001b[0m             \u001b[0;32mexcept\u001b[0m \u001b[0mStopIteration\u001b[0m\u001b[0;34m:\u001b[0m\u001b[0;34m\u001b[0m\u001b[0;34m\u001b[0m\u001b[0m\n\u001b[1;32m    273\u001b[0m                 \u001b[0;32mcontinue\u001b[0m\u001b[0;34m\u001b[0m\u001b[0;34m\u001b[0m\u001b[0m\n",
      "\u001b[0;32m~/git/foolbox-fork/foolbox/attacks/base.py\u001b[0m in \u001b[0;36mwrapper\u001b[0;34m(self, a, **kwargs)\u001b[0m\n\u001b[1;32m     81\u001b[0m         \u001b[0;32melse\u001b[0m\u001b[0;34m:\u001b[0m\u001b[0;34m\u001b[0m\u001b[0;34m\u001b[0m\u001b[0m\n\u001b[1;32m     82\u001b[0m             \u001b[0;32mtry\u001b[0m\u001b[0;34m:\u001b[0m\u001b[0;34m\u001b[0m\u001b[0;34m\u001b[0m\u001b[0m\n\u001b[0;32m---> 83\u001b[0;31m                 \u001b[0m_\u001b[0m \u001b[0;34m=\u001b[0m \u001b[0;32myield\u001b[0m \u001b[0;32mfrom\u001b[0m \u001b[0mgenerator\u001b[0m\u001b[0;34m(\u001b[0m\u001b[0mself\u001b[0m\u001b[0;34m,\u001b[0m \u001b[0ma\u001b[0m\u001b[0;34m,\u001b[0m \u001b[0;34m**\u001b[0m\u001b[0mkwargs\u001b[0m\u001b[0;34m)\u001b[0m\u001b[0;34m\u001b[0m\u001b[0;34m\u001b[0m\u001b[0m\n\u001b[0m\u001b[1;32m     84\u001b[0m                 \u001b[0;32massert\u001b[0m \u001b[0m_\u001b[0m \u001b[0;32mis\u001b[0m \u001b[0;32mNone\u001b[0m\u001b[0;34m,\u001b[0m \u001b[0;34m\"decorated __call__ method must return None\"\u001b[0m\u001b[0;34m\u001b[0m\u001b[0;34m\u001b[0m\u001b[0m\n\u001b[1;32m     85\u001b[0m             \u001b[0;32mexcept\u001b[0m \u001b[0mStopAttack\u001b[0m\u001b[0;34m:\u001b[0m\u001b[0;34m\u001b[0m\u001b[0;34m\u001b[0m\u001b[0m\n",
      "\u001b[0;32m~/git/foolbox-fork/foolbox/attacks/carlini_wagner.py\u001b[0m in \u001b[0;36mas_generator\u001b[0;34m(self, a, detector, loss_w, binary_search_steps, max_iterations, confidence, learning_rate, initial_const, abort_early)\u001b[0m\n\u001b[1;32m    182\u001b[0m                     \u001b[0mloss_at_previous_check\u001b[0m \u001b[0;34m=\u001b[0m \u001b[0mloss\u001b[0m\u001b[0;34m\u001b[0m\u001b[0;34m\u001b[0m\u001b[0m\n\u001b[1;32m    183\u001b[0m \u001b[0;34m\u001b[0m\u001b[0m\n\u001b[0;32m--> 184\u001b[0;31m             \u001b[0;32mif\u001b[0m \u001b[0mfound_adv\u001b[0m\u001b[0;34m:\u001b[0m\u001b[0;34m\u001b[0m\u001b[0;34m\u001b[0m\u001b[0m\n\u001b[0m\u001b[1;32m    185\u001b[0m                 \u001b[0mlogging\u001b[0m\u001b[0;34m.\u001b[0m\u001b[0minfo\u001b[0m\u001b[0;34m(\u001b[0m\u001b[0;34m\"found adversarial with const = {}\"\u001b[0m\u001b[0;34m.\u001b[0m\u001b[0mformat\u001b[0m\u001b[0;34m(\u001b[0m\u001b[0mconst\u001b[0m\u001b[0;34m)\u001b[0m\u001b[0;34m)\u001b[0m\u001b[0;34m\u001b[0m\u001b[0;34m\u001b[0m\u001b[0m\n\u001b[1;32m    186\u001b[0m                 \u001b[0mupper_bound\u001b[0m \u001b[0;34m=\u001b[0m \u001b[0mconst\u001b[0m\u001b[0;34m\u001b[0m\u001b[0;34m\u001b[0m\u001b[0m\n",
      "\u001b[0;32m~/git/foolbox-fork/foolbox/attacks/carlini_wagner.py\u001b[0m in \u001b[0;36mget_detector_gradients\u001b[0;34m(x, detector)\u001b[0m\n\u001b[1;32m     22\u001b[0m     \u001b[0;34m.\u001b[0m\u001b[0;34m.\u001b[0m \u001b[0;34m[\u001b[0m\u001b[0;36m1\u001b[0m\u001b[0;34m]\u001b[0m \u001b[0mNicholas\u001b[0m \u001b[0mCarlini\u001b[0m\u001b[0;34m,\u001b[0m \u001b[0mDavid\u001b[0m \u001b[0mWagner\u001b[0m\u001b[0;34m:\u001b[0m\u001b[0;31m \u001b[0m\u001b[0;31m\"\u001b[0m\u001b[0mTowards\u001b[0m \u001b[0mEvaluating\u001b[0m \u001b[0mthe\u001b[0m\u001b[0;34m\u001b[0m\u001b[0;34m\u001b[0m\u001b[0m\n\u001b[1;32m     23\u001b[0m            \u001b[0mRobustness\u001b[0m \u001b[0mof\u001b[0m \u001b[0mNeural\u001b[0m \u001b[0mNetworks\u001b[0m\u001b[0;31m\"\u001b[0m\u001b[0;34m,\u001b[0m \u001b[0mhttps\u001b[0m\u001b[0;34m:\u001b[0m\u001b[0;34m//\u001b[0m\u001b[0marxiv\u001b[0m\u001b[0;34m.\u001b[0m\u001b[0morg\u001b[0m\u001b[0;34m/\u001b[0m\u001b[0mabs\u001b[0m\u001b[0;34m/\u001b[0m\u001b[0;36m1608.04644\u001b[0m\u001b[0;34m\u001b[0m\u001b[0;34m\u001b[0m\u001b[0m\n\u001b[0;32m---> 24\u001b[0;31m     \u001b[0;34m.\u001b[0m\u001b[0;34m.\u001b[0m \u001b[0;34m[\u001b[0m\u001b[0;36m2\u001b[0m\u001b[0;34m]\u001b[0m \u001b[0mhttps\u001b[0m\u001b[0;34m:\u001b[0m\u001b[0;34m//\u001b[0m\u001b[0mgithub\u001b[0m\u001b[0;34m.\u001b[0m\u001b[0mcom\u001b[0m\u001b[0;34m/\u001b[0m\u001b[0mcarlini\u001b[0m\u001b[0;34m/\u001b[0m\u001b[0mnn_robust_attacks\u001b[0m\u001b[0;34m\u001b[0m\u001b[0;34m\u001b[0m\u001b[0m\n\u001b[0m\u001b[1;32m     25\u001b[0m \u001b[0;34m\u001b[0m\u001b[0m\n\u001b[1;32m     26\u001b[0m     \"\"\"\n",
      "\u001b[0;32m~/anaconda3/envs/tf2-gpu/lib/python3.6/site-packages/tensorflow_core/python/eager/backprop.py\u001b[0m in \u001b[0;36mgradient\u001b[0;34m(self, target, sources, output_gradients, unconnected_gradients)\u001b[0m\n\u001b[1;32m   1012\u001b[0m         \u001b[0moutput_gradients\u001b[0m\u001b[0;34m=\u001b[0m\u001b[0moutput_gradients\u001b[0m\u001b[0;34m,\u001b[0m\u001b[0;34m\u001b[0m\u001b[0;34m\u001b[0m\u001b[0m\n\u001b[1;32m   1013\u001b[0m         \u001b[0msources_raw\u001b[0m\u001b[0;34m=\u001b[0m\u001b[0mflat_sources_raw\u001b[0m\u001b[0;34m,\u001b[0m\u001b[0;34m\u001b[0m\u001b[0;34m\u001b[0m\u001b[0m\n\u001b[0;32m-> 1014\u001b[0;31m         unconnected_gradients=unconnected_gradients)\n\u001b[0m\u001b[1;32m   1015\u001b[0m \u001b[0;34m\u001b[0m\u001b[0m\n\u001b[1;32m   1016\u001b[0m     \u001b[0;32mif\u001b[0m \u001b[0;32mnot\u001b[0m \u001b[0mself\u001b[0m\u001b[0;34m.\u001b[0m\u001b[0m_persistent\u001b[0m\u001b[0;34m:\u001b[0m\u001b[0;34m\u001b[0m\u001b[0;34m\u001b[0m\u001b[0m\n",
      "\u001b[0;32m~/anaconda3/envs/tf2-gpu/lib/python3.6/site-packages/tensorflow_core/python/eager/imperative_grad.py\u001b[0m in \u001b[0;36mimperative_grad\u001b[0;34m(tape, target, sources, output_gradients, sources_raw, unconnected_gradients)\u001b[0m\n\u001b[1;32m     74\u001b[0m       \u001b[0moutput_gradients\u001b[0m\u001b[0;34m,\u001b[0m\u001b[0;34m\u001b[0m\u001b[0;34m\u001b[0m\u001b[0m\n\u001b[1;32m     75\u001b[0m       \u001b[0msources_raw\u001b[0m\u001b[0;34m,\u001b[0m\u001b[0;34m\u001b[0m\u001b[0;34m\u001b[0m\u001b[0m\n\u001b[0;32m---> 76\u001b[0;31m       compat.as_str(unconnected_gradients.value))\n\u001b[0m",
      "\u001b[0;32m~/anaconda3/envs/tf2-gpu/lib/python3.6/site-packages/tensorflow_core/python/eager/backprop.py\u001b[0m in \u001b[0;36m_aggregate_grads\u001b[0;34m(gradients)\u001b[0m\n\u001b[1;32m    599\u001b[0m     \u001b[0;32mreturn\u001b[0m \u001b[0mgradients\u001b[0m\u001b[0;34m[\u001b[0m\u001b[0;36m0\u001b[0m\u001b[0;34m]\u001b[0m\u001b[0;34m\u001b[0m\u001b[0;34m\u001b[0m\u001b[0m\n\u001b[1;32m    600\u001b[0m   \u001b[0;32mif\u001b[0m \u001b[0mall\u001b[0m\u001b[0;34m(\u001b[0m\u001b[0misinstance\u001b[0m\u001b[0;34m(\u001b[0m\u001b[0mg\u001b[0m\u001b[0;34m,\u001b[0m \u001b[0mops\u001b[0m\u001b[0;34m.\u001b[0m\u001b[0mTensor\u001b[0m\u001b[0;34m)\u001b[0m \u001b[0;32mfor\u001b[0m \u001b[0mg\u001b[0m \u001b[0;32min\u001b[0m \u001b[0mgradients\u001b[0m\u001b[0;34m)\u001b[0m\u001b[0;34m:\u001b[0m\u001b[0;34m\u001b[0m\u001b[0;34m\u001b[0m\u001b[0m\n\u001b[0;32m--> 601\u001b[0;31m     \u001b[0;32mreturn\u001b[0m \u001b[0mgen_math_ops\u001b[0m\u001b[0;34m.\u001b[0m\u001b[0madd_n\u001b[0m\u001b[0;34m(\u001b[0m\u001b[0mgradients\u001b[0m\u001b[0;34m)\u001b[0m\u001b[0;34m\u001b[0m\u001b[0;34m\u001b[0m\u001b[0m\n\u001b[0m\u001b[1;32m    602\u001b[0m   \u001b[0;32melse\u001b[0m\u001b[0;34m:\u001b[0m\u001b[0;34m\u001b[0m\u001b[0;34m\u001b[0m\u001b[0m\n\u001b[1;32m    603\u001b[0m     assert all(isinstance(g, (ops.Tensor, ops.IndexedSlices))\n",
      "\u001b[0;32m~/anaconda3/envs/tf2-gpu/lib/python3.6/site-packages/tensorflow_core/python/ops/gen_math_ops.py\u001b[0m in \u001b[0;36madd_n\u001b[0;34m(inputs, name)\u001b[0m\n\u001b[1;32m    432\u001b[0m \u001b[0;34m\u001b[0m\u001b[0m\n\u001b[1;32m    433\u001b[0m \u001b[0;34m\u001b[0m\u001b[0m\n\u001b[0;32m--> 434\u001b[0;31m \u001b[0;32mdef\u001b[0m \u001b[0madd_n\u001b[0m\u001b[0;34m(\u001b[0m\u001b[0minputs\u001b[0m\u001b[0;34m,\u001b[0m \u001b[0mname\u001b[0m\u001b[0;34m=\u001b[0m\u001b[0;32mNone\u001b[0m\u001b[0;34m)\u001b[0m\u001b[0;34m:\u001b[0m\u001b[0;34m\u001b[0m\u001b[0;34m\u001b[0m\u001b[0m\n\u001b[0m\u001b[1;32m    435\u001b[0m   r\"\"\"Add all input tensors element wise.\n\u001b[1;32m    436\u001b[0m \u001b[0;34m\u001b[0m\u001b[0m\n",
      "\u001b[0;31mKeyboardInterrupt\u001b[0m: "
     ]
    }
   ],
   "source": [
    "loss_ws, accs_no_attack, accs_attack, accs_defence = [], [], [], []\n",
    "print('Attacking ...')\n",
    "model_logits = Model(inputs=model.inputs, outputs=model.layers[-2].output)\n",
    "for loss_w in np.arange(0., 1.0, 0.1):\n",
    "    print('ad loss weight:', loss_w)\n",
    "    attack = foolbox.attacks.CarliniWagnerL2Attack(fmodel)\n",
    "    X_adv = attack(x_test, labels_test, detector=ad, loss_w=loss_w)\n",
    "    \n",
    "    preds_xtoadv = np.argmax(model(X_to_adv).numpy(), axis=1)\n",
    "    preds_adv = np.argmax(model(X_adv).numpy(), axis=1)\n",
    "    #X_concat = np.concatenate((X_to_adv, X_adv))\n",
    "    #preds_concat = np.concatenate((preds_xtoadv, preds_adv))\n",
    "    #y_adv_concat = np. concatenate((y_adv, y_adv))\n",
    "    \n",
    "    loss_ws.append(loss_w)\n",
    "    accs_no_attack.append(accuracy_score(preds_xtoadv, y_adv))\n",
    "    accs_attack.append(accuracy_score(preds_adv, y_adv))\n",
    "    \n",
    "    nb_rep = 10\n",
    "    nb_classes = 10\n",
    "    nb_samples = len(X_adv)\n",
    "    concatenation = tuple([X_adv for _ in range(nb_rep)])\n",
    "    shape_0 = (X_adv.shape[0], nb_rep) + X_adv.shape[1:]\n",
    "    X_adv_conc = np.concatenate(concatenation, axis=1).reshape(shape_0)\n",
    "    shape_1 = (X_adv_conc.shape[0] * X_adv_conc.shape[1], ) + X_adv_conc.shape[2:]\n",
    "    X_adv_fin = X_adv_conc.reshape(shape_1)\n",
    "    \n",
    "    preds_adv_trans = model.predict(ad.vae(X_adv_fin).numpy())\n",
    "    preds_adv_trans = preds_adv_trans.reshape(nb_samples, nb_rep, nb_classes)\n",
    "    #preds_fin = mode(np. argmax(preds_adv_trans, axis=1), axis=1)[0]\n",
    "    preds_fin = np.mean(preds_adv_trans, axis=1)\n",
    "    preds_fin = np.argmax(preds_fin, axis=1)\n",
    "\n",
    "    accs_defence.append(accuracy_score(preds_fin, y_adv))\n",
    "print('Done!')\n",
    "df = pd.DataFrame()\n",
    "df['loss_w'] = loss_ws\n",
    "df['acc_no_attack'] = accs_no_attack\n",
    "df['acc_attack'] = accs_attack\n",
    "df['acc_defence'] = accs_defence\n",
    "df.set_index('loss_w', inplace=True)"
   ]
  },
  {
   "cell_type": "code",
   "execution_count": null,
   "metadata": {},
   "outputs": [],
   "source": []
  },
  {
   "cell_type": "code",
   "execution_count": null,
   "metadata": {},
   "outputs": [],
   "source": []
  },
  {
   "cell_type": "code",
   "execution_count": null,
   "metadata": {},
   "outputs": [],
   "source": []
  },
  {
   "cell_type": "code",
   "execution_count": 15,
   "metadata": {
    "scrolled": false
   },
   "outputs": [],
   "source": [
    "import tensorflow\n",
    "def get_detector_gradients(x, detector):\n",
    "    x = tensorflow.convert_to_tensor(x)\n",
    "    loss = tensorflow.keras.losses.kld\n",
    "\n",
    "    with tensorflow.GradientTape() as g:\n",
    "      g.watch(x)\n",
    "      x_trans = detector.vae(x)\n",
    "      prob_orig = tensorflow.nn.softmax(detector.model(x))\n",
    "      prob_trans = tensorflow.nn.softmax(detector.model(x_trans))\n",
    "      loss_val = -loss(prob_orig, prob_trans)\n",
    "\n",
    "    gradients = g.gradient(loss_val, x)\n",
    "    return gradients.numpy()"
   ]
  },
  {
   "cell_type": "code",
   "execution_count": 16,
   "metadata": {},
   "outputs": [],
   "source": [
    "x = x_test[:1]"
   ]
  },
  {
   "cell_type": "code",
   "execution_count": 30,
   "metadata": {},
   "outputs": [],
   "source": [
    "grads = get_detector_gradients(x, ad)"
   ]
  },
  {
   "cell_type": "code",
   "execution_count": 32,
   "metadata": {},
   "outputs": [
    {
     "data": {
      "text/plain": [
       "(1, 28, 28, 1)"
      ]
     },
     "execution_count": 32,
     "metadata": {},
     "output_type": "execute_result"
    }
   ],
   "source": [
    "grads.shape"
   ]
  },
  {
   "cell_type": "code",
   "execution_count": 11,
   "metadata": {
    "scrolled": true
   },
   "outputs": [],
   "source": [
    "#advs_0 = attack(x_test, labels_test, detector=None, loss_w=0)\n",
    "#advs_1 = attack(x_test, labels_test, detector=None, loss_w=0)"
   ]
  },
  {
   "cell_type": "code",
   "execution_count": null,
   "metadata": {},
   "outputs": [],
   "source": [
    "(advs_0 == advs_1).all()"
   ]
  },
  {
   "cell_type": "code",
   "execution_count": 17,
   "metadata": {},
   "outputs": [],
   "source": [
    "import matplotlib.pyplot as plt\n",
    "%matplotlib inline"
   ]
  },
  {
   "cell_type": "code",
   "execution_count": null,
   "metadata": {},
   "outputs": [],
   "source": [
    "advs_0[np.where(np.isnan(advs_0))] = 0"
   ]
  },
  {
   "cell_type": "code",
   "execution_count": 18,
   "metadata": {},
   "outputs": [
    {
     "data": {
      "text/plain": [
       "<matplotlib.image.AxesImage at 0x7f11682e1ba8>"
      ]
     },
     "execution_count": 18,
     "metadata": {},
     "output_type": "execute_result"
    },
    {
     "data": {
      "image/png": "[encoded data removed]",
      "text/plain": [
       "<Figure size 432x288 with 1 Axes>"
      ]
     },
     "metadata": {
      "needs_background": "light"
     },
     "output_type": "display_data"
    }
   ],
   "source": [
    "i=4\n",
    "plt.imshow(advs_0[i].reshape((28, 28)))"
   ]
  },
  {
   "cell_type": "code",
   "execution_count": 19,
   "metadata": {},
   "outputs": [
    {
     "data": {
      "text/plain": [
       "<matplotlib.image.AxesImage at 0x7f11307ae4e0>"
      ]
     },
     "execution_count": 19,
     "metadata": {},
     "output_type": "execute_result"
    },
    {
     "data": {
      "image/png": "[encoded data removed]",
      "text/plain": [
       "<Figure size 432x288 with 1 Axes>"
      ]
     },
     "metadata": {
      "needs_background": "light"
     },
     "output_type": "display_data"
    }
   ],
   "source": [
    "plt.imshow(advs_1[i].reshape((28, 28)))"
   ]
  },
  {
   "cell_type": "code",
   "execution_count": 20,
   "metadata": {},
   "outputs": [
    {
     "data": {
      "text/plain": [
       "<matplotlib.image.AxesImage at 0x7f1130707e10>"
      ]
     },
     "execution_count": 20,
     "metadata": {},
     "output_type": "execute_result"
    },
    {
     "data": {
      "image/png": "[encoded data removed]",
      "text/plain": [
       "<Figure size 432x288 with 1 Axes>"
      ]
     },
     "metadata": {
      "needs_background": "light"
     },
     "output_type": "display_data"
    }
   ],
   "source": [
    "plt.imshow(advs_da[i].reshape((28, 28)))"
   ]
  },
  {
   "cell_type": "code",
   "execution_count": 25,
   "metadata": {},
   "outputs": [],
   "source": [
    "advs_0_x = advs_0[4].flatten()\n",
    "advs_1_x = advs_1[4].flatten()\n",
    "advs_da_x = advs_da[4].flatten()"
   ]
  },
  {
   "cell_type": "code",
   "execution_count": 29,
   "metadata": {},
   "outputs": [
    {
     "data": {
      "text/plain": [
       "2.8115454e-07"
      ]
     },
     "execution_count": 29,
     "metadata": {},
     "output_type": "execute_result"
    }
   ],
   "source": [
    "np.linalg.norm(advs_0_x - advs_1_x)"
   ]
  },
  {
   "cell_type": "code",
   "execution_count": 31,
   "metadata": {},
   "outputs": [
    {
     "data": {
      "text/plain": [
       "0.503632"
      ]
     },
     "execution_count": 31,
     "metadata": {},
     "output_type": "execute_result"
    }
   ],
   "source": [
    "np.linalg.norm(advs_da_x - advs_0_x)"
   ]
  },
  {
   "cell_type": "code",
   "execution_count": 32,
   "metadata": {},
   "outputs": [
    {
     "data": {
      "text/plain": [
       "<matplotlib.image.AxesImage at 0x7f10a87799e8>"
      ]
     },
     "execution_count": 32,
     "metadata": {},
     "output_type": "execute_result"
    },
    {
     "data": {
      "image/png": "[encoded data removed]",
      "text/plain": [
       "<Figure size 432x288 with 1 Axes>"
      ]
     },
     "metadata": {
      "needs_background": "light"
     },
     "output_type": "display_data"
    }
   ],
   "source": [
    "plt.imshow(advs_da_x.reshape((28, 28)))"
   ]
  },
  {
   "cell_type": "code",
   "execution_count": 35,
   "metadata": {},
   "outputs": [
    {
     "data": {
      "text/plain": [
       "<matplotlib.image.AxesImage at 0x7f10a8141710>"
      ]
     },
     "execution_count": 35,
     "metadata": {},
     "output_type": "execute_result"
    },
    {
     "data": {
      "image/png": "[encoded data removed]",
      "text/plain": [
       "<Figure size 432x288 with 1 Axes>"
      ]
     },
     "metadata": {
      "needs_background": "light"
     },
     "output_type": "display_data"
    }
   ],
   "source": [
    "plt.imshow(advs_0_x.reshape((28, 28)))"
   ]
  },
  {
   "cell_type": "code",
   "execution_count": 34,
   "metadata": {},
   "outputs": [
    {
     "data": {
      "text/plain": [
       "<matplotlib.image.AxesImage at 0x7f11306c9b00>"
      ]
     },
     "execution_count": 34,
     "metadata": {},
     "output_type": "execute_result"
    },
    {
     "data": {
      "image/png": "[encoded data removed]",
      "text/plain": [
       "<Figure size 432x288 with 1 Axes>"
      ]
     },
     "metadata": {
      "needs_background": "light"
     },
     "output_type": "display_data"
    }
   ],
   "source": [
    "plt.imshow(advs_1_x.reshape((28, 28)))"
   ]
  },
  {
   "cell_type": "code",
   "execution_count": null,
   "metadata": {},
   "outputs": [],
   "source": []
  },
  {
   "cell_type": "markdown",
   "metadata": {},
   "source": [
    "# Generate adversarial examples"
   ]
  },
  {
   "cell_type": "code",
   "execution_count": 25,
   "metadata": {},
   "outputs": [],
   "source": [
    "def generate_adv_example(model, X_test, y_test, X_train,\n",
    "                         method = 'fgsm',\n",
    "                         nb_adv = 1000):\n",
    "    \n",
    "    model_logits = Model(inputs=model.inputs, outputs=model.layers[-2].output)\n",
    "    \n",
    "    ids = np.arange(nb_adv)\n",
    "    np.random.shuffle(ids)\n",
    "    X_to_adv = X_test[ids]\n",
    "    y_adv = y_test[ids]\n",
    "    print(X_to_adv.shape)\n",
    "    \n",
    "    if method == 'pfgsm':\n",
    "        X_adv = projected_gradient_descent(model_logits, None, 0,\n",
    "                                   X_to_adv,\n",
    "                                   eps=2.,\n",
    "                                   eps_iter=1.,\n",
    "                                   nb_iter=10,\n",
    "                                   norm=2,\n",
    "                                   clip_min=X_train.min(),\n",
    "                                   clip_max=X_train.max(),\n",
    "                                   rand_init=None,\n",
    "                                   rand_minmax=.3,\n",
    "                                   targeted=False,\n",
    "                                   sanity_checks=False\n",
    "                                  ).numpy()\n",
    "    elif method == 'fgsm':\n",
    "        X_adv = fast_gradient_method(model_logits, \n",
    "                                     X_to_adv, \n",
    "                                     eps=3., \n",
    "                                     norm=2, \n",
    "                                     clip_min=X_train.min(), \n",
    "                                     clip_max=X_train.max(), \n",
    "                                     y=None,\n",
    "                                     targeted=False, \n",
    "                                     sanity_checks=False).numpy()\n",
    "    \n",
    "    return X_to_adv, X_adv\n",
    "\n",
    "def generate_adv_set(X_to_adv, X_adv):\n",
    "    y_pred = np.argmax(model(X_to_adv).numpy(), axis=-1)\n",
    "    y_pred_adv = np.argmax(model(X_adv).numpy(), axis=-1)\n",
    "    X_to_adv = X_to_adv[(y_pred != y_pred_adv)]\n",
    "    X_adv = X_adv[(y_pred != y_pred_adv)]\n",
    "    \n",
    "    y_val = np.concatenate((np.zeros(len(X_to_adv)), np.ones(len(X_adv))))\n",
    "    X_val = np.concatenate([X_to_adv, X_adv], axis=0)\n",
    "    print(X_val.shape, y_val.shape)\n",
    "    \n",
    "    return X_val, y_val"
   ]
  },
  {
   "cell_type": "code",
   "execution_count": 26,
   "metadata": {},
   "outputs": [
    {
     "name": "stdout",
     "output_type": "stream",
     "text": [
      "(1000, 28, 28, 1)\n"
     ]
    }
   ],
   "source": [
    "X_to_adv, X_adv = generate_adv_example(model, X_test, y_test, X_train)"
   ]
  },
  {
   "cell_type": "code",
   "execution_count": 27,
   "metadata": {},
   "outputs": [
    {
     "data": {
      "text/plain": [
       "(1000, 28, 28, 1)"
      ]
     },
     "execution_count": 27,
     "metadata": {},
     "output_type": "execute_result"
    }
   ],
   "source": [
    "X_to_adv.shape"
   ]
  },
  {
   "cell_type": "code",
   "execution_count": 28,
   "metadata": {},
   "outputs": [
    {
     "data": {
      "image/png": "[encoded data removed]",
      "text/plain": [
       "<Figure size 1080x1440 with 20 Axes>"
      ]
     },
     "metadata": {
      "needs_background": "light"
     },
     "output_type": "display_data"
    }
   ],
   "source": [
    "y_pred = np.argmax(model(X_to_adv).numpy(), axis=-1)\n",
    "y_pred_adv = np.argmax(model(X_adv).numpy(), axis=-1)\n",
    "meta_folder=\"../data/traffic/meta/\"\n",
    "\n",
    "n_rows = 5\n",
    "n_cols = 4\n",
    "figsize = (15, 20)\n",
    "img_shape = (28, 28)\n",
    "\n",
    "fig5 = plt.figure(constrained_layout=False, figsize=figsize)\n",
    "widths = [5, 1, 5, 1]\n",
    "heights = [5, 5, 5, 5, 5]\n",
    "spec5 = fig5.add_gridspec(ncols=4, nrows=5, width_ratios=widths,\n",
    "                          height_ratios=heights)\n",
    "\n",
    "for row in range(n_rows):\n",
    "    ax_0 = fig5.add_subplot(spec5[row, 0])    \n",
    "    ax_0.imshow(X_to_adv[row].reshape(img_shape))\n",
    "    if row == 0:\n",
    "        ax_0.title.set_text('Original')\n",
    "    ax_0.axis('off')\n",
    "    \n",
    "    ax_1 = fig5.add_subplot(spec5[row, 1])\n",
    "    #class_image=cv2.imread(meta_folder+\"{}.png\".format(y_pred[row]))\n",
    "    #image = Image.fromarray(class_image, 'RGB')\n",
    "    #image = np.array(image)\n",
    "    #ax_1.imshow(image)\n",
    "    ax_1.title.set_text('Pred original: {}'.format(y_pred[row]))\n",
    "    ax_1.axis('off')\n",
    "    \n",
    "    ax_2 = fig5.add_subplot(spec5[row, 2])\n",
    "    ax_2.imshow(X_adv[row].reshape(img_shape))\n",
    "    if row == 0:\n",
    "        ax_2.title.set_text('Adversarial')\n",
    "    ax_2.axis('off')\n",
    "    \n",
    "    ax_3 = fig5.add_subplot(spec5[row, 3])\n",
    "    #class_image_adv=cv2.imread(meta_folder+\"{}.png\".format(y_pred_adv[row]))\n",
    "    #image_adv = Image.fromarray(class_image_adv, 'RGB')\n",
    "    #image_adv = np.array(image_adv)   \n",
    "    #ax_3.imshow(image_adv)\n",
    "    ax_3.title.set_text('Pred adversarial: {}'.format(y_pred_adv[row]))\n",
    "    ax_3.axis('off')\n",
    "        #label = 'Width: {}\\nHeight: {}'.format(widths[col], heights[row])\n",
    "        #ax.annotate(label, (0.1, 0.5), xycoords='axes fraction', va='center')"
   ]
  },
  {
   "cell_type": "code",
   "execution_count": null,
   "metadata": {},
   "outputs": [],
   "source": []
  },
  {
   "cell_type": "code",
   "execution_count": null,
   "metadata": {},
   "outputs": [],
   "source": []
  }
 ],
 "metadata": {
  "kernelspec": {
   "display_name": "Python 3",
   "language": "python",
   "name": "python3"
  },
  "language_info": {
   "codemirror_mode": {
    "name": "ipython",
    "version": 3
   },
   "file_extension": ".py",
   "mimetype": "text/x-python",
   "name": "python",
   "nbconvert_exporter": "python",
   "pygments_lexer": "ipython3",
   "version": "3.6.9"
  }
 },
 "nbformat": 4,
 "nbformat_minor": 2
}
